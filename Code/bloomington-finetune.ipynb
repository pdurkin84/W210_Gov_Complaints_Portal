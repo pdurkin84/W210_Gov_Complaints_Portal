{
 "cells": [
  {
   "cell_type": "markdown",
   "metadata": {},
   "source": [
    "Import packages:"
   ]
  },
  {
   "cell_type": "code",
   "execution_count": 2,
   "metadata": {},
   "outputs": [],
   "source": [
    "from finetune import Classifier, config\n",
    "import tensorflow as tf\n",
    "import csv\n",
    "import pandas\n",
    "import numpy as np"
   ]
  },
  {
   "cell_type": "markdown",
   "metadata": {},
   "source": [
    "Get data:"
   ]
  },
  {
   "cell_type": "code",
   "execution_count": 3,
   "metadata": {},
   "outputs": [
    {
     "name": "stdout",
     "output_type": "stream",
     "text": [
      "(82484, 5)\n",
      "service_name                                                 Yard Waste\n",
      "description           Neighbor water buckets\\n\\nThe owner of the hou...\n",
      "agency_responsible                                                  NaN\n",
      "OurLabel                                                     Yard Waste\n",
      "OurNumericLabel                                                       8\n",
      "Name: 82480, dtype: object\n"
     ]
    }
   ],
   "source": [
    "filePath = \"Bloomington_311_processed_3.csv\"\n",
    "data3 = pandas.read_csv(filePath)\n",
    "print(data3.shape)\n",
    "print(data3.loc[82480])"
   ]
  },
  {
   "cell_type": "markdown",
   "metadata": {},
   "source": [
    "Filter data only to ones with at least 40 characters and at most 1024"
   ]
  },
  {
   "cell_type": "code",
   "execution_count": 4,
   "metadata": {},
   "outputs": [
    {
     "name": "stdout",
     "output_type": "stream",
     "text": [
      "(42189, 5)\n"
     ]
    }
   ],
   "source": [
    "mask = (data3['description'].str.len() >=40) & (data3['description'].str.len() <=1024)\n",
    "dataFiltered = data3.loc[mask]\n",
    "print(dataFiltered.shape)"
   ]
  },
  {
   "cell_type": "markdown",
   "metadata": {},
   "source": [
    "Check for columns with NaN values"
   ]
  },
  {
   "cell_type": "code",
   "execution_count": 5,
   "metadata": {},
   "outputs": [
    {
     "data": {
      "text/plain": [
       "['agency_responsible']"
      ]
     },
     "execution_count": 5,
     "metadata": {},
     "output_type": "execute_result"
    }
   ],
   "source": [
    "dataFiltered.columns[dataFiltered.isna().any()].tolist()\n",
    "# ourLabel doesn't have NaN values, so that is good. "
   ]
  },
  {
   "cell_type": "markdown",
   "metadata": {},
   "source": [
    "Prepare training data"
   ]
  },
  {
   "cell_type": "code",
   "execution_count": 6,
   "metadata": {},
   "outputs": [
    {
     "name": "stdout",
     "output_type": "stream",
     "text": [
      "(42189, 2)\n",
      "description    Owner is in the hospital and has been for awhi...\n",
      "OurLabel                                          Animal Control\n",
      "Name: 0, dtype: object\n",
      "(33746, 2)\n",
      "(8443, 2)\n"
     ]
    }
   ],
   "source": [
    "trainingData = dataFiltered[[\"description\", \"OurLabel\"]]\n",
    "print(trainingData.shape)\n",
    "print(trainingData.loc[0])\n",
    "# bigMask = (trainingData[\"description\"].str.len() >=1000)\n",
    "# print(trainingData.loc[bigMask].shape)\n",
    "# Split in train and test 80/20\n",
    "msk = np.random.rand(len(trainingData)) < 0.8\n",
    "train = trainingData[msk]\n",
    "test = trainingData[~msk]\n",
    "\n",
    "print(train.shape)\n",
    "print(test.shape)"
   ]
  },
  {
   "cell_type": "markdown",
   "metadata": {},
   "source": [
    "Training a model with finetune (this part fails because of CPU overload)"
   ]
  },
  {
   "cell_type": "code",
   "execution_count": null,
   "metadata": {},
   "outputs": [
    {
     "name": "stdout",
     "output_type": "stream",
     "text": [
      "WARNING:tensorflow:From /usr/local/lib/python3.5/dist-packages/tensorflow/python/framework/function.py:988: calling Graph.create_op (from tensorflow.python.framework.ops) with compute_shapes is deprecated and will be removed in a future version.\n",
      "Instructions for updating:\n",
      "Shapes are always computed; don't use the compute_shapes as it has no effect.\n"
     ]
    },
    {
     "name": "stderr",
     "output_type": "stream",
     "text": [
      "/usr/local/lib/python3.5/dist-packages/tensorflow/python/ops/gradients_impl.py:108: UserWarning: Converting sparse IndexedSlices to a dense Tensor of unknown shape. This may consume a large amount of memory.\n",
      "  \"Converting sparse IndexedSlices to a dense Tensor of unknown shape. \"\n"
     ]
    },
    {
     "name": "stdout",
     "output_type": "stream",
     "text": [
      "WARNING:tensorflow:From /usr/local/lib/python3.5/dist-packages/tensorflow/python/util/tf_should_use.py:189: initialize_variables (from tensorflow.python.ops.variables) is deprecated and will be removed after 2017-03-02.\n",
      "Instructions for updating:\n",
      "Use `tf.variables_initializer` instead.\n"
     ]
    }
   ],
   "source": [
    "model = Classifier(max_length=1024)               # Load base model\n",
    "model.fit(train[\"description\"], train[\"OurLabel\"])          # Finetune base model on custom data"
   ]
  },
  {
   "cell_type": "markdown",
   "metadata": {},
   "source": [
    "Predictions"
   ]
  },
  {
   "cell_type": "code",
   "execution_count": null,
   "metadata": {},
   "outputs": [],
   "source": [
    "predictions = model.predict(test) # [{'class_1': 0.23, 'class_2': 0.54, ..}, ..]\n",
    "model.save(\"newModel\")                   # Serialize the model to disk\n"
   ]
  }
 ],
 "metadata": {
  "kernelspec": {
   "display_name": "Python 3",
   "language": "python",
   "name": "python3"
  },
  "language_info": {
   "codemirror_mode": {
    "name": "ipython",
    "version": 3
   },
   "file_extension": ".py",
   "mimetype": "text/x-python",
   "name": "python",
   "nbconvert_exporter": "python",
   "pygments_lexer": "ipython3",
   "version": "3.5.2"
  }
 },
 "nbformat": 4,
 "nbformat_minor": 2
}
