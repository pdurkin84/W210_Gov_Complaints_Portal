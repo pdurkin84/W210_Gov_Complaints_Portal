{
 "cells": [
  {
   "cell_type": "markdown",
   "metadata": {
    "colab_type": "text",
    "id": "rgaeMdFdnuXG"
   },
   "source": [
    "# Load packages"
   ]
  },
  {
   "cell_type": "code",
   "execution_count": 1,
   "metadata": {
    "colab": {},
    "colab_type": "code",
    "id": "RxQjX-Bwnyf1"
   },
   "outputs": [],
   "source": [
    "# trimming related\n",
    "import pandas as pd\n",
    "from sklearn.model_selection import train_test_split\n",
    "import time\n",
    "import re, string\n",
    "from pprint import pprint\n",
    "import time\n"
   ]
  },
  {
   "cell_type": "markdown",
   "metadata": {
    "colab_type": "text",
    "id": "lgWTTdYWnywF"
   },
   "source": [
    "# Link to GDrive"
   ]
  },
  {
   "cell_type": "code",
   "execution_count": null,
   "metadata": {
    "colab": {},
    "colab_type": "code",
    "id": "55O1P854n0Si"
   },
   "outputs": [],
   "source": [
    "# !pip install -U -q PyDrive\n",
    "\n",
    "# from pydrive.auth import GoogleAuth\n",
    "# from pydrive.drive import GoogleDrive\n",
    "# from google.colab import auth\n",
    "# from oauth2client.client import GoogleCredentials\n",
    "\n",
    "# # 1. Authenticate and create the PyDrive client.\n",
    "# auth.authenticate_user()\n",
    "# gauth = GoogleAuth()\n",
    "# gauth.credentials = GoogleCredentials.get_application_default()\n",
    "# drive = GoogleDrive(gauth)"
   ]
  },
  {
   "cell_type": "code",
   "execution_count": null,
   "metadata": {
    "colab": {},
    "colab_type": "code",
    "id": "cF3hcnD-oV0k"
   },
   "outputs": [],
   "source": [
    "# if 2==1:\n",
    "#   # 2. Create & upload a file text file.\n",
    "#   uploaded = drive.CreateFile({'title': 'Sample upload.txt'})\n",
    "#   uploaded.SetContentString('Sample upload file content')\n",
    "#   uploaded.Upload()\n",
    "#   print('Uploaded file with ID {}'.format(uploaded.get('id')))"
   ]
  },
  {
   "cell_type": "code",
   "execution_count": null,
   "metadata": {
    "colab": {
     "base_uri": "https://localhost:8080/",
     "height": 71
    },
    "colab_type": "code",
    "id": "hC43UDXAoV46",
    "outputId": "c042bde0-44e9-4257-c9ee-f1913bee92df"
   },
   "outputs": [],
   "source": [
    "# #https://drive.google.com/open?id=19c1xhHZrla2JngnGDaBzGXsUhJyC7WWo\n",
    "\n",
    "# if 1==1:\n",
    "#   #2. Get the file\n",
    "#   downloaded = drive.CreateFile({'id':'19c1xhHZrla2JngnGDaBzGXsUhJyC7WWo'}) # replace the id with id of file you want to access\n",
    "#   downloaded.GetContentFile('combined_trainingdata_20181013.tsv')  \n",
    "\n",
    "#   #3. Read file as panda dataframe\n",
    "#   import pandas as pd\n",
    "#   df = pd.read_csv('combined_trainingdata_20181108.tsv',sep='\\t') \n",
    "#   df.drop(labels=['Unnamed: 0'],axis=1,inplace=True)"
   ]
  },
  {
   "cell_type": "code",
   "execution_count": 2,
   "metadata": {},
   "outputs": [
    {
     "name": "stderr",
     "output_type": "stream",
     "text": [
      "c:\\users\\alexl\\envs\\mlbase\\lib\\site-packages\\IPython\\core\\interactiveshell.py:3020: DtypeWarning: Columns (5,10) have mixed types. Specify dtype option on import or set low_memory=False.\n",
      "  interactivity=interactivity, compiler=compiler, result=result)\n"
     ]
    }
   ],
   "source": [
    "# Import data\n",
    "dat = pd.read_csv('combined_trainingdata_20181108.tsv', sep='\\t')\n",
    "dat.drop(labels=['Unnamed: 0'],axis=1,inplace=True)"
   ]
  },
  {
   "cell_type": "code",
   "execution_count": 7,
   "metadata": {},
   "outputs": [
    {
     "name": "stdout",
     "output_type": "stream",
     "text": [
      "<class 'pandas.core.frame.DataFrame'>\n",
      "RangeIndex: 961399 entries, 0 to 961398\n",
      "Data columns (total 11 columns):\n",
      "index             961399 non-null int64\n",
      "COMPLAINT_ID      961399 non-null object\n",
      "CITY              961399 non-null object\n",
      "COMPLAINT DATE    961399 non-null object\n",
      "DEPT_311          629980 non-null object\n",
      "CODE_311          961399 non-null object\n",
      "CATEGORY_MAIN     961399 non-null object\n",
      "CATEGORY_SUB      961399 non-null object\n",
      "COMPLAINT_1       961399 non-null object\n",
      "COMPLAINT_2       281047 non-null object\n",
      "complaint         961399 non-null object\n",
      "dtypes: int64(1), object(10)\n",
      "memory usage: 80.7+ MB\n"
     ]
    }
   ],
   "source": [
    "dat.info()"
   ]
  },
  {
   "cell_type": "markdown",
   "metadata": {
    "colab_type": "text",
    "id": "JN0cCk2zqWRn"
   },
   "source": [
    "# Verify data"
   ]
  },
  {
   "cell_type": "code",
   "execution_count": 3,
   "metadata": {},
   "outputs": [
    {
     "data": {
      "text/plain": [
       "(961399, 11)"
      ]
     },
     "execution_count": 3,
     "metadata": {},
     "output_type": "execute_result"
    }
   ],
   "source": [
    "dat.shape"
   ]
  },
  {
   "cell_type": "code",
   "execution_count": 8,
   "metadata": {
    "colab": {
     "base_uri": "https://localhost:8080/",
     "height": 267
    },
    "colab_type": "code",
    "id": "cJvTOT4Sq2Za",
    "outputId": "8f602fbe-830a-4abf-f7bc-bb6115fdac4b"
   },
   "outputs": [
    {
     "data": {
      "text/html": [
       "<div>\n",
       "<style scoped>\n",
       "    .dataframe tbody tr th:only-of-type {\n",
       "        vertical-align: middle;\n",
       "    }\n",
       "\n",
       "    .dataframe tbody tr th {\n",
       "        vertical-align: top;\n",
       "    }\n",
       "\n",
       "    .dataframe thead th {\n",
       "        text-align: right;\n",
       "    }\n",
       "</style>\n",
       "<table border=\"1\" class=\"dataframe\">\n",
       "  <thead>\n",
       "    <tr style=\"text-align: right;\">\n",
       "      <th></th>\n",
       "      <th>index</th>\n",
       "      <th>COMPLAINT_ID</th>\n",
       "      <th>CITY</th>\n",
       "      <th>COMPLAINT DATE</th>\n",
       "      <th>DEPT_311</th>\n",
       "      <th>CODE_311</th>\n",
       "      <th>CATEGORY_MAIN</th>\n",
       "      <th>CATEGORY_SUB</th>\n",
       "      <th>COMPLAINT_1</th>\n",
       "      <th>COMPLAINT_2</th>\n",
       "      <th>complaint</th>\n",
       "    </tr>\n",
       "  </thead>\n",
       "  <tbody>\n",
       "    <tr>\n",
       "      <th>0</th>\n",
       "      <td>0</td>\n",
       "      <td>US_CHICAGO_1725</td>\n",
       "      <td>US_CHICAGO</td>\n",
       "      <td>10/03/2011</td>\n",
       "      <td>health_environment</td>\n",
       "      <td>permits issued by doe work order</td>\n",
       "      <td>environment</td>\n",
       "      <td>environment_general</td>\n",
       "      <td>QUESTIONABLE BUSINESS PRACTICES REGARDING OILS...</td>\n",
       "      <td>[INSPECTION LOG #: 1723 03-OCT-11 18:55:00] TH...</td>\n",
       "      <td>questionable business practices regarding oils...</td>\n",
       "    </tr>\n",
       "    <tr>\n",
       "      <th>1</th>\n",
       "      <td>1</td>\n",
       "      <td>US_CHICAGO_600301602</td>\n",
       "      <td>US_CHICAGO</td>\n",
       "      <td>07/14/2017</td>\n",
       "      <td>health_environment</td>\n",
       "      <td>illegal dumping work order</td>\n",
       "      <td>environment</td>\n",
       "      <td>environment_dumping</td>\n",
       "      <td>CONSTRUCTION/DEMOLITION DEBRIS DUMPED IN BACK ...</td>\n",
       "      <td>[INSPECTION LOG #: 3439804 14-JUL-17 09:45:00]...</td>\n",
       "      <td>constructiondemolition debris dumped back yard...</td>\n",
       "    </tr>\n",
       "  </tbody>\n",
       "</table>\n",
       "</div>"
      ],
      "text/plain": [
       "   index          COMPLAINT_ID        CITY COMPLAINT DATE            DEPT_311  \\\n",
       "0      0       US_CHICAGO_1725  US_CHICAGO     10/03/2011  health_environment   \n",
       "1      1  US_CHICAGO_600301602  US_CHICAGO     07/14/2017  health_environment   \n",
       "\n",
       "                           CODE_311 CATEGORY_MAIN         CATEGORY_SUB  \\\n",
       "0  permits issued by doe work order   environment  environment_general   \n",
       "1        illegal dumping work order   environment  environment_dumping   \n",
       "\n",
       "                                         COMPLAINT_1  \\\n",
       "0  QUESTIONABLE BUSINESS PRACTICES REGARDING OILS...   \n",
       "1  CONSTRUCTION/DEMOLITION DEBRIS DUMPED IN BACK ...   \n",
       "\n",
       "                                         COMPLAINT_2  \\\n",
       "0  [INSPECTION LOG #: 1723 03-OCT-11 18:55:00] TH...   \n",
       "1  [INSPECTION LOG #: 3439804 14-JUL-17 09:45:00]...   \n",
       "\n",
       "                                           complaint  \n",
       "0  questionable business practices regarding oils...  \n",
       "1  constructiondemolition debris dumped back yard...  "
      ]
     },
     "execution_count": 8,
     "metadata": {},
     "output_type": "execute_result"
    }
   ],
   "source": [
    "dat.head(2)"
   ]
  },
  {
   "cell_type": "code",
   "execution_count": 9,
   "metadata": {
    "colab": {},
    "colab_type": "code",
    "id": "fj6OQhEyrANx"
   },
   "outputs": [],
   "source": [
    "model_data=dat[['CATEGORY_MAIN','CATEGORY_SUB','complaint']]"
   ]
  },
  {
   "cell_type": "code",
   "execution_count": 10,
   "metadata": {},
   "outputs": [
    {
     "data": {
      "text/plain": [
       "(961399, 3)"
      ]
     },
     "execution_count": 10,
     "metadata": {},
     "output_type": "execute_result"
    }
   ],
   "source": [
    "model_data.shape"
   ]
  },
  {
   "cell_type": "markdown",
   "metadata": {
    "colab_type": "text",
    "id": "foZf5T26rAhD"
   },
   "source": [
    "# Basic Modeling"
   ]
  },
  {
   "cell_type": "code",
   "execution_count": 12,
   "metadata": {
    "colab": {},
    "colab_type": "code",
    "id": "ec2a3TisrCVM"
   },
   "outputs": [],
   "source": [
    "# Load packages\n",
    "from sklearn.model_selection import train_test_split\n",
    "from sklearn.feature_extraction.text import CountVectorizer\n",
    "from sklearn.feature_extraction.text import TfidfTransformer\n",
    "from sklearn.naive_bayes import MultinomialNB\n",
    "from sklearn.svm import LinearSVC\n",
    "from sklearn.metrics import classification_report\n",
    "\n",
    "import seaborn as sns\n",
    "import matplotlib.pyplot as plt\n",
    "\n",
    "from sklearn.metrics import confusion_matrix \n",
    "from sklearn.metrics import accuracy_score\n",
    "\n",
    "%matplotlib inline"
   ]
  },
  {
   "cell_type": "markdown",
   "metadata": {
    "colab_type": "text",
    "id": "LH_BoNmgv7RS"
   },
   "source": [
    "** drop any category with less than 100 occurances**"
   ]
  },
  {
   "cell_type": "code",
   "execution_count": 14,
   "metadata": {
    "colab": {
     "base_uri": "https://localhost:8080/",
     "height": 102
    },
    "colab_type": "code",
    "id": "lFQI-JJFv6hD",
    "outputId": "3e00161c-8324-4fbf-c699-d88b97b01206"
   },
   "outputs": [],
   "source": [
    "model_data.dropna(axis=0,subset=['complaint'],inplace=True)\n",
    "model_data = model_data[model_data.groupby('CATEGORY_SUB').CATEGORY_MAIN.transform(len) > 99]"
   ]
  },
  {
   "cell_type": "code",
   "execution_count": 15,
   "metadata": {},
   "outputs": [
    {
     "data": {
      "text/plain": [
       "(961091, 3)"
      ]
     },
     "execution_count": 15,
     "metadata": {},
     "output_type": "execute_result"
    }
   ],
   "source": [
    "model_data.shape"
   ]
  },
  {
   "cell_type": "code",
   "execution_count": 16,
   "metadata": {
    "colab": {},
    "colab_type": "code",
    "id": "34R3I_adtzFG"
   },
   "outputs": [],
   "source": [
    "y_main= model_data['CATEGORY_MAIN']\n",
    "y_sub= model_data['CATEGORY_SUB']\n",
    "x= model_data['complaint']\n",
    "\n",
    "count_vect = CountVectorizer()\n",
    "x_counts = count_vect.fit_transform(x)\n",
    "tfidf_transformer = TfidfTransformer()\n",
    "x_tfidf = tfidf_transformer.fit_transform(x_counts)"
   ]
  },
  {
   "cell_type": "code",
   "execution_count": 17,
   "metadata": {
    "colab": {},
    "colab_type": "code",
    "id": "zMduQgxjtzTK"
   },
   "outputs": [],
   "source": [
    "#main categories\n",
    "x_train_main, x_test_main, y_train_main, y_test_main = train_test_split( x_tfidf, y_main, test_size=0.2, random_state=412, stratify=y_main)\n",
    "\n",
    "#sub categories\n",
    "x_train_sub, x_test_sub, y_train_sub, y_test_sub = train_test_split( x_tfidf, y_sub, test_size=0.2, random_state=412, stratify=y_sub)"
   ]
  },
  {
   "cell_type": "markdown",
   "metadata": {
    "colab_type": "text",
    "id": "3AJgJSwquWUN"
   },
   "source": [
    "## Naive Bayes"
   ]
  },
  {
   "cell_type": "code",
   "execution_count": 18,
   "metadata": {
    "colab": {},
    "colab_type": "code",
    "id": "DbdvLuNVtzeZ"
   },
   "outputs": [],
   "source": [
    "modelNB_sub = MultinomialNB().fit(x_train_sub, y_train_sub)"
   ]
  },
  {
   "cell_type": "code",
   "execution_count": 19,
   "metadata": {
    "colab": {
     "base_uri": "https://localhost:8080/",
     "height": 85
    },
    "colab_type": "code",
    "id": "K6f_L4AkvmOE",
    "outputId": "eeb23745-d777-4313-c10d-32342fe96eb1"
   },
   "outputs": [
    {
     "data": {
      "text/plain": [
       "'housing_general'"
      ]
     },
     "metadata": {},
     "output_type": "display_data"
    },
    {
     "data": {
      "text/plain": [
       "'environment_garbage_collection'"
      ]
     },
     "metadata": {},
     "output_type": "display_data"
    },
    {
     "data": {
      "text/plain": [
       "'environment_abandoned_vehicle'"
      ]
     },
     "metadata": {},
     "output_type": "display_data"
    },
    {
     "data": {
      "text/plain": [
       "'vandalism_graffiti'"
      ]
     },
     "metadata": {},
     "output_type": "display_data"
    }
   ],
   "source": [
    "display(modelNB_sub.predict(count_vect.transform([\"fire escape\"]))[0])\n",
    "display(modelNB_sub.predict(count_vect.transform([\"trash left in empty lot\"]))[0])\n",
    "display(modelNB_sub.predict(count_vect.transform([\"broken window in abandoned house\"]))[0])\n",
    "display(modelNB_sub.predict(count_vect.transform([\"graffiti\"]))[0])"
   ]
  },
  {
   "cell_type": "code",
   "execution_count": 20,
   "metadata": {
    "colab": {},
    "colab_type": "code",
    "id": "Ozf5ngNmvsPs"
   },
   "outputs": [],
   "source": [
    "y_predict_NB_sub=modelNB_sub.predict(x_test_sub)"
   ]
  },
  {
   "cell_type": "code",
   "execution_count": 21,
   "metadata": {
    "colab": {
     "base_uri": "https://localhost:8080/",
     "height": 1040
    },
    "colab_type": "code",
    "id": "wG_xmmB_xXns",
    "outputId": "01ff9c28-da00-4462-c5fb-a87ecc62b95a"
   },
   "outputs": [
    {
     "name": "stdout",
     "output_type": "stream",
     "text": [
      "accuracy score: 0.6994261753520724\n"
     ]
    },
    {
     "name": "stderr",
     "output_type": "stream",
     "text": [
      "c:\\users\\alexl\\envs\\mlbase\\lib\\site-packages\\sklearn\\metrics\\classification.py:1143: UndefinedMetricWarning: Precision and F-score are ill-defined and being set to 0.0 in labels with no predicted samples.\n",
      "  'precision', 'predicted', average, warn_for)\n"
     ]
    },
    {
     "name": "stdout",
     "output_type": "stream",
     "text": [
      "                                 precision    recall  f1-score   support\n",
      "\n",
      "        environemnt_dead_animal       0.00      0.00      0.00        54\n",
      "     environment_abandoned_site       1.00      0.17      0.29       833\n",
      "  environment_abandoned_vehicle       0.77      0.71      0.74      5043\n",
      "      environment_air_pollution       0.68      0.91      0.78      3551\n",
      "           environment_asbestos       1.00      0.04      0.07       542\n",
      "        environment_dead_animal       0.93      0.59      0.73      1972\n",
      "            environment_dumping       0.59      0.53      0.56      7219\n",
      " environment_garbage_collection       0.75      0.98      0.85     47408\n",
      "            environment_general       0.95      0.06      0.11      1511\n",
      " environment_hazardous_material       0.92      0.20      0.32      1151\n",
      "             environment_litter       0.98      0.15      0.26      2982\n",
      "         environment_overgrowth       0.56      0.91      0.69     15871\n",
      "          environment_recycling       0.97      0.60      0.74     11772\n",
      "          fire_equipment_broken       0.00      0.00      0.00       130\n",
      "                   fire_general       0.97      0.17      0.29       929\n",
      "                     fire_risks       0.00      0.00      0.00        21\n",
      "             governance_general       0.29      0.42      0.34      7270\n",
      "       governance_parks_and_rec       0.00      0.00      0.00      1116\n",
      "             governance_signage       0.94      0.14      0.25      1892\n",
      "                housing_general       0.63      0.69      0.66      7137\n",
      "            housing_health_code       0.85      0.02      0.04      1434\n",
      "                   housing_mold       0.97      0.23      0.37      1009\n",
      "                  housing_pests       0.00      0.00      0.00        32\n",
      "                 housing_safety       0.97      0.04      0.08       755\n",
      "         infrastructure_general       0.59      0.53      0.56      4747\n",
      "           infrastructure_power       1.00      0.54      0.70       173\n",
      "           infrastructure_water       0.91      0.10      0.18      1710\n",
      "    infrastructure_water_repair       1.00      0.04      0.08       478\n",
      "          planning_construction       0.00      0.00      0.00        84\n",
      "               planning_general       0.96      0.46      0.62      4517\n",
      "    planning_unsafe_environment       0.97      0.84      0.90      2914\n",
      "            publichealth_animal       0.00      0.00      0.00       167\n",
      "      publichealth_animal_feces       0.00      0.00      0.00       160\n",
      "           publichealth_general       0.92      0.86      0.89      3466\n",
      "             publichealth_pests       0.86      0.52      0.65      1094\n",
      "publichealth_restaurant_hygiene       0.75      0.28      0.41       328\n",
      "            publicorder_general       1.00      0.06      0.12      1712\n",
      "    publicorder_noise_complaint       0.97      0.70      0.81      1729\n",
      "                street_cleaning       0.94      0.19      0.32      1066\n",
      "                street_drainage       0.98      0.03      0.06      1298\n",
      "                 street_general       1.00      0.00      0.00      1637\n",
      "                street_lighting       0.95      0.83      0.89      7749\n",
      "                 street_parking       0.00      0.00      0.00       380\n",
      "                  street_repair       0.58      0.95      0.73     16853\n",
      "                street_roadkill       0.00      0.00      0.00        85\n",
      "                   street_sewar       1.00      0.00      0.00       941\n",
      "                street_sidewalk       0.85      0.19      0.31      3621\n",
      "                street_slippery       0.99      0.37      0.54      1380\n",
      "           street_urgent_repair       0.87      0.66      0.75      4894\n",
      "              vandalism_general       0.00      0.00      0.00        91\n",
      "             vandalism_graffiti       0.95      0.78      0.86      7311\n",
      "\n",
      "                      micro avg       0.70      0.70      0.70    192219\n",
      "                      macro avg       0.68      0.32      0.36    192219\n",
      "                   weighted avg       0.75      0.70      0.66    192219\n",
      "\n"
     ]
    }
   ],
   "source": [
    "print('accuracy score:',accuracy_score(y_test_sub, y_predict_NB_sub, normalize=True, sample_weight=None))\n",
    "\n",
    "print(classification_report(y_test_sub, y_predict_NB_sub))"
   ]
  },
  {
   "cell_type": "markdown",
   "metadata": {
    "colab_type": "text",
    "id": "H3HIm3Dkx7T2"
   },
   "source": [
    "## SVM"
   ]
  },
  {
   "cell_type": "code",
   "execution_count": 22,
   "metadata": {
    "colab": {
     "base_uri": "https://localhost:8080/",
     "height": 85
    },
    "colab_type": "code",
    "id": "UdY_-Ulwx88a",
    "outputId": "a0dd1123-288f-4c85-93f6-1c01b3b0a154"
   },
   "outputs": [
    {
     "data": {
      "text/plain": [
       "LinearSVC(C=1.0, class_weight=None, dual=True, fit_intercept=True,\n",
       "     intercept_scaling=1, loss='squared_hinge', max_iter=1000,\n",
       "     multi_class='ovr', penalty='l2', random_state=None, tol=0.0001,\n",
       "     verbose=0)"
      ]
     },
     "execution_count": 22,
     "metadata": {},
     "output_type": "execute_result"
    }
   ],
   "source": [
    "modelsvc_sub = LinearSVC()\n",
    "modelsvc_sub.fit(x_train_sub, y_train_sub)\n"
   ]
  },
  {
   "cell_type": "code",
   "execution_count": 23,
   "metadata": {
    "colab": {
     "base_uri": "https://localhost:8080/",
     "height": 85
    },
    "colab_type": "code",
    "id": "3AU7oWhiyNoW",
    "outputId": "1fe0acb7-46ec-4113-ef25-acd19f766cef"
   },
   "outputs": [
    {
     "data": {
      "text/plain": [
       "'fire_general'"
      ]
     },
     "metadata": {},
     "output_type": "display_data"
    },
    {
     "data": {
      "text/plain": [
       "'environment_garbage_collection'"
      ]
     },
     "metadata": {},
     "output_type": "display_data"
    },
    {
     "data": {
      "text/plain": [
       "'housing_general'"
      ]
     },
     "metadata": {},
     "output_type": "display_data"
    },
    {
     "data": {
      "text/plain": [
       "'vandalism_graffiti'"
      ]
     },
     "metadata": {},
     "output_type": "display_data"
    }
   ],
   "source": [
    "display(modelsvc_sub.predict(count_vect.transform([\"fire escape\"]))[0])\n",
    "display(modelsvc_sub.predict(count_vect.transform([\"trash left in empty lot\"]))[0])\n",
    "display(modelsvc_sub.predict(count_vect.transform([\"broken window in abandoned house\"]))[0])\n",
    "display(modelsvc_sub.predict(count_vect.transform([\"graffiti\"]))[0])"
   ]
  },
  {
   "cell_type": "code",
   "execution_count": 24,
   "metadata": {
    "colab": {},
    "colab_type": "code",
    "id": "3zGgGXzfyNtX"
   },
   "outputs": [],
   "source": [
    "y_predict_svc_sub = modelsvc_sub.predict(x_test_sub)"
   ]
  },
  {
   "cell_type": "code",
   "execution_count": 25,
   "metadata": {
    "colab": {},
    "colab_type": "code",
    "id": "mqnBeDmQ3uum"
   },
   "outputs": [],
   "source": [
    "y_predict_svc_sub = pd.DataFrame(y_predict_svc_sub, dtype='str',columns=['predict_SUB'])['predict_SUB'].map(lambda x: x.replace('environemnt','environment'))"
   ]
  },
  {
   "cell_type": "code",
   "execution_count": 26,
   "metadata": {
    "colab": {
     "base_uri": "https://localhost:8080/",
     "height": 1040
    },
    "colab_type": "code",
    "id": "4Aoc02i-ynPx",
    "outputId": "11853e24-de3a-4dda-888e-f2d5bb1b4247"
   },
   "outputs": [
    {
     "name": "stdout",
     "output_type": "stream",
     "text": [
      "accuracy score: 0.8115742980662681\n",
      "                                 precision    recall  f1-score   support\n",
      "\n",
      "        environemnt_dead_animal       0.00      0.00      0.00        54\n",
      "     environment_abandoned_site       0.70      0.53      0.60       833\n",
      "  environment_abandoned_vehicle       0.76      0.85      0.80      5043\n",
      "      environment_air_pollution       0.85      0.89      0.87      3551\n",
      "           environment_asbestos       0.91      0.94      0.93       542\n",
      "        environment_dead_animal       0.85      0.93      0.89      1972\n",
      "            environment_dumping       0.67      0.64      0.65      7219\n",
      " environment_garbage_collection       0.89      0.96      0.92     47408\n",
      "            environment_general       0.65      0.41      0.50      1511\n",
      " environment_hazardous_material       0.78      0.73      0.76      1151\n",
      "             environment_litter       0.69      0.50      0.58      2982\n",
      "         environment_overgrowth       0.78      0.88      0.82     15871\n",
      "          environment_recycling       0.93      0.89      0.91     11772\n",
      "          fire_equipment_broken       0.55      0.53      0.54       130\n",
      "                   fire_general       0.73      0.75      0.74       929\n",
      "                     fire_risks       0.50      0.10      0.16        21\n",
      "             governance_general       0.46      0.30      0.36      7270\n",
      "       governance_parks_and_rec       0.54      0.39      0.45      1116\n",
      "             governance_signage       0.63      0.62      0.62      1892\n",
      "                housing_general       0.75      0.75      0.75      7137\n",
      "            housing_health_code       0.59      0.51      0.55      1434\n",
      "                   housing_mold       0.82      0.86      0.84      1009\n",
      "                  housing_pests       0.55      0.19      0.28        32\n",
      "                 housing_safety       0.62      0.53      0.57       755\n",
      "         infrastructure_general       0.73      0.75      0.74      4747\n",
      "           infrastructure_power       0.93      0.75      0.83       173\n",
      "           infrastructure_water       0.61      0.50      0.55      1710\n",
      "    infrastructure_water_repair       0.72      0.62      0.66       478\n",
      "          planning_construction       0.68      0.25      0.37        84\n",
      "               planning_general       0.79      0.57      0.66      4517\n",
      "    planning_unsafe_environment       0.92      0.91      0.91      2914\n",
      "            publichealth_animal       0.59      0.30      0.40       167\n",
      "      publichealth_animal_feces       0.62      0.64      0.63       160\n",
      "           publichealth_general       0.97      0.93      0.95      3466\n",
      "             publichealth_pests       0.79      0.85      0.82      1094\n",
      "publichealth_restaurant_hygiene       0.90      0.98      0.94       328\n",
      "            publicorder_general       0.53      0.45      0.49      1712\n",
      "    publicorder_noise_complaint       0.91      0.93      0.92      1729\n",
      "                street_cleaning       0.76      0.62      0.68      1066\n",
      "                street_drainage       0.51      0.41      0.45      1298\n",
      "                 street_general       0.50      0.23      0.31      1637\n",
      "                street_lighting       0.91      0.94      0.93      7749\n",
      "                 street_parking       0.64      0.63      0.63       380\n",
      "                  street_repair       0.84      0.91      0.87     16853\n",
      "                street_roadkill       0.83      0.34      0.48        85\n",
      "                   street_sewar       0.72      0.78      0.75       941\n",
      "                street_sidewalk       0.63      0.62      0.62      3621\n",
      "                street_slippery       0.84      0.88      0.86      1380\n",
      "           street_urgent_repair       0.78      0.81      0.79      4894\n",
      "              vandalism_general       0.82      0.40      0.53        91\n",
      "             vandalism_graffiti       0.89      0.91      0.90      7311\n",
      "\n",
      "                      micro avg       0.81      0.81      0.81    192219\n",
      "                      macro avg       0.72      0.64      0.66    192219\n",
      "                   weighted avg       0.80      0.81      0.80    192219\n",
      "\n"
     ]
    }
   ],
   "source": [
    "print('accuracy score:',accuracy_score(y_test_sub, y_predict_svc_sub, normalize=True, sample_weight=None))\n",
    "\n",
    "print(classification_report(y_test_sub, y_predict_svc_sub))"
   ]
  },
  {
   "cell_type": "markdown",
   "metadata": {
    "colab_type": "text",
    "id": "2MRpVW0ezVIL"
   },
   "source": [
    "### let's convert to main category \n",
    "**and see how they do**"
   ]
  },
  {
   "cell_type": "code",
   "execution_count": null,
   "metadata": {
    "colab": {
     "base_uri": "https://localhost:8080/",
     "height": 68
    },
    "colab_type": "code",
    "id": "RFb55FYe068O",
    "outputId": "7605467a-357f-4a86-8b16-2a61b6d12b2d"
   },
   "outputs": [],
   "source": [
    "y_predict_svc_sub[:2]"
   ]
  },
  {
   "cell_type": "code",
   "execution_count": null,
   "metadata": {
    "colab": {},
    "colab_type": "code",
    "id": "UbKCnIR3zUp_"
   },
   "outputs": [],
   "source": [
    "y_dummy=y_test_sub.map(lambda x: x.split('_')[0])\n",
    "\n",
    "\n",
    "predict_dummy= y_predict_svc_sub.map(lambda x: x.split('_')[0])"
   ]
  },
  {
   "cell_type": "code",
   "execution_count": null,
   "metadata": {
    "colab": {
     "base_uri": "https://localhost:8080/",
     "height": 360
    },
    "colab_type": "code",
    "id": "MvhxPKDp0kv0",
    "outputId": "d0910d68-c933-4b32-a574-d2c9c1fa4970"
   },
   "outputs": [],
   "source": [
    "print('accuracy score:',accuracy_score(y_dummy, predict_dummy, normalize=True, sample_weight=None))\n",
    "\n",
    "print(classification_report(y_dummy, predict_dummy))"
   ]
  },
  {
   "cell_type": "code",
   "execution_count": null,
   "metadata": {
    "colab": {
     "base_uri": "https://localhost:8080/",
     "height": 623
    },
    "colab_type": "code",
    "id": "Ncs9059N3MzR",
    "outputId": "632c96df-31c9-49d2-c227-a13c6055e9c4"
   },
   "outputs": [],
   "source": [
    "#with MAIN classes\n",
    "cm_svc = confusion_matrix(y_dummy, predict_dummy)\n",
    "\n",
    "fig, ax = plt.subplots(figsize=(10,10))\n",
    "sns.heatmap(cm_svc, annot=True, fmt='d')\n",
    "plt.ylabel('Actual')\n",
    "plt.xlabel('Predicted')\n",
    "plt.show()\n",
    "display(accuracy_score(y_dummy, predict_dummy, normalize=True, sample_weight=None))"
   ]
  },
  {
   "cell_type": "markdown",
   "metadata": {},
   "source": [
    "## Random Forest"
   ]
  },
  {
   "cell_type": "code",
   "execution_count": null,
   "metadata": {},
   "outputs": [],
   "source": [
    "#Import Random Forest Model\n",
    "from sklearn.ensemble import RandomForestClassifier\n",
    "\n",
    "#Create a Gaussian Classifier\n",
    "modelRf_sub = RandomForestClassifier(n_estimators=100)\n",
    "\n",
    "#Train the model using the training sets y_pred=clf.predict(X_test)\n",
    "modelRf_sub.fit(x_train_sub, y_train_sub)"
   ]
  },
  {
   "cell_type": "code",
   "execution_count": null,
   "metadata": {},
   "outputs": [],
   "source": [
    "y_predict_rf_sub=modelRf_sub.predict(x_test_sub)"
   ]
  },
  {
   "cell_type": "code",
   "execution_count": null,
   "metadata": {},
   "outputs": [],
   "source": [
    "y_predict_rf_sub = pd.DataFrame(y_predict_rf_sub, dtype='str',columns=['predict_SUB'])['predict_SUB'].map(lambda x: x.replace('environemnt','environment'))"
   ]
  },
  {
   "cell_type": "code",
   "execution_count": null,
   "metadata": {},
   "outputs": [],
   "source": [
    "print('accuracy score:',accuracy_score(y_test_sub, y_predict_rf_sub, normalize=True, sample_weight=None))\n",
    "\n",
    "print(classification_report(y_test_sub, y_predict_rf_sub))"
   ]
  },
  {
   "cell_type": "markdown",
   "metadata": {},
   "source": [
    "# Multiclass Logistic Regression\n",
    "- Max entropy for multiclass  \n",
    "- Regularization = L2 (only one avail for max ent)  \n",
    "- Class weight = 'none' by default, but setting to 'balanced' boosts rare classes\n"
   ]
  },
  {
   "cell_type": "code",
   "execution_count": 28,
   "metadata": {},
   "outputs": [],
   "source": [
    "from sklearn.linear_model import LogisticRegression"
   ]
  },
  {
   "cell_type": "code",
   "execution_count": 29,
   "metadata": {},
   "outputs": [
    {
     "name": "stdout",
     "output_type": "stream",
     "text": [
      "Time elapsed: 1733.272845029831\n"
     ]
    },
    {
     "name": "stderr",
     "output_type": "stream",
     "text": [
      "c:\\users\\alexl\\envs\\mlbase\\lib\\site-packages\\sklearn\\linear_model\\logistic.py:757: ConvergenceWarning: lbfgs failed to converge. Increase the number of iterations.\n",
      "  \"of iterations.\", ConvergenceWarning)\n"
     ]
    }
   ],
   "source": [
    "start_time = time.time()\n",
    "model_lr_sub = LogisticRegression(random_state=0, solver='lbfgs',\n",
    "                         multi_class='multinomial', max_iter=500)\n",
    "\n",
    "model_lr_sub.fit(x_train_sub, y_train_sub)\n",
    "print(f'Time elapsed: {time.time() - start_time}')"
   ]
  },
  {
   "cell_type": "code",
   "execution_count": 29,
   "metadata": {},
   "outputs": [
    {
     "name": "stdout",
     "output_type": "stream",
     "text": [
      "Time elapsed: 1733.272845029831\n"
     ]
    },
    {
     "name": "stderr",
     "output_type": "stream",
     "text": [
      "c:\\users\\alexl\\envs\\mlbase\\lib\\site-packages\\sklearn\\linear_model\\logistic.py:757: ConvergenceWarning: lbfgs failed to converge. Increase the number of iterations.\n",
      "  \"of iterations.\", ConvergenceWarning)\n"
     ]
    }
   ],
   "source": [
    "start_time = time.time()\n",
    "model_lr_sub = LogisticRegression(random_state=0, solver='lbfgs',\n",
    "                         multi_class='multinomial', max_iter=500)\n",
    "\n",
    "model_lr_sub.fit(x_train_sub, y_train_sub)\n",
    "print(f'Time elapsed: {time.time() - start_time}')"
   ]
  },
  {
   "cell_type": "code",
   "execution_count": 30,
   "metadata": {},
   "outputs": [
    {
     "name": "stdout",
     "output_type": "stream",
     "text": [
      "Time elapsed: 0.2523622512817383\n"
     ]
    }
   ],
   "source": [
    "start_time = time.time()\n",
    "\n",
    "y_predict_lr_sub=model_lr_sub.predict(x_test_sub)\n",
    "\n",
    "print(f'Time elapsed: {time.time() - start_time}')"
   ]
  },
  {
   "cell_type": "code",
   "execution_count": 31,
   "metadata": {},
   "outputs": [
    {
     "name": "stdout",
     "output_type": "stream",
     "text": [
      "accuracy score: 0.8112777613035131\n"
     ]
    },
    {
     "name": "stderr",
     "output_type": "stream",
     "text": [
      "c:\\users\\alexl\\envs\\mlbase\\lib\\site-packages\\sklearn\\metrics\\classification.py:1143: UndefinedMetricWarning: Precision and F-score are ill-defined and being set to 0.0 in labels with no predicted samples.\n",
      "  'precision', 'predicted', average, warn_for)\n"
     ]
    },
    {
     "name": "stdout",
     "output_type": "stream",
     "text": [
      "                                 precision    recall  f1-score   support\n",
      "\n",
      "        environemnt_dead_animal       0.86      0.11      0.20        54\n",
      "     environment_abandoned_site       0.75      0.54      0.62       833\n",
      "  environment_abandoned_vehicle       0.77      0.84      0.81      5043\n",
      "      environment_air_pollution       0.85      0.88      0.87      3551\n",
      "           environment_asbestos       0.94      0.90      0.92       542\n",
      "        environment_dead_animal       0.87      0.91      0.89      1972\n",
      "            environment_dumping       0.68      0.66      0.67      7219\n",
      " environment_garbage_collection       0.88      0.96      0.92     47408\n",
      "            environment_general       0.68      0.43      0.52      1511\n",
      " environment_hazardous_material       0.80      0.72      0.76      1151\n",
      "             environment_litter       0.68      0.51      0.58      2982\n",
      "         environment_overgrowth       0.78      0.87      0.82     15871\n",
      "          environment_recycling       0.94      0.88      0.91     11772\n",
      "          fire_equipment_broken       0.56      0.47      0.51       130\n",
      "                   fire_general       0.76      0.69      0.72       929\n",
      "                     fire_risks       0.00      0.00      0.00        21\n",
      "             governance_general       0.38      0.36      0.37      7270\n",
      "       governance_parks_and_rec       0.55      0.35      0.43      1116\n",
      "             governance_signage       0.67      0.64      0.65      1892\n",
      "                housing_general       0.75      0.76      0.76      7137\n",
      "            housing_health_code       0.64      0.50      0.56      1434\n",
      "                   housing_mold       0.87      0.84      0.85      1009\n",
      "                  housing_pests       0.40      0.06      0.11        32\n",
      "                 housing_safety       0.67      0.51      0.58       755\n",
      "         infrastructure_general       0.73      0.75      0.74      4747\n",
      "           infrastructure_power       0.97      0.66      0.79       173\n",
      "           infrastructure_water       0.64      0.48      0.55      1710\n",
      "    infrastructure_water_repair       0.76      0.58      0.65       478\n",
      "          planning_construction       0.81      0.15      0.26        84\n",
      "               planning_general       0.76      0.58      0.66      4517\n",
      "    planning_unsafe_environment       0.94      0.90      0.92      2914\n",
      "            publichealth_animal       0.68      0.22      0.33       167\n",
      "      publichealth_animal_feces       0.73      0.55      0.63       160\n",
      "           publichealth_general       0.98      0.92      0.95      3466\n",
      "             publichealth_pests       0.83      0.84      0.84      1094\n",
      "publichealth_restaurant_hygiene       0.90      0.97      0.94       328\n",
      "            publicorder_general       0.56      0.43      0.49      1712\n",
      "    publicorder_noise_complaint       0.92      0.91      0.91      1729\n",
      "                street_cleaning       0.80      0.63      0.71      1066\n",
      "                street_drainage       0.53      0.39      0.45      1298\n",
      "                 street_general       0.50      0.22      0.30      1637\n",
      "                street_lighting       0.93      0.93      0.93      7749\n",
      "                 street_parking       0.70      0.54      0.61       380\n",
      "                  street_repair       0.84      0.91      0.87     16853\n",
      "                street_roadkill       0.96      0.28      0.44        85\n",
      "                   street_sewar       0.76      0.75      0.76       941\n",
      "                street_sidewalk       0.66      0.61      0.63      3621\n",
      "                street_slippery       0.88      0.85      0.86      1380\n",
      "           street_urgent_repair       0.80      0.80      0.80      4894\n",
      "              vandalism_general       0.82      0.41      0.54        91\n",
      "             vandalism_graffiti       0.90      0.90      0.90      7311\n",
      "\n",
      "                      micro avg       0.81      0.81      0.81    192219\n",
      "                      macro avg       0.75      0.62      0.66    192219\n",
      "                   weighted avg       0.80      0.81      0.80    192219\n",
      "\n"
     ]
    }
   ],
   "source": [
    "print('accuracy score:',accuracy_score(y_test_sub, y_predict_lr_sub, normalize=True, sample_weight=None))\n",
    "\n",
    "print(classification_report(y_test_sub, y_predict_lr_sub))"
   ]
  },
  {
   "cell_type": "markdown",
   "metadata": {},
   "source": [
    "# Ensemble Soft Vote\n",
    "#### Linear regression:  \n",
    "- multiclass = 'multinomial' # max entropy  \n",
    "- regularization = 'l2' # Only one available for max ent"
   ]
  },
  {
   "cell_type": "markdown",
   "metadata": {},
   "source": [
    "### main categories\n",
    "x_train_main, x_test_main, y_train_main, y_test_main = `train_test_split( x_tfidf, y_main, test_size=0.2, random_state=412, stratify=y_main)`\n",
    "\n",
    "### sub categories\n",
    "x_train_sub, x_test_sub, y_train_sub, y_test_sub = `train_test_split( x_tfidf, y_sub, test_size=0.2, random_state=412, stratify=y_sub)`"
   ]
  },
  {
   "cell_type": "code",
   "execution_count": null,
   "metadata": {},
   "outputs": [],
   "source": [
    "from sklearn.ensemble import VotingClassifier\n",
    "\n",
    "start_time = time.time()\n",
    "\n",
    "clf1 = LogisticRegression(solver='lbfgs', multi_class='multinomial',\n",
    "                          random_state=1)\n",
    "clf2 = RandomForestClassifier(n_estimators=100, random_state=1)\n",
    "clf3 = MultinomialNB()\n",
    "clf4 = LinearSVC()\n",
    "\n",
    "\n",
    "eclf_soft = VotingClassifier(estimators=[\n",
    "        ('lr', clf1), ('rf', clf2), ('mnb', clf3), ('lsvc', clf4)], voting='soft')\n",
    "\n",
    "eclf_soft = eclf_soft.fit(x_train_sub, y_train_sub)\n",
    "\n",
    "print(f'Time elapsed: {time.time() - start_time}')"
   ]
  },
  {
   "cell_type": "code",
   "execution_count": null,
   "metadata": {},
   "outputs": [],
   "source": [
    "start_time = time.time()\n",
    "y_predict_eclf_sub = eclf_soft.predict(x_test_sub)\n",
    "print(f'Time elapsed: {time.time() - start_time}')"
   ]
  }
 ],
 "metadata": {
  "colab": {
   "collapsed_sections": [],
   "name": "nonNN_model_v2.ipynb",
   "provenance": [],
   "version": "0.3.2"
  },
  "kernelspec": {
   "display_name": "Python 3",
   "language": "python",
   "name": "python3"
  },
  "language_info": {
   "codemirror_mode": {
    "name": "ipython",
    "version": 3
   },
   "file_extension": ".py",
   "mimetype": "text/x-python",
   "name": "python",
   "nbconvert_exporter": "python",
   "pygments_lexer": "ipython3",
   "version": "3.7.0"
  }
 },
 "nbformat": 4,
 "nbformat_minor": 1
}
