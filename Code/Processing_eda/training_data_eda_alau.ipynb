{
 "cells": [
  {
   "cell_type": "code",
   "execution_count": 67,
   "metadata": {},
   "outputs": [
    {
     "data": {
      "text/html": [
       "<script>requirejs.config({paths: { 'plotly': ['https://cdn.plot.ly/plotly-latest.min']},});if(!window.Plotly) {{require(['plotly'],function(plotly) {window.Plotly=plotly;});}}</script>"
      ],
      "text/vnd.plotly.v1+html": [
       "<script>requirejs.config({paths: { 'plotly': ['https://cdn.plot.ly/plotly-latest.min']},});if(!window.Plotly) {{require(['plotly'],function(plotly) {window.Plotly=plotly;});}}</script>"
      ]
     },
     "metadata": {},
     "output_type": "display_data"
    }
   ],
   "source": [
    "import pandas as pd\n",
    "import numpy as np\n",
    "import re\n",
    "import string\n",
    "\n",
    "from plotly.offline import download_plotlyjs, init_notebook_mode, plot, iplot\n",
    "import plotly.graph_objs as go\n",
    "init_notebook_mode(connected=True)\n",
    "\n",
    "from IPython.core.interactiveshell import InteractiveShell\n",
    "InteractiveShell.ast_node_interactivity = \"all\""
   ]
  },
  {
   "cell_type": "markdown",
   "metadata": {},
   "source": [
    "# EDA of Full Training Dataset\n",
    "Adapted from `combined-dataset-full-finetune.ipynb`"
   ]
  },
  {
   "cell_type": "code",
   "execution_count": 68,
   "metadata": {},
   "outputs": [
    {
     "data": {
      "text/plain": [
       "(1278129, 10)"
      ]
     },
     "execution_count": 68,
     "metadata": {},
     "output_type": "execute_result"
    }
   ],
   "source": [
    "dat = pd.read_csv('output\\\\combined_trainingdata_20181013.tsv', sep='\\t', low_memory=False)\n",
    "test.shape"
   ]
  },
  {
   "cell_type": "code",
   "execution_count": 69,
   "metadata": {
    "scrolled": false
   },
   "outputs": [
    {
     "data": {
      "text/html": [
       "<div>\n",
       "<style scoped>\n",
       "    .dataframe tbody tr th:only-of-type {\n",
       "        vertical-align: middle;\n",
       "    }\n",
       "\n",
       "    .dataframe tbody tr th {\n",
       "        vertical-align: top;\n",
       "    }\n",
       "\n",
       "    .dataframe thead th {\n",
       "        text-align: right;\n",
       "    }\n",
       "</style>\n",
       "<table border=\"1\" class=\"dataframe\">\n",
       "  <thead>\n",
       "    <tr style=\"text-align: right;\">\n",
       "      <th></th>\n",
       "      <th>index</th>\n",
       "      <th>COMPLAINT_ID</th>\n",
       "      <th>CITY</th>\n",
       "      <th>COMPLAINT DATE</th>\n",
       "      <th>DEPT_311</th>\n",
       "      <th>CODE_311</th>\n",
       "      <th>CATEGORY_MAIN</th>\n",
       "      <th>CATEGORY_SUB</th>\n",
       "      <th>COMPLAINT_1</th>\n",
       "      <th>COMPLAINT_2</th>\n",
       "    </tr>\n",
       "  </thead>\n",
       "  <tbody>\n",
       "    <tr>\n",
       "      <th>1018167</th>\n",
       "      <td>104740</td>\n",
       "      <td>SEECLICKFIX_190104</td>\n",
       "      <td>National City</td>\n",
       "      <td>2018-07-05T11:36:32-04:00</td>\n",
       "      <td>NaN</td>\n",
       "      <td>abandoned vehicle</td>\n",
       "      <td>environment</td>\n",
       "      <td>environment_abandoned_vehicle</td>\n",
       "      <td>Abandoned Vehicle</td>\n",
       "      <td>junk car left for months</td>\n",
       "    </tr>\n",
       "    <tr>\n",
       "      <th>439396</th>\n",
       "      <td>439396</td>\n",
       "      <td>US_CINCINNATI_SR18036422</td>\n",
       "      <td>US_CINCINNATI</td>\n",
       "      <td>04/22/2018</td>\n",
       "      <td>public services</td>\n",
       "      <td>metal furniture, spec collectn</td>\n",
       "      <td>environment</td>\n",
       "      <td>environment_garbage_collection</td>\n",
       "      <td>\"Request entered through the Web. Refer to Int...</td>\n",
       "      <td>NaN</td>\n",
       "    </tr>\n",
       "    <tr>\n",
       "      <th>939746</th>\n",
       "      <td>26319</td>\n",
       "      <td>SEECLICKFIX_91418</td>\n",
       "      <td>City of Albany</td>\n",
       "      <td>2018-09-30T11:30:15-04:00</td>\n",
       "      <td>NaN</td>\n",
       "      <td>tree issues</td>\n",
       "      <td>environment</td>\n",
       "      <td>environment_overgrowth</td>\n",
       "      <td>Tree Issues</td>\n",
       "      <td>The half dead tree (planted by DGS) is located...</td>\n",
       "    </tr>\n",
       "    <tr>\n",
       "      <th>148853</th>\n",
       "      <td>148853</td>\n",
       "      <td>US_BATON_ROUGE_227236</td>\n",
       "      <td>US_BATON_ROUGE</td>\n",
       "      <td>04/26/2016 01:24:00 PM</td>\n",
       "      <td>road maintenance issues</td>\n",
       "      <td>pothole</td>\n",
       "      <td>street</td>\n",
       "      <td>street_repair</td>\n",
       "      <td>TARA SUBDIVISION POTHOLES 6 OF 16</td>\n",
       "      <td>NaN</td>\n",
       "    </tr>\n",
       "    <tr>\n",
       "      <th>530550</th>\n",
       "      <td>530550</td>\n",
       "      <td>US_CINCINNATI_SR16015873</td>\n",
       "      <td>US_CINCINNATI</td>\n",
       "      <td>03/08/2016</td>\n",
       "      <td>public services</td>\n",
       "      <td>pothole, repair</td>\n",
       "      <td>street</td>\n",
       "      <td>street_repair</td>\n",
       "      <td>\"Request entered through the Web. Refer to Int...</td>\n",
       "      <td>NaN</td>\n",
       "    </tr>\n",
       "  </tbody>\n",
       "</table>\n",
       "</div>"
      ],
      "text/plain": [
       "          index              COMPLAINT_ID            CITY  \\\n",
       "1018167  104740        SEECLICKFIX_190104   National City   \n",
       "439396   439396  US_CINCINNATI_SR18036422   US_CINCINNATI   \n",
       "939746    26319         SEECLICKFIX_91418  City of Albany   \n",
       "148853   148853     US_BATON_ROUGE_227236  US_BATON_ROUGE   \n",
       "530550   530550  US_CINCINNATI_SR16015873   US_CINCINNATI   \n",
       "\n",
       "                    COMPLAINT DATE                 DEPT_311  \\\n",
       "1018167  2018-07-05T11:36:32-04:00                      NaN   \n",
       "439396                  04/22/2018          public services   \n",
       "939746   2018-09-30T11:30:15-04:00                      NaN   \n",
       "148853      04/26/2016 01:24:00 PM  road maintenance issues   \n",
       "530550                  03/08/2016          public services   \n",
       "\n",
       "                               CODE_311 CATEGORY_MAIN  \\\n",
       "1018167               abandoned vehicle   environment   \n",
       "439396   metal furniture, spec collectn   environment   \n",
       "939746                      tree issues   environment   \n",
       "148853                          pothole        street   \n",
       "530550                  pothole, repair        street   \n",
       "\n",
       "                           CATEGORY_SUB  \\\n",
       "1018167   environment_abandoned_vehicle   \n",
       "439396   environment_garbage_collection   \n",
       "939746           environment_overgrowth   \n",
       "148853                    street_repair   \n",
       "530550                    street_repair   \n",
       "\n",
       "                                               COMPLAINT_1  \\\n",
       "1018167                                  Abandoned Vehicle   \n",
       "439396   \"Request entered through the Web. Refer to Int...   \n",
       "939746                                         Tree Issues   \n",
       "148853                   TARA SUBDIVISION POTHOLES 6 OF 16   \n",
       "530550   \"Request entered through the Web. Refer to Int...   \n",
       "\n",
       "                                               COMPLAINT_2  \n",
       "1018167                           junk car left for months  \n",
       "439396                                                 NaN  \n",
       "939746   The half dead tree (planted by DGS) is located...  \n",
       "148853                                                 NaN  \n",
       "530550                                                 NaN  "
      ]
     },
     "execution_count": 69,
     "metadata": {},
     "output_type": "execute_result"
    }
   ],
   "source": [
    "dat.sample(5)\n",
    "# test.head()"
   ]
  },
  {
   "cell_type": "code",
   "execution_count": 70,
   "metadata": {},
   "outputs": [
    {
     "data": {
      "text/plain": [
       "Index(['index', 'complaint_id', 'city', 'complaint_date', 'dept_311',\n",
       "       'code_311', 'category_main', 'category_sub', 'complaint_1',\n",
       "       'complaint_2'],\n",
       "      dtype='object')"
      ]
     },
     "execution_count": 70,
     "metadata": {},
     "output_type": "execute_result"
    }
   ],
   "source": [
    "# Clean col names\n",
    "dat.columns = [x.lower() for x in dat.columns]\n",
    "dat.columns = [x.replace(' ', '_') for x in dat.columns]\n",
    "dat.columns"
   ]
  },
  {
   "cell_type": "code",
   "execution_count": 71,
   "metadata": {},
   "outputs": [
    {
     "name": "stdout",
     "output_type": "stream",
     "text": [
      "<class 'pandas.core.frame.DataFrame'>\n",
      "RangeIndex: 1278129 entries, 0 to 1278128\n",
      "Data columns (total 10 columns):\n",
      "index             1278129 non-null int64\n",
      "complaint_id      1278129 non-null object\n",
      "city              1278129 non-null object\n",
      "complaint_date    1278127 non-null object\n",
      "dept_311          913427 non-null object\n",
      "code_311          1278129 non-null object\n",
      "category_main     1278129 non-null object\n",
      "category_sub      1278129 non-null object\n",
      "complaint_1       1264104 non-null object\n",
      "complaint_2       313838 non-null object\n",
      "dtypes: int64(1), object(9)\n",
      "memory usage: 97.5+ MB\n"
     ]
    }
   ],
   "source": [
    "dat.info()"
   ]
  },
  {
   "cell_type": "code",
   "execution_count": 72,
   "metadata": {},
   "outputs": [
    {
     "data": {
      "text/html": [
       "<div>\n",
       "<style scoped>\n",
       "    .dataframe tbody tr th:only-of-type {\n",
       "        vertical-align: middle;\n",
       "    }\n",
       "\n",
       "    .dataframe tbody tr th {\n",
       "        vertical-align: top;\n",
       "    }\n",
       "\n",
       "    .dataframe thead th {\n",
       "        text-align: right;\n",
       "    }\n",
       "</style>\n",
       "<table border=\"1\" class=\"dataframe\">\n",
       "  <thead>\n",
       "    <tr style=\"text-align: right;\">\n",
       "      <th></th>\n",
       "      <th>index</th>\n",
       "      <th>complaint_id</th>\n",
       "      <th>city</th>\n",
       "      <th>complaint_date</th>\n",
       "      <th>dept_311</th>\n",
       "      <th>code_311</th>\n",
       "      <th>category_main</th>\n",
       "      <th>category_sub</th>\n",
       "      <th>complaint_1</th>\n",
       "      <th>complaint_2</th>\n",
       "    </tr>\n",
       "  </thead>\n",
       "  <tbody>\n",
       "    <tr>\n",
       "      <th>count</th>\n",
       "      <td>1.278129e+06</td>\n",
       "      <td>1278129</td>\n",
       "      <td>1278129</td>\n",
       "      <td>1278127</td>\n",
       "      <td>913427</td>\n",
       "      <td>1278129</td>\n",
       "      <td>1278129</td>\n",
       "      <td>1278129</td>\n",
       "      <td>1264104</td>\n",
       "      <td>313838</td>\n",
       "    </tr>\n",
       "    <tr>\n",
       "      <th>unique</th>\n",
       "      <td>NaN</td>\n",
       "      <td>1276903</td>\n",
       "      <td>693</td>\n",
       "      <td>578885</td>\n",
       "      <td>76</td>\n",
       "      <td>1840</td>\n",
       "      <td>11</td>\n",
       "      <td>64</td>\n",
       "      <td>445976</td>\n",
       "      <td>212892</td>\n",
       "    </tr>\n",
       "    <tr>\n",
       "      <th>top</th>\n",
       "      <td>NaN</td>\n",
       "      <td>US_CHICAGO_10863</td>\n",
       "      <td>US_CINCINNATI</td>\n",
       "      <td>01/01/2018</td>\n",
       "      <td>public services</td>\n",
       "      <td>metal furniture, spec collectn</td>\n",
       "      <td>environment</td>\n",
       "      <td>environment_garbage_collection</td>\n",
       "      <td>\"Request entered through the Web. Refer to Int...</td>\n",
       "      <td>MORE INFORMATION MAY BE AVAILABLE IN THE CDPH ...</td>\n",
       "    </tr>\n",
       "    <tr>\n",
       "      <th>freq</th>\n",
       "      <td>NaN</td>\n",
       "      <td>18</td>\n",
       "      <td>518774</td>\n",
       "      <td>23135</td>\n",
       "      <td>325608</td>\n",
       "      <td>159016</td>\n",
       "      <td>715995</td>\n",
       "      <td>400085</td>\n",
       "      <td>141283</td>\n",
       "      <td>40506</td>\n",
       "    </tr>\n",
       "    <tr>\n",
       "      <th>mean</th>\n",
       "      <td>3.784263e+05</td>\n",
       "      <td>NaN</td>\n",
       "      <td>NaN</td>\n",
       "      <td>NaN</td>\n",
       "      <td>NaN</td>\n",
       "      <td>NaN</td>\n",
       "      <td>NaN</td>\n",
       "      <td>NaN</td>\n",
       "      <td>NaN</td>\n",
       "      <td>NaN</td>\n",
       "    </tr>\n",
       "    <tr>\n",
       "      <th>std</th>\n",
       "      <td>2.611561e+05</td>\n",
       "      <td>NaN</td>\n",
       "      <td>NaN</td>\n",
       "      <td>NaN</td>\n",
       "      <td>NaN</td>\n",
       "      <td>NaN</td>\n",
       "      <td>NaN</td>\n",
       "      <td>NaN</td>\n",
       "      <td>NaN</td>\n",
       "      <td>NaN</td>\n",
       "    </tr>\n",
       "    <tr>\n",
       "      <th>min</th>\n",
       "      <td>0.000000e+00</td>\n",
       "      <td>NaN</td>\n",
       "      <td>NaN</td>\n",
       "      <td>NaN</td>\n",
       "      <td>NaN</td>\n",
       "      <td>NaN</td>\n",
       "      <td>NaN</td>\n",
       "      <td>NaN</td>\n",
       "      <td>NaN</td>\n",
       "      <td>NaN</td>\n",
       "    </tr>\n",
       "    <tr>\n",
       "      <th>25%</th>\n",
       "      <td>1.597660e+05</td>\n",
       "      <td>NaN</td>\n",
       "      <td>NaN</td>\n",
       "      <td>NaN</td>\n",
       "      <td>NaN</td>\n",
       "      <td>NaN</td>\n",
       "      <td>NaN</td>\n",
       "      <td>NaN</td>\n",
       "      <td>NaN</td>\n",
       "      <td>NaN</td>\n",
       "    </tr>\n",
       "    <tr>\n",
       "      <th>50%</th>\n",
       "      <td>3.195320e+05</td>\n",
       "      <td>NaN</td>\n",
       "      <td>NaN</td>\n",
       "      <td>NaN</td>\n",
       "      <td>NaN</td>\n",
       "      <td>NaN</td>\n",
       "      <td>NaN</td>\n",
       "      <td>NaN</td>\n",
       "      <td>NaN</td>\n",
       "      <td>NaN</td>\n",
       "    </tr>\n",
       "    <tr>\n",
       "      <th>75%</th>\n",
       "      <td>5.938940e+05</td>\n",
       "      <td>NaN</td>\n",
       "      <td>NaN</td>\n",
       "      <td>NaN</td>\n",
       "      <td>NaN</td>\n",
       "      <td>NaN</td>\n",
       "      <td>NaN</td>\n",
       "      <td>NaN</td>\n",
       "      <td>NaN</td>\n",
       "      <td>NaN</td>\n",
       "    </tr>\n",
       "    <tr>\n",
       "      <th>max</th>\n",
       "      <td>9.134260e+05</td>\n",
       "      <td>NaN</td>\n",
       "      <td>NaN</td>\n",
       "      <td>NaN</td>\n",
       "      <td>NaN</td>\n",
       "      <td>NaN</td>\n",
       "      <td>NaN</td>\n",
       "      <td>NaN</td>\n",
       "      <td>NaN</td>\n",
       "      <td>NaN</td>\n",
       "    </tr>\n",
       "  </tbody>\n",
       "</table>\n",
       "</div>"
      ],
      "text/plain": [
       "               index      complaint_id           city complaint_date  \\\n",
       "count   1.278129e+06           1278129        1278129        1278127   \n",
       "unique           NaN           1276903            693         578885   \n",
       "top              NaN  US_CHICAGO_10863  US_CINCINNATI     01/01/2018   \n",
       "freq             NaN                18         518774          23135   \n",
       "mean    3.784263e+05               NaN            NaN            NaN   \n",
       "std     2.611561e+05               NaN            NaN            NaN   \n",
       "min     0.000000e+00               NaN            NaN            NaN   \n",
       "25%     1.597660e+05               NaN            NaN            NaN   \n",
       "50%     3.195320e+05               NaN            NaN            NaN   \n",
       "75%     5.938940e+05               NaN            NaN            NaN   \n",
       "max     9.134260e+05               NaN            NaN            NaN   \n",
       "\n",
       "               dept_311                        code_311 category_main  \\\n",
       "count            913427                         1278129       1278129   \n",
       "unique               76                            1840            11   \n",
       "top     public services  metal furniture, spec collectn   environment   \n",
       "freq             325608                          159016        715995   \n",
       "mean                NaN                             NaN           NaN   \n",
       "std                 NaN                             NaN           NaN   \n",
       "min                 NaN                             NaN           NaN   \n",
       "25%                 NaN                             NaN           NaN   \n",
       "50%                 NaN                             NaN           NaN   \n",
       "75%                 NaN                             NaN           NaN   \n",
       "max                 NaN                             NaN           NaN   \n",
       "\n",
       "                          category_sub  \\\n",
       "count                          1278129   \n",
       "unique                              64   \n",
       "top     environment_garbage_collection   \n",
       "freq                            400085   \n",
       "mean                               NaN   \n",
       "std                                NaN   \n",
       "min                                NaN   \n",
       "25%                                NaN   \n",
       "50%                                NaN   \n",
       "75%                                NaN   \n",
       "max                                NaN   \n",
       "\n",
       "                                              complaint_1  \\\n",
       "count                                             1264104   \n",
       "unique                                             445976   \n",
       "top     \"Request entered through the Web. Refer to Int...   \n",
       "freq                                               141283   \n",
       "mean                                                  NaN   \n",
       "std                                                   NaN   \n",
       "min                                                   NaN   \n",
       "25%                                                   NaN   \n",
       "50%                                                   NaN   \n",
       "75%                                                   NaN   \n",
       "max                                                   NaN   \n",
       "\n",
       "                                              complaint_2  \n",
       "count                                              313838  \n",
       "unique                                             212892  \n",
       "top     MORE INFORMATION MAY BE AVAILABLE IN THE CDPH ...  \n",
       "freq                                                40506  \n",
       "mean                                                  NaN  \n",
       "std                                                   NaN  \n",
       "min                                                   NaN  \n",
       "25%                                                   NaN  \n",
       "50%                                                   NaN  \n",
       "75%                                                   NaN  \n",
       "max                                                   NaN  "
      ]
     },
     "execution_count": 72,
     "metadata": {},
     "output_type": "execute_result"
    }
   ],
   "source": [
    "dat.describe(include='all')"
   ]
  },
  {
   "cell_type": "markdown",
   "metadata": {},
   "source": [
    "# Clean Data\n",
    "Remove rows with no complaint 1 data. Create Complaint column that has (complaint 2 or complaint 1). We are also doing pre-processing. This involves removing punctuation, making everything lowercase, replacing numbers with N, cutting everything after 512 chars, concatenating two types of complaints when they are for Chicago."
   ]
  },
  {
   "cell_type": "code",
   "execution_count": 73,
   "metadata": {},
   "outputs": [],
   "source": [
    "# # Keep records with at least one complaint field\n",
    "# dat = dat.loc[(~dat['complaint_1'].isna())|(~dat['complaint_2'].isna())]"
   ]
  },
  {
   "cell_type": "code",
   "execution_count": 74,
   "metadata": {},
   "outputs": [],
   "source": [
    "dat = dat.loc[~dat['complaint_1'].isna()]"
   ]
  },
  {
   "cell_type": "code",
   "execution_count": 75,
   "metadata": {},
   "outputs": [
    {
     "name": "stdout",
     "output_type": "stream",
     "text": [
      "<class 'pandas.core.frame.DataFrame'>\n",
      "Int64Index: 1264104 entries, 0 to 1278128\n",
      "Data columns (total 10 columns):\n",
      "index             1264104 non-null int64\n",
      "complaint_id      1264104 non-null object\n",
      "city              1264104 non-null object\n",
      "complaint_date    1264104 non-null object\n",
      "dept_311          899405 non-null object\n",
      "code_311          1264104 non-null object\n",
      "category_main     1264104 non-null object\n",
      "category_sub      1264104 non-null object\n",
      "complaint_1       1264104 non-null object\n",
      "complaint_2       313392 non-null object\n",
      "dtypes: int64(1), object(9)\n",
      "memory usage: 106.1+ MB\n"
     ]
    }
   ],
   "source": [
    "dat.info()"
   ]
  },
  {
   "cell_type": "code",
   "execution_count": 76,
   "metadata": {
    "scrolled": true
   },
   "outputs": [
    {
     "name": "stdout",
     "output_type": "stream",
     "text": [
      "(0,)\n"
     ]
    }
   ],
   "source": [
    "translator = str.maketrans('', '', string.punctuation) # To remove punctuation\n",
    "\n",
    "def preProcess(complaintStart):\n",
    "    complaint = complaintStart[:512] # cut to 512 characters max\n",
    "    complaint = re.sub(\"\\d\",\"N\", complaint) # remove numbers\n",
    "    complaint = complaint.lower().translate(translator) # lower case and remove the punctuation\n",
    "    complaint = complaint.replace(\"\\n\",\" \").strip() # remove starting and trailing white spaces\n",
    "    if re.search('[a-zA-Z]', complaint) is None:# if there are no letters in the complaint, return empty, will be removed in later processing\n",
    "        return \"\"\n",
    "    return complaint\n",
    "\n",
    "def getComplaint(row):\n",
    "    complaint2 = row.get(\"complaint_2\")\n",
    "    if not pd.isnull(complaint2):\n",
    "        if \"[INSPECTION LOG #:\" in complaint2: # Remove inspection log section from C2\n",
    "            complaintStrippedList = complaint2.split(\"]\")[1:]\n",
    "            complaintFinal = \"]\".join(complaintStrippedList)\n",
    "        else:\n",
    "            complaintFinal = complaint2\n",
    "        if row.get(\"city\")==\"US_CHICAGO\": # if Chicago, concatenate the two\n",
    "            complaintFinal = row.get(\"complaint_1\") + \" \"+ complaintFinal\n",
    "        complaintProcessed = preProcess(complaintFinal)\n",
    "        if complaintProcessed == \"\" or re.search('[a-zA-Z]', complaintProcessed) is None: # if nothing or no letters\n",
    "            return preProcess(row.get(\"complaint_1\"))\n",
    "        return complaintProcessed\n",
    "    complaintProcessed = preProcess(row.get(\"complaint_1\"))\n",
    "    return complaintProcessed\n",
    "\n",
    "results = dat.apply(lambda row: getComplaint(row),axis=1)\n",
    "print(results[results.isna()].shape)"
   ]
  },
  {
   "cell_type": "code",
   "execution_count": 77,
   "metadata": {},
   "outputs": [
    {
     "data": {
      "text/plain": [
       "0    questionable business practices regarding oils...\n",
       "1    constructiondemolition debris dumped in back y...\n",
       "2    replacing windows and sandblasting causing dus...\n",
       "4    property causing hazardous conditions on publi...\n",
       "5    construction work is causing dust  this invest...\n",
       "dtype: object"
      ]
     },
     "execution_count": 77,
     "metadata": {},
     "output_type": "execute_result"
    },
    {
     "data": {
      "text/plain": [
       "0    QUESTIONABLE BUSINESS PRACTICES REGARDING OILS...\n",
       "1    CONSTRUCTION/DEMOLITION DEBRIS DUMPED IN BACK ...\n",
       "2    REPLACING WINDOWS AND SANDBLASTING CAUSING DUS...\n",
       "4    PROPERTY CAUSING HAZARDOUS CONDITIONS ON PUBLI...\n",
       "5                    CONSTRUCTION WORK IS CAUSING DUST\n",
       "Name: complaint_1, dtype: object"
      ]
     },
     "execution_count": 77,
     "metadata": {},
     "output_type": "execute_result"
    }
   ],
   "source": [
    "results[:5]\n",
    "dat['complaint_1'][:5]"
   ]
  },
  {
   "cell_type": "code",
   "execution_count": 78,
   "metadata": {},
   "outputs": [
    {
     "data": {
      "text/plain": [
       "(0, 11)"
      ]
     },
     "execution_count": 78,
     "metadata": {},
     "output_type": "execute_result"
    }
   ],
   "source": [
    "dat['complaint'] = results\n",
    "dat.loc[dat['complaint'].isna()].shape"
   ]
  },
  {
   "cell_type": "code",
   "execution_count": 79,
   "metadata": {},
   "outputs": [],
   "source": [
    "# Strip white spaces from CATEGORY_SUB\n",
    "dat['category_sub'] = dat['category_sub'].str.strip()"
   ]
  },
  {
   "cell_type": "code",
   "execution_count": 85,
   "metadata": {},
   "outputs": [
    {
     "data": {
      "text/plain": [
       "Index(['index', 'complaint_id', 'city', 'complaint_date', 'dept_311',\n",
       "       'code_311', 'category_main', 'category_sub', 'complaint_1',\n",
       "       'complaint_2', 'complaint'],\n",
       "      dtype='object')"
      ]
     },
     "execution_count": 85,
     "metadata": {},
     "output_type": "execute_result"
    }
   ],
   "source": [
    "dat.columns"
   ]
  },
  {
   "cell_type": "markdown",
   "metadata": {},
   "source": [
    "# EDA"
   ]
  },
  {
   "cell_type": "markdown",
   "metadata": {},
   "source": [
    "Look up top 10 values in columns that aren't ID numbers or dates."
   ]
  },
  {
   "cell_type": "code",
   "execution_count": 127,
   "metadata": {
    "scrolled": false
   },
   "outputs": [],
   "source": [
    "most_common_vals = {}\n",
    "\n",
    "for col in [x for x in dat.columns if x not in ['index', 'complaint_id', 'complaint_date']]:\n",
    "    most_common_vals[col] = {}\n",
    "    most_common_vals[col]['percent'] = dat[col].value_counts(normalize=True)\n",
    "    most_common_vals[col]['count'] = dat[col].value_counts()"
   ]
  },
  {
   "cell_type": "code",
   "execution_count": 133,
   "metadata": {
    "scrolled": true
   },
   "outputs": [
    {
     "name": "stdout",
     "output_type": "stream",
     "text": [
      "US_CINCINNATI             518774\n",
      "US_BATON_ROUGE            227137\n",
      "City of Chicago           124521\n",
      "US_BLOOMINGTON             82269\n",
      "City of Oakland - OLD      49767\n",
      "US_CHICAGO                 48136\n",
      "IRELAND                    23089\n",
      "City of Oakland            15629\n",
      "City of St. Petersburg     14840\n",
      "New Haven                  13107\n",
      "Name: city, dtype: int64\n",
      "public services          325608\n",
      "garbage                  120177\n",
      "cinc building dept        72090\n",
      "cinc health dept          66125\n",
      "health_environment        48136\n",
      "recycling                 42583\n",
      "trash                     36896\n",
      "city manager's office     24095\n",
      "general                   23089\n",
      "blighted properties       21327\n",
      "Name: dept_311, dtype: int64\n",
      "metal furniture, spec collectn    159016\n",
      "general                            82269\n",
      "tall grass/weeds, private prop     34709\n",
      "trash, request for collection      30881\n",
      "pothole, repair                    30320\n",
      "building, residential              26511\n",
      "pothole                            24874\n",
      "missed woody waste service         24734\n",
      "other                              23771\n",
      "damaged garbage cart               22806\n",
      "Name: code_311, dtype: int64\n",
      "environment       705065\n",
      "street            242168\n",
      "housing            66140\n",
      "governance         55826\n",
      "vandalism          48816\n",
      "planning           44635\n",
      "infrastructure     41884\n",
      "public_health      27619\n",
      "public_order       17494\n",
      "fire               14431\n",
      "Name: category_main, dtype: int64\n",
      "environment_garbage_collection    394120\n",
      "street_repair                     108902\n",
      "environment_overgrowth            100485\n",
      "environment_recycling              67539\n",
      "housing_general                    48694\n",
      "vandalism_graffiti                 48362\n",
      "street_lighting                    46899\n",
      "environment_dumping                42184\n",
      "governance_general                 37647\n",
      "environment_abandoned_vehicle      33290\n",
      "Name: category_sub, dtype: int64\n",
      "\"Request entered through the Web. Refer to Intake Questions for further description.\"    141283\n",
      "\" \"                                                                                      100387\n",
      "Pothole in Street                                                                         22500\n",
      "Graffiti Removal                                                                          20587\n",
      "Street Light 1 / Out                                                                      15928\n",
      "Other                                                                                     14196\n",
      "Illegal Dumping                                                                           13240\n",
      "Pothole                                                                                   13090\n",
      "Building Violation                                                                        12501\n",
      "Abandoned Vehicle                                                                         12173\n",
      "Name: complaint_1, dtype: int64\n",
      "MORE INFORMATION MAY BE AVAILABLE IN THE CDPH ENVIRONMENTAL INSPECTIONS DATASET                                                                                     40197\n",
      "Duplicate                                                                                                                                                           16311\n",
      "This issue was reported to the City of Oakland Public Works Department via phone (510-615-5566) email (pwacallcenter@oaklandnet.com) or web (www.oaklandpw.com).     5027\n",
      "This issue was reported to the City of Oakland Call Center via phone (510-615-5566) email (callcenter@oaklandnet.com) or web (www.oaklandpw.com).                    4613\n",
      "This issue was reported to the City of Oakland Public Works Agency via phone (510-615-5566) email (pwacallcenter@oaklandnet.com) or web (www.oaklandpw.com).         4472\n",
      "Locked                                                                                                                                                               4404\n",
      "Assigned to Traffic Signal Repairman                                                                                                                                 1358\n",
      "This issue was reported to OAK 311 via phone (311 or 510-615-5566 from outside Oakland) email (OAK311@oaklandnet.com) or web (311.oaklandca.gov).                    1118\n",
      "Emergency Resolved -Traffic Truck Non Emergency Transfer Outcome                                                                                                     1051\n",
      "Work In Progress                                                                                                                                                      588\n",
      "Name: complaint_2, dtype: int64\n",
      "request entered through the web refer to intake questions for further description    141284\n",
      "                                                                                     100640\n",
      "graffiti removal                                                                      17243\n",
      "pothole in street                                                                     16783\n",
      "duplicate                                                                             16312\n",
      "street light n  out                                                                   11916\n",
      "rodent baiting  rat complaint                                                         10138\n",
      "abandoned vehicle                                                                      8172\n",
      "alley light out                                                                        8165\n",
      "tree debris                                                                            6766\n",
      "Name: complaint, dtype: int64\n"
     ]
    }
   ],
   "source": [
    "for key, val in most_common_vals.items():\n",
    "    top_ten = val['count'][:10]\n",
    "    print(top_ten)"
   ]
  },
  {
   "cell_type": "code",
   "execution_count": 136,
   "metadata": {
    "scrolled": false
   },
   "outputs": [
    {
     "data": {
      "application/vnd.plotly.v1+json": {
       "data": [
        {
         "cells": {
          "align": [
           "left",
           "center"
          ],
          "fill": {
           "color": [
            "#D3D4D9",
            "white"
           ]
          },
          "font": {
           "color": "#506784",
           "size": 12
          },
          "height": 30,
          "line": {
           "color": "#506784"
          },
          "values": [
           [
            "US_CINCINNATI",
            "US_BATON_ROUGE",
            "City of Chicago",
            "US_BLOOMINGTON",
            "City of Oakland - OLD",
            "US_CHICAGO",
            "IRELAND",
            "City of Oakland",
            "City of St. Petersburg",
            "New Haven"
           ],
           [
            518774,
            227137,
            124521,
            82269,
            49767,
            48136,
            23089,
            15629,
            14840,
            13107
           ],
           [
            0.41,
            0.18,
            0.099,
            0.065,
            0.039,
            0.038,
            0.018,
            0.012,
            0.012,
            0.01
           ]
          ]
         },
         "columnorder": [
          1,
          2,
          3
         ],
         "columnwidth": [
          400,
          80,
          80
         ],
         "header": {
          "align": [
           "left",
           "center"
          ],
          "fill": {
           "color": "#4B88A2"
          },
          "font": {
           "color": "white",
           "size": 12
          },
          "height": 40,
          "line": {
           "color": "#506784"
          },
          "values": [
           [
            "city<b>: Value"
           ],
           [
            "<b>Count</b>"
           ],
           [
            "<b>Percent</b>"
           ]
          ]
         },
         "type": "table",
         "uid": "69be82ae-dcd5-11e8-ad48-9cb6d0ed5078"
        }
       ],
       "layout": {}
      },
      "text/html": [
       "<div id=\"585797df-2dbf-42b2-899a-89bd4a431629\" style=\"height: 525px; width: 100%;\" class=\"plotly-graph-div\"></div><script type=\"text/javascript\">require([\"plotly\"], function(Plotly) { window.PLOTLYENV=window.PLOTLYENV || {};window.PLOTLYENV.BASE_URL=\"https://plot.ly\";Plotly.newPlot(\"585797df-2dbf-42b2-899a-89bd4a431629\", [{\"cells\": {\"align\": [\"left\", \"center\"], \"fill\": {\"color\": [\"#D3D4D9\", \"white\"]}, \"font\": {\"color\": \"#506784\", \"size\": 12}, \"height\": 30, \"line\": {\"color\": \"#506784\"}, \"values\": [[\"US_CINCINNATI\", \"US_BATON_ROUGE\", \"City of Chicago\", \"US_BLOOMINGTON\", \"City of Oakland - OLD\", \"US_CHICAGO\", \"IRELAND\", \"City of Oakland\", \"City of St. Petersburg\", \"New Haven\"], [518774, 227137, 124521, 82269, 49767, 48136, 23089, 15629, 14840, 13107], [0.41, 0.18, 0.099, 0.065, 0.039, 0.038, 0.018, 0.012, 0.012, 0.01]]}, \"columnorder\": [1, 2, 3], \"columnwidth\": [400, 80, 80], \"header\": {\"align\": [\"left\", \"center\"], \"fill\": {\"color\": \"#4B88A2\"}, \"font\": {\"color\": \"white\", \"size\": 12}, \"height\": 40, \"line\": {\"color\": \"#506784\"}, \"values\": [[\"city<b>: Value\"], [\"<b>Count</b>\"], [\"<b>Percent</b>\"]]}, \"type\": \"table\", \"uid\": \"69c0a31a-dcd5-11e8-a10d-9cb6d0ed5078\"}], {}, {\"showLink\": true, \"linkText\": \"Export to plot.ly\"})});</script>"
      ],
      "text/vnd.plotly.v1+html": [
       "<div id=\"585797df-2dbf-42b2-899a-89bd4a431629\" style=\"height: 525px; width: 100%;\" class=\"plotly-graph-div\"></div><script type=\"text/javascript\">require([\"plotly\"], function(Plotly) { window.PLOTLYENV=window.PLOTLYENV || {};window.PLOTLYENV.BASE_URL=\"https://plot.ly\";Plotly.newPlot(\"585797df-2dbf-42b2-899a-89bd4a431629\", [{\"cells\": {\"align\": [\"left\", \"center\"], \"fill\": {\"color\": [\"#D3D4D9\", \"white\"]}, \"font\": {\"color\": \"#506784\", \"size\": 12}, \"height\": 30, \"line\": {\"color\": \"#506784\"}, \"values\": [[\"US_CINCINNATI\", \"US_BATON_ROUGE\", \"City of Chicago\", \"US_BLOOMINGTON\", \"City of Oakland - OLD\", \"US_CHICAGO\", \"IRELAND\", \"City of Oakland\", \"City of St. Petersburg\", \"New Haven\"], [518774, 227137, 124521, 82269, 49767, 48136, 23089, 15629, 14840, 13107], [0.41, 0.18, 0.099, 0.065, 0.039, 0.038, 0.018, 0.012, 0.012, 0.01]]}, \"columnorder\": [1, 2, 3], \"columnwidth\": [400, 80, 80], \"header\": {\"align\": [\"left\", \"center\"], \"fill\": {\"color\": \"#4B88A2\"}, \"font\": {\"color\": \"white\", \"size\": 12}, \"height\": 40, \"line\": {\"color\": \"#506784\"}, \"values\": [[\"city<b>: Value\"], [\"<b>Count</b>\"], [\"<b>Percent</b>\"]]}, \"type\": \"table\", \"uid\": \"69c0a31a-dcd5-11e8-a10d-9cb6d0ed5078\"}], {}, {\"showLink\": true, \"linkText\": \"Export to plot.ly\"})});</script>"
      ]
     },
     "metadata": {},
     "output_type": "display_data"
    },
    {
     "data": {
      "application/vnd.plotly.v1+json": {
       "data": [
        {
         "orientation": "h",
         "type": "bar",
         "uid": "69c4e5e2-dcd5-11e8-a5b8-9cb6d0ed5078",
         "x": [
          6766,
          8165,
          8172,
          10138,
          11916,
          16312,
          16783,
          17243,
          100640,
          141284
         ],
         "y": [
          "tree debris",
          "alley light out",
          "abandoned vehicle",
          "rodent baiting  rat complaint",
          "street light n  out",
          "duplicate",
          "pothole in street",
          "graffiti removal",
          "",
          "request entered through the web refer to intake questions for further description"
         ]
        }
       ],
       "layout": {
        "barmode": "stack",
        "margin": {
         "l": 150,
         "pad": 4
        }
       }
      },
      "text/html": [
       "<div id=\"2fda6aa4-ce63-433e-b3e7-e6c32839b2ce\" style=\"height: 525px; width: 100%;\" class=\"plotly-graph-div\"></div><script type=\"text/javascript\">require([\"plotly\"], function(Plotly) { window.PLOTLYENV=window.PLOTLYENV || {};window.PLOTLYENV.BASE_URL=\"https://plot.ly\";Plotly.newPlot(\"2fda6aa4-ce63-433e-b3e7-e6c32839b2ce\", [{\"orientation\": \"h\", \"x\": [6766, 8165, 8172, 10138, 11916, 16312, 16783, 17243, 100640, 141284], \"y\": [\"tree debris\", \"alley light out\", \"abandoned vehicle\", \"rodent baiting  rat complaint\", \"street light n  out\", \"duplicate\", \"pothole in street\", \"graffiti removal\", \"\", \"request entered through the web refer to intake questions for further description\"], \"type\": \"bar\", \"uid\": \"69c4e5e2-dcd5-11e8-a5b8-9cb6d0ed5078\"}], {\"barmode\": \"stack\", \"margin\": {\"l\": 150, \"pad\": 4}}, {\"showLink\": true, \"linkText\": \"Export to plot.ly\"})});</script>"
      ],
      "text/vnd.plotly.v1+html": [
       "<div id=\"2fda6aa4-ce63-433e-b3e7-e6c32839b2ce\" style=\"height: 525px; width: 100%;\" class=\"plotly-graph-div\"></div><script type=\"text/javascript\">require([\"plotly\"], function(Plotly) { window.PLOTLYENV=window.PLOTLYENV || {};window.PLOTLYENV.BASE_URL=\"https://plot.ly\";Plotly.newPlot(\"2fda6aa4-ce63-433e-b3e7-e6c32839b2ce\", [{\"orientation\": \"h\", \"x\": [6766, 8165, 8172, 10138, 11916, 16312, 16783, 17243, 100640, 141284], \"y\": [\"tree debris\", \"alley light out\", \"abandoned vehicle\", \"rodent baiting  rat complaint\", \"street light n  out\", \"duplicate\", \"pothole in street\", \"graffiti removal\", \"\", \"request entered through the web refer to intake questions for further description\"], \"type\": \"bar\", \"uid\": \"69c4e5e2-dcd5-11e8-a5b8-9cb6d0ed5078\"}], {\"barmode\": \"stack\", \"margin\": {\"l\": 150, \"pad\": 4}}, {\"showLink\": true, \"linkText\": \"Export to plot.ly\"})});</script>"
      ]
     },
     "metadata": {},
     "output_type": "display_data"
    },
    {
     "data": {
      "application/vnd.plotly.v1+json": {
       "data": [
        {
         "cells": {
          "align": [
           "left",
           "center"
          ],
          "fill": {
           "color": [
            "#D3D4D9",
            "white"
           ]
          },
          "font": {
           "color": "#506784",
           "size": 12
          },
          "height": 30,
          "line": {
           "color": "#506784"
          },
          "values": [
           [
            "public services",
            "garbage",
            "cinc building dept",
            "cinc health dept",
            "health_environment",
            "recycling",
            "trash",
            "city manager's office",
            "general",
            "blighted properties"
           ],
           [
            325608,
            120177,
            72090,
            66125,
            48136,
            42583,
            36896,
            24095,
            23089,
            21327
           ],
           [
            0.362,
            0.134,
            0.08,
            0.074,
            0.054,
            0.047,
            0.041,
            0.027,
            0.026,
            0.024
           ]
          ]
         },
         "columnorder": [
          1,
          2,
          3
         ],
         "columnwidth": [
          400,
          80,
          80
         ],
         "header": {
          "align": [
           "left",
           "center"
          ],
          "fill": {
           "color": "#4B88A2"
          },
          "font": {
           "color": "white",
           "size": 12
          },
          "height": 40,
          "line": {
           "color": "#506784"
          },
          "values": [
           [
            "dept_311<b>: Value"
           ],
           [
            "<b>Count</b>"
           ],
           [
            "<b>Percent</b>"
           ]
          ]
         },
         "type": "table",
         "uid": "69c8b3dc-dcd5-11e8-a91f-9cb6d0ed5078"
        }
       ],
       "layout": {}
      },
      "text/html": [
       "<div id=\"f372db8c-2e89-4d6e-8fa7-82f8116f06bb\" style=\"height: 525px; width: 100%;\" class=\"plotly-graph-div\"></div><script type=\"text/javascript\">require([\"plotly\"], function(Plotly) { window.PLOTLYENV=window.PLOTLYENV || {};window.PLOTLYENV.BASE_URL=\"https://plot.ly\";Plotly.newPlot(\"f372db8c-2e89-4d6e-8fa7-82f8116f06bb\", [{\"cells\": {\"align\": [\"left\", \"center\"], \"fill\": {\"color\": [\"#D3D4D9\", \"white\"]}, \"font\": {\"color\": \"#506784\", \"size\": 12}, \"height\": 30, \"line\": {\"color\": \"#506784\"}, \"values\": [[\"public services\", \"garbage\", \"cinc building dept\", \"cinc health dept\", \"health_environment\", \"recycling\", \"trash\", \"city manager's office\", \"general\", \"blighted properties\"], [325608, 120177, 72090, 66125, 48136, 42583, 36896, 24095, 23089, 21327], [0.362, 0.134, 0.08, 0.074, 0.054, 0.047, 0.041, 0.027, 0.026, 0.024]]}, \"columnorder\": [1, 2, 3], \"columnwidth\": [400, 80, 80], \"header\": {\"align\": [\"left\", \"center\"], \"fill\": {\"color\": \"#4B88A2\"}, \"font\": {\"color\": \"white\", \"size\": 12}, \"height\": 40, \"line\": {\"color\": \"#506784\"}, \"values\": [[\"dept_311<b>: Value\"], [\"<b>Count</b>\"], [\"<b>Percent</b>\"]]}, \"type\": \"table\", \"uid\": \"69cafc5c-dcd5-11e8-a419-9cb6d0ed5078\"}], {}, {\"showLink\": true, \"linkText\": \"Export to plot.ly\"})});</script>"
      ],
      "text/vnd.plotly.v1+html": [
       "<div id=\"f372db8c-2e89-4d6e-8fa7-82f8116f06bb\" style=\"height: 525px; width: 100%;\" class=\"plotly-graph-div\"></div><script type=\"text/javascript\">require([\"plotly\"], function(Plotly) { window.PLOTLYENV=window.PLOTLYENV || {};window.PLOTLYENV.BASE_URL=\"https://plot.ly\";Plotly.newPlot(\"f372db8c-2e89-4d6e-8fa7-82f8116f06bb\", [{\"cells\": {\"align\": [\"left\", \"center\"], \"fill\": {\"color\": [\"#D3D4D9\", \"white\"]}, \"font\": {\"color\": \"#506784\", \"size\": 12}, \"height\": 30, \"line\": {\"color\": \"#506784\"}, \"values\": [[\"public services\", \"garbage\", \"cinc building dept\", \"cinc health dept\", \"health_environment\", \"recycling\", \"trash\", \"city manager's office\", \"general\", \"blighted properties\"], [325608, 120177, 72090, 66125, 48136, 42583, 36896, 24095, 23089, 21327], [0.362, 0.134, 0.08, 0.074, 0.054, 0.047, 0.041, 0.027, 0.026, 0.024]]}, \"columnorder\": [1, 2, 3], \"columnwidth\": [400, 80, 80], \"header\": {\"align\": [\"left\", \"center\"], \"fill\": {\"color\": \"#4B88A2\"}, \"font\": {\"color\": \"white\", \"size\": 12}, \"height\": 40, \"line\": {\"color\": \"#506784\"}, \"values\": [[\"dept_311<b>: Value\"], [\"<b>Count</b>\"], [\"<b>Percent</b>\"]]}, \"type\": \"table\", \"uid\": \"69cafc5c-dcd5-11e8-a419-9cb6d0ed5078\"}], {}, {\"showLink\": true, \"linkText\": \"Export to plot.ly\"})});</script>"
      ]
     },
     "metadata": {},
     "output_type": "display_data"
    },
    {
     "data": {
      "application/vnd.plotly.v1+json": {
       "data": [
        {
         "orientation": "h",
         "type": "bar",
         "uid": "69cfdae8-dcd5-11e8-9b6c-9cb6d0ed5078",
         "x": [
          6766,
          8165,
          8172,
          10138,
          11916,
          16312,
          16783,
          17243,
          100640,
          141284
         ],
         "y": [
          "tree debris",
          "alley light out",
          "abandoned vehicle",
          "rodent baiting  rat complaint",
          "street light n  out",
          "duplicate",
          "pothole in street",
          "graffiti removal",
          "",
          "request entered through the web refer to intake questions for further description"
         ]
        }
       ],
       "layout": {
        "barmode": "stack",
        "margin": {
         "l": 150,
         "pad": 4
        }
       }
      },
      "text/html": [
       "<div id=\"380bab00-539c-4434-b892-63bf09b86074\" style=\"height: 525px; width: 100%;\" class=\"plotly-graph-div\"></div><script type=\"text/javascript\">require([\"plotly\"], function(Plotly) { window.PLOTLYENV=window.PLOTLYENV || {};window.PLOTLYENV.BASE_URL=\"https://plot.ly\";Plotly.newPlot(\"380bab00-539c-4434-b892-63bf09b86074\", [{\"orientation\": \"h\", \"x\": [6766, 8165, 8172, 10138, 11916, 16312, 16783, 17243, 100640, 141284], \"y\": [\"tree debris\", \"alley light out\", \"abandoned vehicle\", \"rodent baiting  rat complaint\", \"street light n  out\", \"duplicate\", \"pothole in street\", \"graffiti removal\", \"\", \"request entered through the web refer to intake questions for further description\"], \"type\": \"bar\", \"uid\": \"69cfdae8-dcd5-11e8-9b6c-9cb6d0ed5078\"}], {\"barmode\": \"stack\", \"margin\": {\"l\": 150, \"pad\": 4}}, {\"showLink\": true, \"linkText\": \"Export to plot.ly\"})});</script>"
      ],
      "text/vnd.plotly.v1+html": [
       "<div id=\"380bab00-539c-4434-b892-63bf09b86074\" style=\"height: 525px; width: 100%;\" class=\"plotly-graph-div\"></div><script type=\"text/javascript\">require([\"plotly\"], function(Plotly) { window.PLOTLYENV=window.PLOTLYENV || {};window.PLOTLYENV.BASE_URL=\"https://plot.ly\";Plotly.newPlot(\"380bab00-539c-4434-b892-63bf09b86074\", [{\"orientation\": \"h\", \"x\": [6766, 8165, 8172, 10138, 11916, 16312, 16783, 17243, 100640, 141284], \"y\": [\"tree debris\", \"alley light out\", \"abandoned vehicle\", \"rodent baiting  rat complaint\", \"street light n  out\", \"duplicate\", \"pothole in street\", \"graffiti removal\", \"\", \"request entered through the web refer to intake questions for further description\"], \"type\": \"bar\", \"uid\": \"69cfdae8-dcd5-11e8-9b6c-9cb6d0ed5078\"}], {\"barmode\": \"stack\", \"margin\": {\"l\": 150, \"pad\": 4}}, {\"showLink\": true, \"linkText\": \"Export to plot.ly\"})});</script>"
      ]
     },
     "metadata": {},
     "output_type": "display_data"
    },
    {
     "data": {
      "application/vnd.plotly.v1+json": {
       "data": [
        {
         "cells": {
          "align": [
           "left",
           "center"
          ],
          "fill": {
           "color": [
            "#D3D4D9",
            "white"
           ]
          },
          "font": {
           "color": "#506784",
           "size": 12
          },
          "height": 30,
          "line": {
           "color": "#506784"
          },
          "values": [
           [
            "metal furniture, spec collectn",
            "general",
            "tall grass/weeds, private prop",
            "trash, request for collection",
            "pothole, repair",
            "building, residential",
            "pothole",
            "missed woody waste service",
            "other",
            "damaged garbage cart"
           ],
           [
            159016,
            82269,
            34709,
            30881,
            30320,
            26511,
            24874,
            24734,
            23771,
            22806
           ],
           [
            0.126,
            0.065,
            0.027,
            0.024,
            0.024,
            0.021,
            0.02,
            0.02,
            0.019,
            0.018
           ]
          ]
         },
         "columnorder": [
          1,
          2,
          3
         ],
         "columnwidth": [
          400,
          80,
          80
         ],
         "header": {
          "align": [
           "left",
           "center"
          ],
          "fill": {
           "color": "#4B88A2"
          },
          "font": {
           "color": "white",
           "size": 12
          },
          "height": 40,
          "line": {
           "color": "#506784"
          },
          "values": [
           [
            "code_311<b>: Value"
           ],
           [
            "<b>Count</b>"
           ],
           [
            "<b>Percent</b>"
           ]
          ]
         },
         "type": "table",
         "uid": "69d27148-dcd5-11e8-b1b7-9cb6d0ed5078"
        }
       ],
       "layout": {}
      },
      "text/html": [
       "<div id=\"c34286db-b95f-4b51-82bc-7afda388b201\" style=\"height: 525px; width: 100%;\" class=\"plotly-graph-div\"></div><script type=\"text/javascript\">require([\"plotly\"], function(Plotly) { window.PLOTLYENV=window.PLOTLYENV || {};window.PLOTLYENV.BASE_URL=\"https://plot.ly\";Plotly.newPlot(\"c34286db-b95f-4b51-82bc-7afda388b201\", [{\"cells\": {\"align\": [\"left\", \"center\"], \"fill\": {\"color\": [\"#D3D4D9\", \"white\"]}, \"font\": {\"color\": \"#506784\", \"size\": 12}, \"height\": 30, \"line\": {\"color\": \"#506784\"}, \"values\": [[\"metal furniture, spec collectn\", \"general\", \"tall grass/weeds, private prop\", \"trash, request for collection\", \"pothole, repair\", \"building, residential\", \"pothole\", \"missed woody waste service\", \"other\", \"damaged garbage cart\"], [159016, 82269, 34709, 30881, 30320, 26511, 24874, 24734, 23771, 22806], [0.126, 0.065, 0.027, 0.024, 0.024, 0.021, 0.02, 0.02, 0.019, 0.018]]}, \"columnorder\": [1, 2, 3], \"columnwidth\": [400, 80, 80], \"header\": {\"align\": [\"left\", \"center\"], \"fill\": {\"color\": \"#4B88A2\"}, \"font\": {\"color\": \"white\", \"size\": 12}, \"height\": 40, \"line\": {\"color\": \"#506784\"}, \"values\": [[\"code_311<b>: Value\"], [\"<b>Count</b>\"], [\"<b>Percent</b>\"]]}, \"type\": \"table\", \"uid\": \"69d46bac-dcd5-11e8-b4a1-9cb6d0ed5078\"}], {}, {\"showLink\": true, \"linkText\": \"Export to plot.ly\"})});</script>"
      ],
      "text/vnd.plotly.v1+html": [
       "<div id=\"c34286db-b95f-4b51-82bc-7afda388b201\" style=\"height: 525px; width: 100%;\" class=\"plotly-graph-div\"></div><script type=\"text/javascript\">require([\"plotly\"], function(Plotly) { window.PLOTLYENV=window.PLOTLYENV || {};window.PLOTLYENV.BASE_URL=\"https://plot.ly\";Plotly.newPlot(\"c34286db-b95f-4b51-82bc-7afda388b201\", [{\"cells\": {\"align\": [\"left\", \"center\"], \"fill\": {\"color\": [\"#D3D4D9\", \"white\"]}, \"font\": {\"color\": \"#506784\", \"size\": 12}, \"height\": 30, \"line\": {\"color\": \"#506784\"}, \"values\": [[\"metal furniture, spec collectn\", \"general\", \"tall grass/weeds, private prop\", \"trash, request for collection\", \"pothole, repair\", \"building, residential\", \"pothole\", \"missed woody waste service\", \"other\", \"damaged garbage cart\"], [159016, 82269, 34709, 30881, 30320, 26511, 24874, 24734, 23771, 22806], [0.126, 0.065, 0.027, 0.024, 0.024, 0.021, 0.02, 0.02, 0.019, 0.018]]}, \"columnorder\": [1, 2, 3], \"columnwidth\": [400, 80, 80], \"header\": {\"align\": [\"left\", \"center\"], \"fill\": {\"color\": \"#4B88A2\"}, \"font\": {\"color\": \"white\", \"size\": 12}, \"height\": 40, \"line\": {\"color\": \"#506784\"}, \"values\": [[\"code_311<b>: Value\"], [\"<b>Count</b>\"], [\"<b>Percent</b>\"]]}, \"type\": \"table\", \"uid\": \"69d46bac-dcd5-11e8-b4a1-9cb6d0ed5078\"}], {}, {\"showLink\": true, \"linkText\": \"Export to plot.ly\"})});</script>"
      ]
     },
     "metadata": {},
     "output_type": "display_data"
    },
    {
     "data": {
      "application/vnd.plotly.v1+json": {
       "data": [
        {
         "orientation": "h",
         "type": "bar",
         "uid": "69d95e12-dcd5-11e8-a035-9cb6d0ed5078",
         "x": [
          6766,
          8165,
          8172,
          10138,
          11916,
          16312,
          16783,
          17243,
          100640,
          141284
         ],
         "y": [
          "tree debris",
          "alley light out",
          "abandoned vehicle",
          "rodent baiting  rat complaint",
          "street light n  out",
          "duplicate",
          "pothole in street",
          "graffiti removal",
          "",
          "request entered through the web refer to intake questions for further description"
         ]
        }
       ],
       "layout": {
        "barmode": "stack",
        "margin": {
         "l": 150,
         "pad": 4
        }
       }
      },
      "text/html": [
       "<div id=\"b00c7d11-00a4-48df-9400-b2a585fa0925\" style=\"height: 525px; width: 100%;\" class=\"plotly-graph-div\"></div><script type=\"text/javascript\">require([\"plotly\"], function(Plotly) { window.PLOTLYENV=window.PLOTLYENV || {};window.PLOTLYENV.BASE_URL=\"https://plot.ly\";Plotly.newPlot(\"b00c7d11-00a4-48df-9400-b2a585fa0925\", [{\"orientation\": \"h\", \"x\": [6766, 8165, 8172, 10138, 11916, 16312, 16783, 17243, 100640, 141284], \"y\": [\"tree debris\", \"alley light out\", \"abandoned vehicle\", \"rodent baiting  rat complaint\", \"street light n  out\", \"duplicate\", \"pothole in street\", \"graffiti removal\", \"\", \"request entered through the web refer to intake questions for further description\"], \"type\": \"bar\", \"uid\": \"69d95e12-dcd5-11e8-a035-9cb6d0ed5078\"}], {\"barmode\": \"stack\", \"margin\": {\"l\": 150, \"pad\": 4}}, {\"showLink\": true, \"linkText\": \"Export to plot.ly\"})});</script>"
      ],
      "text/vnd.plotly.v1+html": [
       "<div id=\"b00c7d11-00a4-48df-9400-b2a585fa0925\" style=\"height: 525px; width: 100%;\" class=\"plotly-graph-div\"></div><script type=\"text/javascript\">require([\"plotly\"], function(Plotly) { window.PLOTLYENV=window.PLOTLYENV || {};window.PLOTLYENV.BASE_URL=\"https://plot.ly\";Plotly.newPlot(\"b00c7d11-00a4-48df-9400-b2a585fa0925\", [{\"orientation\": \"h\", \"x\": [6766, 8165, 8172, 10138, 11916, 16312, 16783, 17243, 100640, 141284], \"y\": [\"tree debris\", \"alley light out\", \"abandoned vehicle\", \"rodent baiting  rat complaint\", \"street light n  out\", \"duplicate\", \"pothole in street\", \"graffiti removal\", \"\", \"request entered through the web refer to intake questions for further description\"], \"type\": \"bar\", \"uid\": \"69d95e12-dcd5-11e8-a035-9cb6d0ed5078\"}], {\"barmode\": \"stack\", \"margin\": {\"l\": 150, \"pad\": 4}}, {\"showLink\": true, \"linkText\": \"Export to plot.ly\"})});</script>"
      ]
     },
     "metadata": {},
     "output_type": "display_data"
    },
    {
     "data": {
      "application/vnd.plotly.v1+json": {
       "data": [
        {
         "cells": {
          "align": [
           "left",
           "center"
          ],
          "fill": {
           "color": [
            "#D3D4D9",
            "white"
           ]
          },
          "font": {
           "color": "#506784",
           "size": 12
          },
          "height": 30,
          "line": {
           "color": "#506784"
          },
          "values": [
           [
            "environment",
            "street",
            "housing",
            "governance",
            "vandalism",
            "planning",
            "infrastructure",
            "public_health",
            "public_order",
            "fire"
           ],
           [
            705065,
            242168,
            66140,
            55826,
            48816,
            44635,
            41884,
            27619,
            17494,
            14431
           ],
           [
            0.558,
            0.192,
            0.052,
            0.044,
            0.039,
            0.035,
            0.033,
            0.022,
            0.014,
            0.011
           ]
          ]
         },
         "columnorder": [
          1,
          2,
          3
         ],
         "columnwidth": [
          400,
          80,
          80
         ],
         "header": {
          "align": [
           "left",
           "center"
          ],
          "fill": {
           "color": "#4B88A2"
          },
          "font": {
           "color": "white",
           "size": 12
          },
          "height": 40,
          "line": {
           "color": "#506784"
          },
          "values": [
           [
            "category_main<b>: Value"
           ],
           [
            "<b>Count</b>"
           ],
           [
            "<b>Percent</b>"
           ]
          ]
         },
         "type": "table",
         "uid": "69dbf468-dcd5-11e8-972b-9cb6d0ed5078"
        }
       ],
       "layout": {}
      },
      "text/html": [
       "<div id=\"6559e7c7-b734-42f5-b9a2-d0ca3fc1fb27\" style=\"height: 525px; width: 100%;\" class=\"plotly-graph-div\"></div><script type=\"text/javascript\">require([\"plotly\"], function(Plotly) { window.PLOTLYENV=window.PLOTLYENV || {};window.PLOTLYENV.BASE_URL=\"https://plot.ly\";Plotly.newPlot(\"6559e7c7-b734-42f5-b9a2-d0ca3fc1fb27\", [{\"cells\": {\"align\": [\"left\", \"center\"], \"fill\": {\"color\": [\"#D3D4D9\", \"white\"]}, \"font\": {\"color\": \"#506784\", \"size\": 12}, \"height\": 30, \"line\": {\"color\": \"#506784\"}, \"values\": [[\"environment\", \"street\", \"housing\", \"governance\", \"vandalism\", \"planning\", \"infrastructure\", \"public_health\", \"public_order\", \"fire\"], [705065, 242168, 66140, 55826, 48816, 44635, 41884, 27619, 17494, 14431], [0.558, 0.192, 0.052, 0.044, 0.039, 0.035, 0.033, 0.022, 0.014, 0.011]]}, \"columnorder\": [1, 2, 3], \"columnwidth\": [400, 80, 80], \"header\": {\"align\": [\"left\", \"center\"], \"fill\": {\"color\": \"#4B88A2\"}, \"font\": {\"color\": \"white\", \"size\": 12}, \"height\": 40, \"line\": {\"color\": \"#506784\"}, \"values\": [[\"category_main<b>: Value\"], [\"<b>Count</b>\"], [\"<b>Percent</b>\"]]}, \"type\": \"table\", \"uid\": \"69de3e0c-dcd5-11e8-99d8-9cb6d0ed5078\"}], {}, {\"showLink\": true, \"linkText\": \"Export to plot.ly\"})});</script>"
      ],
      "text/vnd.plotly.v1+html": [
       "<div id=\"6559e7c7-b734-42f5-b9a2-d0ca3fc1fb27\" style=\"height: 525px; width: 100%;\" class=\"plotly-graph-div\"></div><script type=\"text/javascript\">require([\"plotly\"], function(Plotly) { window.PLOTLYENV=window.PLOTLYENV || {};window.PLOTLYENV.BASE_URL=\"https://plot.ly\";Plotly.newPlot(\"6559e7c7-b734-42f5-b9a2-d0ca3fc1fb27\", [{\"cells\": {\"align\": [\"left\", \"center\"], \"fill\": {\"color\": [\"#D3D4D9\", \"white\"]}, \"font\": {\"color\": \"#506784\", \"size\": 12}, \"height\": 30, \"line\": {\"color\": \"#506784\"}, \"values\": [[\"environment\", \"street\", \"housing\", \"governance\", \"vandalism\", \"planning\", \"infrastructure\", \"public_health\", \"public_order\", \"fire\"], [705065, 242168, 66140, 55826, 48816, 44635, 41884, 27619, 17494, 14431], [0.558, 0.192, 0.052, 0.044, 0.039, 0.035, 0.033, 0.022, 0.014, 0.011]]}, \"columnorder\": [1, 2, 3], \"columnwidth\": [400, 80, 80], \"header\": {\"align\": [\"left\", \"center\"], \"fill\": {\"color\": \"#4B88A2\"}, \"font\": {\"color\": \"white\", \"size\": 12}, \"height\": 40, \"line\": {\"color\": \"#506784\"}, \"values\": [[\"category_main<b>: Value\"], [\"<b>Count</b>\"], [\"<b>Percent</b>\"]]}, \"type\": \"table\", \"uid\": \"69de3e0c-dcd5-11e8-99d8-9cb6d0ed5078\"}], {}, {\"showLink\": true, \"linkText\": \"Export to plot.ly\"})});</script>"
      ]
     },
     "metadata": {},
     "output_type": "display_data"
    },
    {
     "data": {
      "application/vnd.plotly.v1+json": {
       "data": [
        {
         "orientation": "h",
         "type": "bar",
         "uid": "69e280ac-dcd5-11e8-810b-9cb6d0ed5078",
         "x": [
          6766,
          8165,
          8172,
          10138,
          11916,
          16312,
          16783,
          17243,
          100640,
          141284
         ],
         "y": [
          "tree debris",
          "alley light out",
          "abandoned vehicle",
          "rodent baiting  rat complaint",
          "street light n  out",
          "duplicate",
          "pothole in street",
          "graffiti removal",
          "",
          "request entered through the web refer to intake questions for further description"
         ]
        }
       ],
       "layout": {
        "barmode": "stack",
        "margin": {
         "l": 150,
         "pad": 4
        }
       }
      },
      "text/html": [
       "<div id=\"7a5540fc-4c86-41aa-845f-6b7f707b71f8\" style=\"height: 525px; width: 100%;\" class=\"plotly-graph-div\"></div><script type=\"text/javascript\">require([\"plotly\"], function(Plotly) { window.PLOTLYENV=window.PLOTLYENV || {};window.PLOTLYENV.BASE_URL=\"https://plot.ly\";Plotly.newPlot(\"7a5540fc-4c86-41aa-845f-6b7f707b71f8\", [{\"orientation\": \"h\", \"x\": [6766, 8165, 8172, 10138, 11916, 16312, 16783, 17243, 100640, 141284], \"y\": [\"tree debris\", \"alley light out\", \"abandoned vehicle\", \"rodent baiting  rat complaint\", \"street light n  out\", \"duplicate\", \"pothole in street\", \"graffiti removal\", \"\", \"request entered through the web refer to intake questions for further description\"], \"type\": \"bar\", \"uid\": \"69e280ac-dcd5-11e8-810b-9cb6d0ed5078\"}], {\"barmode\": \"stack\", \"margin\": {\"l\": 150, \"pad\": 4}}, {\"showLink\": true, \"linkText\": \"Export to plot.ly\"})});</script>"
      ],
      "text/vnd.plotly.v1+html": [
       "<div id=\"7a5540fc-4c86-41aa-845f-6b7f707b71f8\" style=\"height: 525px; width: 100%;\" class=\"plotly-graph-div\"></div><script type=\"text/javascript\">require([\"plotly\"], function(Plotly) { window.PLOTLYENV=window.PLOTLYENV || {};window.PLOTLYENV.BASE_URL=\"https://plot.ly\";Plotly.newPlot(\"7a5540fc-4c86-41aa-845f-6b7f707b71f8\", [{\"orientation\": \"h\", \"x\": [6766, 8165, 8172, 10138, 11916, 16312, 16783, 17243, 100640, 141284], \"y\": [\"tree debris\", \"alley light out\", \"abandoned vehicle\", \"rodent baiting  rat complaint\", \"street light n  out\", \"duplicate\", \"pothole in street\", \"graffiti removal\", \"\", \"request entered through the web refer to intake questions for further description\"], \"type\": \"bar\", \"uid\": \"69e280ac-dcd5-11e8-810b-9cb6d0ed5078\"}], {\"barmode\": \"stack\", \"margin\": {\"l\": 150, \"pad\": 4}}, {\"showLink\": true, \"linkText\": \"Export to plot.ly\"})});</script>"
      ]
     },
     "metadata": {},
     "output_type": "display_data"
    },
    {
     "data": {
      "application/vnd.plotly.v1+json": {
       "data": [
        {
         "cells": {
          "align": [
           "left",
           "center"
          ],
          "fill": {
           "color": [
            "#D3D4D9",
            "white"
           ]
          },
          "font": {
           "color": "#506784",
           "size": 12
          },
          "height": 30,
          "line": {
           "color": "#506784"
          },
          "values": [
           [
            "environment_garbage_collection",
            "street_repair",
            "environment_overgrowth",
            "environment_recycling",
            "housing_general",
            "vandalism_graffiti",
            "street_lighting",
            "environment_dumping",
            "governance_general",
            "environment_abandoned_vehicle"
           ],
           [
            394120,
            108902,
            100485,
            67539,
            48694,
            48362,
            46899,
            42184,
            37647,
            33290
           ],
           [
            0.312,
            0.086,
            0.079,
            0.053,
            0.039,
            0.038,
            0.037,
            0.033,
            0.03,
            0.026
           ]
          ]
         },
         "columnorder": [
          1,
          2,
          3
         ],
         "columnwidth": [
          400,
          80,
          80
         ],
         "header": {
          "align": [
           "left",
           "center"
          ],
          "fill": {
           "color": "#4B88A2"
          },
          "font": {
           "color": "white",
           "size": 12
          },
          "height": 40,
          "line": {
           "color": "#506784"
          },
          "values": [
           [
            "category_sub<b>: Value"
           ],
           [
            "<b>Count</b>"
           ],
           [
            "<b>Percent</b>"
           ]
          ]
         },
         "type": "table",
         "uid": "69ec722e-dcd5-11e8-b865-9cb6d0ed5078"
        }
       ],
       "layout": {}
      },
      "text/html": [
       "<div id=\"048a6aee-9855-4ccd-96c9-e744850a6a22\" style=\"height: 525px; width: 100%;\" class=\"plotly-graph-div\"></div><script type=\"text/javascript\">require([\"plotly\"], function(Plotly) { window.PLOTLYENV=window.PLOTLYENV || {};window.PLOTLYENV.BASE_URL=\"https://plot.ly\";Plotly.newPlot(\"048a6aee-9855-4ccd-96c9-e744850a6a22\", [{\"cells\": {\"align\": [\"left\", \"center\"], \"fill\": {\"color\": [\"#D3D4D9\", \"white\"]}, \"font\": {\"color\": \"#506784\", \"size\": 12}, \"height\": 30, \"line\": {\"color\": \"#506784\"}, \"values\": [[\"environment_garbage_collection\", \"street_repair\", \"environment_overgrowth\", \"environment_recycling\", \"housing_general\", \"vandalism_graffiti\", \"street_lighting\", \"environment_dumping\", \"governance_general\", \"environment_abandoned_vehicle\"], [394120, 108902, 100485, 67539, 48694, 48362, 46899, 42184, 37647, 33290], [0.312, 0.086, 0.079, 0.053, 0.039, 0.038, 0.037, 0.033, 0.03, 0.026]]}, \"columnorder\": [1, 2, 3], \"columnwidth\": [400, 80, 80], \"header\": {\"align\": [\"left\", \"center\"], \"fill\": {\"color\": \"#4B88A2\"}, \"font\": {\"color\": \"white\", \"size\": 12}, \"height\": 40, \"line\": {\"color\": \"#506784\"}, \"values\": [[\"category_sub<b>: Value\"], [\"<b>Count</b>\"], [\"<b>Percent</b>\"]]}, \"type\": \"table\", \"uid\": \"69ee4678-dcd5-11e8-9a44-9cb6d0ed5078\"}], {}, {\"showLink\": true, \"linkText\": \"Export to plot.ly\"})});</script>"
      ],
      "text/vnd.plotly.v1+html": [
       "<div id=\"048a6aee-9855-4ccd-96c9-e744850a6a22\" style=\"height: 525px; width: 100%;\" class=\"plotly-graph-div\"></div><script type=\"text/javascript\">require([\"plotly\"], function(Plotly) { window.PLOTLYENV=window.PLOTLYENV || {};window.PLOTLYENV.BASE_URL=\"https://plot.ly\";Plotly.newPlot(\"048a6aee-9855-4ccd-96c9-e744850a6a22\", [{\"cells\": {\"align\": [\"left\", \"center\"], \"fill\": {\"color\": [\"#D3D4D9\", \"white\"]}, \"font\": {\"color\": \"#506784\", \"size\": 12}, \"height\": 30, \"line\": {\"color\": \"#506784\"}, \"values\": [[\"environment_garbage_collection\", \"street_repair\", \"environment_overgrowth\", \"environment_recycling\", \"housing_general\", \"vandalism_graffiti\", \"street_lighting\", \"environment_dumping\", \"governance_general\", \"environment_abandoned_vehicle\"], [394120, 108902, 100485, 67539, 48694, 48362, 46899, 42184, 37647, 33290], [0.312, 0.086, 0.079, 0.053, 0.039, 0.038, 0.037, 0.033, 0.03, 0.026]]}, \"columnorder\": [1, 2, 3], \"columnwidth\": [400, 80, 80], \"header\": {\"align\": [\"left\", \"center\"], \"fill\": {\"color\": \"#4B88A2\"}, \"font\": {\"color\": \"white\", \"size\": 12}, \"height\": 40, \"line\": {\"color\": \"#506784\"}, \"values\": [[\"category_sub<b>: Value\"], [\"<b>Count</b>\"], [\"<b>Percent</b>\"]]}, \"type\": \"table\", \"uid\": \"69ee4678-dcd5-11e8-9a44-9cb6d0ed5078\"}], {}, {\"showLink\": true, \"linkText\": \"Export to plot.ly\"})});</script>"
      ]
     },
     "metadata": {},
     "output_type": "display_data"
    },
    {
     "data": {
      "application/vnd.plotly.v1+json": {
       "data": [
        {
         "orientation": "h",
         "type": "bar",
         "uid": "69f28a0a-dcd5-11e8-bd79-9cb6d0ed5078",
         "x": [
          6766,
          8165,
          8172,
          10138,
          11916,
          16312,
          16783,
          17243,
          100640,
          141284
         ],
         "y": [
          "tree debris",
          "alley light out",
          "abandoned vehicle",
          "rodent baiting  rat complaint",
          "street light n  out",
          "duplicate",
          "pothole in street",
          "graffiti removal",
          "",
          "request entered through the web refer to intake questions for further description"
         ]
        }
       ],
       "layout": {
        "barmode": "stack",
        "margin": {
         "l": 150,
         "pad": 4
        }
       }
      },
      "text/html": [
       "<div id=\"8fe52a4e-a048-4322-b3b9-063b78953dba\" style=\"height: 525px; width: 100%;\" class=\"plotly-graph-div\"></div><script type=\"text/javascript\">require([\"plotly\"], function(Plotly) { window.PLOTLYENV=window.PLOTLYENV || {};window.PLOTLYENV.BASE_URL=\"https://plot.ly\";Plotly.newPlot(\"8fe52a4e-a048-4322-b3b9-063b78953dba\", [{\"orientation\": \"h\", \"x\": [6766, 8165, 8172, 10138, 11916, 16312, 16783, 17243, 100640, 141284], \"y\": [\"tree debris\", \"alley light out\", \"abandoned vehicle\", \"rodent baiting  rat complaint\", \"street light n  out\", \"duplicate\", \"pothole in street\", \"graffiti removal\", \"\", \"request entered through the web refer to intake questions for further description\"], \"type\": \"bar\", \"uid\": \"69f28a0a-dcd5-11e8-bd79-9cb6d0ed5078\"}], {\"barmode\": \"stack\", \"margin\": {\"l\": 150, \"pad\": 4}}, {\"showLink\": true, \"linkText\": \"Export to plot.ly\"})});</script>"
      ],
      "text/vnd.plotly.v1+html": [
       "<div id=\"8fe52a4e-a048-4322-b3b9-063b78953dba\" style=\"height: 525px; width: 100%;\" class=\"plotly-graph-div\"></div><script type=\"text/javascript\">require([\"plotly\"], function(Plotly) { window.PLOTLYENV=window.PLOTLYENV || {};window.PLOTLYENV.BASE_URL=\"https://plot.ly\";Plotly.newPlot(\"8fe52a4e-a048-4322-b3b9-063b78953dba\", [{\"orientation\": \"h\", \"x\": [6766, 8165, 8172, 10138, 11916, 16312, 16783, 17243, 100640, 141284], \"y\": [\"tree debris\", \"alley light out\", \"abandoned vehicle\", \"rodent baiting  rat complaint\", \"street light n  out\", \"duplicate\", \"pothole in street\", \"graffiti removal\", \"\", \"request entered through the web refer to intake questions for further description\"], \"type\": \"bar\", \"uid\": \"69f28a0a-dcd5-11e8-bd79-9cb6d0ed5078\"}], {\"barmode\": \"stack\", \"margin\": {\"l\": 150, \"pad\": 4}}, {\"showLink\": true, \"linkText\": \"Export to plot.ly\"})});</script>"
      ]
     },
     "metadata": {},
     "output_type": "display_data"
    },
    {
     "data": {
      "application/vnd.plotly.v1+json": {
       "data": [
        {
         "cells": {
          "align": [
           "left",
           "center"
          ],
          "fill": {
           "color": [
            "#D3D4D9",
            "white"
           ]
          },
          "font": {
           "color": "#506784",
           "size": 12
          },
          "height": 30,
          "line": {
           "color": "#506784"
          },
          "values": [
           [
            "\"Request entered through the Web. Refer to Intake Questions for further description.\"",
            "\" \"",
            "Pothole in Street",
            "Graffiti Removal",
            "Street Light 1 / Out",
            "Other",
            "Illegal Dumping",
            "Pothole",
            "Building Violation",
            "Abandoned Vehicle"
           ],
           [
            141283,
            100387,
            22500,
            20587,
            15928,
            14196,
            13240,
            13090,
            12501,
            12173
           ],
           [
            0.112,
            0.079,
            0.018,
            0.016,
            0.013,
            0.011,
            0.01,
            0.01,
            0.01,
            0.01
           ]
          ]
         },
         "columnorder": [
          1,
          2,
          3
         ],
         "columnwidth": [
          400,
          80,
          80
         ],
         "header": {
          "align": [
           "left",
           "center"
          ],
          "fill": {
           "color": "#4B88A2"
          },
          "font": {
           "color": "white",
           "size": 12
          },
          "height": 40,
          "line": {
           "color": "#506784"
          },
          "values": [
           [
            "complaint_1<b>: Value"
           ],
           [
            "<b>Count</b>"
           ],
           [
            "<b>Percent</b>"
           ]
          ]
         },
         "type": "table",
         "uid": "69f56c8a-dcd5-11e8-9248-9cb6d0ed5078"
        }
       ],
       "layout": {}
      },
      "text/html": [
       "<div id=\"88ddf565-04a3-410b-a554-f3858270152d\" style=\"height: 525px; width: 100%;\" class=\"plotly-graph-div\"></div><script type=\"text/javascript\">require([\"plotly\"], function(Plotly) { window.PLOTLYENV=window.PLOTLYENV || {};window.PLOTLYENV.BASE_URL=\"https://plot.ly\";Plotly.newPlot(\"88ddf565-04a3-410b-a554-f3858270152d\", [{\"cells\": {\"align\": [\"left\", \"center\"], \"fill\": {\"color\": [\"#D3D4D9\", \"white\"]}, \"font\": {\"color\": \"#506784\", \"size\": 12}, \"height\": 30, \"line\": {\"color\": \"#506784\"}, \"values\": [[\"\\\"Request entered through the Web. Refer to Intake Questions for further description.\\\"\", \"\\\" \\\"\", \"Pothole in Street\", \"Graffiti Removal\", \"Street Light 1 / Out\", \"Other\", \"Illegal Dumping\", \"Pothole\", \"Building Violation\", \"Abandoned Vehicle\"], [141283, 100387, 22500, 20587, 15928, 14196, 13240, 13090, 12501, 12173], [0.112, 0.079, 0.018, 0.016, 0.013, 0.011, 0.01, 0.01, 0.01, 0.01]]}, \"columnorder\": [1, 2, 3], \"columnwidth\": [400, 80, 80], \"header\": {\"align\": [\"left\", \"center\"], \"fill\": {\"color\": \"#4B88A2\"}, \"font\": {\"color\": \"white\", \"size\": 12}, \"height\": 40, \"line\": {\"color\": \"#506784\"}, \"values\": [[\"complaint_1<b>: Value\"], [\"<b>Count</b>\"], [\"<b>Percent</b>\"]]}, \"type\": \"table\", \"uid\": \"69f766fa-dcd5-11e8-82be-9cb6d0ed5078\"}], {}, {\"showLink\": true, \"linkText\": \"Export to plot.ly\"})});</script>"
      ],
      "text/vnd.plotly.v1+html": [
       "<div id=\"88ddf565-04a3-410b-a554-f3858270152d\" style=\"height: 525px; width: 100%;\" class=\"plotly-graph-div\"></div><script type=\"text/javascript\">require([\"plotly\"], function(Plotly) { window.PLOTLYENV=window.PLOTLYENV || {};window.PLOTLYENV.BASE_URL=\"https://plot.ly\";Plotly.newPlot(\"88ddf565-04a3-410b-a554-f3858270152d\", [{\"cells\": {\"align\": [\"left\", \"center\"], \"fill\": {\"color\": [\"#D3D4D9\", \"white\"]}, \"font\": {\"color\": \"#506784\", \"size\": 12}, \"height\": 30, \"line\": {\"color\": \"#506784\"}, \"values\": [[\"\\\"Request entered through the Web. Refer to Intake Questions for further description.\\\"\", \"\\\" \\\"\", \"Pothole in Street\", \"Graffiti Removal\", \"Street Light 1 / Out\", \"Other\", \"Illegal Dumping\", \"Pothole\", \"Building Violation\", \"Abandoned Vehicle\"], [141283, 100387, 22500, 20587, 15928, 14196, 13240, 13090, 12501, 12173], [0.112, 0.079, 0.018, 0.016, 0.013, 0.011, 0.01, 0.01, 0.01, 0.01]]}, \"columnorder\": [1, 2, 3], \"columnwidth\": [400, 80, 80], \"header\": {\"align\": [\"left\", \"center\"], \"fill\": {\"color\": \"#4B88A2\"}, \"font\": {\"color\": \"white\", \"size\": 12}, \"height\": 40, \"line\": {\"color\": \"#506784\"}, \"values\": [[\"complaint_1<b>: Value\"], [\"<b>Count</b>\"], [\"<b>Percent</b>\"]]}, \"type\": \"table\", \"uid\": \"69f766fa-dcd5-11e8-82be-9cb6d0ed5078\"}], {}, {\"showLink\": true, \"linkText\": \"Export to plot.ly\"})});</script>"
      ]
     },
     "metadata": {},
     "output_type": "display_data"
    },
    {
     "data": {
      "application/vnd.plotly.v1+json": {
       "data": [
        {
         "orientation": "h",
         "type": "bar",
         "uid": "69fbbd98-dcd5-11e8-8046-9cb6d0ed5078",
         "x": [
          6766,
          8165,
          8172,
          10138,
          11916,
          16312,
          16783,
          17243,
          100640,
          141284
         ],
         "y": [
          "tree debris",
          "alley light out",
          "abandoned vehicle",
          "rodent baiting  rat complaint",
          "street light n  out",
          "duplicate",
          "pothole in street",
          "graffiti removal",
          "",
          "request entered through the web refer to intake questions for further description"
         ]
        }
       ],
       "layout": {
        "barmode": "stack",
        "margin": {
         "l": 150,
         "pad": 4
        }
       }
      },
      "text/html": [
       "<div id=\"fb6f3a1e-b330-4823-a07b-b3d4ba95233d\" style=\"height: 525px; width: 100%;\" class=\"plotly-graph-div\"></div><script type=\"text/javascript\">require([\"plotly\"], function(Plotly) { window.PLOTLYENV=window.PLOTLYENV || {};window.PLOTLYENV.BASE_URL=\"https://plot.ly\";Plotly.newPlot(\"fb6f3a1e-b330-4823-a07b-b3d4ba95233d\", [{\"orientation\": \"h\", \"x\": [6766, 8165, 8172, 10138, 11916, 16312, 16783, 17243, 100640, 141284], \"y\": [\"tree debris\", \"alley light out\", \"abandoned vehicle\", \"rodent baiting  rat complaint\", \"street light n  out\", \"duplicate\", \"pothole in street\", \"graffiti removal\", \"\", \"request entered through the web refer to intake questions for further description\"], \"type\": \"bar\", \"uid\": \"69fbbd98-dcd5-11e8-8046-9cb6d0ed5078\"}], {\"barmode\": \"stack\", \"margin\": {\"l\": 150, \"pad\": 4}}, {\"showLink\": true, \"linkText\": \"Export to plot.ly\"})});</script>"
      ],
      "text/vnd.plotly.v1+html": [
       "<div id=\"fb6f3a1e-b330-4823-a07b-b3d4ba95233d\" style=\"height: 525px; width: 100%;\" class=\"plotly-graph-div\"></div><script type=\"text/javascript\">require([\"plotly\"], function(Plotly) { window.PLOTLYENV=window.PLOTLYENV || {};window.PLOTLYENV.BASE_URL=\"https://plot.ly\";Plotly.newPlot(\"fb6f3a1e-b330-4823-a07b-b3d4ba95233d\", [{\"orientation\": \"h\", \"x\": [6766, 8165, 8172, 10138, 11916, 16312, 16783, 17243, 100640, 141284], \"y\": [\"tree debris\", \"alley light out\", \"abandoned vehicle\", \"rodent baiting  rat complaint\", \"street light n  out\", \"duplicate\", \"pothole in street\", \"graffiti removal\", \"\", \"request entered through the web refer to intake questions for further description\"], \"type\": \"bar\", \"uid\": \"69fbbd98-dcd5-11e8-8046-9cb6d0ed5078\"}], {\"barmode\": \"stack\", \"margin\": {\"l\": 150, \"pad\": 4}}, {\"showLink\": true, \"linkText\": \"Export to plot.ly\"})});</script>"
      ]
     },
     "metadata": {},
     "output_type": "display_data"
    },
    {
     "data": {
      "application/vnd.plotly.v1+json": {
       "data": [
        {
         "cells": {
          "align": [
           "left",
           "center"
          ],
          "fill": {
           "color": [
            "#D3D4D9",
            "white"
           ]
          },
          "font": {
           "color": "#506784",
           "size": 12
          },
          "height": 30,
          "line": {
           "color": "#506784"
          },
          "values": [
           [
            "MORE INFORMATION MAY BE AVAILABLE IN THE CDPH ENVIRONMENTAL INSPECTIONS DATASET",
            "Duplicate",
            "This issue was reported to the City of Oakland Public Works Department via phone (510-615-5566) email (pwacallcenter@oaklandnet.com) or web (www.oaklandpw.com).",
            "This issue was reported to the City of Oakland Call Center via phone (510-615-5566) email (callcenter@oaklandnet.com) or web (www.oaklandpw.com).",
            "This issue was reported to the City of Oakland Public Works Agency via phone (510-615-5566) email (pwacallcenter@oaklandnet.com) or web (www.oaklandpw.com).",
            "Locked",
            "Assigned to Traffic Signal Repairman",
            "This issue was reported to OAK 311 via phone (311 or 510-615-5566 from outside Oakland) email (OAK311@oaklandnet.com) or web (311.oaklandca.gov).",
            "Emergency Resolved -Traffic Truck Non Emergency Transfer Outcome",
            "Work In Progress"
           ],
           [
            40197,
            16311,
            5027,
            4613,
            4472,
            4404,
            1358,
            1118,
            1051,
            588
           ],
           [
            0.128,
            0.052,
            0.016,
            0.015,
            0.014,
            0.014,
            0.004,
            0.004,
            0.003,
            0.002
           ]
          ]
         },
         "columnorder": [
          1,
          2,
          3
         ],
         "columnwidth": [
          400,
          80,
          80
         ],
         "header": {
          "align": [
           "left",
           "center"
          ],
          "fill": {
           "color": "#4B88A2"
          },
          "font": {
           "color": "white",
           "size": 12
          },
          "height": 40,
          "line": {
           "color": "#506784"
          },
          "values": [
           [
            "complaint_2<b>: Value"
           ],
           [
            "<b>Count</b>"
           ],
           [
            "<b>Percent</b>"
           ]
          ]
         },
         "type": "table",
         "uid": "69fe0602-dcd5-11e8-8209-9cb6d0ed5078"
        }
       ],
       "layout": {}
      },
      "text/html": [
       "<div id=\"0393fafa-e0b3-4a93-8f2b-ede93b4af881\" style=\"height: 525px; width: 100%;\" class=\"plotly-graph-div\"></div><script type=\"text/javascript\">require([\"plotly\"], function(Plotly) { window.PLOTLYENV=window.PLOTLYENV || {};window.PLOTLYENV.BASE_URL=\"https://plot.ly\";Plotly.newPlot(\"0393fafa-e0b3-4a93-8f2b-ede93b4af881\", [{\"cells\": {\"align\": [\"left\", \"center\"], \"fill\": {\"color\": [\"#D3D4D9\", \"white\"]}, \"font\": {\"color\": \"#506784\", \"size\": 12}, \"height\": 30, \"line\": {\"color\": \"#506784\"}, \"values\": [[\"MORE INFORMATION MAY BE AVAILABLE IN THE CDPH ENVIRONMENTAL INSPECTIONS DATASET\", \"Duplicate\", \"This issue was reported to the City of Oakland Public Works Department via phone (510-615-5566) email (pwacallcenter@oaklandnet.com) or web (www.oaklandpw.com).\", \"This issue was reported to the City of Oakland Call Center via phone (510-615-5566) email (callcenter@oaklandnet.com) or web (www.oaklandpw.com).\", \"This issue was reported to the City of Oakland Public Works Agency via phone (510-615-5566) email (pwacallcenter@oaklandnet.com) or web (www.oaklandpw.com).\", \"Locked\", \"Assigned to Traffic Signal Repairman\", \"This issue was reported to OAK 311 via phone (311 or 510-615-5566 from outside Oakland) email (OAK311@oaklandnet.com) or web (311.oaklandca.gov).\", \"Emergency Resolved -Traffic Truck Non Emergency Transfer Outcome\", \"Work In Progress\"], [40197, 16311, 5027, 4613, 4472, 4404, 1358, 1118, 1051, 588], [0.128, 0.052, 0.016, 0.015, 0.014, 0.014, 0.004, 0.004, 0.003, 0.002]]}, \"columnorder\": [1, 2, 3], \"columnwidth\": [400, 80, 80], \"header\": {\"align\": [\"left\", \"center\"], \"fill\": {\"color\": \"#4B88A2\"}, \"font\": {\"color\": \"white\", \"size\": 12}, \"height\": 40, \"line\": {\"color\": \"#506784\"}, \"values\": [[\"complaint_2<b>: Value\"], [\"<b>Count</b>\"], [\"<b>Percent</b>\"]]}, \"type\": \"table\", \"uid\": \"6a00276e-dcd5-11e8-856a-9cb6d0ed5078\"}], {}, {\"showLink\": true, \"linkText\": \"Export to plot.ly\"})});</script>"
      ],
      "text/vnd.plotly.v1+html": [
       "<div id=\"0393fafa-e0b3-4a93-8f2b-ede93b4af881\" style=\"height: 525px; width: 100%;\" class=\"plotly-graph-div\"></div><script type=\"text/javascript\">require([\"plotly\"], function(Plotly) { window.PLOTLYENV=window.PLOTLYENV || {};window.PLOTLYENV.BASE_URL=\"https://plot.ly\";Plotly.newPlot(\"0393fafa-e0b3-4a93-8f2b-ede93b4af881\", [{\"cells\": {\"align\": [\"left\", \"center\"], \"fill\": {\"color\": [\"#D3D4D9\", \"white\"]}, \"font\": {\"color\": \"#506784\", \"size\": 12}, \"height\": 30, \"line\": {\"color\": \"#506784\"}, \"values\": [[\"MORE INFORMATION MAY BE AVAILABLE IN THE CDPH ENVIRONMENTAL INSPECTIONS DATASET\", \"Duplicate\", \"This issue was reported to the City of Oakland Public Works Department via phone (510-615-5566) email (pwacallcenter@oaklandnet.com) or web (www.oaklandpw.com).\", \"This issue was reported to the City of Oakland Call Center via phone (510-615-5566) email (callcenter@oaklandnet.com) or web (www.oaklandpw.com).\", \"This issue was reported to the City of Oakland Public Works Agency via phone (510-615-5566) email (pwacallcenter@oaklandnet.com) or web (www.oaklandpw.com).\", \"Locked\", \"Assigned to Traffic Signal Repairman\", \"This issue was reported to OAK 311 via phone (311 or 510-615-5566 from outside Oakland) email (OAK311@oaklandnet.com) or web (311.oaklandca.gov).\", \"Emergency Resolved -Traffic Truck Non Emergency Transfer Outcome\", \"Work In Progress\"], [40197, 16311, 5027, 4613, 4472, 4404, 1358, 1118, 1051, 588], [0.128, 0.052, 0.016, 0.015, 0.014, 0.014, 0.004, 0.004, 0.003, 0.002]]}, \"columnorder\": [1, 2, 3], \"columnwidth\": [400, 80, 80], \"header\": {\"align\": [\"left\", \"center\"], \"fill\": {\"color\": \"#4B88A2\"}, \"font\": {\"color\": \"white\", \"size\": 12}, \"height\": 40, \"line\": {\"color\": \"#506784\"}, \"values\": [[\"complaint_2<b>: Value\"], [\"<b>Count</b>\"], [\"<b>Percent</b>\"]]}, \"type\": \"table\", \"uid\": \"6a00276e-dcd5-11e8-856a-9cb6d0ed5078\"}], {}, {\"showLink\": true, \"linkText\": \"Export to plot.ly\"})});</script>"
      ]
     },
     "metadata": {},
     "output_type": "display_data"
    },
    {
     "data": {
      "application/vnd.plotly.v1+json": {
       "data": [
        {
         "orientation": "h",
         "type": "bar",
         "uid": "6a04b81e-dcd5-11e8-95f3-9cb6d0ed5078",
         "x": [
          6766,
          8165,
          8172,
          10138,
          11916,
          16312,
          16783,
          17243,
          100640,
          141284
         ],
         "y": [
          "tree debris",
          "alley light out",
          "abandoned vehicle",
          "rodent baiting  rat complaint",
          "street light n  out",
          "duplicate",
          "pothole in street",
          "graffiti removal",
          "",
          "request entered through the web refer to intake questions for further description"
         ]
        }
       ],
       "layout": {
        "barmode": "stack",
        "margin": {
         "l": 150,
         "pad": 4
        }
       }
      },
      "text/html": [
       "<div id=\"7857be68-ca40-4ef3-b8bb-5b2c86b5d998\" style=\"height: 525px; width: 100%;\" class=\"plotly-graph-div\"></div><script type=\"text/javascript\">require([\"plotly\"], function(Plotly) { window.PLOTLYENV=window.PLOTLYENV || {};window.PLOTLYENV.BASE_URL=\"https://plot.ly\";Plotly.newPlot(\"7857be68-ca40-4ef3-b8bb-5b2c86b5d998\", [{\"orientation\": \"h\", \"x\": [6766, 8165, 8172, 10138, 11916, 16312, 16783, 17243, 100640, 141284], \"y\": [\"tree debris\", \"alley light out\", \"abandoned vehicle\", \"rodent baiting  rat complaint\", \"street light n  out\", \"duplicate\", \"pothole in street\", \"graffiti removal\", \"\", \"request entered through the web refer to intake questions for further description\"], \"type\": \"bar\", \"uid\": \"6a04b81e-dcd5-11e8-95f3-9cb6d0ed5078\"}], {\"barmode\": \"stack\", \"margin\": {\"l\": 150, \"pad\": 4}}, {\"showLink\": true, \"linkText\": \"Export to plot.ly\"})});</script>"
      ],
      "text/vnd.plotly.v1+html": [
       "<div id=\"7857be68-ca40-4ef3-b8bb-5b2c86b5d998\" style=\"height: 525px; width: 100%;\" class=\"plotly-graph-div\"></div><script type=\"text/javascript\">require([\"plotly\"], function(Plotly) { window.PLOTLYENV=window.PLOTLYENV || {};window.PLOTLYENV.BASE_URL=\"https://plot.ly\";Plotly.newPlot(\"7857be68-ca40-4ef3-b8bb-5b2c86b5d998\", [{\"orientation\": \"h\", \"x\": [6766, 8165, 8172, 10138, 11916, 16312, 16783, 17243, 100640, 141284], \"y\": [\"tree debris\", \"alley light out\", \"abandoned vehicle\", \"rodent baiting  rat complaint\", \"street light n  out\", \"duplicate\", \"pothole in street\", \"graffiti removal\", \"\", \"request entered through the web refer to intake questions for further description\"], \"type\": \"bar\", \"uid\": \"6a04b81e-dcd5-11e8-95f3-9cb6d0ed5078\"}], {\"barmode\": \"stack\", \"margin\": {\"l\": 150, \"pad\": 4}}, {\"showLink\": true, \"linkText\": \"Export to plot.ly\"})});</script>"
      ]
     },
     "metadata": {},
     "output_type": "display_data"
    },
    {
     "data": {
      "application/vnd.plotly.v1+json": {
       "data": [
        {
         "cells": {
          "align": [
           "left",
           "center"
          ],
          "fill": {
           "color": [
            "#D3D4D9",
            "white"
           ]
          },
          "font": {
           "color": "#506784",
           "size": 12
          },
          "height": 30,
          "line": {
           "color": "#506784"
          },
          "values": [
           [
            "request entered through the web refer to intake questions for further description",
            "",
            "graffiti removal",
            "pothole in street",
            "duplicate",
            "street light n  out",
            "rodent baiting  rat complaint",
            "abandoned vehicle",
            "alley light out",
            "tree debris"
           ],
           [
            141284,
            100640,
            17243,
            16783,
            16312,
            11916,
            10138,
            8172,
            8165,
            6766
           ],
           [
            0.112,
            0.08,
            0.014,
            0.013,
            0.013,
            0.009,
            0.008,
            0.006,
            0.006,
            0.005
           ]
          ]
         },
         "columnorder": [
          1,
          2,
          3
         ],
         "columnwidth": [
          400,
          80,
          80
         ],
         "header": {
          "align": [
           "left",
           "center"
          ],
          "fill": {
           "color": "#4B88A2"
          },
          "font": {
           "color": "white",
           "size": 12
          },
          "height": 40,
          "line": {
           "color": "#506784"
          },
          "values": [
           [
            "complaint<b>: Value"
           ],
           [
            "<b>Count</b>"
           ],
           [
            "<b>Percent</b>"
           ]
          ]
         },
         "type": "table",
         "uid": "6a06e7b6-dcd5-11e8-8f3d-9cb6d0ed5078"
        }
       ],
       "layout": {}
      },
      "text/html": [
       "<div id=\"c485f7e8-98b4-4350-82c4-e01404b31d31\" style=\"height: 525px; width: 100%;\" class=\"plotly-graph-div\"></div><script type=\"text/javascript\">require([\"plotly\"], function(Plotly) { window.PLOTLYENV=window.PLOTLYENV || {};window.PLOTLYENV.BASE_URL=\"https://plot.ly\";Plotly.newPlot(\"c485f7e8-98b4-4350-82c4-e01404b31d31\", [{\"cells\": {\"align\": [\"left\", \"center\"], \"fill\": {\"color\": [\"#D3D4D9\", \"white\"]}, \"font\": {\"color\": \"#506784\", \"size\": 12}, \"height\": 30, \"line\": {\"color\": \"#506784\"}, \"values\": [[\"request entered through the web refer to intake questions for further description\", \"\", \"graffiti removal\", \"pothole in street\", \"duplicate\", \"street light n  out\", \"rodent baiting  rat complaint\", \"abandoned vehicle\", \"alley light out\", \"tree debris\"], [141284, 100640, 17243, 16783, 16312, 11916, 10138, 8172, 8165, 6766], [0.112, 0.08, 0.014, 0.013, 0.013, 0.009, 0.008, 0.006, 0.006, 0.005]]}, \"columnorder\": [1, 2, 3], \"columnwidth\": [400, 80, 80], \"header\": {\"align\": [\"left\", \"center\"], \"fill\": {\"color\": \"#4B88A2\"}, \"font\": {\"color\": \"white\", \"size\": 12}, \"height\": 40, \"line\": {\"color\": \"#506784\"}, \"values\": [[\"complaint<b>: Value\"], [\"<b>Count</b>\"], [\"<b>Percent</b>\"]]}, \"type\": \"table\", \"uid\": \"6a08e0f4-dcd5-11e8-936e-9cb6d0ed5078\"}], {}, {\"showLink\": true, \"linkText\": \"Export to plot.ly\"})});</script>"
      ],
      "text/vnd.plotly.v1+html": [
       "<div id=\"c485f7e8-98b4-4350-82c4-e01404b31d31\" style=\"height: 525px; width: 100%;\" class=\"plotly-graph-div\"></div><script type=\"text/javascript\">require([\"plotly\"], function(Plotly) { window.PLOTLYENV=window.PLOTLYENV || {};window.PLOTLYENV.BASE_URL=\"https://plot.ly\";Plotly.newPlot(\"c485f7e8-98b4-4350-82c4-e01404b31d31\", [{\"cells\": {\"align\": [\"left\", \"center\"], \"fill\": {\"color\": [\"#D3D4D9\", \"white\"]}, \"font\": {\"color\": \"#506784\", \"size\": 12}, \"height\": 30, \"line\": {\"color\": \"#506784\"}, \"values\": [[\"request entered through the web refer to intake questions for further description\", \"\", \"graffiti removal\", \"pothole in street\", \"duplicate\", \"street light n  out\", \"rodent baiting  rat complaint\", \"abandoned vehicle\", \"alley light out\", \"tree debris\"], [141284, 100640, 17243, 16783, 16312, 11916, 10138, 8172, 8165, 6766], [0.112, 0.08, 0.014, 0.013, 0.013, 0.009, 0.008, 0.006, 0.006, 0.005]]}, \"columnorder\": [1, 2, 3], \"columnwidth\": [400, 80, 80], \"header\": {\"align\": [\"left\", \"center\"], \"fill\": {\"color\": \"#4B88A2\"}, \"font\": {\"color\": \"white\", \"size\": 12}, \"height\": 40, \"line\": {\"color\": \"#506784\"}, \"values\": [[\"complaint<b>: Value\"], [\"<b>Count</b>\"], [\"<b>Percent</b>\"]]}, \"type\": \"table\", \"uid\": \"6a08e0f4-dcd5-11e8-936e-9cb6d0ed5078\"}], {}, {\"showLink\": true, \"linkText\": \"Export to plot.ly\"})});</script>"
      ]
     },
     "metadata": {},
     "output_type": "display_data"
    },
    {
     "data": {
      "application/vnd.plotly.v1+json": {
       "data": [
        {
         "orientation": "h",
         "type": "bar",
         "uid": "6a0e3474-dcd5-11e8-bc3a-9cb6d0ed5078",
         "x": [
          6766,
          8165,
          8172,
          10138,
          11916,
          16312,
          16783,
          17243,
          100640,
          141284
         ],
         "y": [
          "tree debris",
          "alley light out",
          "abandoned vehicle",
          "rodent baiting  rat complaint",
          "street light n  out",
          "duplicate",
          "pothole in street",
          "graffiti removal",
          "",
          "request entered through the web refer to intake questions for further description"
         ]
        }
       ],
       "layout": {
        "barmode": "stack",
        "margin": {
         "l": 150,
         "pad": 4
        }
       }
      },
      "text/html": [
       "<div id=\"233289d6-ef3b-4083-bc30-c1c408f9634b\" style=\"height: 525px; width: 100%;\" class=\"plotly-graph-div\"></div><script type=\"text/javascript\">require([\"plotly\"], function(Plotly) { window.PLOTLYENV=window.PLOTLYENV || {};window.PLOTLYENV.BASE_URL=\"https://plot.ly\";Plotly.newPlot(\"233289d6-ef3b-4083-bc30-c1c408f9634b\", [{\"orientation\": \"h\", \"x\": [6766, 8165, 8172, 10138, 11916, 16312, 16783, 17243, 100640, 141284], \"y\": [\"tree debris\", \"alley light out\", \"abandoned vehicle\", \"rodent baiting  rat complaint\", \"street light n  out\", \"duplicate\", \"pothole in street\", \"graffiti removal\", \"\", \"request entered through the web refer to intake questions for further description\"], \"type\": \"bar\", \"uid\": \"6a0e3474-dcd5-11e8-bc3a-9cb6d0ed5078\"}], {\"barmode\": \"stack\", \"margin\": {\"l\": 150, \"pad\": 4}}, {\"showLink\": true, \"linkText\": \"Export to plot.ly\"})});</script>"
      ],
      "text/vnd.plotly.v1+html": [
       "<div id=\"233289d6-ef3b-4083-bc30-c1c408f9634b\" style=\"height: 525px; width: 100%;\" class=\"plotly-graph-div\"></div><script type=\"text/javascript\">require([\"plotly\"], function(Plotly) { window.PLOTLYENV=window.PLOTLYENV || {};window.PLOTLYENV.BASE_URL=\"https://plot.ly\";Plotly.newPlot(\"233289d6-ef3b-4083-bc30-c1c408f9634b\", [{\"orientation\": \"h\", \"x\": [6766, 8165, 8172, 10138, 11916, 16312, 16783, 17243, 100640, 141284], \"y\": [\"tree debris\", \"alley light out\", \"abandoned vehicle\", \"rodent baiting  rat complaint\", \"street light n  out\", \"duplicate\", \"pothole in street\", \"graffiti removal\", \"\", \"request entered through the web refer to intake questions for further description\"], \"type\": \"bar\", \"uid\": \"6a0e3474-dcd5-11e8-bc3a-9cb6d0ed5078\"}], {\"barmode\": \"stack\", \"margin\": {\"l\": 150, \"pad\": 4}}, {\"showLink\": true, \"linkText\": \"Export to plot.ly\"})});</script>"
      ]
     },
     "metadata": {},
     "output_type": "display_data"
    }
   ],
   "source": [
    "# Output table of top 10 per col, along with bar chart\n",
    "for key, val in most_common_vals.items():\n",
    "    top_ten_count = val['count'][:10]\n",
    "    top_ten_percent = val['percent'][:10]\n",
    "    \n",
    "    # Table\n",
    "    trace0 = go.Table(\n",
    "      columnorder = [1,2,3],\n",
    "      columnwidth = [400,80, 80],\n",
    "      header = dict(\n",
    "        values = [[str(key) + '<b>: Value'],\n",
    "                ['<b>Count</b>'],\n",
    "                 ['<b>Percent</b>']],\n",
    "        line = dict(color = '#506784'),\n",
    "        fill = dict(color = '#4B88A2'),\n",
    "        align = ['left','center'],\n",
    "        font = dict(color = 'white', size = 12),\n",
    "        height = 40\n",
    "      ),\n",
    "      cells = dict(\n",
    "        values = [list(top_ten_count.index), list(top_ten_count.values), list(top_ten_percent.values.round(3))],\n",
    "        line = dict(color = '#506784'),\n",
    "        fill = dict(color = ['#D3D4D9', 'white']),\n",
    "        align = ['left', 'center'],\n",
    "        font = dict(color = '#506784', size = 12),\n",
    "        height = 30\n",
    "    ))\n",
    "\n",
    "    data = [trace0]\n",
    "\n",
    "    iplot(data, filename = \"Row and Column Size\")\n",
    "    \n",
    "    # Bar chart\n",
    "    data = [go.Bar(\n",
    "        x=list(top_ten.values)[::-1],\n",
    "        y=list(top_ten.index)[::-1],\n",
    "        orientation = 'h',\n",
    "        \n",
    "    )]\n",
    "\n",
    "    layout = go.Layout(\n",
    "        margin=go.layout.Margin(\n",
    "            l=150,\n",
    "#             r=0,\n",
    "#             b=10,\n",
    "#             t=10,\n",
    "            pad=4\n",
    "        ),\n",
    "        barmode='stack',\n",
    "    )\n",
    "    fig = go.Figure(data=data, layout=layout)\n",
    "    iplot(fig, filename='basic-bar')"
   ]
  },
  {
   "cell_type": "markdown",
   "metadata": {},
   "source": [
    "### City\n",
    "Cincinnati makes up 40% of our trouble ticket data. City tickets"
   ]
  },
  {
   "cell_type": "code",
   "execution_count": 66,
   "metadata": {},
   "outputs": [
    {
     "name": "stdout",
     "output_type": "stream",
     "text": [
      "(1084456, 11)\n"
     ]
    }
   ],
   "source": [
    "# Filter data only to ones with at least 10 characters\n",
    "mask = (dat['complaint'].str.len() >=10)\n",
    "dat = dat.loc[mask]\n",
    "print(dat.shape)"
   ]
  },
  {
   "cell_type": "code",
   "execution_count": null,
   "metadata": {},
   "outputs": [],
   "source": []
  },
  {
   "cell_type": "code",
   "execution_count": 8,
   "metadata": {
    "scrolled": true
   },
   "outputs": [
    {
     "data": {
      "text/plain": [
       "US_CINCINNATI                                         518774\n",
       "US_BATON_ROUGE                                        227137\n",
       "City of Chicago                                       124521\n",
       "US_BLOOMINGTON                                         82269\n",
       "City of Oakland - OLD                                  49768\n",
       "US_CHICAGO                                             48579\n",
       "IRELAND                                                23089\n",
       "City of Oakland                                        15629\n",
       "City of St. Petersburg                                 14840\n",
       "New Haven                                              13107\n",
       "City of Houston                                        12464\n",
       "DC 311                                                  6690\n",
       "City of Detroit                                         4920\n",
       "Neighborhoods                                           4747\n",
       "Macon-Bibb County                                       4668\n",
       "City of St. Paul                                        4101\n",
       "City of Memphis                                         3999\n",
       "City of Albuquerque                                     3540\n",
       "OLD City of Richmond                                    3378\n",
       "Yerba Buena Community Benefit District                  2944\n",
       "Roadway                                                 2875\n",
       "City of Ann Arbor                                       2862\n",
       "City of Chula Vista                                     2618\n",
       "Raleigh City Hall                                       2407\n",
       "City of Richmond                                        2209\n",
       "Howard County MD                                        2114\n",
       "New Haven Parks Department                              2107\n",
       "City of Albany                                          2075\n",
       "City of Alameda                                         2043\n",
       "City of Canton OH                                       2038\n",
       "                                                       ...  \n",
       "Wrentham MA                                                1\n",
       "Deerfield Beach FL (DEMO)                                  1\n",
       "Town of Fort Kent                                          1\n",
       "Highland City UT (DEMO)                                    1\n",
       "Rocky Hill NJ                                              1\n",
       "Village of Sussex                                          1\n",
       "Mauritius Public Utilities                                 1\n",
       "Research Triangle High School                              1\n",
       "Fayette County                                             1\n",
       "SCF Plus Gov                                               1\n",
       "Atlantic County Utilities Authority - Ventnor City         1\n",
       "City of Blue Ash                                           1\n",
       "City of Cloquet                                            1\n",
       "Town of Brookline                                          1\n",
       "Health Concerns / Pest Control                             1\n",
       "Salt Lake City County UT (DEMO)                            1\n",
       "City of Dinuba                                             1\n",
       "Brooklyn Community Board 14 (DOT)                          1\n",
       "City of Des Plaines                                        1\n",
       "Arkansas City                                              1\n",
       "O'Fallon                                                   1\n",
       "Times of India                                             1\n",
       "Bainbridge                                                 1\n",
       "VTrans District 8                                          1\n",
       "Avondale AZ                                                1\n",
       "Chatham                                                    1\n",
       "Upper Providence PA (DEMO)                                 1\n",
       "Norco CA (DEMO)                                            1\n",
       "City of Lee's Summit                                       1\n",
       "West Melbourne FL (DEMO)                                   1\n",
       "Name: city, Length: 693, dtype: int64"
      ]
     },
     "execution_count": 8,
     "metadata": {},
     "output_type": "execute_result"
    }
   ],
   "source": [
    "test['city'].value_counts()"
   ]
  },
  {
   "cell_type": "code",
   "execution_count": null,
   "metadata": {},
   "outputs": [],
   "source": []
  }
 ],
 "metadata": {
  "kernelspec": {
   "display_name": "Python 3",
   "language": "python",
   "name": "python3"
  },
  "language_info": {
   "codemirror_mode": {
    "name": "ipython",
    "version": 3
   },
   "file_extension": ".py",
   "mimetype": "text/x-python",
   "name": "python",
   "nbconvert_exporter": "python",
   "pygments_lexer": "ipython3",
   "version": "3.7.0"
  }
 },
 "nbformat": 4,
 "nbformat_minor": 2
}
