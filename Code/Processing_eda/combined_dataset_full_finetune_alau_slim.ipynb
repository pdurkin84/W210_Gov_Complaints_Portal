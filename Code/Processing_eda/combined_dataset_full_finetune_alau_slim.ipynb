{
 "cells": [
  {
   "cell_type": "code",
   "execution_count": 1,
   "metadata": {
    "colab": {
     "base_uri": "https://localhost:8080/",
     "height": 69
    },
    "colab_type": "code",
    "id": "WlpJ7FSFAfZd",
    "outputId": "243e2804-7a78-4a24-ead9-6e9ff2ff6462"
   },
   "outputs": [
    {
     "name": "stdout",
     "output_type": "stream",
     "text": [
      "[nltk_data] Downloading package stopwords to\n",
      "[nltk_data]     C:\\Users\\alexl\\AppData\\Roaming\\nltk_data...\n",
      "[nltk_data]   Package stopwords is already up-to-date!\n"
     ]
    },
    {
     "name": "stderr",
     "output_type": "stream",
     "text": [
      "c:\\users\\alexl\\envs\\mlbase\\lib\\importlib\\_bootstrap.py:219: RuntimeWarning: cymem.cymem.Pool size changed, may indicate binary incompatibility. Expected 48 from C header, got 64 from PyObject\n",
      "  return f(*args, **kwds)\n",
      "c:\\users\\alexl\\envs\\mlbase\\lib\\importlib\\_bootstrap.py:219: RuntimeWarning: cymem.cymem.Address size changed, may indicate binary incompatibility. Expected 24 from C header, got 40 from PyObject\n",
      "  return f(*args, **kwds)\n"
     ]
    }
   ],
   "source": [
    "import pandas as pd\n",
    "import numpy as np\n",
    "import re\n",
    "import string\n",
    "from pprint import pprint\n",
    "import time\n",
    "import nltk\n",
    "nltk.download('stopwords')\n",
    "from nltk.corpus import stopwords\n",
    "\n",
    "# from plotly.offline import download_plotlyjs, init_notebook_mode, plot, iplot\n",
    "# import plotly.graph_objs as go\n",
    "# init_notebook_mode(connected=True)\n",
    "\n",
    "# from IPython.core.interactiveshell import InteractiveShell\n",
    "# InteractiveShell.ast_node_interactivity = \"all\"\n",
    "\n",
    "from sklearn.model_selection import train_test_split\n",
    "from finetune import Classifier"
   ]
  },
  {
   "cell_type": "markdown",
   "metadata": {
    "colab_type": "text",
    "id": "HsSVKLLQAfZl"
   },
   "source": [
    "# EDA of Full Training Dataset\n",
    "Adapted from `combined-dataset-full-finetune.ipynb`"
   ]
  },
  {
   "cell_type": "code",
   "execution_count": 2,
   "metadata": {
    "colab": {},
    "colab_type": "code",
    "id": "ank5DgvXAfZm"
   },
   "outputs": [],
   "source": [
    "dat = pd.read_csv(r'data\\combined_trainingdata_20181013.tsv', sep='\\t', low_memory=False)"
   ]
  },
  {
   "cell_type": "code",
   "execution_count": 3,
   "metadata": {
    "colab": {
     "base_uri": "https://localhost:8080/",
     "height": 87
    },
    "colab_type": "code",
    "id": "iyfNc_MWAfZt",
    "outputId": "127a3d72-68d6-4b3e-a91b-e614df9a795f"
   },
   "outputs": [
    {
     "data": {
      "text/plain": [
       "Index(['index', 'complaint_id', 'city', 'complaint_date', 'dept_311',\n",
       "       'code_311', 'category_main', 'category_sub', 'complaint_1',\n",
       "       'complaint_2'],\n",
       "      dtype='object')"
      ]
     },
     "execution_count": 3,
     "metadata": {},
     "output_type": "execute_result"
    }
   ],
   "source": [
    "# Clean col names\n",
    "dat.columns = [x.lower() for x in dat.columns]\n",
    "dat.columns = [x.replace(' ', '_') for x in dat.columns]\n",
    "dat.columns"
   ]
  },
  {
   "cell_type": "markdown",
   "metadata": {
    "colab_type": "text",
    "id": "m1CoY7iuAfZ4"
   },
   "source": [
    "# Clean Data\n",
    "Remove rows with no complaint 1 data. Create Complaint column that has (complaint 2 or complaint 1). We are also doing pre-processing. This involves removing punctuation, making everything lowercase, replacing numbers with N, cutting everything after 512 chars, concatenating two types of complaints when they are for Chicago.\n",
    "\n",
    "## New Changes"
   ]
  },
  {
   "cell_type": "code",
   "execution_count": 4,
   "metadata": {
    "colab": {
     "base_uri": "https://localhost:8080/",
     "height": 34
    },
    "colab_type": "code",
    "id": "TXwuralNAfZ5",
    "outputId": "067f3313-5d32-4bd8-c80e-0df1d1353a14"
   },
   "outputs": [
    {
     "data": {
      "text/plain": [
       "(1278129, 10)"
      ]
     },
     "execution_count": 4,
     "metadata": {},
     "output_type": "execute_result"
    }
   ],
   "source": [
    "dat.shape"
   ]
  },
  {
   "cell_type": "code",
   "execution_count": 5,
   "metadata": {
    "colab": {},
    "colab_type": "code",
    "id": "aZNrTTM7AfZ8"
   },
   "outputs": [],
   "source": [
    "# Remove NaNs in complaint cols\n",
    "dat['complaint_1'] = dat['complaint_1'].fillna('')\n",
    "dat['complaint_2'] = dat['complaint_2'].fillna('')"
   ]
  },
  {
   "cell_type": "code",
   "execution_count": 6,
   "metadata": {
    "colab": {},
    "colab_type": "code",
    "id": "iHCqEuDNAfaA"
   },
   "outputs": [],
   "source": [
    "# Merge complaint_1 & _2\n",
    "dat['merged_complaint'] = dat[['complaint_1', 'complaint_2']].apply(lambda x: ' '.join(x), axis=1)"
   ]
  },
  {
   "cell_type": "code",
   "execution_count": 7,
   "metadata": {
    "colab": {},
    "colab_type": "code",
    "id": "lyNdEuUSAfaF"
   },
   "outputs": [],
   "source": [
    "# Get len of merged_complaint\n",
    "dat['complaint_len'] = dat['merged_complaint'].map(len)"
   ]
  },
  {
   "cell_type": "code",
   "execution_count": 8,
   "metadata": {
    "colab": {
     "base_uri": "https://localhost:8080/",
     "height": 34
    },
    "colab_type": "code",
    "id": "nyyFnsBrAfaH",
    "outputId": "cb3ccaa3-236c-4885-b0fa-0d083e40b234"
   },
   "outputs": [
    {
     "data": {
      "text/plain": [
       "(1278129, 12)"
      ]
     },
     "execution_count": 8,
     "metadata": {},
     "output_type": "execute_result"
    }
   ],
   "source": [
    "dat.shape"
   ]
  },
  {
   "cell_type": "code",
   "execution_count": 9,
   "metadata": {
    "colab": {},
    "colab_type": "code",
    "id": "Cx3oburQAfaN",
    "scrolled": true
   },
   "outputs": [],
   "source": [
    "# Remove blanks (len is due to the space added from above join)\n",
    "dat = dat.loc[dat['complaint_len'] != 1]"
   ]
  },
  {
   "cell_type": "code",
   "execution_count": 10,
   "metadata": {
    "colab": {
     "base_uri": "https://localhost:8080/",
     "height": 34
    },
    "colab_type": "code",
    "id": "pmch_IBEAfaP",
    "outputId": "ce911ba0-e8be-4bdc-a206-0fe8acd5606f"
   },
   "outputs": [
    {
     "data": {
      "text/plain": [
       "(1264550, 12)"
      ]
     },
     "execution_count": 10,
     "metadata": {},
     "output_type": "execute_result"
    }
   ],
   "source": [
    "dat.shape"
   ]
  },
  {
   "cell_type": "code",
   "execution_count": 11,
   "metadata": {
    "colab": {},
    "colab_type": "code",
    "id": "TIHg33swAfaU"
   },
   "outputs": [],
   "source": [
    "def clean_specifics(complaint):\n",
    "    complaint = re.sub('Request entered through the Web. Refer to Intake Questions for further description.',\n",
    "                      '', complaint)\n",
    "    complaint = re.sub('Transfer:.+/[A-Z]+', '', complaint)\n",
    "    complaint = re.sub('ACCT ', '', complaint)\n",
    "    complaint = re.sub('RTC ', '', complaint)\n",
    "    return complaint"
   ]
  },
  {
   "cell_type": "code",
   "execution_count": 12,
   "metadata": {
    "colab": {},
    "colab_type": "code",
    "id": "orBlVKE-AfaX"
   },
   "outputs": [],
   "source": [
    "# Preprocess `merged_complaint`\n",
    "cachedStopWords = stopwords.words(\"english\")\n",
    "\n",
    "def preprocess(complaint):\n",
    "    complaint = clean_specifics(complaint)\n",
    "    complaint = re.sub('\\d', '', complaint) # Remove numbers completely\n",
    "    complaint = re.sub('[^\\w\\s]', ' ', complaint) # Sub puncuation with space\n",
    "    complaint = complaint.strip()\n",
    "    complaint = re.sub(' +', ' ', complaint) # Remove dupe spaces\n",
    "    complaint = complaint.lower()\n",
    "    complaint = ' '.join([word for word in complaint.split() if word not in cachedStopWords])\n",
    "    return complaint"
   ]
  },
  {
   "cell_type": "code",
   "execution_count": 13,
   "metadata": {
    "colab": {},
    "colab_type": "code",
    "id": "27l-tV6HAfaa"
   },
   "outputs": [],
   "source": [
    "dat['merged_complaint'] = dat['merged_complaint'].map(preprocess)"
   ]
  },
  {
   "cell_type": "code",
   "execution_count": 14,
   "metadata": {
    "colab": {
     "base_uri": "https://localhost:8080/",
     "height": 34
    },
    "colab_type": "code",
    "id": "a94qwzmTAfad",
    "outputId": "2fdd6459-bd25-44f3-8c21-39f84289729b"
   },
   "outputs": [
    {
     "data": {
      "text/plain": [
       "(1264550, 12)"
      ]
     },
     "execution_count": 14,
     "metadata": {},
     "output_type": "execute_result"
    }
   ],
   "source": [
    "dat.shape"
   ]
  },
  {
   "cell_type": "code",
   "execution_count": 15,
   "metadata": {
    "colab": {},
    "colab_type": "code",
    "id": "u3npC4-YAfag"
   },
   "outputs": [],
   "source": [
    "# Recalc len of merged_complaint after preprocessing\n",
    "dat['complaint_len'] = dat['merged_complaint'].map(len)"
   ]
  },
  {
   "cell_type": "code",
   "execution_count": 16,
   "metadata": {
    "colab": {},
    "colab_type": "code",
    "id": "1Kj7BR4FAfam"
   },
   "outputs": [],
   "source": [
    "# Get word lengths\n",
    "dat['word_len'] = dat.apply(lambda x: len(x['merged_complaint'].split(' ')), axis=1)"
   ]
  },
  {
   "cell_type": "code",
   "execution_count": 17,
   "metadata": {
    "colab": {
     "base_uri": "https://localhost:8080/",
     "height": 34
    },
    "colab_type": "code",
    "id": "Rwi0u8f_Afat",
    "outputId": "51ec6f03-afad-46b7-86a3-f13100605675"
   },
   "outputs": [
    {
     "data": {
      "text/plain": [
       "(1264550, 13)"
      ]
     },
     "execution_count": 17,
     "metadata": {},
     "output_type": "execute_result"
    }
   ],
   "source": [
    "dat.shape"
   ]
  },
  {
   "cell_type": "code",
   "execution_count": 18,
   "metadata": {
    "colab": {},
    "colab_type": "code",
    "id": "G5ojky26Afaw"
   },
   "outputs": [],
   "source": [
    "# Remove zero and one char length tickets\n",
    "dat = dat.loc[(dat['complaint_len'] != 0) & (dat['complaint_len'] != 1)]"
   ]
  },
  {
   "cell_type": "code",
   "execution_count": 19,
   "metadata": {
    "colab": {
     "base_uri": "https://localhost:8080/",
     "height": 34
    },
    "colab_type": "code",
    "id": "gbgVWyRvAfay",
    "outputId": "73c629e6-9fc0-49b8-feb8-559e57f71c43"
   },
   "outputs": [
    {
     "data": {
      "text/plain": [
       "(1014309, 13)"
      ]
     },
     "execution_count": 19,
     "metadata": {},
     "output_type": "execute_result"
    }
   ],
   "source": [
    "dat.shape"
   ]
  },
  {
   "cell_type": "code",
   "execution_count": 20,
   "metadata": {
    "colab": {},
    "colab_type": "code",
    "id": "J9_RHFlcAfa0"
   },
   "outputs": [],
   "source": [
    "# Remove two char length tickets except for tv\n",
    "dat = dat.loc[(dat['complaint_len'] != 2) | (dat['merged_complaint'] == 'tv')]"
   ]
  },
  {
   "cell_type": "code",
   "execution_count": 21,
   "metadata": {
    "colab": {
     "base_uri": "https://localhost:8080/",
     "height": 34
    },
    "colab_type": "code",
    "id": "abPZGFrfAfa3",
    "outputId": "9aace5fc-c0f1-4cc2-d559-9fb3a05630f7"
   },
   "outputs": [
    {
     "data": {
      "text/plain": [
       "(1013776, 13)"
      ]
     },
     "execution_count": 21,
     "metadata": {},
     "output_type": "execute_result"
    }
   ],
   "source": [
    "dat.shape"
   ]
  },
  {
   "cell_type": "code",
   "execution_count": 22,
   "metadata": {
    "colab": {},
    "colab_type": "code",
    "id": "S2UO4-JzAfa6"
   },
   "outputs": [],
   "source": [
    "# Remove three char length tickets\n",
    "dat = dat.loc[dat['complaint_len'] != 3]"
   ]
  },
  {
   "cell_type": "code",
   "execution_count": 23,
   "metadata": {
    "colab": {
     "base_uri": "https://localhost:8080/",
     "height": 34
    },
    "colab_type": "code",
    "id": "s2y-zGWUAfa8",
    "outputId": "4b5f3aff-532c-4312-fc9c-0a3482415474"
   },
   "outputs": [
    {
     "data": {
      "text/plain": [
       "(1004413, 13)"
      ]
     },
     "execution_count": 23,
     "metadata": {},
     "output_type": "execute_result"
    }
   ],
   "source": [
    "dat.shape"
   ]
  },
  {
   "cell_type": "code",
   "execution_count": 24,
   "metadata": {
    "colab": {},
    "colab_type": "code",
    "id": "6Ii-jsiGAfa_",
    "scrolled": true
   },
   "outputs": [],
   "source": [
    "# Remove single word 'acct'\n",
    "dat = dat.loc[~((dat['word_len'] == 1) & (dat['merged_complaint'].str.contains('acct')))]"
   ]
  },
  {
   "cell_type": "code",
   "execution_count": 25,
   "metadata": {
    "colab": {
     "base_uri": "https://localhost:8080/",
     "height": 34
    },
    "colab_type": "code",
    "id": "l_e_j-q_AfbB",
    "outputId": "e05b119b-e810-402b-d3cd-0b5b0ea4ddd6"
   },
   "outputs": [
    {
     "data": {
      "text/plain": [
       "(1003871, 13)"
      ]
     },
     "execution_count": 25,
     "metadata": {},
     "output_type": "execute_result"
    }
   ],
   "source": [
    "dat.shape"
   ]
  },
  {
   "cell_type": "code",
   "execution_count": 26,
   "metadata": {
    "colab": {
     "base_uri": "https://localhost:8080/",
     "height": 34
    },
    "colab_type": "code",
    "id": "NkbGvnwZAfbD",
    "outputId": "4a0ac8c6-533d-4cba-8e8f-5e2396294946"
   },
   "outputs": [
    {
     "data": {
      "text/plain": [
       "0.9932112791384551"
      ]
     },
     "execution_count": 26,
     "metadata": {},
     "output_type": "execute_result"
    }
   ],
   "source": [
    "dat.loc[dat['complaint_len'] < 501].shape[0]/dat.shape[0]"
   ]
  },
  {
   "cell_type": "code",
   "execution_count": 27,
   "metadata": {
    "colab": {
     "base_uri": "https://localhost:8080/",
     "height": 34
    },
    "colab_type": "code",
    "id": "cEHBPfdWAfbF",
    "outputId": "88209398-51e4-43a4-d9fa-b82992834576"
   },
   "outputs": [
    {
     "data": {
      "text/plain": [
       "0.9973711761770188"
      ]
     },
     "execution_count": 27,
     "metadata": {},
     "output_type": "execute_result"
    }
   ],
   "source": [
    "dat.loc[dat['word_len'] < 101].shape[0]/dat.shape[0]"
   ]
  },
  {
   "cell_type": "code",
   "execution_count": 28,
   "metadata": {
    "colab": {},
    "colab_type": "code",
    "id": "ggoONgryAfbL"
   },
   "outputs": [],
   "source": [
    "# Keep only the first 100 words of each complaint\n",
    "dat['merged_complaint'] = dat.apply(lambda x: ' '.join(x['merged_complaint'].split(' ')[:100]) if (x['word_len'] > 100) else x['merged_complaint'],\n",
    "                                    axis=1)"
   ]
  },
  {
   "cell_type": "code",
   "execution_count": 29,
   "metadata": {
    "colab": {},
    "colab_type": "code",
    "id": "nYV-78yLAfbO"
   },
   "outputs": [],
   "source": [
    "# Recalc word lens\n",
    "dat['word_len'] = dat.apply(lambda x: len(x['merged_complaint'].split(' ')), axis=1)"
   ]
  },
  {
   "cell_type": "markdown",
   "metadata": {
    "colab_type": "text",
    "id": "EZ3E4ZkEAfbb"
   },
   "source": [
    "# Short Complaints"
   ]
  },
  {
   "cell_type": "code",
   "execution_count": 30,
   "metadata": {
    "colab": {
     "base_uri": "https://localhost:8080/",
     "height": 34
    },
    "colab_type": "code",
    "id": "j9eAzGRxAfbc",
    "outputId": "fc86989b-42f2-4dea-e1c7-84cc89b596e3"
   },
   "outputs": [
    {
     "data": {
      "text/plain": [
       "(1003871, 13)"
      ]
     },
     "execution_count": 30,
     "metadata": {},
     "output_type": "execute_result"
    }
   ],
   "source": [
    "dat.shape"
   ]
  },
  {
   "cell_type": "code",
   "execution_count": 31,
   "metadata": {
    "colab": {
     "base_uri": "https://localhost:8080/",
     "height": 34
    },
    "colab_type": "code",
    "id": "jBQ3R2FOAfbf",
    "outputId": "ebe4035c-ce51-435a-f416-dee932f9f9f7"
   },
   "outputs": [
    {
     "data": {
      "text/plain": [
       "(1003871, 13)"
      ]
     },
     "execution_count": 31,
     "metadata": {},
     "output_type": "execute_result"
    }
   ],
   "source": [
    "dat.shape"
   ]
  },
  {
   "cell_type": "code",
   "execution_count": 32,
   "metadata": {
    "colab": {
     "base_uri": "https://localhost:8080/",
     "height": 1102
    },
    "colab_type": "code",
    "id": "42hRDchgAfbj",
    "outputId": "7906e79f-b255-4ea7-9f0c-6ebbd117d00e",
    "scrolled": true
   },
   "outputs": [
    {
     "data": {
      "text/plain": [
       "sticker          3543\n",
       "tires            3055\n",
       "pothole          2797\n",
       "couch            2307\n",
       "potholes         1983\n",
       "stickers         1970\n",
       "mattress         1300\n",
       "roaches          1185\n",
       "graffiti         1031\n",
       "flash             955\n",
       "tags              927\n",
       "tire              728\n",
       "tv                703\n",
       "mold              700\n",
       "heat              656\n",
       "sorted            568\n",
       "chair             512\n",
       "matress           506\n",
       "cleaning          505\n",
       "mice              500\n",
       "mattresses        392\n",
       "rehab             306\n",
       "dresser           302\n",
       "water             288\n",
       "recliner          253\n",
       "carpet            247\n",
       "heavy             242\n",
       "trash             235\n",
       "stump             234\n",
       "carts             226\n",
       "                 ... \n",
       "polthole            1\n",
       "hall                1\n",
       "chaircushions       1\n",
       "focus               1\n",
       "thing               1\n",
       "carousel            1\n",
       "audi                1\n",
       "vergrown            1\n",
       "wheelbarrel         1\n",
       "berning             1\n",
       "paleolicious        1\n",
       "couchcouch          1\n",
       "spouts              1\n",
       "headboards          1\n",
       "boats               1\n",
       "henderson           1\n",
       "yeet                1\n",
       "junkcarabove        1\n",
       "gravel              1\n",
       "carry               1\n",
       "diner               1\n",
       "toppers             1\n",
       "tofu                1\n",
       "expedtion           1\n",
       "haircuts            1\n",
       "ginos               1\n",
       "glenwood            1\n",
       "insisde             1\n",
       "drexel              1\n",
       "resturant           1\n",
       "Name: merged_complaint, Length: 1530, dtype: int64"
      ]
     },
     "execution_count": 32,
     "metadata": {},
     "output_type": "execute_result"
    }
   ],
   "source": [
    "dat.loc[dat['word_len'] == 1, 'merged_complaint'].value_counts()"
   ]
  },
  {
   "cell_type": "code",
   "execution_count": 33,
   "metadata": {
    "colab": {
     "base_uri": "https://localhost:8080/",
     "height": 1102
    },
    "colab_type": "code",
    "id": "OdVBH-jGAfbn",
    "outputId": "d7082ff6-d770-45fb-c5a4-ab2b9357cb86",
    "scrolled": true
   },
   "outputs": [
    {
     "data": {
      "text/plain": [
       "sorted    568\n",
       "carpet    247\n",
       "toilet    221\n",
       "permit    189\n",
       "signal    176\n",
       "litter    148\n",
       "chairs    143\n",
       "inside    109\n",
       "missed     82\n",
       "washer     75\n",
       "couchs     53\n",
       "entire     38\n",
       "family     37\n",
       "issues     36\n",
       "vacate     33\n",
       "vacant     31\n",
       "weight     28\n",
       "blight     20\n",
       "church     20\n",
       "frames     19\n",
       "tables     18\n",
       "yellow     17\n",
       "closet     16\n",
       "inches     15\n",
       "school     15\n",
       "lights     14\n",
       "rivate     13\n",
       "fridge     13\n",
       "gallon     13\n",
       "garage     13\n",
       "         ... \n",
       "lounge      1\n",
       "parcel      1\n",
       "auto n      1\n",
       "roches      1\n",
       "analog      1\n",
       "unit b      1\n",
       "inadeq      1\n",
       "set pm      1\n",
       "masala      1\n",
       "cuches      1\n",
       "toyota      1\n",
       "outage      1\n",
       "frisch      1\n",
       "proper      1\n",
       "detail      1\n",
       "ford e      1\n",
       "zeored      1\n",
       "larosa      1\n",
       "caribe      1\n",
       "camero      1\n",
       "osrted      1\n",
       "alamir      1\n",
       "jehehe      1\n",
       "stereo      1\n",
       "f home      1\n",
       "screen      1\n",
       "grecos      1\n",
       "stcker      1\n",
       "schiff      1\n",
       "maress      1\n",
       "Name: merged_complaint, Length: 326, dtype: int64"
      ]
     },
     "execution_count": 33,
     "metadata": {},
     "output_type": "execute_result"
    }
   ],
   "source": [
    "dat.loc[dat['complaint_len'] ==6, 'merged_complaint'].value_counts()"
   ]
  },
  {
   "cell_type": "markdown",
   "metadata": {
    "colab_type": "text",
    "id": "TVkOHwYCAfby"
   },
   "source": [
    "# Prep Training Data"
   ]
  },
  {
   "cell_type": "code",
   "execution_count": 35,
   "metadata": {
    "colab": {
     "base_uri": "https://localhost:8080/",
     "height": 34
    },
    "colab_type": "code",
    "id": "6FkW-fR9Afby",
    "outputId": "d07ccf82-d52d-4303-a757-2d4388392d07"
   },
   "outputs": [
    {
     "data": {
      "text/plain": [
       "(1003871, 13)"
      ]
     },
     "execution_count": 35,
     "metadata": {},
     "output_type": "execute_result"
    }
   ],
   "source": [
    "dat.shape"
   ]
  },
  {
   "cell_type": "code",
   "execution_count": 55,
   "metadata": {
    "colab": {
     "base_uri": "https://localhost:8080/",
     "height": 1102
    },
    "colab_type": "code",
    "id": "nb5J6verAfb1",
    "outputId": "aae95eac-57c9-4baf-ecf8-94137d876195",
    "scrolled": true
   },
   "outputs": [
    {
     "data": {
      "text/plain": [
       "publicorder_suspicious_behavior              1\n",
       "publicorder_drug_activity                    6\n",
       "publicorder_dangerous_driving                7\n",
       "environnment_hazardous_material             15\n",
       "publichealth_public_building_hygiene        20\n",
       "fire_code_violation                         21\n",
       "publictransit_bus_service                   26\n",
       "governance_it                               26\n",
       "environment_water_pollution                 34\n",
       "publichealth_school_hygiene                 39\n",
       "goveranance_general                         50\n",
       "governance_community                        63\n",
       "fire_risks                                 104\n",
       "housing_pests                              158\n",
       "environemnt_dead_animal                    270\n",
       "planning_construction                      422\n",
       "street_roadkill                            427\n",
       "vandalism_general                          454\n",
       "fire_equipment_broken                      660\n",
       "publichealth_animal_feces                  804\n",
       "publichealth_animal                        833\n",
       "infrastructure_power                       871\n",
       "publichealth_restaurant_hygiene           1703\n",
       "street_parking                            2081\n",
       "infrastructure_water_repair               2419\n",
       "environment_asbestos                      2737\n",
       "housing_safety                            3772\n",
       "environment_abandoned_site                4168\n",
       "street_sewar                              4703\n",
       "vandalism_graffiti                        4975\n",
       "                                         ...  \n",
       "street_drainage                           6502\n",
       "street_slippery                           6899\n",
       "housing_health_code                       7169\n",
       "governance_parks_and_rec                  7571\n",
       "environment_general                       7608\n",
       "infrastructure_water                      8553\n",
       "publicorder_noise_complaint               8739\n",
       "street_general                            8795\n",
       "publicorder_general                       8832\n",
       "governance_signage                        9455\n",
       "environment_dead_animal                   9861\n",
       "fire_general                             11283\n",
       "environment_litter                       14939\n",
       "planning_unsafe_environment              16946\n",
       "publichealth_general                     17835\n",
       "environment_air_pollution                17917\n",
       "street_sidewalk                          18495\n",
       "infrastructure_general                   23881\n",
       "street_urgent_repair                     24679\n",
       "planning_general                         24782\n",
       "environment_abandoned_vehicle            25802\n",
       "vandalism_graffiti                       34517\n",
       "housing_general                          35684\n",
       "governance_general                       36454\n",
       "environment_dumping                      41096\n",
       "street_lighting                          44644\n",
       "environment_recycling                    58863\n",
       "environment_overgrowth                   79935\n",
       "street_repair                            95101\n",
       "environment_garbage_collection          237341\n",
       "Name: category_sub, Length: 64, dtype: int64"
      ]
     },
     "execution_count": 55,
     "metadata": {},
     "output_type": "execute_result"
    }
   ],
   "source": [
    "# Filter out category_sub with less than 100 count\n",
    "dat['category_sub'].value_counts(ascending=True)"
   ]
  },
  {
   "cell_type": "code",
   "execution_count": 56,
   "metadata": {
    "colab": {
     "base_uri": "https://localhost:8080/",
     "height": 34
    },
    "colab_type": "code",
    "id": "---VwYMpAfb4",
    "outputId": "dbc4cf58-57c0-4a94-8335-dff7a0067541"
   },
   "outputs": [
    {
     "data": {
      "text/plain": [
       "(1003563, 13)"
      ]
     },
     "execution_count": 56,
     "metadata": {},
     "output_type": "execute_result"
    }
   ],
   "source": [
    "# Create a mask for good categories and filter data\n",
    "good_label_mask = dat['category_sub'].value_counts(ascending=True).values > 100\n",
    "good_labels_list = dat['category_sub'].value_counts(ascending=True)[good_label_mask].index.tolist()\n",
    "\n",
    "dat = dat.loc[dat['category_sub'].isin(good_labels_list)]\n",
    "dat.shape"
   ]
  },
  {
   "cell_type": "code",
   "execution_count": 57,
   "metadata": {
    "colab": {
     "base_uri": "https://localhost:8080/",
     "height": 927
    },
    "colab_type": "code",
    "id": "BBY2eKLkAfb7",
    "outputId": "16e10edd-65e7-4bc2-cddf-d4e9820628ae",
    "scrolled": true
   },
   "outputs": [
    {
     "data": {
      "text/plain": [
       "{'environment_general': 'environment',\n",
       " 'environment_dumping': 'environment',\n",
       " 'environment_air_pollution': 'environment',\n",
       " 'environment_abandoned_site': 'environment',\n",
       " 'publicorder_noise_complaint': 'public_order',\n",
       " 'environment_asbestos ': 'environment',\n",
       " 'environment_hazardous_material': 'environment',\n",
       " 'planning_general': 'planning',\n",
       " 'infrastructure_general': 'infrastructure',\n",
       " 'environment_recycling': 'environment',\n",
       " 'street_repair': 'street',\n",
       " 'housing_general': 'housing',\n",
       " 'environment_overgrowth': 'environment',\n",
       " 'housing_health_code': 'housing',\n",
       " 'street_sewar': 'street',\n",
       " 'environment_garbage_collection': 'environment',\n",
       " 'housing_safety': 'housing',\n",
       " 'environment_abandoned_vehicle': 'environment',\n",
       " 'governance_signage': 'governance',\n",
       " 'street_general': 'street',\n",
       " 'environment_litter': 'environment',\n",
       " 'street_urgent_repair': 'street',\n",
       " 'street_sidewalk': 'street',\n",
       " 'environment_dead_animal': 'environment',\n",
       " 'street_cleaning': 'street',\n",
       " 'environemnt_dead_animal': 'environment',\n",
       " 'vandalism_general': 'vandalism',\n",
       " 'planning_construction': 'planning',\n",
       " 'planning_unsafe_environment': 'planning',\n",
       " 'infrastructure_water': 'infrastructure',\n",
       " 'infrastructure_water_repair': 'infrastructure',\n",
       " 'vandalism_graffiti': 'vandalism',\n",
       " 'street_lighting': 'street',\n",
       " 'publichealth_general': 'public_health',\n",
       " 'fire_general': 'fire',\n",
       " 'street_parking': 'street',\n",
       " 'housing_mold': 'housing',\n",
       " 'publichealth_pests': 'public_health',\n",
       " 'housing_pests': 'housing',\n",
       " 'publicorder_general': 'public_order',\n",
       " 'governance_general': 'governance',\n",
       " 'publichealth_animal_feces': 'public_health',\n",
       " 'street_slippery': 'street',\n",
       " 'publichealth_animal': 'public_health',\n",
       " 'governance_parks_and_rec': 'governance',\n",
       " 'fire_equipment_broken': 'fire',\n",
       " 'fire_risks': 'fire',\n",
       " 'vandalism_graffiti ': 'vandalism',\n",
       " 'street_drainage': 'street',\n",
       " 'publichealth_restaurant_hygiene': 'public_health',\n",
       " 'infrastructure_power': 'infrastructure',\n",
       " 'street_roadkill': 'street'}"
      ]
     },
     "execution_count": 57,
     "metadata": {},
     "output_type": "execute_result"
    }
   ],
   "source": [
    "# Sub to Main mapping\n",
    "labels_map = dat[[\"category_main\", \"category_sub\"]].drop_duplicates()\n",
    "labels_map = labels_map.set_index(\"category_sub\").to_dict()[\"category_main\"]\n",
    "labels_map"
   ]
  },
  {
   "cell_type": "code",
   "execution_count": 58,
   "metadata": {
    "colab": {
     "base_uri": "https://localhost:8080/",
     "height": 34
    },
    "colab_type": "code",
    "id": "Hgw_f5eWAfb-",
    "outputId": "c9aecbd9-a328-443c-d404-8e06aba20536"
   },
   "outputs": [
    {
     "data": {
      "text/plain": [
       "(1003563, 2)"
      ]
     },
     "execution_count": 58,
     "metadata": {},
     "output_type": "execute_result"
    }
   ],
   "source": [
    "# Prep training data\n",
    "training_data = dat[['merged_complaint', 'category_sub']]\n",
    "type(training_data)\n",
    "training_data.shape"
   ]
  },
  {
   "cell_type": "code",
   "execution_count": 59,
   "metadata": {
    "colab": {},
    "colab_type": "code",
    "id": "uiGoe0j_AfcA"
   },
   "outputs": [],
   "source": [
    "# Stratified sample\n",
    "# _, sampleX, _, sampleY = train_test_split(trainingData.complaint, trainingData.CATEGORY_SUB, test_size=0.1, random_state=42, stratify=trainingData.CATEGORY_SUB)\n",
    "# print(sampleY.shape)"
   ]
  },
  {
   "cell_type": "code",
   "execution_count": 60,
   "metadata": {
    "colab": {},
    "colab_type": "code",
    "id": "BH-peZ2nAfcC"
   },
   "outputs": [],
   "source": [
    "# Check stratified sample\n",
    "# stratSampleDF = pandas.concat([sampleX,sampleY], axis = 1)\n",
    "# stratSampleDF.head()\n",
    "# print(stratSampleDF.CATEGORY_SUB.unique())\n",
    "# aggregationStrat = {\"complaint\":\"count\"}\n",
    "# aggregatedByLabelStrat = stratSampleDF.groupby(\"CATEGORY_SUB\").agg(aggregationStrat)\n",
    "# print(aggregatedByLabelStrat.sort_values((\"complaint\")))"
   ]
  },
  {
   "cell_type": "code",
   "execution_count": 61,
   "metadata": {
    "colab": {
     "base_uri": "https://localhost:8080/",
     "height": 52
    },
    "colab_type": "code",
    "id": "lzlz-QKpAfcE",
    "outputId": "f01e35b3-a653-485f-a58b-39765b795d21"
   },
   "outputs": [
    {
     "name": "stdout",
     "output_type": "stream",
     "text": [
      "(802850,)\n",
      "Split into train and test\n"
     ]
    }
   ],
   "source": [
    "# Split train/test\n",
    "trainX, testX, trainY, testY = train_test_split(training_data['merged_complaint'], training_data['category_sub'], test_size=0.2, random_state=42, stratify=training_data['category_sub'])\n",
    "del training_data\n",
    "print(trainX.shape)\n",
    "print(\"Split into train and test\")"
   ]
  },
  {
   "cell_type": "markdown",
   "metadata": {},
   "source": [
    "## Finetune"
   ]
  },
  {
   "cell_type": "code",
   "execution_count": 62,
   "metadata": {},
   "outputs": [],
   "source": [
    "import tensorflow as tf"
   ]
  },
  {
   "cell_type": "code",
   "execution_count": 63,
   "metadata": {},
   "outputs": [
    {
     "data": {
      "text/plain": [
       "True"
      ]
     },
     "execution_count": 63,
     "metadata": {},
     "output_type": "execute_result"
    }
   ],
   "source": [
    "tf.test.is_gpu_available()"
   ]
  },
  {
   "cell_type": "code",
   "execution_count": 64,
   "metadata": {},
   "outputs": [],
   "source": [
    "from finetune import config\n",
    "\n",
    "# import logging\n",
    "\n",
    "# import os\n",
    "# import subprocess\n",
    "# import traceback\n",
    "# import warnings\n"
   ]
  },
  {
   "cell_type": "code",
   "execution_count": 66,
   "metadata": {},
   "outputs": [
    {
     "data": {
      "text/plain": [
       "{0: ' GeForce GTX 1070 Ti (UUID: GPU-d82ccac6-f7d3-1739-5501-da35bf928ab4)'}"
      ]
     },
     "execution_count": 66,
     "metadata": {},
     "output_type": "execute_result"
    }
   ],
   "source": [
    "config.all_gpus()"
   ]
  },
  {
   "cell_type": "code",
   "execution_count": 143,
   "metadata": {
    "scrolled": true
   },
   "outputs": [
    {
     "name": "stderr",
     "output_type": "stream",
     "text": [
      "INFO:finetune: Visible Devices: {0: GeForce GTX 1070 Ti}\n"
     ]
    }
   ],
   "source": [
    "# LOGGER = logging.getLogger('finetune')\n",
    "# PAD_TOKEN = '<PAD>'\n",
    "\n",
    "# sp = subprocess.Popen([r'C:\\Program Files\\NVIDIA Corporation\\NVSMI\\nvidia-smi.exe', '-L'], stdout=subprocess.PIPE, stderr=subprocess.PIPE)\n",
    "# response = sp.communicate()[0]\n",
    "# gpu_list = response.decode('utf-8').strip().split('\\n')\n",
    "# device_ids = {}\n",
    "# for i, gpu in enumerate(gpu_list):\n",
    "#     # May be worth logging GPU description\n",
    "#     device_id_str, _, description = gpu.partition(':')\n",
    "#     assert int(device_id_str.split(' ')[-1]) == i\n",
    "#     device_ids[i] = description\n",
    "\n",
    "# cuda_visible_devices = os.getenv(\"CUDA_VISIBLE_DEVICES\")\n",
    "# if cuda_visible_devices:\n",
    "#     device_ids = {\n",
    "#         device_id: description \n",
    "#         for device_id, description in device_ids.items()\n",
    "#         if str(device_id) in cuda_visible_devices.split(',')\n",
    "#     }\n",
    "# LOGGER.info(\" Visible Devices: {{{}}}\".format(\n",
    "#     \", \".join([\n",
    "#         \"{}:{}\".format(device_id, description.split('(')[0]).strip()\n",
    "#         for device_id, description in device_ids.items()\n",
    "#     ])\n",
    "# ))"
   ]
  },
  {
   "cell_type": "code",
   "execution_count": null,
   "metadata": {},
   "outputs": [],
   "source": []
  },
  {
   "cell_type": "code",
   "execution_count": null,
   "metadata": {},
   "outputs": [],
   "source": []
  },
  {
   "cell_type": "code",
   "execution_count": null,
   "metadata": {},
   "outputs": [],
   "source": []
  },
  {
   "cell_type": "code",
   "execution_count": null,
   "metadata": {},
   "outputs": [],
   "source": []
  },
  {
   "cell_type": "code",
   "execution_count": null,
   "metadata": {
    "colab": {
     "base_uri": "https://localhost:8080/",
     "height": 6247
    },
    "colab_type": "code",
    "id": "9Noigjv6AfcF",
    "outputId": "88d9b7b3-bde3-40e6-d4d0-986f42eb6033"
   },
   "outputs": [
    {
     "name": "stderr",
     "output_type": "stream",
     "text": [
      "Epoch 1/3:   1%|▍                                                             | 6002/802750 [15:07<33:19:33,  6.64it/s]\n",
      "Validation:   0%|                                                                              | 0/100 [00:00<?, ?it/s]\n",
      "Validation:   8%|█████▌                                                                | 8/100 [00:00<00:01, 48.32it/s]\n",
      "Validation:  12%|████████▎                                                            | 12/100 [00:00<00:02, 37.07it/s]\n",
      "Validation:  16%|███████████                                                          | 16/100 [00:00<00:02, 31.87it/s]\n",
      "Validation:  20%|█████████████▊                                                       | 20/100 [00:00<00:02, 29.09it/s]\n",
      "Validation:  24%|████████████████▌                                                    | 24/100 [00:00<00:02, 27.35it/s]\n",
      "Validation:  28%|███████████████████▎                                                 | 28/100 [00:00<00:02, 26.26it/s]\n",
      "Validation:  32%|██████████████████████                                               | 32/100 [00:01<00:02, 25.54it/s]\n",
      "Validation:  36%|████████████████████████▊                                            | 36/100 [00:01<00:02, 25.07it/s]\n",
      "Validation:  40%|███████████████████████████▌                                         | 40/100 [00:01<00:02, 24.79it/s]\n",
      "Validation:  44%|██████████████████████████████▎                                      | 44/100 [00:01<00:02, 24.60it/s]\n",
      "Validation:  48%|█████████████████████████████████                                    | 48/100 [00:01<00:02, 24.42it/s]\n",
      "Validation:  52%|███████████████████████████████████▉                                 | 52/100 [00:01<00:01, 24.30it/s]\n",
      "Validation:  56%|██████████████████████████████████████▋                              | 56/100 [00:02<00:01, 24.17it/s]\n",
      "Validation:  60%|█████████████████████████████████████████▍                           | 60/100 [00:02<00:01, 24.12it/s]\n",
      "Validation:  64%|████████████████████████████████████████████▏                        | 64/100 [00:02<00:01, 24.13it/s]\n",
      "Validation:  68%|██████████████████████████████████████████████▉                      | 68/100 [00:02<00:01, 24.10it/s]\n",
      "Validation:  72%|█████████████████████████████████████████████████▋                   | 72/100 [00:02<00:01, 24.16it/s]\n",
      "Validation:  76%|████████████████████████████████████████████████████▍                | 76/100 [00:02<00:00, 24.16it/s]\n",
      "Validation:  80%|███████████████████████████████████████████████████████▏             | 80/100 [00:03<00:00, 24.12it/s]\n",
      "Validation:  84%|█████████████████████████████████████████████████████████▉           | 84/100 [00:03<00:00, 24.04it/s]\n",
      "Validation:  88%|████████████████████████████████████████████████████████████▋        | 88/100 [00:03<00:00, 24.08it/s]\n",
      "Validation:  92%|███████████████████████████████████████████████████████████████▍     | 92/100 [00:03<00:00, 24.10it/s]\n",
      "Validation:  96%|██████████████████████████████████████████████████████████████████▏  | 96/100 [00:03<00:00, 24.08it/s]\n",
      "Validation: 100%|████████████████████████████████████████████████████████████████████| 100/100 [00:03<00:00, 24.06it/s]\n",
      "Epoch 1/3:   1%|▉                                                            | 12002/802750 [30:21<32:41:55,  6.72it/s]\n",
      "Validation:   0%|                                                                              | 0/100 [00:00<?, ?it/s]\n",
      "Validation:   8%|█████▌                                                                | 8/100 [00:00<00:01, 48.91it/s]\n",
      "Validation:  12%|████████▎                                                            | 12/100 [00:00<00:02, 37.73it/s]\n",
      "Validation:  16%|███████████                                                          | 16/100 [00:00<00:02, 32.45it/s]\n",
      "Validation:  20%|█████████████▊                                                       | 20/100 [00:00<00:02, 29.48it/s]\n",
      "Validation:  24%|████████████████▌                                                    | 24/100 [00:00<00:02, 27.71it/s]\n",
      "Validation:  28%|███████████████████▎                                                 | 28/100 [00:00<00:02, 26.60it/s]\n",
      "Validation:  32%|██████████████████████                                               | 32/100 [00:01<00:02, 25.77it/s]\n",
      "Validation:  36%|████████████████████████▊                                            | 36/100 [00:01<00:02, 25.36it/s]\n",
      "Validation:  40%|███████████████████████████▌                                         | 40/100 [00:01<00:02, 25.03it/s]\n",
      "Validation:  44%|██████████████████████████████▎                                      | 44/100 [00:01<00:02, 24.81it/s]\n",
      "Validation:  48%|█████████████████████████████████                                    | 48/100 [00:01<00:02, 24.70it/s]\n",
      "Validation:  52%|███████████████████████████████████▉                                 | 52/100 [00:01<00:01, 24.58it/s]\n",
      "Validation:  56%|██████████████████████████████████████▋                              | 56/100 [00:02<00:01, 24.50it/s]\n",
      "Validation:  60%|█████████████████████████████████████████▍                           | 60/100 [00:02<00:01, 24.44it/s]\n",
      "Validation:  64%|████████████████████████████████████████████▏                        | 64/100 [00:02<00:01, 24.36it/s]\n",
      "Validation:  68%|██████████████████████████████████████████████▉                      | 68/100 [00:02<00:01, 24.43it/s]\n",
      "Validation:  72%|█████████████████████████████████████████████████▋                   | 72/100 [00:02<00:01, 24.39it/s]\n",
      "Validation:  76%|████████████████████████████████████████████████████▍                | 76/100 [00:02<00:00, 24.37it/s]\n",
      "Validation:  80%|███████████████████████████████████████████████████████▏             | 80/100 [00:03<00:00, 24.35it/s]\n",
      "Validation:  84%|█████████████████████████████████████████████████████████▉           | 84/100 [00:03<00:00, 24.34it/s]\n",
      "Validation:  88%|████████████████████████████████████████████████████████████▋        | 88/100 [00:03<00:00, 24.28it/s]\n",
      "Validation:  92%|███████████████████████████████████████████████████████████████▍     | 92/100 [00:03<00:00, 24.33it/s]\n",
      "Validation:  96%|██████████████████████████████████████████████████████████████████▏  | 96/100 [00:03<00:00, 24.37it/s]\n",
      "Validation: 100%|████████████████████████████████████████████████████████████████████| 100/100 [00:03<00:00, 24.40it/s]\n",
      "Epoch 1/3:   2%|█▎                                                           | 18002/802750 [45:34<32:25:19,  6.72it/s]\n",
      "Validation:   0%|                                                                              | 0/100 [00:00<?, ?it/s]\n",
      "Validation:   8%|█████▌                                                                | 8/100 [00:00<00:01, 48.91it/s]\n",
      "Validation:  12%|████████▎                                                            | 12/100 [00:00<00:02, 37.62it/s]\n",
      "Validation:  16%|███████████                                                          | 16/100 [00:00<00:02, 32.31it/s]\n",
      "Validation:  20%|█████████████▊                                                       | 20/100 [00:00<00:02, 29.47it/s]\n",
      "Validation:  24%|████████████████▌                                                    | 24/100 [00:00<00:02, 27.76it/s]\n",
      "Validation:  28%|███████████████████▎                                                 | 28/100 [00:00<00:02, 26.63it/s]\n",
      "Validation:  32%|██████████████████████                                               | 32/100 [00:01<00:02, 25.89it/s]\n",
      "Validation:  36%|████████████████████████▊                                            | 36/100 [00:01<00:02, 25.44it/s]\n",
      "Validation:  40%|███████████████████████████▌                                         | 40/100 [00:01<00:02, 25.14it/s]\n",
      "Validation:  44%|██████████████████████████████▎                                      | 44/100 [00:01<00:02, 24.93it/s]\n",
      "Validation:  48%|█████████████████████████████████                                    | 48/100 [00:01<00:02, 24.74it/s]\n",
      "Validation:  52%|███████████████████████████████████▉                                 | 52/100 [00:01<00:01, 24.65it/s]\n",
      "Validation:  56%|██████████████████████████████████████▋                              | 56/100 [00:02<00:01, 24.55it/s]\n",
      "Validation:  60%|█████████████████████████████████████████▍                           | 60/100 [00:02<00:01, 24.48it/s]\n",
      "Validation:  64%|████████████████████████████████████████████▏                        | 64/100 [00:02<00:01, 24.42it/s]\n",
      "Validation:  68%|██████████████████████████████████████████████▉                      | 68/100 [00:02<00:01, 24.43it/s]\n",
      "Validation:  72%|█████████████████████████████████████████████████▋                   | 72/100 [00:02<00:01, 24.44it/s]\n",
      "Validation:  76%|████████████████████████████████████████████████████▍                | 76/100 [00:02<00:00, 24.40it/s]\n",
      "Validation:  80%|███████████████████████████████████████████████████████▏             | 80/100 [00:03<00:00, 24.24it/s]\n",
      "Validation:  84%|█████████████████████████████████████████████████████████▉           | 84/100 [00:03<00:00, 24.26it/s]\n",
      "Validation:  88%|████████████████████████████████████████████████████████████▋        | 88/100 [00:03<00:00, 24.27it/s]\n",
      "Validation:  92%|███████████████████████████████████████████████████████████████▍     | 92/100 [00:03<00:00, 24.28it/s]\n",
      "Validation:  96%|██████████████████████████████████████████████████████████████████▏  | 96/100 [00:03<00:00, 24.29it/s]\n",
      "Validation: 100%|████████████████████████████████████████████████████████████████████| 100/100 [00:03<00:00, 24.25it/s]\n",
      "Epoch 1/3:   3%|█▊                                                         | 24002/802750 [1:00:52<32:07:26,  6.73it/s]\n",
      "Validation:   0%|                                                                              | 0/100 [00:00<?, ?it/s]\n",
      "Validation:   8%|█████▌                                                                | 8/100 [00:00<00:01, 49.21it/s]\n",
      "Validation:  12%|████████▎                                                            | 12/100 [00:00<00:02, 37.85it/s]\n",
      "Validation:  16%|███████████                                                          | 16/100 [00:00<00:02, 32.51it/s]\n",
      "Validation:  20%|█████████████▊                                                       | 20/100 [00:00<00:02, 29.65it/s]\n",
      "Validation:  24%|████████████████▌                                                    | 24/100 [00:00<00:02, 27.93it/s]\n",
      "Validation:  28%|███████████████████▎                                                 | 28/100 [00:00<00:02, 26.79it/s]\n",
      "Validation:  32%|██████████████████████                                               | 32/100 [00:01<00:02, 25.99it/s]\n",
      "Validation:  36%|████████████████████████▊                                            | 36/100 [00:01<00:02, 25.51it/s]\n",
      "Validation:  40%|███████████████████████████▌                                         | 40/100 [00:01<00:02, 25.19it/s]\n",
      "Validation:  44%|██████████████████████████████▎                                      | 44/100 [00:01<00:02, 25.01it/s]\n",
      "Validation:  48%|█████████████████████████████████                                    | 48/100 [00:01<00:02, 24.89it/s]\n",
      "Validation:  52%|███████████████████████████████████▉                                 | 52/100 [00:01<00:01, 24.76it/s]\n",
      "Validation:  56%|██████████████████████████████████████▋                              | 56/100 [00:02<00:01, 24.62it/s]\n",
      "Validation:  60%|█████████████████████████████████████████▍                           | 60/100 [00:02<00:01, 24.52it/s]\n",
      "Validation:  64%|████████████████████████████████████████████▏                        | 64/100 [00:02<00:01, 24.50it/s]\n",
      "Validation:  68%|██████████████████████████████████████████████▉                      | 68/100 [00:02<00:01, 24.49it/s]\n",
      "Validation:  72%|█████████████████████████████████████████████████▋                   | 72/100 [00:02<00:01, 24.52it/s]\n",
      "Validation:  76%|████████████████████████████████████████████████████▍                | 76/100 [00:02<00:00, 24.50it/s]\n",
      "Validation:  80%|███████████████████████████████████████████████████████▏             | 80/100 [00:03<00:00, 24.53it/s]\n",
      "Validation:  84%|█████████████████████████████████████████████████████████▉           | 84/100 [00:03<00:00, 24.51it/s]\n",
      "Validation:  88%|████████████████████████████████████████████████████████████▋        | 88/100 [00:03<00:00, 24.49it/s]\n",
      "Validation:  92%|███████████████████████████████████████████████████████████████▍     | 92/100 [00:03<00:00, 24.48it/s]\n",
      "Validation:  96%|██████████████████████████████████████████████████████████████████▏  | 96/100 [00:03<00:00, 24.47it/s]\n",
      "Validation: 100%|████████████████████████████████████████████████████████████████████| 100/100 [00:03<00:00, 24.42it/s]\n",
      "Epoch 1/3:   4%|██▏                                                        | 30002/802750 [1:16:03<31:53:37,  6.73it/s]\n",
      "Validation:   0%|                                                                              | 0/100 [00:00<?, ?it/s]\n",
      "Validation:   8%|█████▌                                                                | 8/100 [00:00<00:01, 49.51it/s]\n",
      "Validation:  12%|████████▎                                                            | 12/100 [00:00<00:02, 37.87it/s]\n",
      "Validation:  16%|███████████                                                          | 16/100 [00:00<00:02, 32.52it/s]\n",
      "Validation:  20%|█████████████▊                                                       | 20/100 [00:00<00:02, 29.59it/s]\n",
      "Validation:  24%|████████████████▌                                                    | 24/100 [00:00<00:02, 27.90it/s]\n",
      "Validation:  28%|███████████████████▎                                                 | 28/100 [00:00<00:02, 26.71it/s]\n",
      "Validation:  32%|██████████████████████                                               | 32/100 [00:01<00:02, 25.94it/s]\n",
      "Validation:  36%|████████████████████████▊                                            | 36/100 [00:01<00:02, 25.48it/s]\n",
      "Validation:  40%|███████████████████████████▌                                         | 40/100 [00:01<00:02, 25.16it/s]\n",
      "Validation:  44%|██████████████████████████████▎                                      | 44/100 [00:01<00:02, 24.90it/s]\n",
      "Validation:  48%|█████████████████████████████████                                    | 48/100 [00:01<00:02, 24.81it/s]\n",
      "Validation:  52%|███████████████████████████████████▉                                 | 52/100 [00:01<00:01, 24.66it/s]\n",
      "Validation:  56%|██████████████████████████████████████▋                              | 56/100 [00:02<00:01, 24.55it/s]\n",
      "Validation:  60%|█████████████████████████████████████████▍                           | 60/100 [00:02<00:01, 24.48it/s]\n",
      "Validation:  64%|████████████████████████████████████████████▏                        | 64/100 [00:02<00:01, 24.47it/s]\n",
      "Validation:  68%|██████████████████████████████████████████████▉                      | 68/100 [00:02<00:01, 24.42it/s]\n",
      "Validation:  72%|█████████████████████████████████████████████████▋                   | 72/100 [00:02<00:01, 24.48it/s]\n",
      "Validation:  76%|████████████████████████████████████████████████████▍                | 76/100 [00:02<00:00, 24.43it/s]\n",
      "Validation:  80%|███████████████████████████████████████████████████████▏             | 80/100 [00:03<00:00, 24.43it/s]\n",
      "Validation:  84%|█████████████████████████████████████████████████████████▉           | 84/100 [00:03<00:00, 24.44it/s]\n",
      "Validation:  88%|████████████████████████████████████████████████████████████▋        | 88/100 [00:03<00:00, 24.40it/s]\n",
      "Validation:  92%|███████████████████████████████████████████████████████████████▍     | 92/100 [00:03<00:00, 24.42it/s]\n",
      "Validation:  96%|██████████████████████████████████████████████████████████████████▏  | 96/100 [00:03<00:00, 24.43it/s]\n",
      "Validation: 100%|████████████████████████████████████████████████████████████████████| 100/100 [00:03<00:00, 24.44it/s]\n",
      "Epoch 1/3:   4%|██▋                                                        | 36002/802750 [1:31:14<31:37:44,  6.73it/s]\n",
      "Validation:   0%|                                                                              | 0/100 [00:00<?, ?it/s]\n",
      "Validation:   8%|█████▌                                                                | 8/100 [00:00<00:01, 49.21it/s]\n",
      "Validation:  12%|████████▎                                                            | 12/100 [00:00<00:02, 37.85it/s]\n",
      "Validation:  16%|███████████                                                          | 16/100 [00:00<00:02, 32.59it/s]\n",
      "Validation:  20%|█████████████▊                                                       | 20/100 [00:00<00:02, 29.63it/s]\n"
     ]
    },
    {
     "name": "stderr",
     "output_type": "stream",
     "text": [
      "Validation:  24%|████████████████▌                                                    | 24/100 [00:00<00:02, 27.92it/s]\n",
      "Validation:  28%|███████████████████▎                                                 | 28/100 [00:00<00:02, 26.73it/s]\n",
      "Validation:  32%|██████████████████████                                               | 32/100 [00:01<00:02, 25.95it/s]\n",
      "Validation:  36%|████████████████████████▊                                            | 36/100 [00:01<00:02, 25.44it/s]\n",
      "Validation:  40%|███████████████████████████▌                                         | 40/100 [00:01<00:02, 25.18it/s]\n",
      "Validation:  44%|██████████████████████████████▎                                      | 44/100 [00:01<00:02, 24.96it/s]\n",
      "Validation:  48%|█████████████████████████████████                                    | 48/100 [00:01<00:02, 24.85it/s]\n",
      "Validation:  52%|███████████████████████████████████▉                                 | 52/100 [00:01<00:01, 24.73it/s]\n",
      "Validation:  56%|██████████████████████████████████████▋                              | 56/100 [00:02<00:01, 24.65it/s]\n",
      "Validation:  60%|█████████████████████████████████████████▍                           | 60/100 [00:02<00:01, 24.54it/s]\n",
      "Validation:  64%|████████████████████████████████████████████▏                        | 64/100 [00:02<00:01, 24.52it/s]\n",
      "Validation:  68%|██████████████████████████████████████████████▉                      | 68/100 [00:02<00:01, 24.50it/s]\n",
      "Validation:  72%|█████████████████████████████████████████████████▋                   | 72/100 [00:02<00:01, 24.49it/s]\n",
      "Validation:  76%|████████████████████████████████████████████████████▍                | 76/100 [00:02<00:00, 24.48it/s]\n",
      "Validation:  80%|███████████████████████████████████████████████████████▏             | 80/100 [00:03<00:00, 24.47it/s]\n",
      "Validation:  84%|█████████████████████████████████████████████████████████▉           | 84/100 [00:03<00:00, 24.47it/s]\n",
      "Validation:  88%|████████████████████████████████████████████████████████████▋        | 88/100 [00:03<00:00, 24.46it/s]\n",
      "Validation:  92%|███████████████████████████████████████████████████████████████▍     | 92/100 [00:03<00:00, 24.46it/s]\n",
      "Validation:  96%|██████████████████████████████████████████████████████████████████▏  | 96/100 [00:03<00:00, 24.50it/s]\n",
      "Validation: 100%|████████████████████████████████████████████████████████████████████| 100/100 [00:03<00:00, 24.44it/s]\n",
      "Epoch 1/3:   5%|███                                                        | 42002/802750 [1:46:24<31:21:09,  6.74it/s]\n",
      "Validation:   0%|                                                                              | 0/100 [00:00<?, ?it/s]\n",
      "Validation:   8%|█████▌                                                                | 8/100 [00:00<00:01, 49.21it/s]\n",
      "Validation:  12%|████████▎                                                            | 12/100 [00:00<00:02, 37.85it/s]\n",
      "Validation:  16%|███████████                                                          | 16/100 [00:00<00:02, 32.59it/s]\n",
      "Validation:  20%|█████████████▊                                                       | 20/100 [00:00<00:02, 29.63it/s]\n",
      "Validation:  24%|████████████████▌                                                    | 24/100 [00:00<00:02, 27.92it/s]\n",
      "Validation:  28%|███████████████████▎                                                 | 28/100 [00:00<00:02, 26.73it/s]\n",
      "Validation:  32%|██████████████████████                                               | 32/100 [00:01<00:02, 25.95it/s]\n",
      "Validation:  36%|████████████████████████▊                                            | 36/100 [00:01<00:02, 25.49it/s]\n",
      "Validation:  40%|███████████████████████████▌                                         | 40/100 [00:01<00:02, 25.21it/s]\n",
      "Validation:  44%|██████████████████████████████▎                                      | 44/100 [00:01<00:02, 24.98it/s]\n",
      "Validation:  48%|█████████████████████████████████                                    | 48/100 [00:01<00:02, 24.82it/s]\n",
      "Validation:  52%|███████████████████████████████████▉                                 | 52/100 [00:01<00:01, 24.67it/s]\n",
      "Validation:  56%|██████████████████████████████████████▋                              | 56/100 [00:02<00:01, 24.60it/s]\n",
      "Validation:  60%|█████████████████████████████████████████▍                           | 60/100 [00:02<00:01, 24.60it/s]\n",
      "Validation:  64%|████████████████████████████████████████████▏                        | 64/100 [00:02<00:01, 24.56it/s]\n",
      "Validation:  68%|██████████████████████████████████████████████▉                      | 68/100 [00:02<00:01, 24.48it/s]\n",
      "Validation:  72%|█████████████████████████████████████████████████▋                   | 72/100 [00:02<00:01, 24.47it/s]\n",
      "Validation:  76%|████████████████████████████████████████████████████▍                | 76/100 [00:02<00:00, 24.47it/s]\n",
      "Validation:  80%|███████████████████████████████████████████████████████▏             | 80/100 [00:03<00:00, 24.51it/s]\n",
      "Validation:  84%|█████████████████████████████████████████████████████████▉           | 84/100 [00:03<00:00, 24.45it/s]\n",
      "Validation:  88%|████████████████████████████████████████████████████████████▋        | 88/100 [00:03<00:00, 24.45it/s]\n",
      "Validation:  92%|███████████████████████████████████████████████████████████████▍     | 92/100 [00:03<00:00, 24.45it/s]\n",
      "Validation:  96%|██████████████████████████████████████████████████████████████████▏  | 96/100 [00:03<00:00, 24.45it/s]\n",
      "Validation: 100%|████████████████████████████████████████████████████████████████████| 100/100 [00:03<00:00, 24.50it/s]\n",
      "Epoch 1/3:   6%|███▌                                                       | 48002/802750 [2:01:35<31:08:48,  6.73it/s]\n",
      "Validation:   0%|                                                                              | 0/100 [00:00<?, ?it/s]\n",
      "Validation:   8%|█████▌                                                                | 8/100 [00:00<00:01, 49.51it/s]\n",
      "Validation:  12%|████████▎                                                            | 12/100 [00:00<00:02, 37.87it/s]\n",
      "Validation:  16%|███████████                                                          | 16/100 [00:00<00:02, 32.52it/s]\n",
      "Validation:  20%|█████████████▊                                                       | 20/100 [00:00<00:02, 29.66it/s]\n",
      "Validation:  24%|████████████████▌                                                    | 24/100 [00:00<00:02, 27.94it/s]\n",
      "Validation:  28%|███████████████████▎                                                 | 28/100 [00:00<00:02, 26.74it/s]\n",
      "Validation:  32%|██████████████████████                                               | 32/100 [00:01<00:02, 25.96it/s]\n",
      "Validation:  36%|████████████████████████▊                                            | 36/100 [00:01<00:02, 25.54it/s]\n",
      "Validation:  40%|███████████████████████████▌                                         | 40/100 [00:01<00:02, 25.20it/s]\n",
      "Validation:  44%|██████████████████████████████▎                                      | 44/100 [00:01<00:02, 25.02it/s]\n",
      "Validation:  48%|█████████████████████████████████                                    | 48/100 [00:01<00:02, 24.85it/s]\n",
      "Validation:  52%|███████████████████████████████████▉                                 | 52/100 [00:01<00:01, 24.73it/s]\n",
      "Validation:  56%|██████████████████████████████████████▋                              | 56/100 [00:02<00:01, 24.60it/s]\n",
      "Validation:  60%|█████████████████████████████████████████▍                           | 60/100 [00:02<00:01, 24.51it/s]\n",
      "Validation:  64%|████████████████████████████████████████████▏                        | 64/100 [00:02<00:01, 24.54it/s]\n",
      "Validation:  68%|██████████████████████████████████████████████▉                      | 68/100 [00:02<00:01, 24.51it/s]\n",
      "Validation:  72%|█████████████████████████████████████████████████▋                   | 72/100 [00:02<00:01, 24.54it/s]\n",
      "Validation:  76%|████████████████████████████████████████████████████▍                | 76/100 [00:02<00:00, 24.52it/s]\n",
      "Validation:  80%|███████████████████████████████████████████████████████▏             | 80/100 [00:03<00:00, 24.45it/s]\n",
      "Validation:  84%|█████████████████████████████████████████████████████████▉           | 84/100 [00:03<00:00, 24.45it/s]\n",
      "Validation:  88%|████████████████████████████████████████████████████████████▋        | 88/100 [00:03<00:00, 24.45it/s]\n",
      "Validation:  92%|███████████████████████████████████████████████████████████████▍     | 92/100 [00:03<00:00, 24.50it/s]\n",
      "Validation:  96%|██████████████████████████████████████████████████████████████████▏  | 96/100 [00:03<00:00, 24.49it/s]\n",
      "Validation: 100%|████████████████████████████████████████████████████████████████████| 100/100 [00:03<00:00, 24.43it/s]\n",
      "Epoch 1/3:   7%|███▉                                                       | 54002/802750 [2:16:54<30:55:33,  6.73it/s]\n",
      "Validation:   0%|                                                                              | 0/100 [00:00<?, ?it/s]\n",
      "Validation:   8%|█████▌                                                                | 8/100 [00:00<00:01, 48.91it/s]\n",
      "Validation:  12%|████████▎                                                            | 12/100 [00:00<00:02, 37.62it/s]\n",
      "Validation:  16%|███████████                                                          | 16/100 [00:00<00:02, 32.31it/s]\n",
      "Validation:  20%|█████████████▊                                                       | 20/100 [00:00<00:02, 29.47it/s]\n",
      "Validation:  24%|████████████████▌                                                    | 24/100 [00:00<00:02, 27.76it/s]\n",
      "Validation:  28%|███████████████████▎                                                 | 28/100 [00:00<00:02, 26.57it/s]\n",
      "Validation:  32%|██████████████████████                                               | 32/100 [00:01<00:02, 25.80it/s]\n",
      "Validation:  36%|████████████████████████▊                                            | 36/100 [00:01<00:02, 25.33it/s]\n",
      "Validation:  40%|███████████████████████████▌                                         | 40/100 [00:01<00:02, 25.06it/s]\n",
      "Validation:  44%|██████████████████████████████▎                                      | 44/100 [00:01<00:02, 24.88it/s]\n",
      "Validation:  48%|█████████████████████████████████                                    | 48/100 [00:01<00:02, 24.75it/s]\n",
      "Validation:  52%|███████████████████████████████████▉                                 | 52/100 [00:01<00:01, 24.62it/s]\n",
      "Validation:  56%|██████████████████████████████████████▋                              | 56/100 [00:02<00:01, 24.52it/s]\n",
      "Validation:  60%|█████████████████████████████████████████▍                           | 60/100 [00:02<00:01, 24.50it/s]\n",
      "Validation:  64%|████████████████████████████████████████████▏                        | 64/100 [00:02<00:01, 24.44it/s]\n",
      "Validation:  68%|██████████████████████████████████████████████▉                      | 68/100 [00:02<00:01, 24.40it/s]\n",
      "Validation:  72%|█████████████████████████████████████████████████▋                   | 72/100 [00:02<00:01, 24.42it/s]\n",
      "Validation:  76%|████████████████████████████████████████████████████▍                | 76/100 [00:02<00:00, 24.38it/s]\n",
      "Validation:  80%|███████████████████████████████████████████████████████▏             | 80/100 [00:03<00:00, 24.36it/s]\n",
      "Validation:  84%|█████████████████████████████████████████████████████████▉           | 84/100 [00:03<00:00, 24.35it/s]\n",
      "Validation:  88%|████████████████████████████████████████████████████████████▋        | 88/100 [00:03<00:00, 24.33it/s]\n",
      "Validation:  92%|███████████████████████████████████████████████████████████████▍     | 92/100 [00:03<00:00, 24.33it/s]\n",
      "Validation:  96%|██████████████████████████████████████████████████████████████████▏  | 96/100 [00:03<00:00, 24.36it/s]\n",
      "Validation: 100%|████████████████████████████████████████████████████████████████████| 100/100 [00:03<00:00, 24.35it/s]\n",
      "Epoch 1/3:   7%|████▍                                                      | 60002/802750 [2:32:06<30:39:38,  6.73it/s]\n",
      "Validation:   0%|                                                                              | 0/100 [00:00<?, ?it/s]\n",
      "Validation:   8%|█████▌                                                                | 8/100 [00:00<00:01, 49.21it/s]\n",
      "Validation:  12%|████████▎                                                            | 12/100 [00:00<00:02, 37.75it/s]\n",
      "Validation:  16%|███████████                                                          | 16/100 [00:00<00:02, 32.46it/s]\n",
      "Validation:  20%|█████████████▊                                                       | 20/100 [00:00<00:02, 29.56it/s]\n",
      "Validation:  24%|████████████████▌                                                    | 24/100 [00:00<00:02, 27.82it/s]\n",
      "Validation:  28%|███████████████████▎                                                 | 28/100 [00:00<00:02, 26.66it/s]\n",
      "Validation:  32%|██████████████████████                                               | 32/100 [00:01<00:02, 25.86it/s]\n",
      "Validation:  36%|████████████████████████▊                                            | 36/100 [00:01<00:02, 25.42it/s]\n",
      "Validation:  40%|███████████████████████████▌                                         | 40/100 [00:01<00:02, 25.12it/s]\n",
      "Validation:  44%|██████████████████████████████▎                                      | 44/100 [00:01<00:02, 24.87it/s]\n",
      "Validation:  48%|█████████████████████████████████                                    | 48/100 [00:01<00:02, 24.75it/s]\n",
      "Validation:  52%|███████████████████████████████████▉                                 | 52/100 [00:01<00:01, 24.61it/s]\n",
      "Validation:  56%|██████████████████████████████████████▋                              | 56/100 [00:02<00:01, 24.48it/s]\n",
      "Validation:  60%|█████████████████████████████████████████▍                           | 60/100 [00:02<00:01, 24.42it/s]\n",
      "Validation:  64%|████████████████████████████████████████████▏                        | 64/100 [00:02<00:01, 24.39it/s]\n",
      "Validation:  68%|██████████████████████████████████████████████▉                      | 68/100 [00:02<00:01, 24.41it/s]\n",
      "Validation:  72%|█████████████████████████████████████████████████▋                   | 72/100 [00:02<00:01, 24.38it/s]\n",
      "Validation:  76%|████████████████████████████████████████████████████▍                | 76/100 [00:02<00:00, 24.36it/s]\n",
      "Validation:  80%|███████████████████████████████████████████████████████▏             | 80/100 [00:03<00:00, 24.34it/s]\n",
      "Validation:  84%|█████████████████████████████████████████████████████████▉           | 84/100 [00:03<00:00, 24.33it/s]\n",
      "Validation:  88%|████████████████████████████████████████████████████████████▋        | 88/100 [00:03<00:00, 24.32it/s]\n",
      "Validation:  92%|███████████████████████████████████████████████████████████████▍     | 92/100 [00:03<00:00, 24.36it/s]\n",
      "Validation:  96%|██████████████████████████████████████████████████████████████████▏  | 96/100 [00:03<00:00, 24.39it/s]\n",
      "Validation: 100%|████████████████████████████████████████████████████████████████████| 100/100 [00:03<00:00, 24.37it/s]\n",
      "Epoch 1/3:   8%|████▊                                                      | 66002/802750 [2:47:18<30:27:30,  6.72it/s]\n",
      "Validation:   0%|                                                                              | 0/100 [00:00<?, ?it/s]\n",
      "Validation:   8%|█████▌                                                                | 8/100 [00:00<00:01, 49.21it/s]\n",
      "Validation:  12%|████████▎                                                            | 12/100 [00:00<00:02, 37.75it/s]\n",
      "Validation:  16%|███████████                                                          | 16/100 [00:00<00:02, 32.46it/s]\n",
      "Validation:  20%|█████████████▊                                                       | 20/100 [00:00<00:02, 29.56it/s]\n",
      "Validation:  24%|████████████████▌                                                    | 24/100 [00:00<00:02, 27.82it/s]\n",
      "Validation:  28%|███████████████████▎                                                 | 28/100 [00:00<00:02, 26.66it/s]\n",
      "Validation:  32%|██████████████████████                                               | 32/100 [00:01<00:02, 25.86it/s]\n",
      "Validation:  36%|████████████████████████▊                                            | 36/100 [00:01<00:02, 25.32it/s]\n",
      "Validation:  40%|███████████████████████████▌                                         | 40/100 [00:01<00:02, 25.10it/s]\n",
      "Validation:  44%|██████████████████████████████▎                                      | 44/100 [00:01<00:02, 24.86it/s]\n"
     ]
    },
    {
     "name": "stderr",
     "output_type": "stream",
     "text": [
      "Validation:  48%|█████████████████████████████████                                    | 48/100 [00:01<00:02, 24.74it/s]\n",
      "Validation:  52%|███████████████████████████████████▉                                 | 52/100 [00:01<00:01, 24.61it/s]\n",
      "Validation:  56%|██████████████████████████████████████▋                              | 56/100 [00:02<00:01, 24.56it/s]\n",
      "Validation:  60%|█████████████████████████████████████████▍                           | 60/100 [00:02<00:01, 24.44it/s]\n",
      "Validation:  64%|████████████████████████████████████████████▏                        | 64/100 [00:02<00:01, 24.44it/s]\n",
      "Validation:  68%|██████████████████████████████████████████████▉                      | 68/100 [00:02<00:01, 24.40it/s]\n",
      "Validation:  72%|█████████████████████████████████████████████████▋                   | 72/100 [00:02<00:01, 24.42it/s]\n",
      "Validation:  76%|████████████████████████████████████████████████████▍                | 76/100 [00:02<00:00, 24.39it/s]\n",
      "Validation:  80%|███████████████████████████████████████████████████████▏             | 80/100 [00:03<00:00, 24.32it/s]\n",
      "Validation:  84%|█████████████████████████████████████████████████████████▉           | 84/100 [00:03<00:00, 24.36it/s]\n",
      "Validation:  88%|████████████████████████████████████████████████████████████▋        | 88/100 [00:03<00:00, 24.39it/s]\n",
      "Validation:  92%|███████████████████████████████████████████████████████████████▍     | 92/100 [00:03<00:00, 24.41it/s]\n",
      "Validation:  96%|██████████████████████████████████████████████████████████████████▏  | 96/100 [00:03<00:00, 24.38it/s]\n",
      "Validation: 100%|████████████████████████████████████████████████████████████████████| 100/100 [00:03<00:00, 24.36it/s]\n",
      "Epoch 1/3:   9%|█████▎                                                     | 72002/802750 [3:02:29<30:08:12,  6.74it/s]\n",
      "Validation:   0%|                                                                              | 0/100 [00:00<?, ?it/s]\n",
      "Validation:   8%|█████▌                                                                | 8/100 [00:00<00:01, 48.91it/s]\n",
      "Validation:  12%|████████▎                                                            | 12/100 [00:00<00:02, 37.62it/s]\n",
      "Validation:  16%|███████████                                                          | 16/100 [00:00<00:02, 32.31it/s]\n",
      "Validation:  20%|█████████████▊                                                       | 20/100 [00:00<00:02, 29.47it/s]\n",
      "Validation:  24%|████████████████▌                                                    | 24/100 [00:00<00:02, 27.76it/s]\n",
      "Validation:  28%|███████████████████▎                                                 | 28/100 [00:00<00:02, 26.57it/s]\n",
      "Validation:  32%|██████████████████████                                               | 32/100 [00:01<00:02, 25.85it/s]\n",
      "Validation:  36%|████████████████████████▊                                            | 36/100 [00:01<00:02, 25.37it/s]\n",
      "Validation:  40%|███████████████████████████▌                                         | 40/100 [00:01<00:02, 25.09it/s]\n",
      "Validation:  44%|██████████████████████████████▎                                      | 44/100 [00:01<00:02, 24.89it/s]\n",
      "Validation:  48%|█████████████████████████████████                                    | 48/100 [00:01<00:02, 24.72it/s]\n",
      "Validation:  52%|███████████████████████████████████▉                                 | 52/100 [00:01<00:01, 24.59it/s]\n",
      "Validation:  56%|██████████████████████████████████████▋                              | 56/100 [00:02<00:01, 24.51it/s]\n",
      "Validation:  60%|█████████████████████████████████████████▍                           | 60/100 [00:02<00:01, 24.45it/s]\n",
      "Validation:  64%|████████████████████████████████████████████▏                        | 64/100 [00:02<00:01, 24.45it/s]\n",
      "Validation:  68%|██████████████████████████████████████████████▉                      | 68/100 [00:02<00:01, 24.45it/s]\n",
      "Validation:  72%|█████████████████████████████████████████████████▋                   | 72/100 [00:02<00:01, 24.45it/s]\n",
      "Validation:  76%|████████████████████████████████████████████████████▍                | 76/100 [00:02<00:00, 24.41it/s]\n",
      "Validation:  80%|███████████████████████████████████████████████████████▏             | 80/100 [00:03<00:00, 24.42it/s]\n",
      "Validation:  84%|█████████████████████████████████████████████████████████▉           | 84/100 [00:03<00:00, 24.39it/s]\n",
      "Validation:  88%|████████████████████████████████████████████████████████████▋        | 88/100 [00:03<00:00, 24.41it/s]\n",
      "Validation:  92%|███████████████████████████████████████████████████████████████▍     | 92/100 [00:03<00:00, 24.42it/s]\n",
      "Validation:  96%|██████████████████████████████████████████████████████████████████▏  | 96/100 [00:03<00:00, 24.39it/s]\n",
      "Validation: 100%|████████████████████████████████████████████████████████████████████| 100/100 [00:03<00:00, 24.36it/s]\n",
      "Epoch 1/3:  10%|█████▋                                                     | 78002/802750 [3:17:40<29:54:33,  6.73it/s]\n",
      "Validation:   0%|                                                                              | 0/100 [00:00<?, ?it/s]\n",
      "Validation:   8%|█████▌                                                                | 8/100 [00:00<00:01, 49.21it/s]\n",
      "Validation:  12%|████████▎                                                            | 12/100 [00:00<00:02, 37.75it/s]\n",
      "Validation:  16%|███████████                                                          | 16/100 [00:00<00:02, 32.53it/s]\n",
      "Validation:  20%|█████████████▊                                                       | 20/100 [00:00<00:02, 29.54it/s]\n",
      "Validation:  24%|████████████████▌                                                    | 24/100 [00:00<00:02, 27.80it/s]\n",
      "Validation:  28%|███████████████████▎                                                 | 28/100 [00:00<00:02, 26.60it/s]\n",
      "Validation:  32%|██████████████████████                                               | 32/100 [00:01<00:02, 25.87it/s]\n",
      "Validation:  36%|████████████████████████▊                                            | 36/100 [00:01<00:02, 25.38it/s]\n",
      "Validation:  40%|███████████████████████████▌                                         | 40/100 [00:01<00:02, 25.14it/s]\n",
      "Validation:  44%|██████████████████████████████▎                                      | 44/100 [00:01<00:02, 24.89it/s]\n",
      "Validation:  48%|█████████████████████████████████                                    | 48/100 [00:01<00:02, 24.75it/s]\n",
      "Validation:  52%|███████████████████████████████████▉                                 | 52/100 [00:01<00:01, 24.62it/s]\n",
      "Validation:  56%|██████████████████████████████████████▋                              | 56/100 [00:02<00:01, 24.52it/s]\n",
      "Validation:  60%|█████████████████████████████████████████▍                           | 60/100 [00:02<00:01, 24.46it/s]\n",
      "Validation:  64%|████████████████████████████████████████████▏                        | 64/100 [00:02<00:01, 24.41it/s]\n",
      "Validation:  68%|██████████████████████████████████████████████▉                      | 68/100 [00:02<00:01, 24.43it/s]\n",
      "Validation:  72%|█████████████████████████████████████████████████▋                   | 72/100 [00:02<00:01, 24.43it/s]\n",
      "Validation:  76%|████████████████████████████████████████████████████▍                | 76/100 [00:02<00:00, 24.40it/s]\n",
      "Validation:  80%|███████████████████████████████████████████████████████▏             | 80/100 [00:03<00:00, 24.41it/s]\n",
      "Validation:  84%|█████████████████████████████████████████████████████████▉           | 84/100 [00:03<00:00, 24.38it/s]\n",
      "Validation:  88%|████████████████████████████████████████████████████████████▋        | 88/100 [00:03<00:00, 24.40it/s]\n",
      "Validation:  92%|███████████████████████████████████████████████████████████████▍     | 92/100 [00:03<00:00, 24.42it/s]\n",
      "Validation:  96%|██████████████████████████████████████████████████████████████████▏  | 96/100 [00:03<00:00, 24.39it/s]\n",
      "Validation: 100%|████████████████████████████████████████████████████████████████████| 100/100 [00:03<00:00, 24.36it/s]\n",
      "Epoch 1/3:  10%|██████▏                                                    | 84002/802750 [3:32:52<29:39:12,  6.73it/s]\n",
      "Validation:   0%|                                                                              | 0/100 [00:00<?, ?it/s]\n",
      "Validation:   8%|█████▌                                                                | 8/100 [00:00<00:01, 48.91it/s]\n",
      "Validation:  12%|████████▎                                                            | 12/100 [00:00<00:02, 37.62it/s]\n",
      "Validation:  16%|███████████                                                          | 16/100 [00:00<00:02, 32.39it/s]\n",
      "Validation:  20%|█████████████▊                                                       | 20/100 [00:00<00:02, 29.52it/s]\n",
      "Validation:  24%|████████████████▌                                                    | 24/100 [00:00<00:02, 27.79it/s]\n",
      "Validation:  28%|███████████████████▎                                                 | 28/100 [00:00<00:02, 26.59it/s]\n",
      "Validation:  32%|██████████████████████                                               | 32/100 [00:01<00:02, 25.81it/s]\n",
      "Validation:  36%|████████████████████████▊                                            | 36/100 [00:01<00:02, 25.34it/s]\n",
      "Validation:  40%|███████████████████████████▌                                         | 40/100 [00:01<00:02, 25.07it/s]\n",
      "Validation:  44%|██████████████████████████████▎                                      | 44/100 [00:01<00:02, 24.84it/s]\n",
      "Validation:  48%|█████████████████████████████████                                    | 48/100 [00:01<00:02, 24.72it/s]\n",
      "Validation:  52%|███████████████████████████████████▉                                 | 52/100 [00:01<00:01, 24.64it/s]\n",
      "Validation:  56%|██████████████████████████████████████▋                              | 56/100 [00:02<00:01, 24.58it/s]\n",
      "Validation:  60%|█████████████████████████████████████████▍                           | 60/100 [00:02<00:01, 24.50it/s]\n",
      "Validation:  64%|████████████████████████████████████████████▏                        | 64/100 [00:02<00:01, 24.49it/s]\n",
      "Validation:  68%|██████████████████████████████████████████████▉                      | 68/100 [00:02<00:01, 24.48it/s]\n",
      "Validation:  72%|█████████████████████████████████████████████████▋                   | 72/100 [00:02<00:01, 24.47it/s]\n",
      "Validation:  76%|████████████████████████████████████████████████████▍                | 76/100 [00:02<00:00, 24.42it/s]\n",
      "Validation:  80%|███████████████████████████████████████████████████████▏             | 80/100 [00:03<00:00, 24.39it/s]\n",
      "Validation:  84%|█████████████████████████████████████████████████████████▉           | 84/100 [00:03<00:00, 24.36it/s]\n",
      "Validation:  88%|████████████████████████████████████████████████████████████▋        | 88/100 [00:03<00:00, 24.35it/s]\n",
      "Validation:  92%|███████████████████████████████████████████████████████████████▍     | 92/100 [00:03<00:00, 24.38it/s]\n",
      "Validation:  96%|██████████████████████████████████████████████████████████████████▏  | 96/100 [00:03<00:00, 24.36it/s]\n",
      "Validation: 100%|████████████████████████████████████████████████████████████████████| 100/100 [00:03<00:00, 24.34it/s]\n",
      "Epoch 1/3:  11%|██████▌                                                    | 90002/802750 [3:48:03<29:25:25,  6.73it/s]\n",
      "Validation:   0%|                                                                              | 0/100 [00:00<?, ?it/s]\n",
      "Validation:   8%|█████▌                                                                | 8/100 [00:00<00:01, 48.91it/s]\n",
      "Validation:  12%|████████▎                                                            | 12/100 [00:00<00:02, 37.62it/s]\n",
      "Validation:  16%|███████████                                                          | 16/100 [00:00<00:02, 32.39it/s]\n",
      "Validation:  20%|█████████████▊                                                       | 20/100 [00:00<00:02, 29.52it/s]\n",
      "Validation:  24%|████████████████▌                                                    | 24/100 [00:00<00:02, 27.79it/s]\n",
      "Validation:  28%|███████████████████▎                                                 | 28/100 [00:00<00:02, 26.65it/s]\n",
      "Validation:  32%|██████████████████████                                               | 32/100 [00:01<00:02, 25.85it/s]\n",
      "Validation:  36%|████████████████████████▊                                            | 36/100 [00:01<00:02, 25.41it/s]\n",
      "Validation:  40%|███████████████████████████▌                                         | 40/100 [00:01<00:02, 25.12it/s]\n",
      "Validation:  44%|██████████████████████████████▎                                      | 44/100 [00:01<00:02, 24.92it/s]\n",
      "Validation:  48%|█████████████████████████████████                                    | 48/100 [00:01<00:02, 24.78it/s]\n",
      "Validation:  52%|███████████████████████████████████▉                                 | 52/100 [00:01<00:01, 24.63it/s]\n",
      "Validation:  56%|██████████████████████████████████████▋                              | 56/100 [00:02<00:01, 24.53it/s]\n",
      "Validation:  60%|█████████████████████████████████████████▍                           | 60/100 [00:02<00:01, 24.51it/s]\n",
      "Validation:  64%|████████████████████████████████████████████▏                        | 64/100 [00:02<00:01, 24.45it/s]\n",
      "Validation:  68%|██████████████████████████████████████████████▉                      | 68/100 [00:02<00:01, 24.41it/s]\n",
      "Validation:  72%|█████████████████████████████████████████████████▋                   | 72/100 [00:02<00:01, 24.38it/s]\n",
      "Validation:  76%|████████████████████████████████████████████████████▍                | 76/100 [00:02<00:00, 24.40it/s]\n",
      "Validation:  80%|███████████████████████████████████████████████████████▏             | 80/100 [00:03<00:00, 24.37it/s]\n",
      "Validation:  84%|█████████████████████████████████████████████████████████▉           | 84/100 [00:03<00:00, 24.31it/s]\n",
      "Validation:  88%|████████████████████████████████████████████████████████████▋        | 88/100 [00:03<00:00, 24.35it/s]\n",
      "Validation:  92%|███████████████████████████████████████████████████████████████▍     | 92/100 [00:03<00:00, 24.38it/s]\n",
      "Validation:  96%|██████████████████████████████████████████████████████████████████▏  | 96/100 [00:03<00:00, 24.36it/s]\n",
      "Validation: 100%|████████████████████████████████████████████████████████████████████| 100/100 [00:03<00:00, 24.39it/s]\n",
      "Epoch 1/3:  12%|███████                                                    | 96002/802750 [4:03:15<29:11:44,  6.72it/s]\n",
      "Validation:   0%|                                                                              | 0/100 [00:00<?, ?it/s]\n",
      "Validation:   8%|█████▌                                                                | 8/100 [00:00<00:01, 48.91it/s]\n",
      "Validation:  12%|████████▎                                                            | 12/100 [00:00<00:02, 37.62it/s]\n",
      "Validation:  16%|███████████                                                          | 16/100 [00:00<00:02, 32.39it/s]\n",
      "Validation:  20%|█████████████▊                                                       | 20/100 [00:00<00:02, 29.52it/s]\n",
      "Validation:  24%|████████████████▌                                                    | 24/100 [00:00<00:02, 27.79it/s]\n",
      "Validation:  28%|███████████████████▎                                                 | 28/100 [00:00<00:02, 26.59it/s]\n",
      "Validation:  32%|██████████████████████                                               | 32/100 [00:01<00:02, 25.86it/s]\n",
      "Validation:  36%|████████████████████████▊                                            | 36/100 [00:01<00:02, 25.38it/s]\n",
      "Validation:  40%|███████████████████████████▌                                         | 40/100 [00:01<00:02, 25.05it/s]\n",
      "Validation:  44%|██████████████████████████████▎                                      | 44/100 [00:01<00:02, 24.87it/s]\n",
      "Validation:  48%|█████████████████████████████████                                    | 48/100 [00:01<00:02, 24.70it/s]\n",
      "Validation:  52%|███████████████████████████████████▉                                 | 52/100 [00:01<00:01, 24.58it/s]\n",
      "Validation:  56%|██████████████████████████████████████▋                              | 56/100 [00:02<00:01, 24.54it/s]\n",
      "Validation:  60%|█████████████████████████████████████████▍                           | 60/100 [00:02<00:01, 24.52it/s]\n",
      "Validation:  64%|████████████████████████████████████████████▏                        | 64/100 [00:02<00:01, 24.50it/s]\n",
      "Validation:  68%|██████████████████████████████████████████████▉                      | 68/100 [00:02<00:01, 24.44it/s]\n"
     ]
    },
    {
     "name": "stderr",
     "output_type": "stream",
     "text": [
      "Validation:  72%|█████████████████████████████████████████████████▋                   | 72/100 [00:02<00:01, 24.44it/s]\n",
      "Validation:  76%|████████████████████████████████████████████████████▍                | 76/100 [00:02<00:00, 24.40it/s]\n",
      "Validation:  80%|███████████████████████████████████████████████████████▏             | 80/100 [00:03<00:00, 24.37it/s]\n",
      "Validation:  84%|█████████████████████████████████████████████████████████▉           | 84/100 [00:03<00:00, 24.35it/s]\n",
      "Validation:  88%|████████████████████████████████████████████████████████████▋        | 88/100 [00:03<00:00, 24.34it/s]\n",
      "Validation:  92%|███████████████████████████████████████████████████████████████▍     | 92/100 [00:03<00:00, 24.37it/s]\n",
      "Validation:  96%|██████████████████████████████████████████████████████████████████▏  | 96/100 [00:03<00:00, 24.40it/s]\n",
      "Validation: 100%|████████████████████████████████████████████████████████████████████| 100/100 [00:03<00:00, 24.37it/s]\n",
      "Epoch 1/3:  13%|███████▎                                                  | 102002/802750 [4:18:34<28:58:13,  6.72it/s]\n",
      "Validation:   0%|                                                                              | 0/100 [00:00<?, ?it/s]\n",
      "Validation:   8%|█████▌                                                                | 8/100 [00:00<00:01, 49.21it/s]\n",
      "Validation:  12%|████████▎                                                            | 12/100 [00:00<00:02, 37.64it/s]\n",
      "Validation:  16%|███████████                                                          | 16/100 [00:00<00:02, 32.48it/s]\n",
      "Validation:  20%|█████████████▊                                                       | 20/100 [00:00<00:02, 29.57it/s]\n",
      "Validation:  24%|████████████████▌                                                    | 24/100 [00:00<00:02, 27.82it/s]\n",
      "Validation:  28%|███████████████████▎                                                 | 28/100 [00:00<00:02, 26.61it/s]\n",
      "Validation:  32%|██████████████████████                                               | 32/100 [00:01<00:02, 25.93it/s]\n",
      "Validation:  36%|████████████████████████▊                                            | 36/100 [00:01<00:02, 25.42it/s]\n",
      "Validation:  40%|███████████████████████████▌                                         | 40/100 [00:01<00:02, 25.12it/s]\n",
      "Validation:  44%|██████████████████████████████▎                                      | 44/100 [00:01<00:02, 24.92it/s]\n",
      "Validation:  48%|█████████████████████████████████                                    | 48/100 [00:01<00:02, 24.78it/s]\n",
      "Validation:  52%|███████████████████████████████████▉                                 | 52/100 [00:01<00:01, 24.63it/s]\n",
      "Validation:  56%|██████████████████████████████████████▋                              | 56/100 [00:02<00:01, 24.58it/s]\n",
      "Validation:  60%|█████████████████████████████████████████▍                           | 60/100 [00:02<00:01, 24.50it/s]\n",
      "Validation:  64%|████████████████████████████████████████████▏                        | 64/100 [00:02<00:01, 24.49it/s]\n",
      "Validation:  68%|██████████████████████████████████████████████▉                      | 68/100 [00:02<00:01, 24.48it/s]\n",
      "Validation:  72%|█████████████████████████████████████████████████▋                   | 72/100 [00:02<00:01, 24.47it/s]\n",
      "Validation:  76%|████████████████████████████████████████████████████▍                | 76/100 [00:02<00:00, 24.47it/s]\n",
      "Validation:  80%|███████████████████████████████████████████████████████▏             | 80/100 [00:03<00:00, 24.46it/s]\n",
      "Validation:  84%|█████████████████████████████████████████████████████████▉           | 84/100 [00:03<00:00, 24.42it/s]\n",
      "Validation:  88%|████████████████████████████████████████████████████████████▋        | 88/100 [00:03<00:00, 24.38it/s]\n",
      "Validation:  92%|███████████████████████████████████████████████████████████████▍     | 92/100 [00:03<00:00, 24.36it/s]\n",
      "Validation:  96%|██████████████████████████████████████████████████████████████████▏  | 96/100 [00:03<00:00, 24.39it/s]\n",
      "Validation: 100%|████████████████████████████████████████████████████████████████████| 100/100 [00:03<00:00, 24.41it/s]\n",
      "Epoch 1/3:  13%|███████▊                                                  | 108002/802750 [4:33:45<28:40:28,  6.73it/s]\n",
      "Validation:   0%|                                                                              | 0/100 [00:00<?, ?it/s]\n",
      "Validation:   8%|█████▌                                                                | 8/100 [00:00<00:01, 48.91it/s]\n",
      "Validation:  12%|████████▎                                                            | 12/100 [00:00<00:02, 37.73it/s]\n",
      "Validation:  16%|███████████                                                          | 16/100 [00:00<00:02, 32.45it/s]\n",
      "Validation:  20%|█████████████▊                                                       | 20/100 [00:00<00:02, 29.55it/s]\n",
      "Validation:  24%|████████████████▌                                                    | 24/100 [00:00<00:02, 27.81it/s]\n",
      "Validation:  28%|███████████████████▎                                                 | 28/100 [00:00<00:02, 26.66it/s]\n",
      "Validation:  32%|██████████████████████                                               | 32/100 [00:01<00:02, 25.86it/s]\n",
      "Validation:  36%|████████████████████████▊                                            | 36/100 [00:01<00:02, 25.42it/s]\n",
      "Validation:  40%|███████████████████████████▌                                         | 40/100 [00:01<00:02, 25.17it/s]\n",
      "Validation:  44%|██████████████████████████████▎                                      | 44/100 [00:01<00:02, 24.95it/s]\n",
      "Validation:  48%|█████████████████████████████████                                    | 48/100 [00:01<00:02, 24.80it/s]\n",
      "Validation:  52%|███████████████████████████████████▉                                 | 52/100 [00:01<00:01, 24.65it/s]\n",
      "Validation:  56%|██████████████████████████████████████▋                              | 56/100 [00:02<00:01, 24.55it/s]\n",
      "Validation:  60%|█████████████████████████████████████████▍                           | 60/100 [00:02<00:01, 24.52it/s]\n",
      "Validation:  64%|████████████████████████████████████████████▏                        | 64/100 [00:02<00:01, 24.50it/s]\n",
      "Validation:  68%|██████████████████████████████████████████████▉                      | 68/100 [00:02<00:01, 24.49it/s]\n",
      "Validation:  72%|█████████████████████████████████████████████████▋                   | 72/100 [00:02<00:01, 24.48it/s]\n",
      "Validation:  76%|████████████████████████████████████████████████████▍                | 76/100 [00:02<00:00, 24.43it/s]\n",
      "Validation:  80%|███████████████████████████████████████████████████████▏             | 80/100 [00:03<00:00, 24.39it/s]\n",
      "Validation:  84%|█████████████████████████████████████████████████████████▉           | 84/100 [00:03<00:00, 24.41it/s]\n",
      "Validation:  88%|████████████████████████████████████████████████████████████▋        | 88/100 [00:03<00:00, 24.42it/s]\n",
      "Validation:  92%|███████████████████████████████████████████████████████████████▍     | 92/100 [00:03<00:00, 24.48it/s]\n",
      "Validation:  96%|██████████████████████████████████████████████████████████████████▏  | 96/100 [00:03<00:00, 24.43it/s]\n",
      "Validation: 100%|████████████████████████████████████████████████████████████████████| 100/100 [00:03<00:00, 24.39it/s]\n",
      "Epoch 1/3:  14%|████████▏                                                 | 114002/802750 [4:48:56<28:25:26,  6.73it/s]\n",
      "Validation:   0%|                                                                              | 0/100 [00:00<?, ?it/s]\n",
      "Validation:   8%|█████▌                                                                | 8/100 [00:00<00:01, 49.21it/s]\n",
      "Validation:  12%|████████▎                                                            | 12/100 [00:00<00:02, 37.85it/s]\n",
      "Validation:  16%|███████████                                                          | 16/100 [00:00<00:02, 32.51it/s]\n",
      "Validation:  20%|█████████████▊                                                       | 20/100 [00:00<00:02, 29.59it/s]\n",
      "Validation:  24%|████████████████▌                                                    | 24/100 [00:00<00:02, 27.78it/s]\n",
      "Validation:  28%|███████████████████▎                                                 | 28/100 [00:00<00:02, 26.64it/s]\n",
      "Validation:  32%|██████████████████████                                               | 32/100 [00:01<00:02, 25.89it/s]\n",
      "Validation:  36%|████████████████████████▊                                            | 36/100 [00:01<00:02, 25.49it/s]\n",
      "Validation:  40%|███████████████████████████▌                                         | 40/100 [00:01<00:02, 25.17it/s]\n",
      "Validation:  44%|██████████████████████████████▎                                      | 44/100 [00:01<00:02, 24.95it/s]\n",
      "Validation:  48%|█████████████████████████████████                                    | 48/100 [00:01<00:02, 24.76it/s]\n",
      "Validation:  52%|███████████████████████████████████▉                                 | 52/100 [00:01<00:01, 24.62it/s]\n",
      "Validation:  56%|██████████████████████████████████████▋                              | 56/100 [00:02<00:01, 24.57it/s]\n",
      "Validation:  60%|█████████████████████████████████████████▍                           | 60/100 [00:02<00:01, 24.54it/s]\n",
      "Validation:  64%|████████████████████████████████████████████▏                        | 64/100 [00:02<00:01, 24.51it/s]\n",
      "Validation:  68%|██████████████████████████████████████████████▉                      | 68/100 [00:02<00:01, 24.49it/s]\n",
      "Validation:  72%|█████████████████████████████████████████████████▋                   | 72/100 [00:02<00:01, 24.44it/s]\n",
      "Validation:  76%|████████████████████████████████████████████████████▍                | 76/100 [00:02<00:00, 24.40it/s]\n",
      "Validation:  80%|███████████████████████████████████████████████████████▏             | 80/100 [00:03<00:00, 24.37it/s]\n",
      "Validation:  84%|█████████████████████████████████████████████████████████▉           | 84/100 [00:03<00:00, 24.35it/s]\n",
      "Validation:  88%|████████████████████████████████████████████████████████████▋        | 88/100 [00:03<00:00, 24.38it/s]\n",
      "Validation:  92%|███████████████████████████████████████████████████████████████▍     | 92/100 [00:03<00:00, 24.45it/s]\n",
      "Validation:  96%|██████████████████████████████████████████████████████████████████▏  | 96/100 [00:03<00:00, 24.45it/s]\n",
      "Validation: 100%|████████████████████████████████████████████████████████████████████| 100/100 [00:03<00:00, 24.36it/s]\n",
      "Epoch 1/3:  15%|████████▋                                                 | 120002/802750 [5:04:08<28:09:51,  6.73it/s]\n",
      "Validation:   0%|                                                                              | 0/100 [00:00<?, ?it/s]\n",
      "Validation:   8%|█████▌                                                                | 8/100 [00:00<00:01, 49.21it/s]\n",
      "Validation:  12%|████████▎                                                            | 12/100 [00:00<00:02, 37.85it/s]\n",
      "Validation:  16%|███████████                                                          | 16/100 [00:00<00:02, 32.51it/s]\n",
      "Validation:  20%|█████████████▊                                                       | 20/100 [00:00<00:02, 29.59it/s]\n",
      "Validation:  24%|████████████████▌                                                    | 24/100 [00:00<00:02, 27.83it/s]\n",
      "Validation:  28%|███████████████████▎                                                 | 28/100 [00:00<00:02, 26.67it/s]\n",
      "Validation:  32%|██████████████████████                                               | 32/100 [00:01<00:02, 25.92it/s]\n",
      "Validation:  36%|████████████████████████▊                                            | 36/100 [00:01<00:02, 25.41it/s]\n",
      "Validation:  40%|███████████████████████████▌                                         | 40/100 [00:01<00:02, 25.12it/s]\n",
      "Validation:  44%|██████████████████████████████▎                                      | 44/100 [00:01<00:02, 24.91it/s]\n",
      "Validation:  48%|█████████████████████████████████                                    | 48/100 [00:01<00:02, 24.78it/s]\n",
      "Validation:  52%|███████████████████████████████████▉                                 | 52/100 [00:01<00:01, 24.68it/s]\n",
      "Validation:  56%|██████████████████████████████████████▋                              | 56/100 [00:02<00:01, 24.52it/s]\n",
      "Validation:  60%|█████████████████████████████████████████▍                           | 60/100 [00:02<00:01, 24.50it/s]\n",
      "Validation:  64%|████████████████████████████████████████████▏                        | 64/100 [00:02<00:01, 24.44it/s]\n",
      "Validation:  68%|██████████████████████████████████████████████▉                      | 68/100 [00:02<00:01, 24.45it/s]\n",
      "Validation:  72%|█████████████████████████████████████████████████▋                   | 72/100 [00:02<00:01, 24.40it/s]\n",
      "Validation:  76%|████████████████████████████████████████████████████▍                | 76/100 [00:02<00:00, 24.42it/s]\n",
      "Validation:  80%|███████████████████████████████████████████████████████▏             | 80/100 [00:03<00:00, 24.39it/s]\n",
      "Validation:  84%|█████████████████████████████████████████████████████████▉           | 84/100 [00:03<00:00, 24.41it/s]\n",
      "Validation:  88%|████████████████████████████████████████████████████████████▋        | 88/100 [00:03<00:00, 24.38it/s]\n",
      "Validation:  92%|███████████████████████████████████████████████████████████████▍     | 92/100 [00:03<00:00, 24.36it/s]\n",
      "Validation:  96%|██████████████████████████████████████████████████████████████████▏  | 96/100 [00:03<00:00, 24.39it/s]\n",
      "Validation: 100%|████████████████████████████████████████████████████████████████████| 100/100 [00:03<00:00, 24.41it/s]\n",
      "Epoch 1/3:  16%|█████████                                                 | 126002/802750 [5:19:19<27:54:46,  6.73it/s]\n",
      "Validation:   0%|                                                                              | 0/100 [00:00<?, ?it/s]\n",
      "Validation:   8%|█████▌                                                                | 8/100 [00:00<00:01, 48.91it/s]\n",
      "Validation:  12%|████████▎                                                            | 12/100 [00:00<00:02, 37.73it/s]\n",
      "Validation:  16%|███████████                                                          | 16/100 [00:00<00:02, 32.53it/s]\n",
      "Validation:  20%|█████████████▊                                                       | 20/100 [00:00<00:02, 29.60it/s]\n",
      "Validation:  24%|████████████████▌                                                    | 24/100 [00:00<00:02, 27.90it/s]\n",
      "Validation:  28%|███████████████████▎                                                 | 28/100 [00:00<00:02, 26.71it/s]\n",
      "Validation:  32%|██████████████████████                                               | 32/100 [00:01<00:02, 25.94it/s]\n",
      "Validation:  36%|████████████████████████▊                                            | 36/100 [00:01<00:02, 25.48it/s]\n",
      "Validation:  40%|███████████████████████████▌                                         | 40/100 [00:01<00:02, 25.16it/s]\n",
      "Validation:  44%|██████████████████████████████▎                                      | 44/100 [00:01<00:02, 24.95it/s]\n",
      "Validation:  48%|█████████████████████████████████                                    | 48/100 [00:01<00:02, 24.80it/s]\n",
      "Validation:  52%|███████████████████████████████████▉                                 | 52/100 [00:01<00:01, 24.69it/s]\n",
      "Validation:  56%|██████████████████████████████████████▋                              | 56/100 [00:02<00:01, 24.62it/s]\n",
      "Validation:  60%|█████████████████████████████████████████▍                           | 60/100 [00:02<00:01, 24.57it/s]\n",
      "Validation:  64%|████████████████████████████████████████████▏                        | 64/100 [00:02<00:01, 24.54it/s]\n",
      "Validation:  68%|██████████████████████████████████████████████▉                      | 68/100 [00:02<00:01, 24.51it/s]\n",
      "Validation:  72%|█████████████████████████████████████████████████▋                   | 72/100 [00:02<00:01, 24.50it/s]\n",
      "Validation:  76%|████████████████████████████████████████████████████▍                | 76/100 [00:02<00:00, 24.44it/s]\n",
      "Validation:  80%|███████████████████████████████████████████████████████▏             | 80/100 [00:03<00:00, 24.44it/s]\n",
      "Validation:  84%|█████████████████████████████████████████████████████████▉           | 84/100 [00:03<00:00, 24.45it/s]\n",
      "Validation:  88%|████████████████████████████████████████████████████████████▋        | 88/100 [00:03<00:00, 24.45it/s]\n",
      "Validation:  92%|███████████████████████████████████████████████████████████████▍     | 92/100 [00:03<00:00, 24.45it/s]\n"
     ]
    },
    {
     "name": "stderr",
     "output_type": "stream",
     "text": [
      "Validation:  96%|██████████████████████████████████████████████████████████████████▏  | 96/100 [00:03<00:00, 24.45it/s]\n",
      "Validation: 100%|████████████████████████████████████████████████████████████████████| 100/100 [00:03<00:00, 24.41it/s]\n",
      "Epoch 1/3:  16%|█████████▌                                                | 132002/802750 [5:34:30<27:41:43,  6.73it/s]\n",
      "Validation:   0%|                                                                              | 0/100 [00:00<?, ?it/s]\n",
      "Validation:   8%|█████▌                                                                | 8/100 [00:00<00:01, 48.91it/s]\n",
      "Validation:  12%|████████▎                                                            | 12/100 [00:00<00:02, 37.62it/s]\n",
      "Validation:  16%|███████████                                                          | 16/100 [00:00<00:02, 32.47it/s]\n",
      "Validation:  20%|█████████████▊                                                       | 20/100 [00:00<00:02, 29.56it/s]\n",
      "Validation:  24%|████████████████▌                                                    | 24/100 [00:00<00:02, 27.88it/s]\n",
      "Validation:  28%|███████████████████▎                                                 | 28/100 [00:00<00:02, 26.70it/s]\n",
      "Validation:  32%|██████████████████████                                               | 32/100 [00:01<00:02, 25.94it/s]\n",
      "Validation:  36%|████████████████████████▊                                            | 36/100 [00:01<00:02, 25.47it/s]\n",
      "Validation:  40%|███████████████████████████▌                                         | 40/100 [00:01<00:02, 25.16it/s]\n",
      "Validation:  44%|██████████████████████████████▎                                      | 44/100 [00:01<00:02, 24.94it/s]\n",
      "Validation:  48%|█████████████████████████████████                                    | 48/100 [00:01<00:02, 24.80it/s]\n",
      "Validation:  52%|███████████████████████████████████▉                                 | 52/100 [00:01<00:01, 24.69it/s]\n",
      "Validation:  56%|██████████████████████████████████████▋                              | 56/100 [00:02<00:01, 24.53it/s]\n",
      "Validation:  60%|█████████████████████████████████████████▍                           | 60/100 [00:02<00:01, 24.51it/s]\n",
      "Validation:  64%|████████████████████████████████████████████▏                        | 64/100 [00:02<00:01, 24.45it/s]\n",
      "Validation:  68%|██████████████████████████████████████████████▉                      | 68/100 [00:02<00:01, 24.49it/s]\n",
      "Validation:  72%|█████████████████████████████████████████████████▋                   | 72/100 [00:02<00:01, 24.44it/s]\n",
      "Validation:  76%|████████████████████████████████████████████████████▍                | 76/100 [00:02<00:00, 24.44it/s]\n",
      "Validation:  80%|███████████████████████████████████████████████████████▏             | 80/100 [00:03<00:00, 24.40it/s]\n",
      "Validation:  84%|█████████████████████████████████████████████████████████▉           | 84/100 [00:03<00:00, 24.37it/s]\n",
      "Validation:  88%|████████████████████████████████████████████████████████████▋        | 88/100 [00:03<00:00, 24.40it/s]\n",
      "Validation:  92%|███████████████████████████████████████████████████████████████▍     | 92/100 [00:03<00:00, 24.42it/s]\n",
      "Validation:  96%|██████████████████████████████████████████████████████████████████▏  | 96/100 [00:03<00:00, 24.43it/s]\n",
      "Validation: 100%|████████████████████████████████████████████████████████████████████| 100/100 [00:03<00:00, 24.44it/s]\n",
      "Epoch 1/3:  17%|█████████▉                                                | 138002/802750 [5:49:41<27:26:12,  6.73it/s]\n",
      "Validation:   0%|                                                                              | 0/100 [00:00<?, ?it/s]\n",
      "Validation:   8%|█████▌                                                                | 8/100 [00:00<00:01, 49.21it/s]\n",
      "Validation:  12%|████████▎                                                            | 12/100 [00:00<00:02, 37.85it/s]\n",
      "Validation:  16%|███████████                                                          | 16/100 [00:00<00:02, 32.51it/s]\n",
      "Validation:  20%|█████████████▊                                                       | 20/100 [00:00<00:02, 29.59it/s]\n",
      "Validation:  24%|████████████████▌                                                    | 24/100 [00:00<00:02, 27.78it/s]\n",
      "Validation:  28%|███████████████████▎                                                 | 28/100 [00:00<00:02, 26.64it/s]\n",
      "Validation:  32%|██████████████████████                                               | 32/100 [00:01<00:02, 25.89it/s]\n",
      "Validation:  36%|████████████████████████▊                                            | 36/100 [00:01<00:02, 25.44it/s]\n",
      "Validation:  40%|███████████████████████████▌                                         | 40/100 [00:01<00:02, 25.14it/s]\n",
      "Validation:  44%|██████████████████████████████▎                                      | 44/100 [00:01<00:02, 24.88it/s]\n",
      "Validation:  48%|█████████████████████████████████                                    | 48/100 [00:01<00:02, 24.75it/s]\n",
      "Validation:  52%|███████████████████████████████████▉                                 | 52/100 [00:01<00:01, 24.62it/s]\n",
      "Validation:  56%|██████████████████████████████████████▋                              | 56/100 [00:02<00:01, 24.57it/s]\n",
      "Validation:  60%|█████████████████████████████████████████▍                           | 60/100 [00:02<00:01, 24.53it/s]\n",
      "Validation:  64%|████████████████████████████████████████████▏                        | 64/100 [00:02<00:01, 24.51it/s]\n",
      "Validation:  68%|██████████████████████████████████████████████▉                      | 68/100 [00:02<00:01, 24.49it/s]\n",
      "Validation:  72%|█████████████████████████████████████████████████▋                   | 72/100 [00:02<00:01, 24.48it/s]\n",
      "Validation:  76%|████████████████████████████████████████████████████▍                | 76/100 [00:02<00:00, 24.43it/s]\n",
      "Validation:  80%|███████████████████████████████████████████████████████▏             | 80/100 [00:03<00:00, 24.44it/s]\n",
      "Validation:  84%|█████████████████████████████████████████████████████████▉           | 84/100 [00:03<00:00, 24.40it/s]\n",
      "Validation:  88%|████████████████████████████████████████████████████████████▋        | 88/100 [00:03<00:00, 24.42it/s]\n",
      "Validation:  92%|███████████████████████████████████████████████████████████████▍     | 92/100 [00:03<00:00, 24.47it/s]\n",
      "Validation:  96%|██████████████████████████████████████████████████████████████████▏  | 96/100 [00:03<00:00, 24.42it/s]\n",
      "Validation: 100%|████████████████████████████████████████████████████████████████████| 100/100 [00:03<00:00, 24.48it/s]\n",
      "Epoch 1/3:  18%|██████████▍                                               | 144002/802750 [6:04:53<27:09:54,  6.74it/s]\n",
      "Validation:   0%|                                                                              | 0/100 [00:00<?, ?it/s]\n",
      "Validation:   8%|█████▌                                                                | 8/100 [00:00<00:01, 49.21it/s]\n",
      "Validation:  12%|████████▎                                                            | 12/100 [00:00<00:02, 37.75it/s]\n",
      "Validation:  16%|███████████                                                          | 16/100 [00:00<00:02, 32.46it/s]\n",
      "Validation:  20%|█████████████▊                                                       | 20/100 [00:00<00:02, 29.62it/s]\n",
      "Validation:  24%|████████████████▌                                                    | 24/100 [00:00<00:02, 27.86it/s]\n",
      "Validation:  28%|███████████████████▎                                                 | 28/100 [00:00<00:02, 26.69it/s]\n",
      "Validation:  32%|██████████████████████                                               | 32/100 [00:01<00:02, 25.88it/s]\n",
      "Validation:  36%|████████████████████████▊                                            | 36/100 [00:01<00:02, 25.43it/s]\n",
      "Validation:  40%|███████████████████████████▌                                         | 40/100 [00:01<00:02, 25.13it/s]\n",
      "Validation:  44%|██████████████████████████████▎                                      | 44/100 [00:01<00:02, 24.97it/s]\n",
      "Validation:  48%|█████████████████████████████████                                    | 48/100 [00:01<00:02, 24.81it/s]\n",
      "Validation:  52%|███████████████████████████████████▉                                 | 52/100 [00:01<00:01, 24.71it/s]\n",
      "Validation:  56%|██████████████████████████████████████▋                              | 56/100 [00:02<00:01, 24.58it/s]\n",
      "Validation:  60%|█████████████████████████████████████████▍                           | 60/100 [00:02<00:01, 24.50it/s]\n",
      "Validation:  64%|████████████████████████████████████████████▏                        | 64/100 [00:02<00:01, 24.49it/s]\n",
      "Validation:  68%|██████████████████████████████████████████████▉                      | 68/100 [00:02<00:01, 24.48it/s]\n",
      "Validation:  72%|█████████████████████████████████████████████████▋                   | 72/100 [00:02<00:01, 24.47it/s]\n",
      "Validation:  76%|████████████████████████████████████████████████████▍                | 76/100 [00:02<00:00, 24.47it/s]\n",
      "Validation:  80%|███████████████████████████████████████████████████████▏             | 80/100 [00:03<00:00, 24.42it/s]\n",
      "Validation:  84%|█████████████████████████████████████████████████████████▉           | 84/100 [00:03<00:00, 24.43it/s]\n",
      "Validation:  88%|████████████████████████████████████████████████████████████▋        | 88/100 [00:03<00:00, 24.39it/s]\n",
      "Validation:  92%|███████████████████████████████████████████████████████████████▍     | 92/100 [00:03<00:00, 24.46it/s]\n",
      "Validation:  96%|██████████████████████████████████████████████████████████████████▏  | 96/100 [00:03<00:00, 24.46it/s]\n",
      "Validation: 100%|████████████████████████████████████████████████████████████████████| 100/100 [00:03<00:00, 24.37it/s]\n",
      "Epoch 1/3:  19%|██████████▊                                               | 150002/802750 [6:20:04<26:56:11,  6.73it/s]\n",
      "Validation:   0%|                                                                              | 0/100 [00:00<?, ?it/s]\n",
      "Validation:   8%|█████▌                                                                | 8/100 [00:00<00:01, 49.21it/s]\n",
      "Validation:  12%|████████▎                                                            | 12/100 [00:00<00:02, 37.75it/s]\n",
      "Validation:  16%|███████████                                                          | 16/100 [00:00<00:02, 32.53it/s]\n",
      "Validation:  20%|█████████████▊                                                       | 20/100 [00:00<00:02, 29.60it/s]\n",
      "Validation:  24%|████████████████▌                                                    | 24/100 [00:00<00:02, 27.79it/s]\n",
      "Validation:  28%|███████████████████▎                                                 | 28/100 [00:00<00:02, 26.70it/s]\n",
      "Validation:  32%|██████████████████████                                               | 32/100 [00:01<00:02, 25.93it/s]\n",
      "Validation:  36%|████████████████████████▊                                            | 36/100 [00:01<00:02, 25.47it/s]\n",
      "Validation:  40%|███████████████████████████▌                                         | 40/100 [00:01<00:02, 25.16it/s]\n",
      "Validation:  44%|██████████████████████████████▎                                      | 44/100 [00:01<00:02, 24.94it/s]\n",
      "Validation:  48%|█████████████████████████████████                                    | 48/100 [00:01<00:02, 24.75it/s]\n",
      "Validation:  52%|███████████████████████████████████▉                                 | 52/100 [00:01<00:01, 24.61it/s]\n",
      "Validation:  56%|██████████████████████████████████████▋                              | 56/100 [00:02<00:01, 24.57it/s]\n",
      "Validation:  60%|█████████████████████████████████████████▍                           | 60/100 [00:02<00:01, 24.49it/s]\n",
      "Validation:  64%|████████████████████████████████████████████▏                        | 64/100 [00:02<00:01, 24.48it/s]\n",
      "Validation:  68%|██████████████████████████████████████████████▉                      | 68/100 [00:02<00:01, 24.47it/s]\n",
      "Validation:  72%|█████████████████████████████████████████████████▋                   | 72/100 [00:02<00:01, 24.47it/s]\n",
      "Validation:  76%|████████████████████████████████████████████████████▍                | 76/100 [00:02<00:00, 24.42it/s]\n",
      "Validation:  80%|███████████████████████████████████████████████████████▏             | 80/100 [00:03<00:00, 24.39it/s]\n",
      "Validation:  84%|█████████████████████████████████████████████████████████▉           | 84/100 [00:03<00:00, 24.36it/s]\n",
      "Validation:  88%|████████████████████████████████████████████████████████████▋        | 88/100 [00:03<00:00, 24.35it/s]\n",
      "Validation:  92%|███████████████████████████████████████████████████████████████▍     | 92/100 [00:03<00:00, 24.38it/s]\n",
      "Validation:  96%|██████████████████████████████████████████████████████████████████▏  | 96/100 [00:03<00:00, 24.40it/s]\n",
      "Validation: 100%|████████████████████████████████████████████████████████████████████| 100/100 [00:03<00:00, 24.42it/s]\n",
      "Epoch 1/3:  19%|███████████▎                                              | 156002/802750 [6:35:15<26:42:17,  6.73it/s]\n",
      "Validation:   0%|                                                                              | 0/100 [00:00<?, ?it/s]\n",
      "Validation:   8%|█████▌                                                                | 8/100 [00:00<00:01, 49.21it/s]\n",
      "Validation:  12%|████████▎                                                            | 12/100 [00:00<00:02, 37.75it/s]\n",
      "Validation:  16%|███████████                                                          | 16/100 [00:00<00:02, 32.46it/s]\n",
      "Validation:  20%|█████████████▊                                                       | 20/100 [00:00<00:02, 29.56it/s]\n",
      "Validation:  24%|████████████████▌                                                    | 24/100 [00:00<00:02, 27.82it/s]\n",
      "Validation:  28%|███████████████████▎                                                 | 28/100 [00:00<00:02, 26.71it/s]\n",
      "Validation:  32%|██████████████████████                                               | 32/100 [00:01<00:02, 25.94it/s]\n",
      "Validation:  36%|████████████████████████▊                                            | 36/100 [00:01<00:02, 25.43it/s]\n",
      "Validation:  40%|███████████████████████████▌                                         | 40/100 [00:01<00:02, 25.13it/s]\n",
      "Validation:  44%|██████████████████████████████▎                                      | 44/100 [00:01<00:02, 24.97it/s]\n",
      "Validation:  48%|█████████████████████████████████                                    | 48/100 [00:01<00:02, 24.77it/s]\n",
      "Validation:  52%|███████████████████████████████████▉                                 | 52/100 [00:01<00:01, 24.67it/s]\n",
      "Validation:  56%|██████████████████████████████████████▋                              | 56/100 [00:02<00:01, 24.56it/s]\n",
      "Validation:  60%|█████████████████████████████████████████▍                           | 60/100 [00:02<00:01, 24.49it/s]\n",
      "Validation:  64%|████████████████████████████████████████████▏                        | 64/100 [00:02<00:01, 24.48it/s]\n",
      "Validation:  68%|██████████████████████████████████████████████▉                      | 68/100 [00:02<00:01, 24.47it/s]\n",
      "Validation:  72%|█████████████████████████████████████████████████▋                   | 72/100 [00:02<00:01, 24.47it/s]\n",
      "Validation:  76%|████████████████████████████████████████████████████▍                | 76/100 [00:02<00:00, 24.46it/s]\n",
      "Validation:  80%|███████████████████████████████████████████████████████▏             | 80/100 [00:03<00:00, 24.37it/s]\n",
      "Validation:  84%|█████████████████████████████████████████████████████████▉           | 84/100 [00:03<00:00, 24.40it/s]\n",
      "Validation:  88%|████████████████████████████████████████████████████████████▋        | 88/100 [00:03<00:00, 24.41it/s]\n",
      "Validation:  92%|███████████████████████████████████████████████████████████████▍     | 92/100 [00:03<00:00, 24.43it/s]\n",
      "Validation:  96%|██████████████████████████████████████████████████████████████████▏  | 96/100 [00:03<00:00, 24.44it/s]\n",
      "Validation: 100%|████████████████████████████████████████████████████████████████████| 100/100 [00:03<00:00, 24.44it/s]\n",
      "Epoch 1/3:  20%|███████████▋                                              | 162002/802750 [6:50:26<26:27:20,  6.73it/s]\n",
      "Validation:   0%|                                                                              | 0/100 [00:00<?, ?it/s]\n",
      "Validation:   8%|█████▌                                                                | 8/100 [00:00<00:01, 48.91it/s]\n",
      "Validation:  12%|████████▎                                                            | 12/100 [00:00<00:02, 37.73it/s]\n"
     ]
    },
    {
     "name": "stderr",
     "output_type": "stream",
     "text": [
      "Validation:  16%|███████████                                                          | 16/100 [00:00<00:02, 32.45it/s]\n",
      "Validation:  20%|█████████████▊                                                       | 20/100 [00:00<00:02, 29.55it/s]\n",
      "Validation:  24%|████████████████▌                                                    | 24/100 [00:00<00:02, 27.87it/s]\n",
      "Validation:  28%|███████████████████▎                                                 | 28/100 [00:00<00:02, 26.70it/s]\n",
      "Validation:  32%|██████████████████████                                               | 32/100 [00:01<00:02, 25.93it/s]\n",
      "Validation:  36%|████████████████████████▊                                            | 36/100 [00:01<00:02, 25.47it/s]\n",
      "Validation:  40%|███████████████████████████▌                                         | 40/100 [00:01<00:02, 25.11it/s]\n",
      "Validation:  44%|██████████████████████████████▎                                      | 44/100 [00:01<00:02, 24.96it/s]\n",
      "Validation:  48%|█████████████████████████████████                                    | 48/100 [00:01<00:02, 24.80it/s]\n",
      "Validation:  52%|███████████████████████████████████▉                                 | 52/100 [00:01<00:01, 24.65it/s]\n",
      "Validation:  56%|██████████████████████████████████████▋                              | 56/100 [00:02<00:01, 24.55it/s]\n",
      "Validation:  60%|█████████████████████████████████████████▍                           | 60/100 [00:02<00:01, 24.52it/s]\n",
      "Validation:  64%|████████████████████████████████████████████▏                        | 64/100 [00:02<00:01, 24.46it/s]\n",
      "Validation:  68%|██████████████████████████████████████████████▉                      | 68/100 [00:02<00:01, 24.46it/s]\n",
      "Validation:  72%|█████████████████████████████████████████████████▋                   | 72/100 [00:02<00:01, 24.46it/s]\n",
      "Validation:  76%|████████████████████████████████████████████████████▍                | 76/100 [00:02<00:00, 24.41it/s]\n",
      "Validation:  80%|███████████████████████████████████████████████████████▏             | 80/100 [00:03<00:00, 24.38it/s]\n",
      "Validation:  84%|█████████████████████████████████████████████████████████▉           | 84/100 [00:03<00:00, 24.40it/s]\n",
      "Validation:  88%|████████████████████████████████████████████████████████████▋        | 88/100 [00:03<00:00, 24.37it/s]\n",
      "Validation:  92%|███████████████████████████████████████████████████████████████▍     | 92/100 [00:03<00:00, 24.44it/s]\n",
      "Validation:  96%|██████████████████████████████████████████████████████████████████▏  | 96/100 [00:03<00:00, 24.40it/s]\n",
      "Validation: 100%|████████████████████████████████████████████████████████████████████| 100/100 [00:03<00:00, 24.42it/s]\n",
      "Epoch 1/3:  21%|████████████▏                                             | 168002/802750 [7:05:37<26:11:23,  6.73it/s]\n",
      "Validation:   0%|                                                                              | 0/100 [00:00<?, ?it/s]\n",
      "Validation:   8%|█████▌                                                                | 8/100 [00:00<00:01, 48.91it/s]\n",
      "Validation:  12%|████████▎                                                            | 12/100 [00:00<00:02, 37.62it/s]\n",
      "Validation:  16%|███████████                                                          | 16/100 [00:00<00:02, 32.47it/s]\n",
      "Validation:  20%|█████████████▊                                                       | 20/100 [00:00<00:02, 29.50it/s]\n",
      "Validation:  24%|████████████████▌                                                    | 24/100 [00:00<00:02, 27.78it/s]\n",
      "Validation:  28%|███████████████████▎                                                 | 28/100 [00:00<00:02, 26.64it/s]\n",
      "Validation:  32%|██████████████████████                                               | 32/100 [00:01<00:02, 25.89it/s]\n",
      "Validation:  36%|████████████████████████▊                                            | 36/100 [00:01<00:02, 25.44it/s]\n",
      "Validation:  40%|███████████████████████████▌                                         | 40/100 [00:01<00:02, 25.19it/s]\n",
      "Validation:  44%|██████████████████████████████▎                                      | 44/100 [00:01<00:02, 24.96it/s]\n",
      "Validation:  48%|█████████████████████████████████                                    | 48/100 [00:01<00:02, 24.81it/s]\n",
      "Validation:  52%|███████████████████████████████████▉                                 | 52/100 [00:01<00:01, 24.66it/s]\n",
      "Validation:  56%|██████████████████████████████████████▋                              | 56/100 [00:02<00:01, 24.55it/s]\n",
      "Validation:  60%|█████████████████████████████████████████▍                           | 60/100 [00:02<00:01, 24.52it/s]\n",
      "Validation:  64%|████████████████████████████████████████████▏                        | 64/100 [00:02<00:01, 24.46it/s]\n",
      "Validation:  68%|██████████████████████████████████████████████▉                      | 68/100 [00:02<00:01, 24.50it/s]\n",
      "Validation:  72%|█████████████████████████████████████████████████▋                   | 72/100 [00:02<00:01, 24.49it/s]\n",
      "Validation:  76%|████████████████████████████████████████████████████▍                | 76/100 [00:02<00:00, 24.48it/s]\n",
      "Validation:  80%|███████████████████████████████████████████████████████▏             | 80/100 [00:03<00:00, 24.43it/s]\n",
      "Validation:  84%|█████████████████████████████████████████████████████████▉           | 84/100 [00:03<00:00, 24.39it/s]\n",
      "Validation:  88%|████████████████████████████████████████████████████████████▋        | 88/100 [00:03<00:00, 24.41it/s]\n",
      "Validation:  92%|███████████████████████████████████████████████████████████████▍     | 92/100 [00:03<00:00, 24.38it/s]\n",
      "Validation:  96%|██████████████████████████████████████████████████████████████████▏  | 96/100 [00:03<00:00, 24.45it/s]\n",
      "Validation: 100%|████████████████████████████████████████████████████████████████████| 100/100 [00:03<00:00, 24.45it/s]\n",
      "Epoch 1/3:  22%|████████████▌                                             | 174002/802750 [7:20:58<26:12:53,  6.66it/s]\n",
      "Validation:   0%|                                                                              | 0/100 [00:00<?, ?it/s]\n",
      "Validation:   8%|█████▌                                                                | 8/100 [00:00<00:01, 48.32it/s]\n",
      "Validation:  12%|████████▎                                                            | 12/100 [00:00<00:02, 37.27it/s]\n",
      "Validation:  16%|███████████                                                          | 16/100 [00:00<00:02, 32.13it/s]\n",
      "Validation:  20%|█████████████▊                                                       | 20/100 [00:00<00:02, 29.30it/s]\n",
      "Validation:  24%|████████████████▌                                                    | 24/100 [00:00<00:02, 27.60it/s]\n",
      "Validation:  28%|███████████████████▎                                                 | 28/100 [00:00<00:02, 26.42it/s]\n",
      "Validation:  32%|██████████████████████                                               | 32/100 [00:01<00:02, 25.65it/s]\n",
      "Validation:  36%|████████████████████████▊                                            | 36/100 [00:01<00:02, 25.23it/s]\n",
      "Validation:  40%|███████████████████████████▌                                         | 40/100 [00:01<00:02, 24.95it/s]\n",
      "Validation:  44%|██████████████████████████████▎                                      | 44/100 [00:01<00:02, 24.75it/s]\n",
      "Validation:  48%|█████████████████████████████████                                    | 48/100 [00:01<00:02, 24.57it/s]\n",
      "Validation:  52%|███████████████████████████████████▉                                 | 52/100 [00:01<00:01, 24.45it/s]\n",
      "Validation:  56%|██████████████████████████████████████▋                              | 56/100 [00:02<00:01, 24.32it/s]\n",
      "Validation:  60%|█████████████████████████████████████████▍                           | 60/100 [00:02<00:01, 24.27it/s]\n",
      "Validation:  64%|████████████████████████████████████████████▏                        | 64/100 [00:02<00:01, 24.28it/s]\n",
      "Validation:  68%|██████████████████████████████████████████████▉                      | 68/100 [00:02<00:01, 24.24it/s]\n",
      "Validation:  72%|█████████████████████████████████████████████████▋                   | 72/100 [00:02<00:01, 24.26it/s]\n",
      "Validation:  76%|████████████████████████████████████████████████████▍                | 76/100 [00:02<00:00, 24.23it/s]\n",
      "Validation:  80%|███████████████████████████████████████████████████████▏             | 80/100 [00:03<00:00, 24.21it/s]\n",
      "Validation:  84%|█████████████████████████████████████████████████████████▉           | 84/100 [00:03<00:00, 24.20it/s]\n",
      "Validation:  88%|████████████████████████████████████████████████████████████▋        | 88/100 [00:03<00:00, 24.19it/s]\n",
      "Validation:  92%|███████████████████████████████████████████████████████████████▍     | 92/100 [00:03<00:00, 24.18it/s]\n",
      "Validation:  96%|██████████████████████████████████████████████████████████████████▏  | 96/100 [00:03<00:00, 24.17it/s]\n",
      "Validation: 100%|████████████████████████████████████████████████████████████████████| 100/100 [00:03<00:00, 24.17it/s]\n",
      "Epoch 1/3:  22%|████████████▉                                             | 179060/802750 [7:34:03<26:07:20,  6.63it/s]"
     ]
    }
   ],
   "source": [
    "# Train Finetune\n",
    "start = time.time()\n",
    "model = Classifier(max_length=512, val_interval=3000, verbose = True)               # Load base model\n",
    "model.fit(trainX.tolist(), trainY.tolist())          # Finetune base model on custom data\n",
    "duration = time.time()-start\n",
    "print(\"It took :\"+str(duration)+ \" seconds\")"
   ]
  },
  {
   "cell_type": "code",
   "execution_count": null,
   "metadata": {
    "colab": {
     "base_uri": "https://localhost:8080/",
     "height": 167
    },
    "colab_type": "code",
    "id": "u3x2Fsn4AfcI",
    "outputId": "df1fe106-2ccf-4843-8bd6-07ba73a72bc9"
   },
   "outputs": [],
   "source": [
    "# Save model\n",
    "model.save(\"combined_model_20181105_alau\")        "
   ]
  },
  {
   "cell_type": "code",
   "execution_count": null,
   "metadata": {
    "colab": {},
    "colab_type": "code",
    "id": "xOuBJD-MAfcJ"
   },
   "outputs": [],
   "source": [
    "# Test model and predict\n",
    "model = Classifier.load(\"../models/combined_model_20181105_alau\")\n",
    "print(model)\n",
    "predictions = model.predict(testX.tolist())"
   ]
  },
  {
   "cell_type": "code",
   "execution_count": null,
   "metadata": {
    "colab": {},
    "colab_type": "code",
    "id": "OuOglMsPAfcK"
   },
   "outputs": [],
   "source": [
    "mainPredictions = []\n",
    "for pred in predictions:\n",
    "    mainPredictions.append(labels_map[pred])\n",
    "\n",
    "mainTestY = []\n",
    "for testLabel in testY.tolist():\n",
    "    mainTestY.append(labels_map[testLabel])\n",
    "    \n",
    "correctMain = 0\n",
    "countMain = 0\n",
    "for i, complaint in enumerate(testX.tolist()):\n",
    "    correctMain += int(mainPredictions[i] == mainTestY[i])\n",
    "    countMain +=1\n",
    "print(correctMain)\n",
    "print(countMain)\n",
    "print(\"Accuracy on Main: \"+str(correctMain*1.0/countMain))"
   ]
  },
  {
   "cell_type": "code",
   "execution_count": null,
   "metadata": {
    "colab": {},
    "colab_type": "code",
    "id": "Nc2yjJfwAfcM"
   },
   "outputs": [],
   "source": [
    "correct = 0\n",
    "count = 0\n",
    "testYList = testY.tolist()\n",
    "for i, complaint in enumerate(testX.tolist()):\n",
    "    correct += int(predictions[i] == testYList[i])\n",
    "    count +=1\n",
    "print(correct)\n",
    "print(count)\n",
    "print(\"Accuracy on Sub: \"+str(correct*1.0/count))"
   ]
  },
  {
   "cell_type": "code",
   "execution_count": null,
   "metadata": {
    "colab": {},
    "colab_type": "code",
    "id": "a1bBrTpmAqO6"
   },
   "outputs": [],
   "source": []
  }
 ],
 "metadata": {
  "accelerator": "GPU",
  "colab": {
   "collapsed_sections": [
    "EZ3E4ZkEAfbb",
    "CE5Pr5XDAfby",
    "TVkOHwYCAfby"
   ],
   "name": "combined-dataset-full-finetune_alau.ipynb",
   "provenance": [],
   "version": "0.3.2"
  },
  "kernelspec": {
   "display_name": "Python 3",
   "language": "python",
   "name": "python3"
  },
  "language_info": {
   "codemirror_mode": {
    "name": "ipython",
    "version": 3
   },
   "file_extension": ".py",
   "mimetype": "text/x-python",
   "name": "python",
   "nbconvert_exporter": "python",
   "pygments_lexer": "ipython3",
   "version": "3.6.5"
  }
 },
 "nbformat": 4,
 "nbformat_minor": 1
}
