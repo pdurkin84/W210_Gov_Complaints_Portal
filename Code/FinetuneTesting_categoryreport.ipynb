{
  "nbformat": 4,
  "nbformat_minor": 0,
  "metadata": {
    "colab": {
      "name": "FinetuneTesting_categoryreport.ipynb",
      "version": "0.3.2",
      "provenance": []
    },
    "kernelspec": {
      "name": "python3",
      "display_name": "Python 3"
    }
  },
  "cells": [
    {
      "metadata": {
        "id": "QmV1HBjMeyW4",
        "colab_type": "text"
      },
      "cell_type": "markdown",
      "source": [
        "# Finetune Testing"
      ]
    },
    {
      "metadata": {
        "id": "9wBuai6-evQ0",
        "colab_type": "code",
        "colab": {}
      },
      "cell_type": "code",
      "source": [
        "# load libraries\n",
        "import pandas as pd\n",
        "import numpy as np\n",
        "import matplotlib.pyplot as plt\n",
        "from collections import defaultdict\n",
        "import os\n",
        "import time\n",
        "import re, string\n",
        "\n",
        "# Load sklearn packages\n",
        "from sklearn.model_selection import train_test_split\n",
        "from sklearn.feature_extraction.text import CountVectorizer\n",
        "from sklearn.feature_extraction.text import TfidfTransformer\n",
        "from sklearn.naive_bayes import MultinomialNB\n",
        "from sklearn.svm import LinearSVC\n",
        "\n",
        "import seaborn as sns\n",
        "\n",
        "from sklearn.metrics import confusion_matrix \n",
        "\n",
        "%matplotlib inline"
      ],
      "execution_count": 0,
      "outputs": []
    },
    {
      "metadata": {
        "id": "KS0HpOBufNww",
        "colab_type": "text"
      },
      "cell_type": "markdown",
      "source": [
        "### Google Credentials"
      ]
    },
    {
      "metadata": {
        "id": "Cb5fSfbXevTy",
        "colab_type": "code",
        "colab": {}
      },
      "cell_type": "code",
      "source": [
        "# Code to read csv file into colaboratory:\n",
        "!pip install -U -q PyDrive\n",
        "from pydrive.auth import GoogleAuth\n",
        "from pydrive.drive import GoogleDrive\n",
        "from google.colab import auth\n",
        "from oauth2client.client import GoogleCredentials\n",
        "\n",
        "# 1. Authenticate and create the PyDrive client.\n",
        "auth.authenticate_user()\n",
        "gauth = GoogleAuth()\n",
        "gauth.credentials = GoogleCredentials.get_application_default()\n",
        "drive = GoogleDrive(gauth)"
      ],
      "execution_count": 0,
      "outputs": []
    },
    {
      "metadata": {
        "id": "oJ32yITSeve6",
        "colab_type": "code",
        "colab": {
          "base_uri": "https://localhost:8080/",
          "height": 258
        },
        "outputId": "d14bde45-d8b2-4f0e-cc86-81c4f00da477"
      },
      "cell_type": "code",
      "source": [
        "!python -m spacy download en"
      ],
      "execution_count": 21,
      "outputs": [
        {
          "output_type": "stream",
          "text": [
            "Collecting en_core_web_sm==2.0.0 from https://github.com/explosion/spacy-models/releases/download/en_core_web_sm-2.0.0/en_core_web_sm-2.0.0.tar.gz#egg=en_core_web_sm==2.0.0\n",
            "\u001b[?25l  Downloading https://github.com/explosion/spacy-models/releases/download/en_core_web_sm-2.0.0/en_core_web_sm-2.0.0.tar.gz (37.4MB)\n",
            "\u001b[K    100% |████████████████████████████████| 37.4MB 102.1MB/s \n",
            "\u001b[?25hInstalling collected packages: en-core-web-sm\n",
            "  Running setup.py install for en-core-web-sm ... \u001b[?25l-\b \b\\\b \b|\b \bdone\n",
            "\u001b[?25hSuccessfully installed en-core-web-sm-2.0.0\n",
            "\n",
            "\u001b[93m    Linking successful\u001b[0m\n",
            "    /usr/local/lib/python3.6/dist-packages/en_core_web_sm -->\n",
            "    /usr/local/lib/python3.6/dist-packages/spacy/data/en\n",
            "\n",
            "    You can now load the model via spacy.load('en')\n",
            "\n"
          ],
          "name": "stdout"
        }
      ]
    },
    {
      "metadata": {
        "id": "pDhGVm04fdPu",
        "colab_type": "code",
        "colab": {}
      },
      "cell_type": "code",
      "source": [
        ""
      ],
      "execution_count": 0,
      "outputs": []
    },
    {
      "metadata": {
        "id": "CIcLK0R-fdav",
        "colab_type": "text"
      },
      "cell_type": "markdown",
      "source": [
        "### get the data"
      ]
    },
    {
      "metadata": {
        "id": "HE6s-0cgffCw",
        "colab_type": "code",
        "colab": {
          "base_uri": "https://localhost:8080/",
          "height": 204
        },
        "outputId": "c84b6336-ea7b-42eb-eef5-7a2cd92c25bc"
      },
      "cell_type": "code",
      "source": [
        "!wget https://s3.eu-west-2.amazonaws.com/w210-capstone/combined_model_20181021"
      ],
      "execution_count": 4,
      "outputs": [
        {
          "output_type": "stream",
          "text": [
            "--2018-10-25 09:12:36--  https://s3.eu-west-2.amazonaws.com/w210-capstone/combined_model_20181021\n",
            "Resolving s3.eu-west-2.amazonaws.com (s3.eu-west-2.amazonaws.com)... 52.95.148.32\n",
            "Connecting to s3.eu-west-2.amazonaws.com (s3.eu-west-2.amazonaws.com)|52.95.148.32|:443... connected.\n",
            "HTTP request sent, awaiting response... 200 OK\n",
            "Length: 1398967000 (1.3G) [application/x-www-form-urlencoded]\n",
            "Saving to: ‘combined_model_20181021’\n",
            "\n",
            "combined_model_2018 100%[===================>]   1.30G  32.1MB/s    in 64s     \n",
            "\n",
            "2018-10-25 09:13:41 (20.7 MB/s) - ‘combined_model_20181021’ saved [1398967000/1398967000]\n",
            "\n"
          ],
          "name": "stdout"
        }
      ]
    },
    {
      "metadata": {
        "id": "cgsPleqdffuL",
        "colab_type": "code",
        "colab": {}
      },
      "cell_type": "code",
      "source": [
        "from google.colab import files\n",
        "#files.download(file)"
      ],
      "execution_count": 0,
      "outputs": []
    },
    {
      "metadata": {
        "id": "shsKUXuiffxQ",
        "colab_type": "code",
        "colab": {
          "base_uri": "https://localhost:8080/",
          "height": 85
        },
        "outputId": "bcd9f46a-7870-45ca-956c-eab9e49e10d0"
      },
      "cell_type": "code",
      "source": [
        "!ls -lh"
      ],
      "execution_count": 10,
      "outputs": [
        {
          "output_type": "stream",
          "text": [
            "total 1.4G\n",
            "-rw-r--r-- 1 root root 2.6K Oct 25 09:12 adc.json\n",
            "-rw-r--r-- 1 root root 1.4G Oct 24 16:47 combined_model_20181021\n",
            "drwxr-xr-x 2 root root 4.0K Oct 23 16:44 sample_data\n"
          ],
          "name": "stdout"
        }
      ]
    },
    {
      "metadata": {
        "id": "LpxGwZeAiXIB",
        "colab_type": "text"
      },
      "cell_type": "markdown",
      "source": [
        "### install finetune"
      ]
    },
    {
      "metadata": {
        "id": "KPAmFzcYiETT",
        "colab_type": "code",
        "colab": {
          "base_uri": "https://localhost:8080/",
          "height": 1414
        },
        "outputId": "0e206362-606b-4c12-d61e-f551d6f85773"
      },
      "cell_type": "code",
      "source": [
        "!pip3 install finetune"
      ],
      "execution_count": 11,
      "outputs": [
        {
          "output_type": "stream",
          "text": [
            "Collecting finetune\n",
            "\u001b[?25l  Downloading https://files.pythonhosted.org/packages/38/51/112a78d9b000c30261fe6c292cf4240c6981e6dcb82f4920f2bbd6f07b33/finetune-0.5.10.tar.gz (45kB)\n",
            "\u001b[K    100% |████████████████████████████████| 51kB 2.0MB/s \n",
            "\u001b[?25hCollecting pandas>=0.23.1 (from finetune)\n",
            "\u001b[?25l  Downloading https://files.pythonhosted.org/packages/e1/d8/feeb346d41f181e83fba45224ab14a8d8af019b48af742e047f3845d8cff/pandas-0.23.4-cp36-cp36m-manylinux1_x86_64.whl (8.9MB)\n",
            "\u001b[K    100% |████████████████████████████████| 8.9MB 2.8MB/s \n",
            "\u001b[?25hCollecting IndicoIo>=1.1.5 (from finetune)\n",
            "  Downloading https://files.pythonhosted.org/packages/83/e5/5bcef01976ed776c33fd1ab1ad57154bf4023e1e3670863488b74b3d2a40/IndicoIo-1.1.5.tar.gz\n",
            "Requirement already satisfied: tqdm>=4.0.0 in /usr/local/lib/python3.6/dist-packages (from finetune) (4.28.1)\n",
            "Requirement already satisfied: numpy>=1.13.0 in /usr/local/lib/python3.6/dist-packages (from finetune) (1.14.6)\n",
            "Collecting scipy>=1.1.0 (from finetune)\n",
            "\u001b[?25l  Downloading https://files.pythonhosted.org/packages/a8/0b/f163da98d3a01b3e0ef1cab8dd2123c34aee2bafbb1c5bffa354cc8a1730/scipy-1.1.0-cp36-cp36m-manylinux1_x86_64.whl (31.2MB)\n",
            "\u001b[K    100% |████████████████████████████████| 31.2MB 946kB/s \n",
            "\u001b[?25hRequirement already satisfied: scikit-learn>=0.18.0 in /usr/local/lib/python3.6/dist-packages (from finetune) (0.19.2)\n",
            "Collecting ftfy>=4.4.0 (from finetune)\n",
            "\u001b[?25l  Downloading https://files.pythonhosted.org/packages/87/d1/b25441b6b8f22dfd9547711268562fe651b74cf66288cce632884025e085/ftfy-5.5.0.tar.gz (56kB)\n",
            "\u001b[K    100% |████████████████████████████████| 61kB 20.4MB/s \n",
            "\u001b[?25hRequirement already satisfied: spacy>=2.0.0 in /usr/local/lib/python3.6/dist-packages (from finetune) (2.0.16)\n",
            "Collecting msgpack-numpy==0.4.1 (from finetune)\n",
            "  Downloading https://files.pythonhosted.org/packages/2e/43/393e30e2768b0357541ac95891f96b80ccc4d517e0dd2fa3042fc8926538/msgpack_numpy-0.4.1-py2.py3-none-any.whl\n",
            "Requirement already satisfied: h5py>=2.8.0 in /usr/local/lib/python3.6/dist-packages (from finetune) (2.8.0)\n",
            "Requirement already satisfied: joblib>=0.12.0 in /usr/local/lib/python3.6/dist-packages (from finetune) (0.12.5)\n",
            "Collecting bs4>=0.0.1 (from finetune)\n",
            "  Downloading https://files.pythonhosted.org/packages/10/ed/7e8b97591f6f456174139ec089c769f89a94a1a4025fe967691de971f314/bs4-0.0.1.tar.gz\n",
            "Collecting imblearn>=0.0 (from finetune)\n",
            "  Downloading https://files.pythonhosted.org/packages/81/a7/4179e6ebfd654bd0eac0b9c06125b8b4c96a9d0a8ff9e9507eb2a26d2d7e/imblearn-0.0-py2.py3-none-any.whl\n",
            "Requirement already satisfied: pytz>=2011k in /usr/local/lib/python3.6/dist-packages (from pandas>=0.23.1->finetune) (2018.5)\n",
            "Requirement already satisfied: python-dateutil>=2.5.0 in /usr/local/lib/python3.6/dist-packages (from pandas>=0.23.1->finetune) (2.5.3)\n",
            "Requirement already satisfied: requests>=1.2.3 in /usr/local/lib/python3.6/dist-packages (from IndicoIo>=1.1.5->finetune) (2.18.4)\n",
            "Requirement already satisfied: six>=1.3.0 in /usr/local/lib/python3.6/dist-packages (from IndicoIo>=1.1.5->finetune) (1.11.0)\n",
            "Requirement already satisfied: pillow>=2.8.1 in /usr/local/lib/python3.6/dist-packages (from IndicoIo>=1.1.5->finetune) (4.0.0)\n",
            "Requirement already satisfied: msgpack>=0.5.6 in /usr/local/lib/python3.6/dist-packages (from IndicoIo>=1.1.5->finetune) (0.5.6)\n",
            "Requirement already satisfied: wcwidth in /usr/local/lib/python3.6/dist-packages (from ftfy>=4.4.0->finetune) (0.1.7)\n",
            "Requirement already satisfied: cymem<2.1.0,>=2.0.2 in /usr/local/lib/python3.6/dist-packages (from spacy>=2.0.0->finetune) (2.0.2)\n",
            "Requirement already satisfied: regex==2018.01.10 in /usr/local/lib/python3.6/dist-packages (from spacy>=2.0.0->finetune) (2018.1.10)\n",
            "Requirement already satisfied: thinc<6.13.0,>=6.12.0 in /usr/local/lib/python3.6/dist-packages (from spacy>=2.0.0->finetune) (6.12.0)\n",
            "Requirement already satisfied: ujson>=1.35 in /usr/local/lib/python3.6/dist-packages (from spacy>=2.0.0->finetune) (1.35)\n",
            "Requirement already satisfied: dill<0.3,>=0.2 in /usr/local/lib/python3.6/dist-packages (from spacy>=2.0.0->finetune) (0.2.8.2)\n",
            "Requirement already satisfied: murmurhash<1.1.0,>=0.28.0 in /usr/local/lib/python3.6/dist-packages (from spacy>=2.0.0->finetune) (1.0.1)\n",
            "Requirement already satisfied: preshed<2.1.0,>=2.0.1 in /usr/local/lib/python3.6/dist-packages (from spacy>=2.0.0->finetune) (2.0.1)\n",
            "Requirement already satisfied: plac<1.0.0,>=0.9.6 in /usr/local/lib/python3.6/dist-packages (from spacy>=2.0.0->finetune) (0.9.6)\n",
            "Collecting msgpack-python>=0.3.0 (from msgpack-numpy==0.4.1->finetune)\n",
            "\u001b[?25l  Downloading https://files.pythonhosted.org/packages/8a/20/6eca772d1a5830336f84aca1d8198e5a3f4715cd1c7fc36d3cc7f7185091/msgpack-python-0.5.6.tar.gz (138kB)\n",
            "\u001b[K    100% |████████████████████████████████| 143kB 28.7MB/s \n",
            "\u001b[?25hRequirement already satisfied: beautifulsoup4 in /usr/local/lib/python3.6/dist-packages (from bs4>=0.0.1->finetune) (4.6.3)\n",
            "Collecting imbalanced-learn (from imblearn>=0.0->finetune)\n",
            "\u001b[?25l  Downloading https://files.pythonhosted.org/packages/c5/ea/f027ceb21114abe8189a2804640b2d5dd49a7a271c4814695482c5bc94d8/imbalanced_learn-0.4.2-py3-none-any.whl (166kB)\n",
            "\u001b[K    100% |████████████████████████████████| 174kB 27.3MB/s \n",
            "\u001b[?25hRequirement already satisfied: chardet<3.1.0,>=3.0.2 in /usr/local/lib/python3.6/dist-packages (from requests>=1.2.3->IndicoIo>=1.1.5->finetune) (3.0.4)\n",
            "Requirement already satisfied: certifi>=2017.4.17 in /usr/local/lib/python3.6/dist-packages (from requests>=1.2.3->IndicoIo>=1.1.5->finetune) (2018.10.15)\n",
            "Requirement already satisfied: idna<2.7,>=2.5 in /usr/local/lib/python3.6/dist-packages (from requests>=1.2.3->IndicoIo>=1.1.5->finetune) (2.6)\n",
            "Requirement already satisfied: urllib3<1.23,>=1.21.1 in /usr/local/lib/python3.6/dist-packages (from requests>=1.2.3->IndicoIo>=1.1.5->finetune) (1.22)\n",
            "Requirement already satisfied: olefile in /usr/local/lib/python3.6/dist-packages (from pillow>=2.8.1->IndicoIo>=1.1.5->finetune) (0.46)\n",
            "Requirement already satisfied: wrapt<1.11.0,>=1.10.0 in /usr/local/lib/python3.6/dist-packages (from thinc<6.13.0,>=6.12.0->spacy>=2.0.0->finetune) (1.10.11)\n",
            "Requirement already satisfied: cytoolz<0.10,>=0.9.0 in /usr/local/lib/python3.6/dist-packages (from thinc<6.13.0,>=6.12.0->spacy>=2.0.0->finetune) (0.9.0.1)\n",
            "Requirement already satisfied: toolz>=0.8.0 in /usr/local/lib/python3.6/dist-packages (from cytoolz<0.10,>=0.9.0->thinc<6.13.0,>=6.12.0->spacy>=2.0.0->finetune) (0.9.0)\n",
            "Building wheels for collected packages: finetune, IndicoIo, ftfy, bs4, msgpack-python\n",
            "  Running setup.py bdist_wheel for finetune ... \u001b[?25l-\b \b\\\b \bdone\n",
            "\u001b[?25h  Stored in directory: /root/.cache/pip/wheels/32/1c/35/6f11236bb8923548cb6f4b728ef7d9629088066c9cb871b0aa\n",
            "  Running setup.py bdist_wheel for IndicoIo ... \u001b[?25l-\b \b\\\b \bdone\n",
            "\u001b[?25h  Stored in directory: /root/.cache/pip/wheels/92/45/b8/3cc5048729333ee7fafff88522c9537d999b176453ca127798\n",
            "  Running setup.py bdist_wheel for ftfy ... \u001b[?25l-\b \bdone\n",
            "\u001b[?25h  Stored in directory: /root/.cache/pip/wheels/e6/42/b1/0d7f9445a9df8920548ab9bb953d6587067c34bc47e5be9620\n",
            "  Running setup.py bdist_wheel for bs4 ... \u001b[?25l-\b \bdone\n",
            "\u001b[?25h  Stored in directory: /root/.cache/pip/wheels/a0/b0/b2/4f80b9456b87abedbc0bf2d52235414c3467d8889be38dd472\n",
            "  Running setup.py bdist_wheel for msgpack-python ... \u001b[?25l-\b \b\\\b \b|\b \b/\b \b-\b \bdone\n",
            "\u001b[?25h  Stored in directory: /root/.cache/pip/wheels/d5/de/86/7fa56fda12511be47ea0808f3502bc879df4e63ab168ec0406\n",
            "Successfully built finetune IndicoIo ftfy bs4 msgpack-python\n",
            "\u001b[31mspacy 2.0.16 has requirement numpy>=1.15.0, but you'll have numpy 1.14.6 which is incompatible.\u001b[0m\n",
            "\u001b[31mimbalanced-learn 0.4.2 has requirement scikit-learn>=0.20, but you'll have scikit-learn 0.19.2 which is incompatible.\u001b[0m\n",
            "Installing collected packages: pandas, msgpack-python, msgpack-numpy, IndicoIo, scipy, ftfy, bs4, imbalanced-learn, imblearn, finetune\n",
            "  Found existing installation: pandas 0.22.0\n",
            "    Uninstalling pandas-0.22.0:\n",
            "      Successfully uninstalled pandas-0.22.0\n",
            "  Found existing installation: msgpack-numpy 0.4.3.2\n",
            "    Uninstalling msgpack-numpy-0.4.3.2:\n",
            "      Successfully uninstalled msgpack-numpy-0.4.3.2\n",
            "  Found existing installation: scipy 0.19.1\n",
            "    Uninstalling scipy-0.19.1:\n",
            "      Successfully uninstalled scipy-0.19.1\n",
            "Successfully installed IndicoIo-1.1.5 bs4-0.0.1 finetune-0.5.10 ftfy-5.5.0 imbalanced-learn-0.4.2 imblearn-0.0 msgpack-numpy-0.4.1 msgpack-python-0.5.6 pandas-0.23.4 scipy-1.1.0\n"
          ],
          "name": "stdout"
        }
      ]
    },
    {
      "metadata": {
        "id": "Tez59NSlj-68",
        "colab_type": "text"
      },
      "cell_type": "markdown",
      "source": [
        "# Get test train data"
      ]
    },
    {
      "metadata": {
        "id": "FHBbWTSKkDzs",
        "colab_type": "code",
        "colab": {
          "base_uri": "https://localhost:8080/",
          "height": 71
        },
        "outputId": "392e9608-09fc-4999-8ee7-e204b8773e2a"
      },
      "cell_type": "code",
      "source": [
        "# https://drive.google.com/open?id=1E_FoSbaboe5azcnUSAChYLyYUrj5xRYO\n",
        "\n",
        "#2. Get the file\n",
        "downloaded = drive.CreateFile({'id':'1E_FoSbaboe5azcnUSAChYLyYUrj5xRYO'}) # replace the id with id of file you want to access\n",
        "downloaded.GetContentFile('combined_trainingdata_20181013.tsv')  \n",
        "\n",
        "#3. Read file as panda dataframe\n",
        "import pandas as pd\n",
        "data = pd.read_csv('combined_trainingdata_20181013.tsv',sep='\\t') "
      ],
      "execution_count": 12,
      "outputs": [
        {
          "output_type": "stream",
          "text": [
            "/usr/local/lib/python3.6/dist-packages/IPython/core/interactiveshell.py:2718: DtypeWarning: Columns (4,9) have mixed types. Specify dtype option on import or set low_memory=False.\n",
            "  interactivity=interactivity, compiler=compiler, result=result)\n"
          ],
          "name": "stderr"
        }
      ]
    },
    {
      "metadata": {
        "id": "zr5Up9SDk__J",
        "colab_type": "text"
      },
      "cell_type": "markdown",
      "source": [
        "#### look at data"
      ]
    },
    {
      "metadata": {
        "id": "BuaFmU8jlBjK",
        "colab_type": "code",
        "colab": {
          "base_uri": "https://localhost:8080/",
          "height": 85
        },
        "outputId": "0c9d7e7f-d9b9-43d3-cf52-66ef354f8ad6"
      },
      "cell_type": "code",
      "source": [
        "print(data.columns[data.isna().any()].tolist())\n",
        "print(data[data.COMPLAINT_1.isna()].shape)\n",
        "print(data[data.COMPLAINT_2.isna()].shape)\n",
        "print(data[(data.COMPLAINT_1.isna()) & (data.COMPLAINT_2.isna())].shape)"
      ],
      "execution_count": 13,
      "outputs": [
        {
          "output_type": "stream",
          "text": [
            "['COMPLAINT DATE', 'DEPT_311', 'COMPLAINT_1', 'COMPLAINT_2']\n",
            "(14025, 10)\n",
            "(964291, 10)\n",
            "(13579, 10)\n"
          ],
          "name": "stdout"
        }
      ]
    },
    {
      "metadata": {
        "id": "2Y3oIrwDlGmM",
        "colab_type": "text"
      },
      "cell_type": "markdown",
      "source": [
        "### preprocess data"
      ]
    },
    {
      "metadata": {
        "id": "R0IBrJ8tlJK5",
        "colab_type": "code",
        "colab": {
          "base_uri": "https://localhost:8080/",
          "height": 68
        },
        "outputId": "f71d0dc2-b03f-4607-8a21-35989853fe67"
      },
      "cell_type": "code",
      "source": [
        "dataFiltered = data.dropna(subset = [\"COMPLAINT_1\"])\n",
        "print(dataFiltered[(dataFiltered.COMPLAINT_1.isna())].shape)\n",
        "print(dataFiltered[(dataFiltered.COMPLAINT_1.isna()) & (dataFiltered.COMPLAINT_2.isna())].shape)\n",
        "print(dataFiltered[dataFiltered.COMPLAINT_1 == \"\"].shape)"
      ],
      "execution_count": 14,
      "outputs": [
        {
          "output_type": "stream",
          "text": [
            "(0, 10)\n",
            "(0, 10)\n",
            "(0, 10)\n"
          ],
          "name": "stdout"
        }
      ]
    },
    {
      "metadata": {
        "id": "tO-NEQG6kD5L",
        "colab_type": "code",
        "colab": {
          "base_uri": "https://localhost:8080/",
          "height": 34
        },
        "outputId": "24d2084e-9ac3-4728-b9ae-da3c0ecbbaa9"
      },
      "cell_type": "code",
      "source": [
        "translator = str.maketrans('', '', string.punctuation) # To remove punctuation\n",
        "\n",
        "def preProcess(complaintStart):\n",
        "    complaint = complaintStart[:512] # cut to 512 characters max\n",
        "    complaint = re.sub(\"\\d\",\"N\", complaint) # remove numbers\n",
        "    complaint = complaint.lower().translate(translator) # lower case and remove the punctuation\n",
        "    complaint = complaint.replace(\"\\n\",\" \").strip() # remove starting and trailing white spaces\n",
        "    if re.search('[a-zA-Z]', complaint) is None:# if there are no letters in the complaint, return empty, will be removed in later processing\n",
        "        return \"\"\n",
        "    return complaint\n",
        "\n",
        "def getComplaint(row):\n",
        "    complaint2 = row.get(\"COMPLAINT_2\")\n",
        "    if not pd.isnull(complaint2):\n",
        "        if \"[INSPECTION LOG #:\" in complaint2: # Remove inspection log section from C2\n",
        "            complaintStrippedList = complaint2.split(\"]\")[1:]\n",
        "            complaintFinal = \"]\".join(complaintStrippedList)\n",
        "        else:\n",
        "            complaintFinal = complaint2\n",
        "        if row.get(\"CITY\")==\"US_CHICAGO\": # if Chicago, concatenate the two\n",
        "            complaintFinal = row.get(\"COMPLAINT_1\") + \" \"+ complaintFinal\n",
        "        complaintProcessed = preProcess(complaintFinal)\n",
        "        if complaintProcessed == \"\" or re.search('[a-zA-Z]', complaintProcessed) is None: # if nothing or no letters\n",
        "            return preProcess(row.get(\"COMPLAINT_1\"))\n",
        "        return complaintProcessed\n",
        "    complaintProcessed = preProcess(row.get(\"COMPLAINT_1\"))\n",
        "    return complaintProcessed\n",
        "\n",
        "results = dataFiltered.apply(lambda row: getComplaint (row),axis=1)\n",
        "print(results[results.isna()].shape)"
      ],
      "execution_count": 16,
      "outputs": [
        {
          "output_type": "stream",
          "text": [
            "(0,)\n"
          ],
          "name": "stdout"
        }
      ]
    },
    {
      "metadata": {
        "id": "andi1kUDlZNx",
        "colab_type": "code",
        "colab": {
          "base_uri": "https://localhost:8080/",
          "height": 680
        },
        "outputId": "43bb20df-2e0f-4a3d-88ea-b533d098a1c0"
      },
      "cell_type": "code",
      "source": [
        "dataFiltered[\"complaint\"] = results\n",
        "print(dataFiltered[dataFiltered.complaint.isna()].shape)\n",
        "\n",
        "#Strip white spaces from CATEGORY_SUB\n",
        "dataFiltered[\"CATEGORY_SUB\"] = dataFiltered[\"CATEGORY_SUB\"].str.strip()\n",
        "\n",
        "#Filter data only to ones with at least 10 characters\n",
        "mask = (dataFiltered[\"complaint\"].str.len() >=10)\n",
        "dataFiltered = dataFiltered.loc[mask]\n",
        "print(dataFiltered.shape)\n",
        "\n",
        "#Filter the classes to only ones with more than 100 samples\n",
        "print(dataFiltered.CATEGORY_SUB.unique())\n",
        "aggregation = {\"complaint\":\"count\"}\n",
        "aggregatedByLabel = dataFiltered.groupby(\"CATEGORY_SUB\").agg(aggregation)\n",
        "\n",
        "\n",
        "\n",
        "\n",
        "goodLabels = aggregatedByLabel[aggregatedByLabel[\"complaint\"]>100]\n",
        "goodLabelsList = goodLabels.index.tolist()\n",
        "print(dataFiltered.shape)\n",
        "dataGoodLabels = dataFiltered[dataFiltered[\"CATEGORY_SUB\"].isin(goodLabelsList)]\n",
        "print(dataGoodLabels.shape)\n",
        "\n",
        "#Get SUB to MAIN mapping\n",
        "labelsMap = dataGoodLabels[[\"CATEGORY_MAIN\", \"CATEGORY_SUB\"]].drop_duplicates()\n",
        "labelsMap = labelsMap.set_index(\"CATEGORY_SUB\").to_dict()[\"CATEGORY_MAIN\"]\n",
        "#display(labelsMap)"
      ],
      "execution_count": 17,
      "outputs": [
        {
          "output_type": "stream",
          "text": [
            "/usr/local/lib/python3.6/dist-packages/ipykernel_launcher.py:1: SettingWithCopyWarning: \n",
            "A value is trying to be set on a copy of a slice from a DataFrame.\n",
            "Try using .loc[row_indexer,col_indexer] = value instead\n",
            "\n",
            "See the caveats in the documentation: http://pandas.pydata.org/pandas-docs/stable/indexing.html#indexing-view-versus-copy\n",
            "  \"\"\"Entry point for launching an IPython kernel.\n"
          ],
          "name": "stderr"
        },
        {
          "output_type": "stream",
          "text": [
            "(0, 11)\n"
          ],
          "name": "stdout"
        },
        {
          "output_type": "stream",
          "text": [
            "/usr/local/lib/python3.6/dist-packages/ipykernel_launcher.py:5: SettingWithCopyWarning: \n",
            "A value is trying to be set on a copy of a slice from a DataFrame.\n",
            "Try using .loc[row_indexer,col_indexer] = value instead\n",
            "\n",
            "See the caveats in the documentation: http://pandas.pydata.org/pandas-docs/stable/indexing.html#indexing-view-versus-copy\n",
            "  \"\"\"\n"
          ],
          "name": "stderr"
        },
        {
          "output_type": "stream",
          "text": [
            "(1084456, 11)\n",
            "['environment_general' 'environment_dumping' 'environment_air_pollution'\n",
            " 'environment_abandoned_site' 'publicorder_noise_complaint'\n",
            " 'environment_asbestos' 'environment_hazardous_material'\n",
            " 'planning_general' 'infrastructure_general' 'environment_water_pollution'\n",
            " 'environment_recycling' 'street_repair' 'housing_general'\n",
            " 'environment_overgrowth' 'housing_health_code' 'street_sewar'\n",
            " 'environment_garbage_collection' 'housing_safety'\n",
            " 'environment_abandoned_vehicle' 'governance_signage' 'street_general'\n",
            " 'environment_litter' 'street_urgent_repair' 'street_sidewalk'\n",
            " 'environment_dead_animal' 'street_cleaning' 'environemnt_dead_animal'\n",
            " 'vandalism_general' 'planning_construction' 'planning_unsafe_environment'\n",
            " 'infrastructure_water' 'infrastructure_water_repair'\n",
            " 'environnment_hazardous_material' 'vandalism_graffiti' 'street_lighting'\n",
            " 'publichealth_general' 'publichealth_school_hygiene' 'fire_general'\n",
            " 'street_parking' 'housing_mold' 'publichealth_pests' 'housing_pests'\n",
            " 'street_slippery' 'publicorder_general' 'governance_general'\n",
            " 'publichealth_animal_feces' 'fire_equipment_broken' 'publichealth_animal'\n",
            " 'governance_parks_and_rec' 'publichealth_public_building_hygiene'\n",
            " 'governance_it' 'fire_code_violation' 'governance_community' 'fire_risks'\n",
            " 'goveranance_general' 'publictransit_bus_service' 'street_drainage'\n",
            " 'publichealth_restaurant_hygiene' 'infrastructure_power'\n",
            " 'street_roadkill' 'publicorder_suspicious_behavior'\n",
            " 'publicorder_drug_activity' 'publicorder_dangerous_driving']\n",
            "(1084456, 11)\n",
            "(1084091, 11)\n"
          ],
          "name": "stdout"
        }
      ]
    },
    {
      "metadata": {
        "id": "XIwMwZTzmGAH",
        "colab_type": "text"
      },
      "cell_type": "markdown",
      "source": [
        "#### Prepare Training Data"
      ]
    },
    {
      "metadata": {
        "id": "GwkZuZjfmHfy",
        "colab_type": "code",
        "colab": {
          "base_uri": "https://localhost:8080/",
          "height": 85
        },
        "outputId": "9a311db8-14db-4740-9e35-c19088d00882"
      },
      "cell_type": "code",
      "source": [
        "trainingData = dataGoodLabels[[\"complaint\", \"CATEGORY_SUB\"]]\n",
        "print(type(trainingData))\n",
        "print(trainingData.shape)\n",
        "\n",
        "\n",
        "#Split sample into train/test (80/20)\n",
        "trainX, testX, trainY, testY = train_test_split(trainingData.complaint, trainingData.CATEGORY_SUB, \\\n",
        "                                                test_size=0.2, random_state=42, stratify=trainingData.CATEGORY_SUB)\n",
        "del trainingData\n",
        "print(trainX.shape)\n",
        "print(\"Split into train and test\")"
      ],
      "execution_count": 18,
      "outputs": [
        {
          "output_type": "stream",
          "text": [
            "<class 'pandas.core.frame.DataFrame'>\n",
            "(1084091, 2)\n",
            "(867272,)\n",
            "Split into train and test\n"
          ],
          "name": "stdout"
        }
      ]
    },
    {
      "metadata": {
        "id": "UR__fR17kD2e",
        "colab_type": "code",
        "colab": {}
      },
      "cell_type": "code",
      "source": [
        ""
      ],
      "execution_count": 0,
      "outputs": []
    },
    {
      "metadata": {
        "id": "cDv6oWJAjAzW",
        "colab_type": "text"
      },
      "cell_type": "markdown",
      "source": [
        "### load model and start testing"
      ]
    },
    {
      "metadata": {
        "id": "BLuiOY5QjMt2",
        "colab_type": "code",
        "colab": {}
      },
      "cell_type": "code",
      "source": [
        "# import finetune packages\n",
        "from finetune import Classifier"
      ],
      "execution_count": 0,
      "outputs": []
    },
    {
      "metadata": {
        "id": "4srzOwr-jNrG",
        "colab_type": "code",
        "colab": {
          "base_uri": "https://localhost:8080/",
          "height": 1544
        },
        "outputId": "33dfbf45-22cf-4b8e-b8c7-e1ab990f72e9"
      },
      "cell_type": "code",
      "source": [
        "model = Classifier.load(\"combined_model_20181021\")\n",
        "print(model)\n",
        "predictions = model.predict(testX.tolist())"
      ],
      "execution_count": 23,
      "outputs": [
        {
          "output_type": "stream",
          "text": [
            "\rInference:   0%|          | 0/216819 [00:00<?, ?it/s]"
          ],
          "name": "stderr"
        },
        {
          "output_type": "stream",
          "text": [
            "<finetune.classifier.Classifier object at 0x7fa3d47a8898>\n"
          ],
          "name": "stdout"
        },
        {
          "output_type": "error",
          "ename": "FileNotFoundError",
          "evalue": "ignored",
          "traceback": [
            "\u001b[0;31m---------------------------------------------------------------------------\u001b[0m",
            "\u001b[0;31mFileNotFoundError\u001b[0m                         Traceback (most recent call last)",
            "\u001b[0;32m<ipython-input-23-9799513315d4>\u001b[0m in \u001b[0;36m<module>\u001b[0;34m()\u001b[0m\n\u001b[1;32m      1\u001b[0m \u001b[0mmodel\u001b[0m \u001b[0;34m=\u001b[0m \u001b[0mClassifier\u001b[0m\u001b[0;34m.\u001b[0m\u001b[0mload\u001b[0m\u001b[0;34m(\u001b[0m\u001b[0;34m\"combined_model_20181021\"\u001b[0m\u001b[0;34m)\u001b[0m\u001b[0;34m\u001b[0m\u001b[0m\n\u001b[1;32m      2\u001b[0m \u001b[0mprint\u001b[0m\u001b[0;34m(\u001b[0m\u001b[0mmodel\u001b[0m\u001b[0;34m)\u001b[0m\u001b[0;34m\u001b[0m\u001b[0m\n\u001b[0;32m----> 3\u001b[0;31m \u001b[0mpredictions\u001b[0m \u001b[0;34m=\u001b[0m \u001b[0mmodel\u001b[0m\u001b[0;34m.\u001b[0m\u001b[0mpredict\u001b[0m\u001b[0;34m(\u001b[0m\u001b[0mtestX\u001b[0m\u001b[0;34m.\u001b[0m\u001b[0mtolist\u001b[0m\u001b[0;34m(\u001b[0m\u001b[0;34m)\u001b[0m\u001b[0;34m)\u001b[0m\u001b[0;34m\u001b[0m\u001b[0m\n\u001b[0m",
            "\u001b[0;32m/usr/local/lib/python3.6/dist-packages/finetune/classifier.py\u001b[0m in \u001b[0;36mpredict\u001b[0;34m(self, X)\u001b[0m\n\u001b[1;32m     48\u001b[0m         \u001b[0;34m:\u001b[0m\u001b[0mreturns\u001b[0m\u001b[0;34m:\u001b[0m \u001b[0mlist\u001b[0m \u001b[0mof\u001b[0m \u001b[0;32mclass\u001b[0m \u001b[0mlabels\u001b[0m\u001b[0;34m.\u001b[0m\u001b[0;34m\u001b[0m\u001b[0m\n\u001b[1;32m     49\u001b[0m         \"\"\"\n\u001b[0;32m---> 50\u001b[0;31m         \u001b[0;32mreturn\u001b[0m \u001b[0msuper\u001b[0m\u001b[0;34m(\u001b[0m\u001b[0;34m)\u001b[0m\u001b[0;34m.\u001b[0m\u001b[0mpredict\u001b[0m\u001b[0;34m(\u001b[0m\u001b[0mX\u001b[0m\u001b[0;34m)\u001b[0m\u001b[0;34m\u001b[0m\u001b[0m\n\u001b[0m\u001b[1;32m     51\u001b[0m \u001b[0;34m\u001b[0m\u001b[0m\n\u001b[1;32m     52\u001b[0m     \u001b[0;32mdef\u001b[0m \u001b[0mpredict_proba\u001b[0m\u001b[0;34m(\u001b[0m\u001b[0mself\u001b[0m\u001b[0;34m,\u001b[0m \u001b[0mX\u001b[0m\u001b[0;34m)\u001b[0m\u001b[0;34m:\u001b[0m\u001b[0;34m\u001b[0m\u001b[0m\n",
            "\u001b[0;32m/usr/local/lib/python3.6/dist-packages/finetune/base.py\u001b[0m in \u001b[0;36mpredict\u001b[0;34m(self, Xs)\u001b[0m\n\u001b[1;32m    239\u001b[0m \u001b[0;34m\u001b[0m\u001b[0m\n\u001b[1;32m    240\u001b[0m     \u001b[0;32mdef\u001b[0m \u001b[0mpredict\u001b[0m\u001b[0;34m(\u001b[0m\u001b[0mself\u001b[0m\u001b[0;34m,\u001b[0m \u001b[0mXs\u001b[0m\u001b[0;34m)\u001b[0m\u001b[0;34m:\u001b[0m\u001b[0;34m\u001b[0m\u001b[0m\n\u001b[0;32m--> 241\u001b[0;31m         \u001b[0;32mreturn\u001b[0m \u001b[0mself\u001b[0m\u001b[0;34m.\u001b[0m\u001b[0m_predict\u001b[0m\u001b[0;34m(\u001b[0m\u001b[0mXs\u001b[0m\u001b[0;34m)\u001b[0m\u001b[0;34m\u001b[0m\u001b[0m\n\u001b[0m\u001b[1;32m    242\u001b[0m \u001b[0;34m\u001b[0m\u001b[0m\n\u001b[1;32m    243\u001b[0m     \u001b[0;32mdef\u001b[0m \u001b[0m_predict_proba\u001b[0m\u001b[0;34m(\u001b[0m\u001b[0mself\u001b[0m\u001b[0;34m,\u001b[0m \u001b[0mXs\u001b[0m\u001b[0;34m)\u001b[0m\u001b[0;34m:\u001b[0m\u001b[0;34m\u001b[0m\u001b[0m\n",
            "\u001b[0;32m/usr/local/lib/python3.6/dist-packages/finetune/base.py\u001b[0m in \u001b[0;36m_predict\u001b[0;34m(self, Xs)\u001b[0m\n\u001b[1;32m    235\u001b[0m \u001b[0;34m\u001b[0m\u001b[0m\n\u001b[1;32m    236\u001b[0m     \u001b[0;32mdef\u001b[0m \u001b[0m_predict\u001b[0m\u001b[0;34m(\u001b[0m\u001b[0mself\u001b[0m\u001b[0;34m,\u001b[0m \u001b[0mXs\u001b[0m\u001b[0;34m)\u001b[0m\u001b[0;34m:\u001b[0m\u001b[0;34m\u001b[0m\u001b[0m\n\u001b[0;32m--> 237\u001b[0;31m         \u001b[0mraw_preds\u001b[0m \u001b[0;34m=\u001b[0m \u001b[0mself\u001b[0m\u001b[0;34m.\u001b[0m\u001b[0m_inference\u001b[0m\u001b[0;34m(\u001b[0m\u001b[0mXs\u001b[0m\u001b[0;34m,\u001b[0m \u001b[0mPredictMode\u001b[0m\u001b[0;34m.\u001b[0m\u001b[0mNORMAL\u001b[0m\u001b[0;34m)\u001b[0m\u001b[0;34m\u001b[0m\u001b[0m\n\u001b[0m\u001b[1;32m    238\u001b[0m         \u001b[0;32mreturn\u001b[0m \u001b[0mself\u001b[0m\u001b[0;34m.\u001b[0m\u001b[0minput_pipeline\u001b[0m\u001b[0;34m.\u001b[0m\u001b[0mlabel_encoder\u001b[0m\u001b[0;34m.\u001b[0m\u001b[0minverse_transform\u001b[0m\u001b[0;34m(\u001b[0m\u001b[0mnp\u001b[0m\u001b[0;34m.\u001b[0m\u001b[0masarray\u001b[0m\u001b[0;34m(\u001b[0m\u001b[0mraw_preds\u001b[0m\u001b[0;34m)\u001b[0m\u001b[0;34m)\u001b[0m\u001b[0;34m\u001b[0m\u001b[0m\n\u001b[1;32m    239\u001b[0m \u001b[0;34m\u001b[0m\u001b[0m\n",
            "\u001b[0;32m/usr/local/lib/python3.6/dist-packages/finetune/base.py\u001b[0m in \u001b[0;36m_inference\u001b[0;34m(self, Xs, mode)\u001b[0m\n\u001b[1;32m    224\u001b[0m                     ),\n\u001b[1;32m    225\u001b[0m                     \u001b[0mtotal\u001b[0m\u001b[0;34m=\u001b[0m\u001b[0mlength\u001b[0m\u001b[0;34m,\u001b[0m\u001b[0;34m\u001b[0m\u001b[0m\n\u001b[0;32m--> 226\u001b[0;31m                     \u001b[0mdesc\u001b[0m\u001b[0;34m=\u001b[0m\u001b[0;34m\"Inference\"\u001b[0m\u001b[0;34m\u001b[0m\u001b[0m\n\u001b[0m\u001b[1;32m    227\u001b[0m                 )\n\u001b[1;32m    228\u001b[0m             )\n",
            "\u001b[0;32m/usr/local/lib/python3.6/dist-packages/tqdm/_tqdm.py\u001b[0m in \u001b[0;36m__iter__\u001b[0;34m(self)\u001b[0m\n\u001b[1;32m    977\u001b[0m \"\"\", fp_write=getattr(self.fp, 'write', sys.stderr.write))\n\u001b[1;32m    978\u001b[0m \u001b[0;34m\u001b[0m\u001b[0m\n\u001b[0;32m--> 979\u001b[0;31m             \u001b[0;32mfor\u001b[0m \u001b[0mobj\u001b[0m \u001b[0;32min\u001b[0m \u001b[0miterable\u001b[0m\u001b[0;34m:\u001b[0m\u001b[0;34m\u001b[0m\u001b[0m\n\u001b[0m\u001b[1;32m    980\u001b[0m                 \u001b[0;32myield\u001b[0m \u001b[0mobj\u001b[0m\u001b[0;34m\u001b[0m\u001b[0m\n\u001b[1;32m    981\u001b[0m                 \u001b[0;31m# Update and possibly print the progressbar.\u001b[0m\u001b[0;34m\u001b[0m\u001b[0;34m\u001b[0m\u001b[0m\n",
            "\u001b[0;32m/usr/local/lib/python3.6/dist-packages/tensorflow/python/estimator/estimator.py\u001b[0m in \u001b[0;36mpredict\u001b[0;34m(self, input_fn, predict_keys, hooks, checkpoint_path, yield_single_examples)\u001b[0m\n\u001b[1;32m    575\u001b[0m             input_fn, model_fn_lib.ModeKeys.PREDICT)\n\u001b[1;32m    576\u001b[0m         estimator_spec = self._call_model_fn(\n\u001b[0;32m--> 577\u001b[0;31m             features, None, model_fn_lib.ModeKeys.PREDICT, self.config)\n\u001b[0m\u001b[1;32m    578\u001b[0m \u001b[0;34m\u001b[0m\u001b[0m\n\u001b[1;32m    579\u001b[0m         \u001b[0;31m# Call to warm_start has to be after model_fn is called.\u001b[0m\u001b[0;34m\u001b[0m\u001b[0;34m\u001b[0m\u001b[0m\n",
            "\u001b[0;32m/usr/local/lib/python3.6/dist-packages/tensorflow/python/estimator/estimator.py\u001b[0m in \u001b[0;36m_call_model_fn\u001b[0;34m(self, features, labels, mode, config)\u001b[0m\n\u001b[1;32m   1193\u001b[0m \u001b[0;34m\u001b[0m\u001b[0m\n\u001b[1;32m   1194\u001b[0m     \u001b[0mlogging\u001b[0m\u001b[0;34m.\u001b[0m\u001b[0minfo\u001b[0m\u001b[0;34m(\u001b[0m\u001b[0;34m'Calling model_fn.'\u001b[0m\u001b[0;34m)\u001b[0m\u001b[0;34m\u001b[0m\u001b[0m\n\u001b[0;32m-> 1195\u001b[0;31m     \u001b[0mmodel_fn_results\u001b[0m \u001b[0;34m=\u001b[0m \u001b[0mself\u001b[0m\u001b[0;34m.\u001b[0m\u001b[0m_model_fn\u001b[0m\u001b[0;34m(\u001b[0m\u001b[0mfeatures\u001b[0m\u001b[0;34m=\u001b[0m\u001b[0mfeatures\u001b[0m\u001b[0;34m,\u001b[0m \u001b[0;34m**\u001b[0m\u001b[0mkwargs\u001b[0m\u001b[0;34m)\u001b[0m\u001b[0;34m\u001b[0m\u001b[0m\n\u001b[0m\u001b[1;32m   1196\u001b[0m     \u001b[0mlogging\u001b[0m\u001b[0;34m.\u001b[0m\u001b[0minfo\u001b[0m\u001b[0;34m(\u001b[0m\u001b[0;34m'Done calling model_fn.'\u001b[0m\u001b[0;34m)\u001b[0m\u001b[0;34m\u001b[0m\u001b[0m\n\u001b[1;32m   1197\u001b[0m \u001b[0;34m\u001b[0m\u001b[0m\n",
            "\u001b[0;32m/usr/local/lib/python3.6/dist-packages/finetune/model.py\u001b[0m in \u001b[0;36m_model_fn\u001b[0;34m(features, labels, mode, params)\u001b[0m\n\u001b[1;32m     83\u001b[0m         \u001b[0;32mwith\u001b[0m \u001b[0mtf\u001b[0m\u001b[0;34m.\u001b[0m\u001b[0mvariable_scope\u001b[0m\u001b[0;34m(\u001b[0m\u001b[0mtf\u001b[0m\u001b[0;34m.\u001b[0m\u001b[0mget_variable_scope\u001b[0m\u001b[0;34m(\u001b[0m\u001b[0;34m)\u001b[0m\u001b[0;34m)\u001b[0m\u001b[0;34m:\u001b[0m\u001b[0;34m\u001b[0m\u001b[0m\n\u001b[1;32m     84\u001b[0m             \u001b[0mtrain_loss\u001b[0m \u001b[0;34m=\u001b[0m \u001b[0;36m0.0\u001b[0m\u001b[0;34m\u001b[0m\u001b[0m\n\u001b[0;32m---> 85\u001b[0;31m             \u001b[0mfeaturizer_state\u001b[0m \u001b[0;34m=\u001b[0m \u001b[0mfeaturizer\u001b[0m\u001b[0;34m(\u001b[0m\u001b[0mX\u001b[0m\u001b[0;34m,\u001b[0m \u001b[0mconfig\u001b[0m\u001b[0;34m=\u001b[0m\u001b[0mparams\u001b[0m\u001b[0;34m,\u001b[0m \u001b[0mencoder\u001b[0m\u001b[0;34m=\u001b[0m\u001b[0mencoder\u001b[0m\u001b[0;34m,\u001b[0m \u001b[0mtrain\u001b[0m\u001b[0;34m=\u001b[0m\u001b[0mtrain\u001b[0m\u001b[0;34m)\u001b[0m\u001b[0;34m\u001b[0m\u001b[0m\n\u001b[0m\u001b[1;32m     86\u001b[0m             \u001b[0mpredictions\u001b[0m \u001b[0;34m=\u001b[0m \u001b[0;34m{\u001b[0m\u001b[0mPredictMode\u001b[0m\u001b[0;34m.\u001b[0m\u001b[0mFEATURIZE\u001b[0m\u001b[0;34m:\u001b[0m \u001b[0mfeaturizer_state\u001b[0m\u001b[0;34m[\u001b[0m\u001b[0;34m\"features\"\u001b[0m\u001b[0;34m]\u001b[0m\u001b[0;34m}\u001b[0m\u001b[0;34m\u001b[0m\u001b[0m\n\u001b[1;32m     87\u001b[0m \u001b[0;34m\u001b[0m\u001b[0m\n",
            "\u001b[0;32m/usr/local/lib/python3.6/dist-packages/finetune/network_modules.py\u001b[0m in \u001b[0;36mfeaturizer\u001b[0;34m(X, encoder, config, train, reuse)\u001b[0m\n\u001b[1;32m     46\u001b[0m \u001b[0;34m\u001b[0m\u001b[0m\n\u001b[1;32m     47\u001b[0m     \u001b[0;32mwith\u001b[0m \u001b[0mtf\u001b[0m\u001b[0;34m.\u001b[0m\u001b[0mvariable_scope\u001b[0m\u001b[0;34m(\u001b[0m\u001b[0;34m'model/featurizer'\u001b[0m\u001b[0;34m,\u001b[0m \u001b[0mreuse\u001b[0m\u001b[0;34m=\u001b[0m\u001b[0mreuse\u001b[0m\u001b[0;34m)\u001b[0m\u001b[0;34m:\u001b[0m\u001b[0;34m\u001b[0m\u001b[0m\n\u001b[0;32m---> 48\u001b[0;31m         embed_weights = tf.get_variable(\"we\", [encoder.vocab_size + config.max_length, config.n_embed],\n\u001b[0m\u001b[1;32m     49\u001b[0m                                         initializer=tf.random_normal_initializer(stddev=config.weight_stddev))\n\u001b[1;32m     50\u001b[0m         \u001b[0;32mif\u001b[0m \u001b[0mconfig\u001b[0m\u001b[0;34m.\u001b[0m\u001b[0mtrain_embeddings\u001b[0m\u001b[0;34m:\u001b[0m\u001b[0;34m\u001b[0m\u001b[0m\n",
            "\u001b[0;32m/usr/local/lib/python3.6/dist-packages/finetune/encoding.py\u001b[0m in \u001b[0;36mvocab_size\u001b[0;34m(self)\u001b[0m\n\u001b[1;32m    109\u001b[0m     \u001b[0;34m@\u001b[0m\u001b[0mproperty\u001b[0m\u001b[0;34m\u001b[0m\u001b[0m\n\u001b[1;32m    110\u001b[0m     \u001b[0;32mdef\u001b[0m \u001b[0mvocab_size\u001b[0m\u001b[0;34m(\u001b[0m\u001b[0mself\u001b[0m\u001b[0;34m)\u001b[0m\u001b[0;34m:\u001b[0m\u001b[0;34m\u001b[0m\u001b[0m\n\u001b[0;32m--> 111\u001b[0;31m         \u001b[0mself\u001b[0m\u001b[0;34m.\u001b[0m\u001b[0m_lazy_init\u001b[0m\u001b[0;34m(\u001b[0m\u001b[0;34m)\u001b[0m\u001b[0;34m\u001b[0m\u001b[0m\n\u001b[0m\u001b[1;32m    112\u001b[0m         \u001b[0;32mreturn\u001b[0m \u001b[0mlen\u001b[0m\u001b[0;34m(\u001b[0m\u001b[0mself\u001b[0m\u001b[0;34m.\u001b[0m\u001b[0mencoder\u001b[0m\u001b[0;34m)\u001b[0m\u001b[0;34m\u001b[0m\u001b[0m\n\u001b[1;32m    113\u001b[0m \u001b[0;34m\u001b[0m\u001b[0m\n",
            "\u001b[0;32m/usr/local/lib/python3.6/dist-packages/finetune/encoding.py\u001b[0m in \u001b[0;36m_lazy_init\u001b[0;34m(self)\u001b[0m\n\u001b[1;32m     88\u001b[0m             \u001b[0;32mreturn\u001b[0m\u001b[0;34m\u001b[0m\u001b[0m\n\u001b[1;32m     89\u001b[0m \u001b[0;34m\u001b[0m\u001b[0m\n\u001b[0;32m---> 90\u001b[0;31m         \u001b[0mself\u001b[0m\u001b[0;34m.\u001b[0m\u001b[0mencoder\u001b[0m \u001b[0;34m=\u001b[0m \u001b[0mjson\u001b[0m\u001b[0;34m.\u001b[0m\u001b[0mload\u001b[0m\u001b[0;34m(\u001b[0m\u001b[0mopen\u001b[0m\u001b[0;34m(\u001b[0m\u001b[0mENCODER_PATH\u001b[0m\u001b[0;34m)\u001b[0m\u001b[0;34m)\u001b[0m\u001b[0;34m\u001b[0m\u001b[0m\n\u001b[0m\u001b[1;32m     91\u001b[0m         \u001b[0mself\u001b[0m\u001b[0;34m.\u001b[0m\u001b[0mdecoder\u001b[0m \u001b[0;34m=\u001b[0m \u001b[0;34m{\u001b[0m\u001b[0mv\u001b[0m\u001b[0;34m:\u001b[0m \u001b[0mk\u001b[0m \u001b[0;32mfor\u001b[0m \u001b[0mk\u001b[0m\u001b[0;34m,\u001b[0m \u001b[0mv\u001b[0m \u001b[0;32min\u001b[0m \u001b[0mself\u001b[0m\u001b[0;34m.\u001b[0m\u001b[0mencoder\u001b[0m\u001b[0;34m.\u001b[0m\u001b[0mitems\u001b[0m\u001b[0;34m(\u001b[0m\u001b[0;34m)\u001b[0m\u001b[0;34m}\u001b[0m\u001b[0;34m\u001b[0m\u001b[0m\n\u001b[1;32m     92\u001b[0m \u001b[0;34m\u001b[0m\u001b[0m\n",
            "\u001b[0;31mFileNotFoundError\u001b[0m: [Errno 2] No such file or directory: '/usr/local/lib/python3.6/dist-packages/finetune/model/encoder_bpe_40000.json'"
          ]
        }
      ]
    },
    {
      "metadata": {
        "id": "hXPZ66XfoIir",
        "colab_type": "code",
        "colab": {
          "base_uri": "https://localhost:8080/",
          "height": 527
        },
        "outputId": "a359e592-bbbf-43c6-a235-b43001d3bb25"
      },
      "cell_type": "code",
      "source": [
        "!ls -lh /usr/local/lib/python3.6/dist-packages/finetune/"
      ],
      "execution_count": 28,
      "outputs": [
        {
          "output_type": "stream",
          "text": [
            "total 216K\n",
            "-rw-r--r-- 1 root staff  297 Oct 25 09:25 activations.py\n",
            "-rw-r--r-- 1 root staff  20K Oct 25 09:25 base.py\n",
            "-rw-r--r-- 1 root staff 3.0K Oct 25 09:25 classifier.py\n",
            "-rw-r--r-- 1 root staff 3.2K Oct 25 09:25 comparison.py\n",
            "-rw-r--r-- 1 root staff  11K Oct 25 09:25 config.py\n",
            "-rw-r--r-- 1 root staff 1.8K Oct 25 09:25 crf.py\n",
            "drwxr-sr-x 3 root staff 4.0K Oct 25 09:26 datasets\n",
            "-rw-r--r-- 1 root staff 1.1K Oct 25 09:25 download.py\n",
            "-rw-r--r-- 1 root staff  12K Oct 25 09:25 encoding.py\n",
            "-rw-r--r-- 1 root staff   80 Oct 25 09:25 errors.py\n",
            "-rw-r--r-- 1 root staff 3.2K Oct 25 09:25 estimator_utils.py\n",
            "-rw-r--r-- 1 root staff 1.9K Oct 25 09:25 imbalance.py\n",
            "-rw-r--r-- 1 root staff  693 Oct 25 09:25 __init__.py\n",
            "-rw-r--r-- 1 root staff  12K Oct 25 09:25 input_pipeline.py\n",
            "-rw-r--r-- 1 root staff 8.2K Oct 25 09:25 metrics.py\n",
            "-rw-r--r-- 1 root staff 7.0K Oct 25 09:25 model.py\n",
            "-rw-r--r-- 1 root staff 4.1K Oct 25 09:25 multifield.py\n",
            "-rw-r--r-- 1 root staff 3.0K Oct 25 09:25 multi_label_classifier.py\n",
            "-rw-r--r-- 1 root staff 6.0K Oct 25 09:25 multiple_choice.py\n",
            "-rw-r--r-- 1 root staff  16K Oct 25 09:25 network_modules.py\n",
            "-rw-r--r-- 1 root staff  620 Oct 25 09:25 optimizers.py\n",
            "drwxr-sr-x 2 root staff 4.0K Oct 25 09:26 __pycache__\n",
            "-rw-r--r-- 1 root staff 6.1K Oct 25 09:25 recompute_grads.py\n",
            "-rw-r--r-- 1 root staff 2.6K Oct 25 09:25 regressor.py\n",
            "-rw-r--r-- 1 root staff 7.1K Oct 25 09:25 saver.py\n",
            "-rw-r--r-- 1 root staff 9.5K Oct 25 09:25 sequence_labeling.py\n",
            "-rw-r--r-- 1 root staff 2.3K Oct 25 09:25 target_encoders.py\n",
            "-rw-r--r-- 1 root staff 3.9K Oct 25 09:25 transformer.py\n",
            "-rw-r--r-- 1 root staff  13K Oct 25 09:25 utils.py\n"
          ],
          "name": "stdout"
        }
      ]
    }
  ]
}