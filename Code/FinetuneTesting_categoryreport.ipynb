{
 "cells": [
  {
   "cell_type": "markdown",
   "metadata": {
    "colab_type": "text",
    "id": "QmV1HBjMeyW4"
   },
   "source": [
    "# Finetune Testing"
   ]
  },
  {
   "cell_type": "code",
   "execution_count": 4,
   "metadata": {
    "colab": {},
    "colab_type": "code",
    "id": "9wBuai6-evQ0"
   },
   "outputs": [],
   "source": [
    "# load libraries\n",
    "import pandas as pd\n",
    "import numpy as np\n",
    "from collections import defaultdict\n",
    "import os\n",
    "import time\n",
    "import re, string\n",
    "\n",
    "# Load sklearn packages\n",
    "from sklearn.model_selection import train_test_split\n",
    "from sklearn.metrics import confusion_matrix \n",
    "from sklearn.metrics import classification_report\n",
    "\n",
    "\n",
    "#%matplotlib inline"
   ]
  },
  {
   "cell_type": "markdown",
   "metadata": {
    "colab_type": "text",
    "id": "KS0HpOBufNww"
   },
   "source": [
    "### Google Credentials"
   ]
  },
  {
   "cell_type": "code",
   "execution_count": 5,
   "metadata": {
    "colab": {},
    "colab_type": "code",
    "id": "Cb5fSfbXevTy"
   },
   "outputs": [],
   "source": [
    "if 2==1:    \n",
    "    # Code to read csv file into colaboratory:\n",
    "    !pip install -U -q PyDrive\n",
    "    from pydrive.auth import GoogleAuth\n",
    "    from pydrive.drive import GoogleDrive\n",
    "    from google.colab import auth\n",
    "    from oauth2client.client import GoogleCredentials\n",
    "\n",
    "    # 1. Authenticate and create the PyDrive client.\n",
    "    auth.authenticate_user()\n",
    "    gauth = GoogleAuth()\n",
    "    gauth.credentials = GoogleCredentials.get_application_default()\n",
    "    drive = GoogleDrive(gauth)"
   ]
  },
  {
   "cell_type": "code",
   "execution_count": null,
   "metadata": {
    "colab": {
     "base_uri": "https://localhost:8080/",
     "height": 258
    },
    "colab_type": "code",
    "id": "oJ32yITSeve6",
    "outputId": "d14bde45-d8b2-4f0e-cc86-81c4f00da477"
   },
   "outputs": [],
   "source": []
  },
  {
   "cell_type": "code",
   "execution_count": null,
   "metadata": {
    "colab": {},
    "colab_type": "code",
    "id": "pDhGVm04fdPu"
   },
   "outputs": [],
   "source": []
  },
  {
   "cell_type": "markdown",
   "metadata": {
    "colab_type": "text",
    "id": "CIcLK0R-fdav"
   },
   "source": [
    "## Get the data"
   ]
  },
  {
   "cell_type": "code",
   "execution_count": 16,
   "metadata": {
    "colab": {},
    "colab_type": "code",
    "id": "cgsPleqdffuL"
   },
   "outputs": [
    {
     "name": "stderr",
     "output_type": "stream",
     "text": [
      "/usr/local/lib/python3.5/dist-packages/ipykernel_launcher.py:4: DeprecationWarning: 'U' mode is deprecated\n",
      "  after removing the cwd from sys.path.\n"
     ]
    }
   ],
   "source": [
    "#from google.colab import files\n",
    "\n",
    "# Test Data\n",
    "testpredictions=pd.read_csv(open('finetune_test_predictions.tsv','rU'), encoding='utf-8', engine='c',sep='\\t')"
   ]
  },
  {
   "cell_type": "code",
   "execution_count": 18,
   "metadata": {},
   "outputs": [
    {
     "data": {
      "text/html": [
       "<div>\n",
       "<style scoped>\n",
       "    .dataframe tbody tr th:only-of-type {\n",
       "        vertical-align: middle;\n",
       "    }\n",
       "\n",
       "    .dataframe tbody tr th {\n",
       "        vertical-align: top;\n",
       "    }\n",
       "\n",
       "    .dataframe thead th {\n",
       "        text-align: right;\n",
       "    }\n",
       "</style>\n",
       "<table border=\"1\" class=\"dataframe\">\n",
       "  <thead>\n",
       "    <tr style=\"text-align: right;\">\n",
       "      <th></th>\n",
       "      <th>Unnamed: 0</th>\n",
       "      <th>testX</th>\n",
       "      <th>testY</th>\n",
       "      <th>testY_MAIN</th>\n",
       "      <th>predictions</th>\n",
       "      <th>predictions_MAIN</th>\n",
       "    </tr>\n",
       "  </thead>\n",
       "  <tbody>\n",
       "    <tr>\n",
       "      <th>0</th>\n",
       "      <td>88242</td>\n",
       "      <td>mr davis need two bump signs dispatched nnn nn...</td>\n",
       "      <td>street_general</td>\n",
       "      <td>street</td>\n",
       "      <td>street_repair</td>\n",
       "      <td>street</td>\n",
       "    </tr>\n",
       "    <tr>\n",
       "      <th>1</th>\n",
       "      <td>1094858</td>\n",
       "      <td>nnn nnth ave</td>\n",
       "      <td>planning_general</td>\n",
       "      <td>planning</td>\n",
       "      <td>environment_dumping</td>\n",
       "      <td>environment</td>\n",
       "    </tr>\n",
       "  </tbody>\n",
       "</table>\n",
       "</div>"
      ],
      "text/plain": [
       "  Unnamed: 0                                              testX  \\\n",
       "0      88242  mr davis need two bump signs dispatched nnn nn...   \n",
       "1    1094858                                       nnn nnth ave   \n",
       "\n",
       "              testY testY_MAIN          predictions predictions_MAIN  \n",
       "0    street_general     street        street_repair           street  \n",
       "1  planning_general   planning  environment_dumping      environment  "
      ]
     },
     "metadata": {},
     "output_type": "display_data"
    },
    {
     "data": {
      "text/plain": [
       "Index(['Unnamed: 0', 'testX', 'testY', 'testY_MAIN', 'predictions',\n",
       "       'predictions_MAIN'],\n",
       "      dtype='object')"
      ]
     },
     "metadata": {},
     "output_type": "display_data"
    }
   ],
   "source": [
    "display(testpredictions.head(2))\n",
    "display(testpredictions.columns)"
   ]
  },
  {
   "cell_type": "code",
   "execution_count": 24,
   "metadata": {},
   "outputs": [
    {
     "name": "stdout",
     "output_type": "stream",
     "text": [
      "testX NaNs: 632\n",
      "testY NaNs: 2109\n",
      "testY_MAIN NaNs: 2109\n",
      "predictions NaNs: 2109\n",
      "predictions_MAIN NaNs: 3586\n"
     ]
    }
   ],
   "source": [
    "print('testX NaNs:',testpredictions['testX'].isna().sum())\n",
    "\n",
    "print('testY NaNs:',testpredictions['testY'].isna().sum())\n",
    "print('testY_MAIN NaNs:',testpredictions['testY_MAIN'].isna().sum())\n",
    "\n",
    "print('predictions NaNs:',testpredictions['predictions'].isna().sum())\n",
    "print('predictions_MAIN NaNs:',testpredictions['predictions_MAIN'].isna().sum())"
   ]
  },
  {
   "cell_type": "markdown",
   "metadata": {},
   "source": [
    "## Clean the data\n",
    "\n",
    "- remove rows with NaN in \"testX\"\n",
    "- remove rows with NaN in \"testY\""
   ]
  },
  {
   "cell_type": "code",
   "execution_count": 28,
   "metadata": {},
   "outputs": [
    {
     "name": "stdout",
     "output_type": "stream",
     "text": [
      "dropped na from testX\n",
      "testX NaNs: 0\n",
      "testY NaNs: 1477\n",
      "testY_MAIN NaNs: 1477\n",
      "predictions NaNs: 1477\n",
      "predictions_MAIN NaNs: 2954\n",
      "dropped na from testX\n",
      "testX NaNs: 0\n",
      "testY NaNs: 0\n",
      "testY_MAIN NaNs: 0\n",
      "predictions NaNs: 0\n",
      "predictions_MAIN NaNs: 1477\n"
     ]
    }
   ],
   "source": [
    "testpredictions_cleaned=testpredictions.dropna(axis=0,subset=['testX'])\n",
    "print('dropped na from testX')\n",
    "print('testX NaNs:',testpredictions_cleaned['testX'].isna().sum())\n",
    "print('testY NaNs:',testpredictions_cleaned['testY'].isna().sum())\n",
    "print('testY_MAIN NaNs:',testpredictions_cleaned['testY_MAIN'].isna().sum())\n",
    "print('predictions NaNs:',testpredictions_cleaned['predictions'].isna().sum())\n",
    "print('predictions_MAIN NaNs:',testpredictions_cleaned['predictions_MAIN'].isna().sum())\n",
    "\n",
    "# now from testY\n",
    "testpredictions_cleaned=testpredictions_cleaned.dropna(axis=0,subset=['testY'])\n",
    "print('\\ndropped na from testY')\n",
    "print('testX NaNs:',testpredictions_cleaned['testX'].isna().sum())\n",
    "print('testY NaNs:',testpredictions_cleaned['testY'].isna().sum())\n",
    "print('testY_MAIN NaNs:',testpredictions_cleaned['testY_MAIN'].isna().sum())\n",
    "print('predictions NaNs:',testpredictions_cleaned['predictions'].isna().sum())\n",
    "print('predictions_MAIN NaNs:',testpredictions_cleaned['predictions_MAIN'].isna().sum())"
   ]
  },
  {
   "cell_type": "code",
   "execution_count": 29,
   "metadata": {},
   "outputs": [
    {
     "name": "stdout",
     "output_type": "stream",
     "text": [
      "\n",
      "filled na from predictions_MAIN\n",
      "testX NaNs: 0\n",
      "testY NaNs: 0\n",
      "testY_MAIN NaNs: 0\n",
      "predictions NaNs: 0\n",
      "predictions_MAIN NaNs: 0\n"
     ]
    }
   ],
   "source": [
    "testpredictions_cleaned=testpredictions_cleaned.fillna(value='unknown')\n",
    "print('\\nfilled na from predictions_MAIN')\n",
    "print('testX NaNs:',testpredictions_cleaned['testX'].isna().sum())\n",
    "print('testY NaNs:',testpredictions_cleaned['testY'].isna().sum())\n",
    "print('testY_MAIN NaNs:',testpredictions_cleaned['testY_MAIN'].isna().sum())\n",
    "print('predictions NaNs:',testpredictions_cleaned['predictions'].isna().sum())\n",
    "print('predictions_MAIN NaNs:',testpredictions_cleaned['predictions_MAIN'].isna().sum())"
   ]
  },
  {
   "cell_type": "code",
   "execution_count": 30,
   "metadata": {},
   "outputs": [
    {
     "name": "stdout",
     "output_type": "stream",
     "text": [
      "MAIN CLASS\n"
     ]
    },
    {
     "name": "stderr",
     "output_type": "stream",
     "text": [
      "/usr/local/lib/python3.5/dist-packages/sklearn/metrics/classification.py:1143: UndefinedMetricWarning: Precision and F-score are ill-defined and being set to 0.0 in labels with no predicted samples.\n",
      "  'precision', 'predicted', average, warn_for)\n",
      "/usr/local/lib/python3.5/dist-packages/sklearn/metrics/classification.py:1145: UndefinedMetricWarning: Recall and F-score are ill-defined and being set to 0.0 in labels with no true samples.\n",
      "  'recall', 'true', average, warn_for)\n"
     ]
    },
    {
     "name": "stdout",
     "output_type": "stream",
     "text": [
      "                                precision    recall  f1-score   support\n",
      "\n",
      "                   environment       0.86      0.97      0.91    113719\n",
      "    environment_abandoned_site       0.00      0.00      0.00         1\n",
      " environment_abandoned_vehicle       0.00      0.00      0.00         5\n",
      "     environment_air_pollution       0.00      0.00      0.00       175\n",
      "          environment_asbestos       0.00      0.00      0.00        30\n",
      "           environment_dumping       0.00      0.00      0.00       103\n",
      "environment_garbage_collection       0.00      0.00      0.00       424\n",
      "environment_hazardous_material       0.00      0.00      0.00        31\n",
      "            environment_litter       0.00      0.00      0.00         4\n",
      "        environment_overgrowth       0.00      0.00      0.00        42\n",
      "         environment_recycling       0.00      0.00      0.00       205\n",
      "                          fire       0.87      0.86      0.86      2359\n",
      "                    governance       0.58      0.44      0.50     10653\n",
      "            governance_general       0.00      0.00      0.00        54\n",
      "      governance_parks_and_rec       0.00      0.00      0.00        17\n",
      "            governance_signage       0.00      0.00      0.00         8\n",
      "                       housing       0.80      0.62      0.70     12632\n",
      "               housing_general       0.00      0.00      0.00         5\n",
      "           housing_health_code       0.00      0.00      0.00         2\n",
      "                  housing_mold       0.00      0.00      0.00         1\n",
      "                infrastructure       0.78      0.78      0.78      7233\n",
      "        infrastructure_general       0.00      0.00      0.00         8\n",
      "          infrastructure_water       0.00      0.00      0.00        19\n",
      "   infrastructure_water_repair       0.00      0.00      0.00         1\n",
      "                      planning       0.85      0.67      0.75      7198\n",
      "              planning_general       0.00      0.00      0.00        25\n",
      "                 public_health       0.94      0.85      0.89      4854\n",
      "                  public_order       0.73      0.71      0.72      3310\n",
      "           publicorder_general       0.00      0.00      0.00         1\n",
      "   publicorder_noise_complaint       0.00      0.00      0.00       183\n",
      "                        street       0.89      0.79      0.83     44442\n",
      "               street_cleaning       0.00      0.00      0.00         2\n",
      "               street_drainage       0.00      0.00      0.00         1\n",
      "                street_general       0.00      0.00      0.00        18\n",
      "               street_lighting       0.00      0.00      0.00        10\n",
      "                street_parking       0.00      0.00      0.00         4\n",
      "                 street_repair       0.00      0.00      0.00        35\n",
      "               street_sidewalk       0.00      0.00      0.00        19\n",
      "               street_slippery       0.00      0.00      0.00         2\n",
      "          street_urgent_repair       0.00      0.00      0.00        38\n",
      "                       unknown       0.00      0.00      0.00         0\n",
      "                     vandalism       0.92      0.73      0.81      8942\n",
      "             vandalism_general       0.00      0.00      0.00         1\n",
      "            vandalism_graffiti       0.00      0.00      0.00         3\n",
      "\n",
      "                     micro avg       0.84      0.84      0.84    216819\n",
      "                     macro avg       0.19      0.17      0.18    216819\n",
      "                  weighted avg       0.84      0.84      0.84    216819\n",
      "\n"
     ]
    }
   ],
   "source": [
    "print('MAIN CLASS')\n",
    "\n",
    "print(classification_report(testpredictions_cleaned['testY_MAIN'], testpredictions_cleaned['predictions_MAIN']))"
   ]
  },
  {
   "cell_type": "code",
   "execution_count": 31,
   "metadata": {},
   "outputs": [
    {
     "name": "stdout",
     "output_type": "stream",
     "text": [
      "SUB CLASS\n",
      "                                 precision    recall  f1-score   support\n",
      "\n",
      "        environemnt_dead_animal       0.73      0.15      0.25        54\n",
      "                    environment       0.96      0.97      0.97      1008\n",
      "     environment_abandoned_site       0.73      0.57      0.64       828\n",
      "  environment_abandoned_vehicle       0.81      0.66      0.73      6452\n",
      "      environment_air_pollution       0.86      0.93      0.89      3387\n",
      "           environment_asbestos       0.94      0.93      0.94       514\n",
      "        environment_dead_animal       0.89      0.75      0.81      2311\n",
      "            environment_dumping       0.62      0.70      0.66      8164\n",
      " environment_garbage_collection       0.72      0.97      0.83     54378\n",
      "            environment_general       0.72      0.53      0.61      1491\n",
      " environment_hazardous_material       0.85      0.78      0.81      1111\n",
      "             environment_litter       0.64      0.56      0.60      3315\n",
      "         environment_overgrowth       0.80      0.72      0.76     19660\n",
      "          environment_recycling       0.95      0.86      0.91     12054\n",
      "          fire_equipment_broken       0.61      0.43      0.51       174\n",
      "                   fire_general       0.88      0.90      0.89      2164\n",
      "                     fire_risks       0.00      0.00      0.00        21\n",
      "                     governance       0.70      0.60      0.64        92\n",
      "             governance_general       0.45      0.32      0.38      7126\n",
      "       governance_parks_and_rec       0.55      0.28      0.38      1483\n",
      "             governance_signage       0.61      0.69      0.65      2044\n",
      "                        housing       0.00      0.00      0.00         0\n",
      "                housing_general       0.77      0.58      0.66      9438\n",
      "            housing_health_code       0.61      0.55      0.58      1561\n",
      "                   housing_mold       0.86      0.75      0.80       856\n",
      "                  housing_pests       0.00      0.00      0.00        31\n",
      "                 housing_safety       0.72      0.58      0.64       746\n",
      "                 infrastructure       0.54      0.71      0.61        21\n",
      "         infrastructure_general       0.78      0.79      0.78      4810\n",
      "           infrastructure_power       0.98      0.76      0.85       162\n",
      "           infrastructure_water       0.58      0.66      0.62      1630\n",
      "    infrastructure_water_repair       0.79      0.52      0.63       631\n",
      "                       planning       0.64      0.50      0.56        32\n",
      "          planning_construction       0.57      0.15      0.24        84\n",
      "               planning_general       0.79      0.61      0.69      5098\n",
      "    planning_unsafe_environment       0.95      0.82      0.88      2016\n",
      "                  public_health       0.00      0.00      0.00         2\n",
      "                   public_order       0.95      0.99      0.97       177\n",
      "            publichealth_animal       0.70      0.12      0.20       162\n",
      "      publichealth_animal_feces       0.85      0.54      0.66       154\n",
      "           publichealth_general       0.98      0.93      0.95      3434\n",
      "             publichealth_pests       0.72      0.64      0.68       783\n",
      "publichealth_restaurant_hygiene       0.93      0.98      0.96       321\n",
      "            publicorder_general       0.54      0.52      0.53      1758\n",
      "    publicorder_noise_complaint       0.96      0.92      0.94      1552\n",
      "                         street       0.85      0.77      0.81       142\n",
      "                street_cleaning       0.79      0.73      0.76       990\n",
      "                street_drainage       0.57      0.44      0.50      1280\n",
      "                 street_general       0.38      0.30      0.34      1717\n",
      "                street_lighting       0.94      0.89      0.92      8248\n",
      "                 street_parking       0.72      0.51      0.60       433\n",
      "                  street_repair       0.86      0.76      0.80     19583\n",
      "                street_roadkill       0.77      0.28      0.41        83\n",
      "                   street_sewar       0.82      0.79      0.80       941\n",
      "                street_sidewalk       0.68      0.63      0.65      3913\n",
      "                street_slippery       0.88      0.67      0.76      1866\n",
      "           street_urgent_repair       0.80      0.69      0.74      5388\n",
      "                      vandalism       0.75      1.00      0.86         3\n",
      "              vandalism_general       0.85      0.45      0.59        91\n",
      "             vandalism_graffiti       0.92      0.73      0.82      8851\n",
      "\n",
      "                      micro avg       0.77      0.77      0.77    216819\n",
      "                      macro avg       0.71      0.61      0.64    216819\n",
      "                   weighted avg       0.77      0.77      0.76    216819\n",
      "\n"
     ]
    }
   ],
   "source": [
    "print('SUB CLASS')\n",
    "\n",
    "print(classification_report(testpredictions_cleaned['testY'], testpredictions_cleaned['predictions']))"
   ]
  },
  {
   "cell_type": "code",
   "execution_count": null,
   "metadata": {},
   "outputs": [],
   "source": []
  }
 ],
 "metadata": {
  "colab": {
   "name": "FinetuneTesting_categoryreport.ipynb",
   "provenance": [],
   "version": "0.3.2"
  },
  "kernelspec": {
   "display_name": "Python 3",
   "language": "python",
   "name": "python3"
  },
  "language_info": {
   "codemirror_mode": {
    "name": "ipython",
    "version": 3
   },
   "file_extension": ".py",
   "mimetype": "text/x-python",
   "name": "python",
   "nbconvert_exporter": "python",
   "pygments_lexer": "ipython3",
   "version": "3.5.2"
  }
 },
 "nbformat": 4,
 "nbformat_minor": 2
}
