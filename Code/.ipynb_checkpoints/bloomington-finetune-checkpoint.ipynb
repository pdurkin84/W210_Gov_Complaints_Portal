{
 "cells": [
  {
   "cell_type": "markdown",
   "metadata": {},
   "source": [
    "Import packages:"
   ]
  },
  {
   "cell_type": "code",
   "execution_count": 9,
   "metadata": {},
   "outputs": [
    {
     "name": "stdout",
     "output_type": "stream",
     "text": [
      "The scikit-learn version is 0.20.0.\n"
     ]
    }
   ],
   "source": [
    "from finetune import Classifier, config\n",
    "import tensorflow as tf\n",
    "import csv\n",
    "import pandas\n",
    "import numpy as np\n",
    "from sklearn.model_selection import train_test_split\n",
    "import sklearn\n",
    "from sklearn.metrics import classification_report\n",
    "print('The scikit-learn version is {}.'.format(sklearn.__version__))"
   ]
  },
  {
   "cell_type": "markdown",
   "metadata": {},
   "source": [
    "Get data:"
   ]
  },
  {
   "cell_type": "code",
   "execution_count": 2,
   "metadata": {},
   "outputs": [
    {
     "name": "stdout",
     "output_type": "stream",
     "text": [
      "(82484, 5)\n",
      "service_name                                                 Yard Waste\n",
      "description           Neighbor water buckets\\n\\nThe owner of the hou...\n",
      "agency_responsible                                                  NaN\n",
      "OurLabel                                                     Yard Waste\n",
      "OurNumericLabel                                                       8\n",
      "Name: 82480, dtype: object\n"
     ]
    }
   ],
   "source": [
    "filePath = \"Processing_eda/Bloomington_311_processed_3.csv\"\n",
    "data3 = pandas.read_csv(filePath)\n",
    "print(data3.shape)\n",
    "print(data3.loc[82480])"
   ]
  },
  {
   "cell_type": "markdown",
   "metadata": {},
   "source": [
    "Filter data only to ones with at least 40 characters and at most 1024"
   ]
  },
  {
   "cell_type": "code",
   "execution_count": 3,
   "metadata": {},
   "outputs": [
    {
     "name": "stdout",
     "output_type": "stream",
     "text": [
      "(60731, 5)\n"
     ]
    }
   ],
   "source": [
    "mask = (data3['description'].str.len() >=20) & (data3['description'].str.len() <=512)\n",
    "dataFiltered = data3.loc[mask]\n",
    "print(dataFiltered.shape)"
   ]
  },
  {
   "cell_type": "markdown",
   "metadata": {},
   "source": [
    "Check for columns with NaN values"
   ]
  },
  {
   "cell_type": "code",
   "execution_count": 4,
   "metadata": {},
   "outputs": [
    {
     "data": {
      "text/plain": [
       "['agency_responsible']"
      ]
     },
     "execution_count": 4,
     "metadata": {},
     "output_type": "execute_result"
    }
   ],
   "source": [
    "dataFiltered.columns[dataFiltered.isna().any()].tolist()\n",
    "# ourLabel doesn't have NaN values, so that is good. "
   ]
  },
  {
   "cell_type": "markdown",
   "metadata": {},
   "source": [
    "Prepare training data"
   ]
  },
  {
   "cell_type": "code",
   "execution_count": 14,
   "metadata": {},
   "outputs": [
    {
     "name": "stdout",
     "output_type": "stream",
     "text": [
      "<class 'pandas.core.frame.DataFrame'>\n",
      "(60731, 2)\n",
      "['Bags must have sticker attached.  over 40 lbs. 944\\n(both a  N  &  S  ??', 'STILL NO ATTEMPT TO REMOVE THE SNOW FROM THE SIDEWALK.', 'no plastic bags allowed in yard waste.  Paper bags only or proper container', 'SEWER BACKUP AT MANOLE IN REAR OF HIS PROPERTY', 'Recyclable items not properly sorted.']\n"
     ]
    }
   ],
   "source": [
    "trainingData = dataFiltered[[\"description\", \"OurLabel\"]]\n",
    "print(type(trainingData))\n",
    "print(trainingData.shape)\n",
    "trainX, testX, trainY, testY = train_test_split(trainingData.description, trainingData.OurLabel, test_size=0.2, random_state=42)\n",
    "# bigMask = (trainingData[\"description\"].str.len() >=1000)\n",
    "# print(trainingData.loc[bigMask].shape)\n",
    "# Split in train and test 80/20\n",
    "print(testX.tolist()[:5])"
   ]
  },
  {
   "cell_type": "markdown",
   "metadata": {},
   "source": [
    "Training a model with finetune (this part fails because of CPU overload)"
   ]
  },
  {
   "cell_type": "code",
   "execution_count": null,
   "metadata": {},
   "outputs": [],
   "source": [
    "model = Classifier(max_length=512, val_interval=3000, verbose = True)               # Load base model\n",
    "model.fit(trainX, trainY)          # Finetune base model on custom data"
   ]
  },
  {
   "cell_type": "code",
   "execution_count": null,
   "metadata": {},
   "outputs": [],
   "source": [
    "# model.save(\"newModel\")                   # Serialize the model to disk"
   ]
  },
  {
   "cell_type": "markdown",
   "metadata": {},
   "source": [
    "Predictions"
   ]
  },
  {
   "cell_type": "code",
   "execution_count": 15,
   "metadata": {},
   "outputs": [
    {
     "name": "stdout",
     "output_type": "stream",
     "text": [
      "<finetune.classifier.Classifier object at 0x7f04e4025128>\n",
      "WARNING:tensorflow:From /usr/local/lib/python3.5/dist-packages/tensorflow/python/framework/function.py:986: calling Graph.create_op (from tensorflow.python.framework.ops) with compute_shapes is deprecated and will be removed in a future version.\n",
      "Instructions for updating:\n",
      "Shapes are always computed; don't use the compute_shapes as it has no effect.\n"
     ]
    },
    {
     "name": "stderr",
     "output_type": "stream",
     "text": []
    }
   ],
   "source": [
    "model = Classifier.load(\"newModel\")\n",
    "print(model)\n",
    "predictions = model.predict(testX.tolist())\n",
    "# for threshold in np.linspace(0, 1, 5):\n",
    "#     print(\"Threshold = {}\".format(threshold))\n",
    "#     print(classification_report(\n",
    "#         model.label_encoder.transform(testY),\n",
    "#         model.label_encoder.transform(model.predict(testX, threshold=threshold))\n",
    "#     ))\n"
   ]
  },
  {
   "cell_type": "code",
   "execution_count": 19,
   "metadata": {},
   "outputs": [
    {
     "name": "stdout",
     "output_type": "stream",
     "text": [
      "10402\n",
      "12147\n",
      "Accuracy: 0.8563431299909443\n"
     ]
    }
   ],
   "source": [
    "correct = 0\n",
    "count = 0\n",
    "testYList = testY.tolist()\n",
    "for i, complaint in enumerate(testX.tolist()):\n",
    "    correct += int(predictions[i] == testYList[i])\n",
    "    count +=1\n",
    "print(correct)\n",
    "print(count)\n",
    "print(\"Accuracy: \"+str(correct*1.0/count))"
   ]
  },
  {
   "cell_type": "code",
   "execution_count": null,
   "metadata": {},
   "outputs": [],
   "source": []
  }
 ],
 "metadata": {
  "kernelspec": {
   "display_name": "Python 3",
   "language": "python",
   "name": "python3"
  },
  "language_info": {
   "codemirror_mode": {
    "name": "ipython",
    "version": 3
   },
   "file_extension": ".py",
   "mimetype": "text/x-python",
   "name": "python",
   "nbconvert_exporter": "python",
   "pygments_lexer": "ipython3",
   "version": "3.5.2"
  }
 },
 "nbformat": 4,
 "nbformat_minor": 2
}
