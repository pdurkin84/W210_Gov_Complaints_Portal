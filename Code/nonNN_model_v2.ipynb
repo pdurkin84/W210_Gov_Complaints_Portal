{
  "nbformat": 4,
  "nbformat_minor": 0,
  "metadata": {
    "colab": {
      "name": "nonNN_model_v2.ipynb",
      "version": "0.3.2",
      "provenance": [],
      "collapsed_sections": []
    },
    "kernelspec": {
      "name": "python3",
      "display_name": "Python 3"
    }
  },
  "cells": [
    {
      "metadata": {
        "id": "8V8zb-vgnsNj",
        "colab_type": "code",
        "colab": {}
      },
      "cell_type": "code",
      "source": [
        ""
      ],
      "execution_count": 0,
      "outputs": []
    },
    {
      "metadata": {
        "id": "rgaeMdFdnuXG",
        "colab_type": "text"
      },
      "cell_type": "markdown",
      "source": [
        "# Load packages"
      ]
    },
    {
      "metadata": {
        "id": "RxQjX-Bwnyf1",
        "colab_type": "code",
        "colab": {}
      },
      "cell_type": "code",
      "source": [
        "# trimming related\n",
        "import pandas as pd\n",
        "from sklearn.model_selection import train_test_split\n",
        "import time\n",
        "import re, string\n",
        "from pprint import pprint\n",
        "import time\n"
      ],
      "execution_count": 0,
      "outputs": []
    },
    {
      "metadata": {
        "id": "jdfCU6QHoFg4",
        "colab_type": "code",
        "colab": {}
      },
      "cell_type": "code",
      "source": [
        ""
      ],
      "execution_count": 0,
      "outputs": []
    },
    {
      "metadata": {
        "id": "uVh2YIhyoFp1",
        "colab_type": "code",
        "colab": {}
      },
      "cell_type": "code",
      "source": [
        ""
      ],
      "execution_count": 0,
      "outputs": []
    },
    {
      "metadata": {
        "id": "lgWTTdYWnywF",
        "colab_type": "text"
      },
      "cell_type": "markdown",
      "source": [
        "# Link to GDrive"
      ]
    },
    {
      "metadata": {
        "id": "55O1P854n0Si",
        "colab_type": "code",
        "colab": {}
      },
      "cell_type": "code",
      "source": [
        "!pip install -U -q PyDrive\n",
        "\n",
        "from pydrive.auth import GoogleAuth\n",
        "from pydrive.drive import GoogleDrive\n",
        "from google.colab import auth\n",
        "from oauth2client.client import GoogleCredentials\n",
        "\n",
        "# 1. Authenticate and create the PyDrive client.\n",
        "auth.authenticate_user()\n",
        "gauth = GoogleAuth()\n",
        "gauth.credentials = GoogleCredentials.get_application_default()\n",
        "drive = GoogleDrive(gauth)"
      ],
      "execution_count": 0,
      "outputs": []
    },
    {
      "metadata": {
        "id": "cF3hcnD-oV0k",
        "colab_type": "code",
        "colab": {}
      },
      "cell_type": "code",
      "source": [
        "if 2==1:\n",
        "  # 2. Create & upload a file text file.\n",
        "  uploaded = drive.CreateFile({'title': 'Sample upload.txt'})\n",
        "  uploaded.SetContentString('Sample upload file content')\n",
        "  uploaded.Upload()\n",
        "  print('Uploaded file with ID {}'.format(uploaded.get('id')))"
      ],
      "execution_count": 0,
      "outputs": []
    },
    {
      "metadata": {
        "id": "hC43UDXAoV46",
        "colab_type": "code",
        "outputId": "46b9e955-e554-4085-816b-df70226f2f6c",
        "colab": {
          "base_uri": "https://localhost:8080/",
          "height": 71
        }
      },
      "cell_type": "code",
      "source": [
        "#https://drive.google.com/open?id=1lcBs3kpCY3yjPlvVHw7-Gk1Rd1JYzxxj\n",
        "\n",
        "if 1==1:\n",
        "  #2. Get the file\n",
        "  downloaded = drive.CreateFile({'id':'1lcBs3kpCY3yjPlvVHw7-Gk1Rd1JYzxxj'}) # replace the id with id of file you want to access\n",
        "  downloaded.GetContentFile('combined_trainingdata_20181108.tsv')  \n",
        "\n",
        "  #3. Read file as panda dataframe\n",
        "  import pandas as pd\n",
        "  df = pd.read_csv('combined_trainingdata_20181108.tsv',sep='\\t') \n",
        "  df.drop(labels=['Unnamed: 0'],axis=1,inplace=True)"
      ],
      "execution_count": 0,
      "outputs": [
        {
          "output_type": "stream",
          "text": [
            "/usr/local/lib/python3.6/dist-packages/IPython/core/interactiveshell.py:2718: DtypeWarning: Columns (5,10) have mixed types. Specify dtype option on import or set low_memory=False.\n",
            "  interactivity=interactivity, compiler=compiler, result=result)\n"
          ],
          "name": "stderr"
        }
      ]
    },
    {
      "metadata": {
        "id": "JN0cCk2zqWRn",
        "colab_type": "text"
      },
      "cell_type": "markdown",
      "source": [
        "# Verify data"
      ]
    },
    {
      "metadata": {
        "id": "xpr7TJGbqZoe",
        "colab_type": "code",
        "outputId": "0db89a5f-e29a-49c2-f5d4-6623542f0469",
        "colab": {
          "base_uri": "https://localhost:8080/",
          "height": 34
        }
      },
      "cell_type": "code",
      "source": [
        "df.shape"
      ],
      "execution_count": 0,
      "outputs": [
        {
          "output_type": "execute_result",
          "data": {
            "text/plain": [
              "(961399, 11)"
            ]
          },
          "metadata": {
            "tags": []
          },
          "execution_count": 37
        }
      ]
    },
    {
      "metadata": {
        "id": "cJvTOT4Sq2Za",
        "colab_type": "code",
        "outputId": "4a0d2d3d-a4f1-4c9d-b00a-2102aae3dda4",
        "colab": {
          "base_uri": "https://localhost:8080/",
          "height": 267
        }
      },
      "cell_type": "code",
      "source": [
        "df.head(2)"
      ],
      "execution_count": 0,
      "outputs": [
        {
          "output_type": "execute_result",
          "data": {
            "text/html": [
              "<div>\n",
              "<style scoped>\n",
              "    .dataframe tbody tr th:only-of-type {\n",
              "        vertical-align: middle;\n",
              "    }\n",
              "\n",
              "    .dataframe tbody tr th {\n",
              "        vertical-align: top;\n",
              "    }\n",
              "\n",
              "    .dataframe thead th {\n",
              "        text-align: right;\n",
              "    }\n",
              "</style>\n",
              "<table border=\"1\" class=\"dataframe\">\n",
              "  <thead>\n",
              "    <tr style=\"text-align: right;\">\n",
              "      <th></th>\n",
              "      <th>index</th>\n",
              "      <th>COMPLAINT_ID</th>\n",
              "      <th>CITY</th>\n",
              "      <th>COMPLAINT DATE</th>\n",
              "      <th>DEPT_311</th>\n",
              "      <th>CODE_311</th>\n",
              "      <th>CATEGORY_MAIN</th>\n",
              "      <th>CATEGORY_SUB</th>\n",
              "      <th>COMPLAINT_1</th>\n",
              "      <th>COMPLAINT_2</th>\n",
              "      <th>complaint</th>\n",
              "    </tr>\n",
              "  </thead>\n",
              "  <tbody>\n",
              "    <tr>\n",
              "      <th>0</th>\n",
              "      <td>0</td>\n",
              "      <td>US_CHICAGO_1725</td>\n",
              "      <td>US_CHICAGO</td>\n",
              "      <td>10/03/2011</td>\n",
              "      <td>health_environment</td>\n",
              "      <td>permits issued by doe work order</td>\n",
              "      <td>environment</td>\n",
              "      <td>environment_general</td>\n",
              "      <td>QUESTIONABLE BUSINESS PRACTICES REGARDING OILS...</td>\n",
              "      <td>[INSPECTION LOG #: 1723 03-OCT-11 18:55:00] TH...</td>\n",
              "      <td>questionable business practices regarding oils...</td>\n",
              "    </tr>\n",
              "    <tr>\n",
              "      <th>1</th>\n",
              "      <td>1</td>\n",
              "      <td>US_CHICAGO_600301602</td>\n",
              "      <td>US_CHICAGO</td>\n",
              "      <td>07/14/2017</td>\n",
              "      <td>health_environment</td>\n",
              "      <td>illegal dumping work order</td>\n",
              "      <td>environment</td>\n",
              "      <td>environment_dumping</td>\n",
              "      <td>CONSTRUCTION/DEMOLITION DEBRIS DUMPED IN BACK ...</td>\n",
              "      <td>[INSPECTION LOG #: 3439804 14-JUL-17 09:45:00]...</td>\n",
              "      <td>constructiondemolition debris dumped back yard...</td>\n",
              "    </tr>\n",
              "  </tbody>\n",
              "</table>\n",
              "</div>"
            ],
            "text/plain": [
              "   index          COMPLAINT_ID        CITY COMPLAINT DATE            DEPT_311  \\\n",
              "0      0       US_CHICAGO_1725  US_CHICAGO     10/03/2011  health_environment   \n",
              "1      1  US_CHICAGO_600301602  US_CHICAGO     07/14/2017  health_environment   \n",
              "\n",
              "                           CODE_311 CATEGORY_MAIN         CATEGORY_SUB  \\\n",
              "0  permits issued by doe work order   environment  environment_general   \n",
              "1        illegal dumping work order   environment  environment_dumping   \n",
              "\n",
              "                                         COMPLAINT_1  \\\n",
              "0  QUESTIONABLE BUSINESS PRACTICES REGARDING OILS...   \n",
              "1  CONSTRUCTION/DEMOLITION DEBRIS DUMPED IN BACK ...   \n",
              "\n",
              "                                         COMPLAINT_2  \\\n",
              "0  [INSPECTION LOG #: 1723 03-OCT-11 18:55:00] TH...   \n",
              "1  [INSPECTION LOG #: 3439804 14-JUL-17 09:45:00]...   \n",
              "\n",
              "                                           complaint  \n",
              "0  questionable business practices regarding oils...  \n",
              "1  constructiondemolition debris dumped back yard...  "
            ]
          },
          "metadata": {
            "tags": []
          },
          "execution_count": 5
        }
      ]
    },
    {
      "metadata": {
        "id": "fj6OQhEyrANx",
        "colab_type": "code",
        "colab": {}
      },
      "cell_type": "code",
      "source": [
        "model_data=df[['CATEGORY_MAIN','CATEGORY_SUB','complaint']]"
      ],
      "execution_count": 0,
      "outputs": []
    },
    {
      "metadata": {
        "id": "foZf5T26rAhD",
        "colab_type": "text"
      },
      "cell_type": "markdown",
      "source": [
        "# Basic Modeling"
      ]
    },
    {
      "metadata": {
        "id": "ec2a3TisrCVM",
        "colab_type": "code",
        "colab": {}
      },
      "cell_type": "code",
      "source": [
        "# Load packages\n",
        "from sklearn.model_selection import train_test_split\n",
        "from sklearn.feature_extraction.text import CountVectorizer\n",
        "from sklearn.feature_extraction.text import TfidfTransformer\n",
        "from sklearn.naive_bayes import MultinomialNB\n",
        "from sklearn.svm import LinearSVC\n",
        "from sklearn.metrics import classification_report\n",
        "\n",
        "import seaborn as sns\n",
        "import matplotlib.pyplot as plt\n",
        "\n",
        "from sklearn.metrics import confusion_matrix \n",
        "from sklearn.metrics import accuracy_score\n",
        "\n",
        "%matplotlib inline"
      ],
      "execution_count": 0,
      "outputs": []
    },
    {
      "metadata": {
        "id": "LH_BoNmgv7RS",
        "colab_type": "text"
      },
      "cell_type": "markdown",
      "source": [
        "** drop any category with less than 100 occurances**"
      ]
    },
    {
      "metadata": {
        "id": "lFQI-JJFv6hD",
        "colab_type": "code",
        "outputId": "e28ee242-5350-4845-ae6e-16b4fbfee2b4",
        "colab": {
          "base_uri": "https://localhost:8080/",
          "height": 102
        }
      },
      "cell_type": "code",
      "source": [
        "model_data.dropna(axis=0,subset=['complaint'],inplace=True)\n",
        "model_data=model_data[model_data.groupby('CATEGORY_SUB').CATEGORY_MAIN.transform(len) > 99]"
      ],
      "execution_count": 0,
      "outputs": [
        {
          "output_type": "stream",
          "text": [
            "/usr/local/lib/python3.6/dist-packages/ipykernel_launcher.py:1: SettingWithCopyWarning: \n",
            "A value is trying to be set on a copy of a slice from a DataFrame\n",
            "\n",
            "See the caveats in the documentation: http://pandas.pydata.org/pandas-docs/stable/indexing.html#indexing-view-versus-copy\n",
            "  \"\"\"Entry point for launching an IPython kernel.\n"
          ],
          "name": "stderr"
        }
      ]
    },
    {
      "metadata": {
        "id": "34R3I_adtzFG",
        "colab_type": "code",
        "colab": {}
      },
      "cell_type": "code",
      "source": [
        "y_main= model_data['CATEGORY_MAIN']\n",
        "y_sub= model_data['CATEGORY_SUB']\n",
        "x= model_data['complaint']\n",
        "\n",
        "count_vect = CountVectorizer()\n",
        "x_counts = count_vect.fit_transform(x)\n",
        "tfidf_transformer = TfidfTransformer()\n",
        "x_tfidf = tfidf_transformer.fit_transform(x_counts)"
      ],
      "execution_count": 0,
      "outputs": []
    },
    {
      "metadata": {
        "id": "UiIYLH52v1Ny",
        "colab_type": "text"
      },
      "cell_type": "markdown",
      "source": [
        ""
      ]
    },
    {
      "metadata": {
        "id": "Ee5wN29kv1cJ",
        "colab_type": "code",
        "colab": {}
      },
      "cell_type": "code",
      "source": [
        ""
      ],
      "execution_count": 0,
      "outputs": []
    },
    {
      "metadata": {
        "id": "zMduQgxjtzTK",
        "colab_type": "code",
        "colab": {}
      },
      "cell_type": "code",
      "source": [
        "#main categories\n",
        "x_train_main, x_test_main, y_train_main, y_test_main = train_test_split( x_tfidf, y_main, test_size=0.2, random_state=412, stratify=y_main)\n",
        "\n",
        "#sub categories\n",
        "x_train_sub, x_test_sub, y_train_sub, y_test_sub = train_test_split( x_tfidf, y_sub, test_size=0.2, random_state=412, stratify=y_sub)"
      ],
      "execution_count": 0,
      "outputs": []
    },
    {
      "metadata": {
        "id": "3AJgJSwquWUN",
        "colab_type": "text"
      },
      "cell_type": "markdown",
      "source": [
        "## Naive Bayes"
      ]
    },
    {
      "metadata": {
        "id": "DbdvLuNVtzeZ",
        "colab_type": "code",
        "colab": {}
      },
      "cell_type": "code",
      "source": [
        "modelNB_sub = MultinomialNB().fit(x_train_sub, y_train_sub)"
      ],
      "execution_count": 0,
      "outputs": []
    },
    {
      "metadata": {
        "id": "vFyy8u5-CIyN",
        "colab_type": "code",
        "colab": {}
      },
      "cell_type": "code",
      "source": [
        ""
      ],
      "execution_count": 0,
      "outputs": []
    },
    {
      "metadata": {
        "id": "K6f_L4AkvmOE",
        "colab_type": "code",
        "outputId": "77493758-bf5a-4326-a02b-4a03f34ef1d3",
        "colab": {
          "base_uri": "https://localhost:8080/",
          "height": 85
        }
      },
      "cell_type": "code",
      "source": [
        "display(modelNB_sub.predict(count_vect.transform([\"fire escape\"]))[0])\n",
        "display(modelNB_sub.predict(count_vect.transform([\"trash left in emp ty lot\"]))[0])\n",
        "display(modelNB_sub.predict(count_vect.transform([\"broken window in abandoned house\"]))[0])\n",
        "display(modelNB_sub.predict(count_vect.transform([\"graffiti\"]))[0])"
      ],
      "execution_count": 0,
      "outputs": [
        {
          "output_type": "display_data",
          "data": {
            "text/plain": [
              "'housing_general'"
            ]
          },
          "metadata": {
            "tags": []
          }
        },
        {
          "output_type": "display_data",
          "data": {
            "text/plain": [
              "'environment_garbage_collection'"
            ]
          },
          "metadata": {
            "tags": []
          }
        },
        {
          "output_type": "display_data",
          "data": {
            "text/plain": [
              "'environment_abandoned_vehicle'"
            ]
          },
          "metadata": {
            "tags": []
          }
        },
        {
          "output_type": "display_data",
          "data": {
            "text/plain": [
              "'vandalism_graffiti'"
            ]
          },
          "metadata": {
            "tags": []
          }
        }
      ]
    },
    {
      "metadata": {
        "id": "Ozf5ngNmvsPs",
        "colab_type": "code",
        "colab": {}
      },
      "cell_type": "code",
      "source": [
        "y_predict_NB_sub=modelNB_sub.predict(x_test_sub)"
      ],
      "execution_count": 0,
      "outputs": []
    },
    {
      "metadata": {
        "id": "wG_xmmB_xXns",
        "colab_type": "code",
        "outputId": "25f96bd5-2415-4da1-8705-3c753dc28db0",
        "colab": {
          "base_uri": "https://localhost:8080/",
          "height": 1040
        }
      },
      "cell_type": "code",
      "source": [
        "print('accuracy score:',accuracy_score(y_test_sub, y_predict_NB_sub, normalize=True, sample_weight=None))\n",
        "\n",
        "print(classification_report(y_test_sub, y_predict_NB_sub))"
      ],
      "execution_count": 0,
      "outputs": [
        {
          "output_type": "stream",
          "text": [
            "accuracy score: 0.6994261753520724\n",
            "                                 precision    recall  f1-score   support\n",
            "\n",
            "        environemnt_dead_animal       0.00      0.00      0.00        54\n",
            "     environment_abandoned_site       1.00      0.17      0.29       833\n",
            "  environment_abandoned_vehicle       0.77      0.71      0.74      5043\n",
            "      environment_air_pollution       0.68      0.91      0.78      3551\n",
            "           environment_asbestos       1.00      0.04      0.07       542\n",
            "        environment_dead_animal       0.93      0.59      0.73      1972\n",
            "            environment_dumping       0.59      0.53      0.56      7219\n",
            " environment_garbage_collection       0.75      0.98      0.85     47408\n",
            "            environment_general       0.95      0.06      0.11      1511\n",
            " environment_hazardous_material       0.92      0.20      0.32      1151\n",
            "             environment_litter       0.98      0.15      0.26      2982\n",
            "         environment_overgrowth       0.56      0.91      0.69     15871\n",
            "          environment_recycling       0.97      0.60      0.74     11772\n",
            "          fire_equipment_broken       0.00      0.00      0.00       130\n",
            "                   fire_general       0.97      0.17      0.29       929\n",
            "                     fire_risks       0.00      0.00      0.00        21\n",
            "             governance_general       0.29      0.42      0.34      7270\n",
            "       governance_parks_and_rec       0.00      0.00      0.00      1116\n",
            "             governance_signage       0.94      0.14      0.25      1892\n",
            "                housing_general       0.63      0.69      0.66      7137\n",
            "            housing_health_code       0.85      0.02      0.04      1434\n",
            "                   housing_mold       0.97      0.23      0.37      1009\n",
            "                  housing_pests       0.00      0.00      0.00        32\n",
            "                 housing_safety       0.97      0.04      0.08       755\n",
            "         infrastructure_general       0.59      0.53      0.56      4747\n",
            "           infrastructure_power       1.00      0.54      0.70       173\n",
            "           infrastructure_water       0.91      0.10      0.18      1710\n",
            "    infrastructure_water_repair       1.00      0.04      0.08       478\n",
            "          planning_construction       0.00      0.00      0.00        84\n",
            "               planning_general       0.96      0.46      0.62      4517\n",
            "    planning_unsafe_environment       0.97      0.84      0.90      2914\n",
            "            publichealth_animal       0.00      0.00      0.00       167\n",
            "      publichealth_animal_feces       0.00      0.00      0.00       160\n",
            "           publichealth_general       0.92      0.86      0.89      3466\n",
            "             publichealth_pests       0.86      0.52      0.65      1094\n",
            "publichealth_restaurant_hygiene       0.75      0.28      0.41       328\n",
            "            publicorder_general       1.00      0.06      0.12      1712\n",
            "    publicorder_noise_complaint       0.97      0.70      0.81      1729\n",
            "                street_cleaning       0.94      0.19      0.32      1066\n",
            "                street_drainage       0.98      0.03      0.06      1298\n",
            "                 street_general       1.00      0.00      0.00      1637\n",
            "                street_lighting       0.95      0.83      0.89      7749\n",
            "                 street_parking       0.00      0.00      0.00       380\n",
            "                  street_repair       0.58      0.95      0.73     16853\n",
            "                street_roadkill       0.00      0.00      0.00        85\n",
            "                   street_sewar       1.00      0.00      0.00       941\n",
            "                street_sidewalk       0.85      0.19      0.31      3621\n",
            "                street_slippery       0.99      0.37      0.54      1380\n",
            "           street_urgent_repair       0.87      0.66      0.75      4894\n",
            "              vandalism_general       0.00      0.00      0.00        91\n",
            "             vandalism_graffiti       0.95      0.78      0.86      7311\n",
            "\n",
            "                    avg / total       0.75      0.70      0.66    192219\n",
            "\n"
          ],
          "name": "stdout"
        },
        {
          "output_type": "stream",
          "text": [
            "/usr/local/lib/python3.6/dist-packages/sklearn/metrics/classification.py:1135: UndefinedMetricWarning: Precision and F-score are ill-defined and being set to 0.0 in labels with no predicted samples.\n",
            "  'precision', 'predicted', average, warn_for)\n"
          ],
          "name": "stderr"
        }
      ]
    },
    {
      "metadata": {
        "id": "H3HIm3Dkx7T2",
        "colab_type": "text"
      },
      "cell_type": "markdown",
      "source": [
        "## SVM"
      ]
    },
    {
      "metadata": {
        "id": "UdY_-Ulwx88a",
        "colab_type": "code",
        "outputId": "72badde7-a6b2-4646-a016-58a723c433dd",
        "colab": {
          "base_uri": "https://localhost:8080/",
          "height": 85
        }
      },
      "cell_type": "code",
      "source": [
        "modelsvc_sub = LinearSVC()\n",
        "modelsvc_sub.fit(x_train_sub, y_train_sub)\n"
      ],
      "execution_count": 0,
      "outputs": [
        {
          "output_type": "execute_result",
          "data": {
            "text/plain": [
              "LinearSVC(C=1.0, class_weight=None, dual=True, fit_intercept=True,\n",
              "     intercept_scaling=1, loss='squared_hinge', max_iter=1000,\n",
              "     multi_class='ovr', penalty='l2', random_state=None, tol=0.0001,\n",
              "     verbose=0)"
            ]
          },
          "metadata": {
            "tags": []
          },
          "execution_count": 47
        }
      ]
    },
    {
      "metadata": {
        "id": "3AU7oWhiyNoW",
        "colab_type": "code",
        "outputId": "386e5c85-bc65-42ec-e5e0-beb53aa9382d",
        "colab": {
          "base_uri": "https://localhost:8080/",
          "height": 85
        }
      },
      "cell_type": "code",
      "source": [
        "display(modelsvc_sub.predict(count_vect.transform([\"fire escape\"]))[0])\n",
        "display(modelsvc_sub.predict(count_vect.transform([\"trash left in empty lot\"]))[0])\n",
        "display(modelsvc_sub.predict(count_vect.transform([\"broken window in abandoned house\"]))[0])\n",
        "display(modelsvc_sub.predict(count_vect.transform([\"graffiti\"]))[0])"
      ],
      "execution_count": 0,
      "outputs": [
        {
          "output_type": "display_data",
          "data": {
            "text/plain": [
              "'fire_general'"
            ]
          },
          "metadata": {
            "tags": []
          }
        },
        {
          "output_type": "display_data",
          "data": {
            "text/plain": [
              "'environment_garbage_collection'"
            ]
          },
          "metadata": {
            "tags": []
          }
        },
        {
          "output_type": "display_data",
          "data": {
            "text/plain": [
              "'housing_general'"
            ]
          },
          "metadata": {
            "tags": []
          }
        },
        {
          "output_type": "display_data",
          "data": {
            "text/plain": [
              "'vandalism_graffiti'"
            ]
          },
          "metadata": {
            "tags": []
          }
        }
      ]
    },
    {
      "metadata": {
        "id": "3zGgGXzfyNtX",
        "colab_type": "code",
        "colab": {}
      },
      "cell_type": "code",
      "source": [
        "y_predict_svc_sub = modelsvc_sub.predict(x_test_sub)"
      ],
      "execution_count": 0,
      "outputs": []
    },
    {
      "metadata": {
        "id": "mqnBeDmQ3uum",
        "colab_type": "code",
        "colab": {}
      },
      "cell_type": "code",
      "source": [
        "\n",
        "\n",
        "y_predict_svc_sub = pd.DataFrame(y_predict_svc_sub, dtype='str',columns=['predict_SUB'])['predict_SUB'].map(lambda x: x.replace('environemnt','environment'))"
      ],
      "execution_count": 0,
      "outputs": []
    },
    {
      "metadata": {
        "id": "_FO6pj5N-7Fx",
        "colab_type": "code",
        "outputId": "97b0a414-f8db-4ff1-e77b-e809a4d4abb7",
        "colab": {
          "base_uri": "https://localhost:8080/",
          "height": 34
        }
      },
      "cell_type": "code",
      "source": [
        "'environemnt_dead_animal'.replace('environemnt','environment')"
      ],
      "execution_count": 0,
      "outputs": [
        {
          "output_type": "execute_result",
          "data": {
            "text/plain": [
              "'environment_dead_animal'"
            ]
          },
          "metadata": {
            "tags": []
          },
          "execution_count": 51
        }
      ]
    },
    {
      "metadata": {
        "id": "4Aoc02i-ynPx",
        "colab_type": "code",
        "outputId": "26784ec9-670c-41f1-bd76-6900c4e4091f",
        "colab": {
          "base_uri": "https://localhost:8080/",
          "height": 1040
        }
      },
      "cell_type": "code",
      "source": [
        "print('accuracy score:',accuracy_score(y_test_sub, y_predict_svc_sub, normalize=True, sample_weight=None))\n",
        "\n",
        "print(classification_report(y_test_sub, y_predict_svc_sub))"
      ],
      "execution_count": 0,
      "outputs": [
        {
          "output_type": "stream",
          "text": [
            "accuracy score: 0.8115742980662681\n",
            "                                 precision    recall  f1-score   support\n",
            "\n",
            "        environemnt_dead_animal       0.00      0.00      0.00        54\n",
            "     environment_abandoned_site       0.70      0.53      0.60       833\n",
            "  environment_abandoned_vehicle       0.76      0.85      0.80      5043\n",
            "      environment_air_pollution       0.85      0.89      0.87      3551\n",
            "           environment_asbestos       0.91      0.94      0.93       542\n",
            "        environment_dead_animal       0.85      0.93      0.89      1972\n",
            "            environment_dumping       0.67      0.64      0.65      7219\n",
            " environment_garbage_collection       0.89      0.96      0.92     47408\n",
            "            environment_general       0.65      0.41      0.50      1511\n",
            " environment_hazardous_material       0.78      0.73      0.76      1151\n",
            "             environment_litter       0.69      0.50      0.58      2982\n",
            "         environment_overgrowth       0.78      0.88      0.82     15871\n",
            "          environment_recycling       0.93      0.89      0.91     11772\n",
            "          fire_equipment_broken       0.55      0.53      0.54       130\n",
            "                   fire_general       0.73      0.75      0.74       929\n",
            "                     fire_risks       0.50      0.10      0.16        21\n",
            "             governance_general       0.46      0.30      0.36      7270\n",
            "       governance_parks_and_rec       0.54      0.39      0.45      1116\n",
            "             governance_signage       0.63      0.62      0.62      1892\n",
            "                housing_general       0.75      0.75      0.75      7137\n",
            "            housing_health_code       0.59      0.51      0.55      1434\n",
            "                   housing_mold       0.82      0.86      0.84      1009\n",
            "                  housing_pests       0.55      0.19      0.28        32\n",
            "                 housing_safety       0.62      0.53      0.57       755\n",
            "         infrastructure_general       0.73      0.75      0.74      4747\n",
            "           infrastructure_power       0.93      0.75      0.83       173\n",
            "           infrastructure_water       0.61      0.50      0.55      1710\n",
            "    infrastructure_water_repair       0.72      0.62      0.66       478\n",
            "          planning_construction       0.68      0.25      0.37        84\n",
            "               planning_general       0.79      0.57      0.66      4517\n",
            "    planning_unsafe_environment       0.92      0.91      0.91      2914\n",
            "            publichealth_animal       0.59      0.30      0.40       167\n",
            "      publichealth_animal_feces       0.62      0.64      0.63       160\n",
            "           publichealth_general       0.97      0.93      0.95      3466\n",
            "             publichealth_pests       0.79      0.85      0.82      1094\n",
            "publichealth_restaurant_hygiene       0.90      0.98      0.94       328\n",
            "            publicorder_general       0.53      0.45      0.49      1712\n",
            "    publicorder_noise_complaint       0.91      0.93      0.92      1729\n",
            "                street_cleaning       0.76      0.62      0.68      1066\n",
            "                street_drainage       0.51      0.41      0.45      1298\n",
            "                 street_general       0.50      0.23      0.31      1637\n",
            "                street_lighting       0.91      0.94      0.93      7749\n",
            "                 street_parking       0.64      0.63      0.63       380\n",
            "                  street_repair       0.84      0.91      0.87     16853\n",
            "                street_roadkill       0.83      0.34      0.48        85\n",
            "                   street_sewar       0.72      0.78      0.75       941\n",
            "                street_sidewalk       0.63      0.62      0.62      3621\n",
            "                street_slippery       0.84      0.88      0.86      1380\n",
            "           street_urgent_repair       0.78      0.81      0.79      4894\n",
            "              vandalism_general       0.82      0.40      0.53        91\n",
            "             vandalism_graffiti       0.89      0.91      0.90      7311\n",
            "\n",
            "                    avg / total       0.80      0.81      0.80    192219\n",
            "\n"
          ],
          "name": "stdout"
        },
        {
          "output_type": "stream",
          "text": [
            "/usr/local/lib/python3.6/dist-packages/sklearn/metrics/classification.py:1135: UndefinedMetricWarning: Precision and F-score are ill-defined and being set to 0.0 in labels with no predicted samples.\n",
            "  'precision', 'predicted', average, warn_for)\n"
          ],
          "name": "stderr"
        }
      ]
    },
    {
      "metadata": {
        "id": "2MRpVW0ezVIL",
        "colab_type": "text"
      },
      "cell_type": "markdown",
      "source": [
        "### let's convert to main category \n",
        "**and see how they do**"
      ]
    },
    {
      "metadata": {
        "id": "RFb55FYe068O",
        "colab_type": "code",
        "outputId": "7605467a-357f-4a86-8b16-2a61b6d12b2d",
        "colab": {
          "base_uri": "https://localhost:8080/",
          "height": 68
        }
      },
      "cell_type": "code",
      "source": [
        "y_predict_svc_sub[:2]"
      ],
      "execution_count": 0,
      "outputs": [
        {
          "output_type": "execute_result",
          "data": {
            "text/plain": [
              "0    environment_garbage_collection\n",
              "1           environment_dead_animal\n",
              "Name: predict_SUB, dtype: object"
            ]
          },
          "metadata": {
            "tags": []
          },
          "execution_count": 61
        }
      ]
    },
    {
      "metadata": {
        "id": "UbKCnIR3zUp_",
        "colab_type": "code",
        "colab": {}
      },
      "cell_type": "code",
      "source": [
        "y_dummy=y_test_sub.map(lambda x: x.split('_')[0])\n",
        "\n",
        "\n",
        "predict_dummy= y_predict_svc_sub.map(lambda x: x.split('_')[0])"
      ],
      "execution_count": 0,
      "outputs": []
    },
    {
      "metadata": {
        "id": "MvhxPKDp0kv0",
        "colab_type": "code",
        "outputId": "7ac12acc-7fa9-4f9d-c0a3-340930effeeb",
        "colab": {
          "base_uri": "https://localhost:8080/",
          "height": 360
        }
      },
      "cell_type": "code",
      "source": [
        "print('accuracy score:',accuracy_score(y_dummy, predict_dummy, normalize=True, sample_weight=None))\n",
        "\n",
        "print(classification_report(y_dummy, predict_dummy))"
      ],
      "execution_count": 0,
      "outputs": [
        {
          "output_type": "stream",
          "text": [
            "accuracy score: 0.8746794021402671\n",
            "                precision    recall  f1-score   support\n",
            "\n",
            "   environemnt       0.00      0.00      0.00        54\n",
            "   environment       0.92      0.96      0.94     99855\n",
            "          fire       0.71      0.72      0.72      1080\n",
            "    governance       0.57      0.41      0.48     10278\n",
            "       housing       0.78      0.76      0.77     10367\n",
            "infrastructure       0.76      0.73      0.74      7108\n",
            "      planning       0.86      0.71      0.78      7515\n",
            "  publichealth       0.91      0.90      0.91      5215\n",
            "   publicorder       0.74      0.69      0.71      3441\n",
            "        street       0.88      0.89      0.88     39904\n",
            "     vandalism       0.89      0.90      0.89      7402\n",
            "\n",
            "   avg / total       0.87      0.87      0.87    192219\n",
            "\n"
          ],
          "name": "stdout"
        },
        {
          "output_type": "stream",
          "text": [
            "/usr/local/lib/python3.6/dist-packages/sklearn/metrics/classification.py:1135: UndefinedMetricWarning: Precision and F-score are ill-defined and being set to 0.0 in labels with no predicted samples.\n",
            "  'precision', 'predicted', average, warn_for)\n"
          ],
          "name": "stderr"
        }
      ]
    },
    {
      "metadata": {
        "id": "Ncs9059N3MzR",
        "colab_type": "code",
        "outputId": "0e77204b-9416-45f3-8aef-4b8a44acb0d0",
        "colab": {
          "base_uri": "https://localhost:8080/",
          "height": 623
        }
      },
      "cell_type": "code",
      "source": [
        "#with MAIN classes\n",
        "cm_svc = confusion_matrix(y_dummy, predict_dummy)\n",
        "\n",
        "fig, ax = plt.subplots(figsize=(10,10))\n",
        "sns.heatmap(cm_svc, annot=True, fmt='d')\n",
        "plt.ylabel('Actual')\n",
        "plt.xlabel('Predicted')\n",
        "plt.show()\n",
        "display(accuracy_score(y_dummy, predict_dummy, normalize=True, sample_weight=None))"
      ],
      "execution_count": 0,
      "outputs": [
        {
          "output_type": "display_data",
          "data": {
            "image/png": "[encoded data removed]",
            "text/plain": [
              "<matplotlib.figure.Figure at 0x7f2fca2085c0>"
            ]
          },
          "metadata": {
            "tags": []
          }
        },
        {
          "output_type": "display_data",
          "data": {
            "text/plain": [
              "0.8746794021402671"
            ]
          },
          "metadata": {
            "tags": []
          }
        }
      ]
    },
    {
      "metadata": {
        "id": "facrj1M3FJr1",
        "colab_type": "text"
      },
      "cell_type": "markdown",
      "source": [
        "## XGBoost"
      ]
    },
    {
      "metadata": {
        "id": "Bm0oJsP-FKBJ",
        "colab_type": "code",
        "colab": {}
      },
      "cell_type": "code",
      "source": [
        "from xgboost import XGBClassifier "
      ],
      "execution_count": 0,
      "outputs": []
    },
    {
      "metadata": {
        "id": "_5yzjivAFKFJ",
        "colab_type": "code",
        "outputId": "48538fa3-1798-4f30-9580-8d855ace249a",
        "colab": {
          "base_uri": "https://localhost:8080/",
          "height": 119
        }
      },
      "cell_type": "code",
      "source": [
        "model_xgb = XGBClassifier()\n",
        "model_xgb.fit(x_train_sub, y_train_sub)"
      ],
      "execution_count": 0,
      "outputs": [
        {
          "output_type": "execute_result",
          "data": {
            "text/plain": [
              "XGBClassifier(base_score=0.5, booster='gbtree', colsample_bylevel=1,\n",
              "       colsample_bytree=1, gamma=0, learning_rate=0.1, max_delta_step=0,\n",
              "       max_depth=3, min_child_weight=1, missing=None, n_estimators=100,\n",
              "       n_jobs=1, nthread=None, objective='multi:softprob', random_state=0,\n",
              "       reg_alpha=0, reg_lambda=1, scale_pos_weight=1, seed=None,\n",
              "       silent=True, subsample=1)"
            ]
          },
          "metadata": {
            "tags": []
          },
          "execution_count": 12
        }
      ]
    },
    {
      "metadata": {
        "id": "0pDvrYNTFJ-I",
        "colab_type": "code",
        "outputId": "9915b16b-d7d7-4a8d-8618-650108521d5d",
        "colab": {
          "base_uri": "https://localhost:8080/",
          "height": 119
        }
      },
      "cell_type": "code",
      "source": [
        "print(model_xgb)"
      ],
      "execution_count": 0,
      "outputs": [
        {
          "output_type": "stream",
          "text": [
            "XGBClassifier(base_score=0.5, booster='gbtree', colsample_bylevel=1,\n",
            "       colsample_bytree=1, gamma=0, learning_rate=0.1, max_delta_step=0,\n",
            "       max_depth=3, min_child_weight=1, missing=None, n_estimators=100,\n",
            "       n_jobs=1, nthread=None, objective='multi:softprob', random_state=0,\n",
            "       reg_alpha=0, reg_lambda=1, scale_pos_weight=1, seed=None,\n",
            "       silent=True, subsample=1)\n"
          ],
          "name": "stdout"
        }
      ]
    },
    {
      "metadata": {
        "id": "VhVnWCl3ddu-",
        "colab_type": "code",
        "colab": {}
      },
      "cell_type": "code",
      "source": [
        ""
      ],
      "execution_count": 0,
      "outputs": []
    },
    {
      "metadata": {
        "id": "oP_HRjbkdfJE",
        "colab_type": "code",
        "outputId": "abfda611-284f-4f3e-a80b-103dc26af6cd",
        "colab": {
          "base_uri": "https://localhost:8080/",
          "height": 71
        }
      },
      "cell_type": "code",
      "source": [
        "y_predict_xgb_sub = model_xgb.predict(x_test_sub)"
      ],
      "execution_count": 0,
      "outputs": [
        {
          "output_type": "stream",
          "text": [
            "/usr/local/lib/python3.6/dist-packages/sklearn/preprocessing/label.py:151: DeprecationWarning: The truth value of an empty array is ambiguous. Returning False, but in future this will result in an error. Use `array.size > 0` to check that an array is not empty.\n",
            "  if diff:\n"
          ],
          "name": "stderr"
        }
      ]
    },
    {
      "metadata": {
        "id": "43nF80KCgYcY",
        "colab_type": "code",
        "colab": {}
      },
      "cell_type": "code",
      "source": [
        "\n",
        "\n",
        "y_predict_xgb_sub = pd.DataFrame(y_predict_xgb_sub, dtype='str',columns=['predict_SUB'])['predict_SUB'].map(lambda x: x.replace('environemnt','environment'))"
      ],
      "execution_count": 0,
      "outputs": []
    },
    {
      "metadata": {
        "id": "GLPRsQ-kgYvA",
        "colab_type": "code",
        "outputId": "dc449c1d-6687-4a27-e228-caa610ed215c",
        "colab": {
          "base_uri": "https://localhost:8080/",
          "height": 1040
        }
      },
      "cell_type": "code",
      "source": [
        "print('accuracy score:',accuracy_score(y_test_sub, y_predict_xgb_sub, normalize=True, sample_weight=None))\n",
        "\n",
        "print(classification_report(y_test_sub, y_predict_xgb_sub))"
      ],
      "execution_count": 0,
      "outputs": [
        {
          "output_type": "stream",
          "text": [
            "accuracy score: 0.7414979788678538\n",
            "                                 precision    recall  f1-score   support\n",
            "\n",
            "        environemnt_dead_animal       0.00      0.00      0.00        54\n",
            "     environment_abandoned_site       0.79      0.51      0.62       833\n",
            "  environment_abandoned_vehicle       0.75      0.71      0.73      5043\n",
            "      environment_air_pollution       0.86      0.82      0.84      3551\n",
            "           environment_asbestos       0.90      0.92      0.91       542\n",
            "        environment_dead_animal       0.79      0.91      0.85      1972\n",
            "            environment_dumping       0.72      0.50      0.59      7219\n",
            " environment_garbage_collection       0.63      0.97      0.77     47408\n",
            "            environment_general       0.78      0.34      0.47      1511\n",
            " environment_hazardous_material       0.80      0.54      0.64      1151\n",
            "             environment_litter       0.73      0.40      0.52      2982\n",
            "         environment_overgrowth       0.78      0.82      0.80     15871\n",
            "          environment_recycling       0.94      0.84      0.88     11772\n",
            "          fire_equipment_broken       0.44      0.60      0.51       130\n",
            "                   fire_general       0.89      0.39      0.54       929\n",
            "                     fire_risks       1.00      0.05      0.09        21\n",
            "             governance_general       0.42      0.14      0.21      7270\n",
            "       governance_parks_and_rec       0.50      0.22      0.31      1116\n",
            "             governance_signage       0.49      0.71      0.58      1892\n",
            "                housing_general       0.84      0.55      0.67      7137\n",
            "            housing_health_code       0.66      0.37      0.48      1434\n",
            "                   housing_mold       0.81      0.77      0.79      1009\n",
            "                  housing_pests       0.55      0.19      0.28        32\n",
            "                 housing_safety       0.76      0.37      0.50       755\n",
            "         infrastructure_general       0.77      0.53      0.63      4747\n",
            "           infrastructure_power       0.98      0.67      0.80       173\n",
            "           infrastructure_water       0.57      0.40      0.47      1710\n",
            "    infrastructure_water_repair       0.74      0.55      0.63       478\n",
            "          planning_construction       0.56      0.17      0.26        84\n",
            "               planning_general       0.93      0.46      0.61      4517\n",
            "    planning_unsafe_environment       0.95      0.87      0.91      2914\n",
            "            publichealth_animal       0.54      0.21      0.30       167\n",
            "      publichealth_animal_feces       0.64      0.56      0.60       160\n",
            "           publichealth_general       0.99      0.88      0.93      3466\n",
            "             publichealth_pests       0.82      0.76      0.79      1094\n",
            "publichealth_restaurant_hygiene       0.95      0.97      0.96       328\n",
            "            publicorder_general       0.50      0.32      0.39      1712\n",
            "    publicorder_noise_complaint       0.83      0.89      0.86      1729\n",
            "                street_cleaning       0.93      0.54      0.68      1066\n",
            "                street_drainage       0.53      0.29      0.37      1298\n",
            "                 street_general       0.49      0.16      0.24      1637\n",
            "                street_lighting       0.87      0.93      0.90      7749\n",
            "                 street_parking       0.63      0.48      0.54       380\n",
            "                  street_repair       0.88      0.82      0.85     16853\n",
            "                street_roadkill       0.93      0.32      0.47        85\n",
            "                   street_sewar       0.72      0.75      0.73       941\n",
            "                street_sidewalk       0.54      0.60      0.57      3621\n",
            "                street_slippery       0.86      0.77      0.81      1380\n",
            "           street_urgent_repair       0.80      0.67      0.73      4894\n",
            "              vandalism_general       0.71      0.41      0.52        91\n",
            "             vandalism_graffiti       0.94      0.81      0.87      7311\n",
            "\n",
            "                    avg / total       0.75      0.74      0.73    192219\n",
            "\n"
          ],
          "name": "stdout"
        },
        {
          "output_type": "stream",
          "text": [
            "/usr/local/lib/python3.6/dist-packages/sklearn/metrics/classification.py:1135: UndefinedMetricWarning: Precision and F-score are ill-defined and being set to 0.0 in labels with no predicted samples.\n",
            "  'precision', 'predicted', average, warn_for)\n"
          ],
          "name": "stderr"
        }
      ]
    },
    {
      "metadata": {
        "id": "_MOGofZWubhg",
        "colab_type": "code",
        "colab": {}
      },
      "cell_type": "code",
      "source": [
        ""
      ],
      "execution_count": 0,
      "outputs": []
    },
    {
      "metadata": {
        "id": "6f4G4mRt0iRS",
        "colab_type": "code",
        "colab": {}
      },
      "cell_type": "code",
      "source": [
        "from sklearn.feature_extraction.text import TfidfVectorizer, CountVectorizer"
      ],
      "execution_count": 0,
      "outputs": []
    },
    {
      "metadata": {
        "id": "oR_p5b8T0iWt",
        "colab_type": "code",
        "colab": {}
      },
      "cell_type": "code",
      "source": [
        "\n",
        "tfidf_vect = TfidfVectorizer(analyzer='word', token_pattern=r'\\w{1,}', max_features=10000)\n",
        "Xall=tfidf_vect.fit_transform(model_data['complaint'])\n"
      ],
      "execution_count": 0,
      "outputs": []
    },
    {
      "metadata": {
        "id": "5BFnAQ0U0iOU",
        "colab_type": "code",
        "outputId": "d22ebee8-5ae7-4605-bf26-0aa1ad5d07d7",
        "colab": {
          "base_uri": "https://localhost:8080/",
          "height": 51
        }
      },
      "cell_type": "code",
      "source": [
        "\n"
      ],
      "execution_count": 0,
      "outputs": [
        {
          "output_type": "execute_result",
          "data": {
            "text/plain": [
              "<1x10000 sparse matrix of type '<class 'numpy.float64'>'\n",
              "\twith 41 stored elements in Compressed Sparse Row format>"
            ]
          },
          "metadata": {
            "tags": []
          },
          "execution_count": 27
        }
      ]
    },
    {
      "metadata": {
        "id": "E9dsESz_3bGL",
        "colab_type": "code",
        "outputId": "728acacc-11f3-4eaa-ba7b-cf8e421b36b9",
        "colab": {
          "base_uri": "https://localhost:8080/",
          "height": 51
        }
      },
      "cell_type": "code",
      "source": [
        ""
      ],
      "execution_count": 0,
      "outputs": [
        {
          "output_type": "execute_result",
          "data": {
            "text/plain": [
              "<2x10000 sparse matrix of type '<class 'numpy.float64'>'\n",
              "\twith 6 stored elements in Compressed Sparse Row format>"
            ]
          },
          "metadata": {
            "tags": []
          },
          "execution_count": 30
        }
      ]
    },
    {
      "metadata": {
        "id": "nCyD6WIcNXkk",
        "colab_type": "text"
      },
      "cell_type": "markdown",
      "source": [
        "## Classification Report as dataframe"
      ]
    },
    {
      "metadata": {
        "id": "O-GaHXVyNVx9",
        "colab_type": "code",
        "colab": {}
      },
      "cell_type": "code",
      "source": [
        "# minor mod from https://stackoverflow.com/questions/39662398/scikit-learn-output-metrics-classification-report-into-csv-tab-delimited-format Raul\n",
        "\n",
        "from  sklearn.metrics import precision_recall_fscore_support\n",
        "\n",
        "def pandas_classification_report(y_true, y_pred,testname):\n",
        "    metrics_summary = precision_recall_fscore_support(\n",
        "            y_true=y_true, \n",
        "            y_pred=y_pred)\n",
        "\n",
        "    avg = list(precision_recall_fscore_support(\n",
        "            y_true=y_true, \n",
        "            y_pred=y_pred,\n",
        "            average='weighted'))\n",
        "\n",
        "    metrics_sum_index = [testname+'_precision', testname+'_recall', testname+'_f1-score', testname+'_support']\n",
        "    class_report_df = pd.DataFrame(\n",
        "        list(metrics_summary),\n",
        "        index=metrics_sum_index)\n",
        "\n",
        "    support = class_report_df.loc[testname+'_support']\n",
        "    total = support.sum() \n",
        "    avg[-1] = total\n",
        "\n",
        "    class_report_df['avg / total'] = avg\n",
        "\n",
        "    return class_report_df.T"
      ],
      "execution_count": 0,
      "outputs": []
    },
    {
      "metadata": {
        "id": "PvtKgvrkR6-s",
        "colab_type": "code",
        "colab": {}
      },
      "cell_type": "code",
      "source": [
        "# minor mod from https://stackoverflow.com/questions/39662398/scikit-learn-output-metrics-classification-report-into-csv-tab-delimited-format Kam Sen\n",
        "from io import StringIO\n",
        "\n",
        "def report_to_df(report,testname):\n",
        "    report = re.sub(r\" +\", \" \", report).replace(\"avg / total\", \"avg/total\").replace(\"\\n \", \"\\n\")\n",
        "    #report_df = pd.read_csv(StringIO(\"Classes\" + report), sep=' ', index_col=0)  \n",
        "    report_df = pd.read_csv(StringIO(report), sep=' ', index_col=0) \n",
        "    report_df.columns=[testname+'_precision', testname+'_recall', testname+'_f1-score', testname+'_support']\n",
        "    return(report_df)\n"
      ],
      "execution_count": 0,
      "outputs": []
    },
    {
      "metadata": {
        "id": "kkw4UpmfQ8qE",
        "colab_type": "code",
        "outputId": "e4691406-6a8f-4da1-d513-d8e01a22cd3d",
        "colab": {
          "base_uri": "https://localhost:8080/",
          "height": 1715
        }
      },
      "cell_type": "code",
      "source": [
        "report_to_df(classification_report(y_test_sub, y_predict_svc_sub),'svm')"
      ],
      "execution_count": 0,
      "outputs": [
        {
          "output_type": "stream",
          "text": [
            "/usr/local/lib/python3.6/dist-packages/sklearn/metrics/classification.py:1135: UndefinedMetricWarning: Precision and F-score are ill-defined and being set to 0.0 in labels with no predicted samples.\n",
            "  'precision', 'predicted', average, warn_for)\n"
          ],
          "name": "stderr"
        },
        {
          "output_type": "execute_result",
          "data": {
            "text/html": [
              "<div>\n",
              "<style scoped>\n",
              "    .dataframe tbody tr th:only-of-type {\n",
              "        vertical-align: middle;\n",
              "    }\n",
              "\n",
              "    .dataframe tbody tr th {\n",
              "        vertical-align: top;\n",
              "    }\n",
              "\n",
              "    .dataframe thead th {\n",
              "        text-align: right;\n",
              "    }\n",
              "</style>\n",
              "<table border=\"1\" class=\"dataframe\">\n",
              "  <thead>\n",
              "    <tr style=\"text-align: right;\">\n",
              "      <th></th>\n",
              "      <th>svm_precision</th>\n",
              "      <th>svm_recall</th>\n",
              "      <th>svm_f1-score</th>\n",
              "      <th>svm_support</th>\n",
              "    </tr>\n",
              "  </thead>\n",
              "  <tbody>\n",
              "    <tr>\n",
              "      <th>environemnt_dead_animal</th>\n",
              "      <td>0.00</td>\n",
              "      <td>0.00</td>\n",
              "      <td>0.00</td>\n",
              "      <td>54</td>\n",
              "    </tr>\n",
              "    <tr>\n",
              "      <th>environment_abandoned_site</th>\n",
              "      <td>0.70</td>\n",
              "      <td>0.53</td>\n",
              "      <td>0.60</td>\n",
              "      <td>833</td>\n",
              "    </tr>\n",
              "    <tr>\n",
              "      <th>environment_abandoned_vehicle</th>\n",
              "      <td>0.76</td>\n",
              "      <td>0.85</td>\n",
              "      <td>0.80</td>\n",
              "      <td>5043</td>\n",
              "    </tr>\n",
              "    <tr>\n",
              "      <th>environment_air_pollution</th>\n",
              "      <td>0.85</td>\n",
              "      <td>0.89</td>\n",
              "      <td>0.87</td>\n",
              "      <td>3551</td>\n",
              "    </tr>\n",
              "    <tr>\n",
              "      <th>environment_asbestos</th>\n",
              "      <td>0.91</td>\n",
              "      <td>0.94</td>\n",
              "      <td>0.93</td>\n",
              "      <td>542</td>\n",
              "    </tr>\n",
              "    <tr>\n",
              "      <th>environment_dead_animal</th>\n",
              "      <td>0.85</td>\n",
              "      <td>0.93</td>\n",
              "      <td>0.89</td>\n",
              "      <td>1972</td>\n",
              "    </tr>\n",
              "    <tr>\n",
              "      <th>environment_dumping</th>\n",
              "      <td>0.67</td>\n",
              "      <td>0.64</td>\n",
              "      <td>0.65</td>\n",
              "      <td>7219</td>\n",
              "    </tr>\n",
              "    <tr>\n",
              "      <th>environment_garbage_collection</th>\n",
              "      <td>0.89</td>\n",
              "      <td>0.96</td>\n",
              "      <td>0.92</td>\n",
              "      <td>47408</td>\n",
              "    </tr>\n",
              "    <tr>\n",
              "      <th>environment_general</th>\n",
              "      <td>0.65</td>\n",
              "      <td>0.41</td>\n",
              "      <td>0.50</td>\n",
              "      <td>1511</td>\n",
              "    </tr>\n",
              "    <tr>\n",
              "      <th>environment_hazardous_material</th>\n",
              "      <td>0.78</td>\n",
              "      <td>0.73</td>\n",
              "      <td>0.76</td>\n",
              "      <td>1151</td>\n",
              "    </tr>\n",
              "    <tr>\n",
              "      <th>environment_litter</th>\n",
              "      <td>0.69</td>\n",
              "      <td>0.50</td>\n",
              "      <td>0.58</td>\n",
              "      <td>2982</td>\n",
              "    </tr>\n",
              "    <tr>\n",
              "      <th>environment_overgrowth</th>\n",
              "      <td>0.78</td>\n",
              "      <td>0.88</td>\n",
              "      <td>0.82</td>\n",
              "      <td>15871</td>\n",
              "    </tr>\n",
              "    <tr>\n",
              "      <th>environment_recycling</th>\n",
              "      <td>0.93</td>\n",
              "      <td>0.89</td>\n",
              "      <td>0.91</td>\n",
              "      <td>11772</td>\n",
              "    </tr>\n",
              "    <tr>\n",
              "      <th>fire_equipment_broken</th>\n",
              "      <td>0.55</td>\n",
              "      <td>0.53</td>\n",
              "      <td>0.54</td>\n",
              "      <td>130</td>\n",
              "    </tr>\n",
              "    <tr>\n",
              "      <th>fire_general</th>\n",
              "      <td>0.73</td>\n",
              "      <td>0.75</td>\n",
              "      <td>0.74</td>\n",
              "      <td>929</td>\n",
              "    </tr>\n",
              "    <tr>\n",
              "      <th>fire_risks</th>\n",
              "      <td>0.50</td>\n",
              "      <td>0.10</td>\n",
              "      <td>0.16</td>\n",
              "      <td>21</td>\n",
              "    </tr>\n",
              "    <tr>\n",
              "      <th>governance_general</th>\n",
              "      <td>0.46</td>\n",
              "      <td>0.30</td>\n",
              "      <td>0.36</td>\n",
              "      <td>7270</td>\n",
              "    </tr>\n",
              "    <tr>\n",
              "      <th>governance_parks_and_rec</th>\n",
              "      <td>0.54</td>\n",
              "      <td>0.39</td>\n",
              "      <td>0.45</td>\n",
              "      <td>1116</td>\n",
              "    </tr>\n",
              "    <tr>\n",
              "      <th>governance_signage</th>\n",
              "      <td>0.63</td>\n",
              "      <td>0.62</td>\n",
              "      <td>0.62</td>\n",
              "      <td>1892</td>\n",
              "    </tr>\n",
              "    <tr>\n",
              "      <th>housing_general</th>\n",
              "      <td>0.75</td>\n",
              "      <td>0.75</td>\n",
              "      <td>0.75</td>\n",
              "      <td>7137</td>\n",
              "    </tr>\n",
              "    <tr>\n",
              "      <th>housing_health_code</th>\n",
              "      <td>0.59</td>\n",
              "      <td>0.51</td>\n",
              "      <td>0.55</td>\n",
              "      <td>1434</td>\n",
              "    </tr>\n",
              "    <tr>\n",
              "      <th>housing_mold</th>\n",
              "      <td>0.82</td>\n",
              "      <td>0.86</td>\n",
              "      <td>0.84</td>\n",
              "      <td>1009</td>\n",
              "    </tr>\n",
              "    <tr>\n",
              "      <th>housing_pests</th>\n",
              "      <td>0.55</td>\n",
              "      <td>0.19</td>\n",
              "      <td>0.28</td>\n",
              "      <td>32</td>\n",
              "    </tr>\n",
              "    <tr>\n",
              "      <th>housing_safety</th>\n",
              "      <td>0.62</td>\n",
              "      <td>0.53</td>\n",
              "      <td>0.57</td>\n",
              "      <td>755</td>\n",
              "    </tr>\n",
              "    <tr>\n",
              "      <th>infrastructure_general</th>\n",
              "      <td>0.73</td>\n",
              "      <td>0.75</td>\n",
              "      <td>0.74</td>\n",
              "      <td>4747</td>\n",
              "    </tr>\n",
              "    <tr>\n",
              "      <th>infrastructure_power</th>\n",
              "      <td>0.93</td>\n",
              "      <td>0.75</td>\n",
              "      <td>0.83</td>\n",
              "      <td>173</td>\n",
              "    </tr>\n",
              "    <tr>\n",
              "      <th>infrastructure_water</th>\n",
              "      <td>0.61</td>\n",
              "      <td>0.50</td>\n",
              "      <td>0.55</td>\n",
              "      <td>1710</td>\n",
              "    </tr>\n",
              "    <tr>\n",
              "      <th>infrastructure_water_repair</th>\n",
              "      <td>0.72</td>\n",
              "      <td>0.62</td>\n",
              "      <td>0.66</td>\n",
              "      <td>478</td>\n",
              "    </tr>\n",
              "    <tr>\n",
              "      <th>planning_construction</th>\n",
              "      <td>0.68</td>\n",
              "      <td>0.25</td>\n",
              "      <td>0.37</td>\n",
              "      <td>84</td>\n",
              "    </tr>\n",
              "    <tr>\n",
              "      <th>planning_general</th>\n",
              "      <td>0.79</td>\n",
              "      <td>0.57</td>\n",
              "      <td>0.66</td>\n",
              "      <td>4517</td>\n",
              "    </tr>\n",
              "    <tr>\n",
              "      <th>planning_unsafe_environment</th>\n",
              "      <td>0.92</td>\n",
              "      <td>0.91</td>\n",
              "      <td>0.91</td>\n",
              "      <td>2914</td>\n",
              "    </tr>\n",
              "    <tr>\n",
              "      <th>publichealth_animal</th>\n",
              "      <td>0.59</td>\n",
              "      <td>0.30</td>\n",
              "      <td>0.40</td>\n",
              "      <td>167</td>\n",
              "    </tr>\n",
              "    <tr>\n",
              "      <th>publichealth_animal_feces</th>\n",
              "      <td>0.62</td>\n",
              "      <td>0.64</td>\n",
              "      <td>0.63</td>\n",
              "      <td>160</td>\n",
              "    </tr>\n",
              "    <tr>\n",
              "      <th>publichealth_general</th>\n",
              "      <td>0.97</td>\n",
              "      <td>0.93</td>\n",
              "      <td>0.95</td>\n",
              "      <td>3466</td>\n",
              "    </tr>\n",
              "    <tr>\n",
              "      <th>publichealth_pests</th>\n",
              "      <td>0.79</td>\n",
              "      <td>0.85</td>\n",
              "      <td>0.82</td>\n",
              "      <td>1094</td>\n",
              "    </tr>\n",
              "    <tr>\n",
              "      <th>publichealth_restaurant_hygiene</th>\n",
              "      <td>0.90</td>\n",
              "      <td>0.98</td>\n",
              "      <td>0.94</td>\n",
              "      <td>328</td>\n",
              "    </tr>\n",
              "    <tr>\n",
              "      <th>publicorder_general</th>\n",
              "      <td>0.53</td>\n",
              "      <td>0.45</td>\n",
              "      <td>0.49</td>\n",
              "      <td>1712</td>\n",
              "    </tr>\n",
              "    <tr>\n",
              "      <th>publicorder_noise_complaint</th>\n",
              "      <td>0.91</td>\n",
              "      <td>0.93</td>\n",
              "      <td>0.92</td>\n",
              "      <td>1729</td>\n",
              "    </tr>\n",
              "    <tr>\n",
              "      <th>street_cleaning</th>\n",
              "      <td>0.76</td>\n",
              "      <td>0.62</td>\n",
              "      <td>0.68</td>\n",
              "      <td>1066</td>\n",
              "    </tr>\n",
              "    <tr>\n",
              "      <th>street_drainage</th>\n",
              "      <td>0.51</td>\n",
              "      <td>0.41</td>\n",
              "      <td>0.45</td>\n",
              "      <td>1298</td>\n",
              "    </tr>\n",
              "    <tr>\n",
              "      <th>street_general</th>\n",
              "      <td>0.50</td>\n",
              "      <td>0.23</td>\n",
              "      <td>0.31</td>\n",
              "      <td>1637</td>\n",
              "    </tr>\n",
              "    <tr>\n",
              "      <th>street_lighting</th>\n",
              "      <td>0.91</td>\n",
              "      <td>0.94</td>\n",
              "      <td>0.93</td>\n",
              "      <td>7749</td>\n",
              "    </tr>\n",
              "    <tr>\n",
              "      <th>street_parking</th>\n",
              "      <td>0.64</td>\n",
              "      <td>0.63</td>\n",
              "      <td>0.63</td>\n",
              "      <td>380</td>\n",
              "    </tr>\n",
              "    <tr>\n",
              "      <th>street_repair</th>\n",
              "      <td>0.84</td>\n",
              "      <td>0.91</td>\n",
              "      <td>0.87</td>\n",
              "      <td>16853</td>\n",
              "    </tr>\n",
              "    <tr>\n",
              "      <th>street_roadkill</th>\n",
              "      <td>0.83</td>\n",
              "      <td>0.34</td>\n",
              "      <td>0.48</td>\n",
              "      <td>85</td>\n",
              "    </tr>\n",
              "    <tr>\n",
              "      <th>street_sewar</th>\n",
              "      <td>0.72</td>\n",
              "      <td>0.78</td>\n",
              "      <td>0.75</td>\n",
              "      <td>941</td>\n",
              "    </tr>\n",
              "    <tr>\n",
              "      <th>street_sidewalk</th>\n",
              "      <td>0.63</td>\n",
              "      <td>0.62</td>\n",
              "      <td>0.62</td>\n",
              "      <td>3621</td>\n",
              "    </tr>\n",
              "    <tr>\n",
              "      <th>street_slippery</th>\n",
              "      <td>0.84</td>\n",
              "      <td>0.88</td>\n",
              "      <td>0.86</td>\n",
              "      <td>1380</td>\n",
              "    </tr>\n",
              "    <tr>\n",
              "      <th>street_urgent_repair</th>\n",
              "      <td>0.78</td>\n",
              "      <td>0.81</td>\n",
              "      <td>0.79</td>\n",
              "      <td>4894</td>\n",
              "    </tr>\n",
              "    <tr>\n",
              "      <th>vandalism_general</th>\n",
              "      <td>0.82</td>\n",
              "      <td>0.40</td>\n",
              "      <td>0.53</td>\n",
              "      <td>91</td>\n",
              "    </tr>\n",
              "    <tr>\n",
              "      <th>vandalism_graffiti</th>\n",
              "      <td>0.89</td>\n",
              "      <td>0.91</td>\n",
              "      <td>0.90</td>\n",
              "      <td>7311</td>\n",
              "    </tr>\n",
              "    <tr>\n",
              "      <th>avg/total</th>\n",
              "      <td>0.80</td>\n",
              "      <td>0.81</td>\n",
              "      <td>0.80</td>\n",
              "      <td>192219</td>\n",
              "    </tr>\n",
              "  </tbody>\n",
              "</table>\n",
              "</div>"
            ],
            "text/plain": [
              "                                 svm_precision  svm_recall  svm_f1-score  \\\n",
              "environemnt_dead_animal                   0.00        0.00          0.00   \n",
              "environment_abandoned_site                0.70        0.53          0.60   \n",
              "environment_abandoned_vehicle             0.76        0.85          0.80   \n",
              "environment_air_pollution                 0.85        0.89          0.87   \n",
              "environment_asbestos                      0.91        0.94          0.93   \n",
              "environment_dead_animal                   0.85        0.93          0.89   \n",
              "environment_dumping                       0.67        0.64          0.65   \n",
              "environment_garbage_collection            0.89        0.96          0.92   \n",
              "environment_general                       0.65        0.41          0.50   \n",
              "environment_hazardous_material            0.78        0.73          0.76   \n",
              "environment_litter                        0.69        0.50          0.58   \n",
              "environment_overgrowth                    0.78        0.88          0.82   \n",
              "environment_recycling                     0.93        0.89          0.91   \n",
              "fire_equipment_broken                     0.55        0.53          0.54   \n",
              "fire_general                              0.73        0.75          0.74   \n",
              "fire_risks                                0.50        0.10          0.16   \n",
              "governance_general                        0.46        0.30          0.36   \n",
              "governance_parks_and_rec                  0.54        0.39          0.45   \n",
              "governance_signage                        0.63        0.62          0.62   \n",
              "housing_general                           0.75        0.75          0.75   \n",
              "housing_health_code                       0.59        0.51          0.55   \n",
              "housing_mold                              0.82        0.86          0.84   \n",
              "housing_pests                             0.55        0.19          0.28   \n",
              "housing_safety                            0.62        0.53          0.57   \n",
              "infrastructure_general                    0.73        0.75          0.74   \n",
              "infrastructure_power                      0.93        0.75          0.83   \n",
              "infrastructure_water                      0.61        0.50          0.55   \n",
              "infrastructure_water_repair               0.72        0.62          0.66   \n",
              "planning_construction                     0.68        0.25          0.37   \n",
              "planning_general                          0.79        0.57          0.66   \n",
              "planning_unsafe_environment               0.92        0.91          0.91   \n",
              "publichealth_animal                       0.59        0.30          0.40   \n",
              "publichealth_animal_feces                 0.62        0.64          0.63   \n",
              "publichealth_general                      0.97        0.93          0.95   \n",
              "publichealth_pests                        0.79        0.85          0.82   \n",
              "publichealth_restaurant_hygiene           0.90        0.98          0.94   \n",
              "publicorder_general                       0.53        0.45          0.49   \n",
              "publicorder_noise_complaint               0.91        0.93          0.92   \n",
              "street_cleaning                           0.76        0.62          0.68   \n",
              "street_drainage                           0.51        0.41          0.45   \n",
              "street_general                            0.50        0.23          0.31   \n",
              "street_lighting                           0.91        0.94          0.93   \n",
              "street_parking                            0.64        0.63          0.63   \n",
              "street_repair                             0.84        0.91          0.87   \n",
              "street_roadkill                           0.83        0.34          0.48   \n",
              "street_sewar                              0.72        0.78          0.75   \n",
              "street_sidewalk                           0.63        0.62          0.62   \n",
              "street_slippery                           0.84        0.88          0.86   \n",
              "street_urgent_repair                      0.78        0.81          0.79   \n",
              "vandalism_general                         0.82        0.40          0.53   \n",
              "vandalism_graffiti                        0.89        0.91          0.90   \n",
              "avg/total                                 0.80        0.81          0.80   \n",
              "\n",
              "                                 svm_support  \n",
              "environemnt_dead_animal                   54  \n",
              "environment_abandoned_site               833  \n",
              "environment_abandoned_vehicle           5043  \n",
              "environment_air_pollution               3551  \n",
              "environment_asbestos                     542  \n",
              "environment_dead_animal                 1972  \n",
              "environment_dumping                     7219  \n",
              "environment_garbage_collection         47408  \n",
              "environment_general                     1511  \n",
              "environment_hazardous_material          1151  \n",
              "environment_litter                      2982  \n",
              "environment_overgrowth                 15871  \n",
              "environment_recycling                  11772  \n",
              "fire_equipment_broken                    130  \n",
              "fire_general                             929  \n",
              "fire_risks                                21  \n",
              "governance_general                      7270  \n",
              "governance_parks_and_rec                1116  \n",
              "governance_signage                      1892  \n",
              "housing_general                         7137  \n",
              "housing_health_code                     1434  \n",
              "housing_mold                            1009  \n",
              "housing_pests                             32  \n",
              "housing_safety                           755  \n",
              "infrastructure_general                  4747  \n",
              "infrastructure_power                     173  \n",
              "infrastructure_water                    1710  \n",
              "infrastructure_water_repair              478  \n",
              "planning_construction                     84  \n",
              "planning_general                        4517  \n",
              "planning_unsafe_environment             2914  \n",
              "publichealth_animal                      167  \n",
              "publichealth_animal_feces                160  \n",
              "publichealth_general                    3466  \n",
              "publichealth_pests                      1094  \n",
              "publichealth_restaurant_hygiene          328  \n",
              "publicorder_general                     1712  \n",
              "publicorder_noise_complaint             1729  \n",
              "street_cleaning                         1066  \n",
              "street_drainage                         1298  \n",
              "street_general                          1637  \n",
              "street_lighting                         7749  \n",
              "street_parking                           380  \n",
              "street_repair                          16853  \n",
              "street_roadkill                           85  \n",
              "street_sewar                             941  \n",
              "street_sidewalk                         3621  \n",
              "street_slippery                         1380  \n",
              "street_urgent_repair                    4894  \n",
              "vandalism_general                         91  \n",
              "vandalism_graffiti                      7311  \n",
              "avg/total                             192219  "
            ]
          },
          "metadata": {
            "tags": []
          },
          "execution_count": 83
        }
      ]
    },
    {
      "metadata": {
        "id": "QSKvYvurT5on",
        "colab_type": "code",
        "outputId": "4a5d4049-040d-4b99-dbc5-ed665477521c",
        "colab": {
          "base_uri": "https://localhost:8080/",
          "height": 1715
        }
      },
      "cell_type": "code",
      "source": [
        "report_to_df(classification_report(y_test_sub, y_predict_NB_sub),'NB')"
      ],
      "execution_count": 0,
      "outputs": [
        {
          "output_type": "stream",
          "text": [
            "/usr/local/lib/python3.6/dist-packages/sklearn/metrics/classification.py:1135: UndefinedMetricWarning: Precision and F-score are ill-defined and being set to 0.0 in labels with no predicted samples.\n",
            "  'precision', 'predicted', average, warn_for)\n"
          ],
          "name": "stderr"
        },
        {
          "output_type": "execute_result",
          "data": {
            "text/html": [
              "<div>\n",
              "<style scoped>\n",
              "    .dataframe tbody tr th:only-of-type {\n",
              "        vertical-align: middle;\n",
              "    }\n",
              "\n",
              "    .dataframe tbody tr th {\n",
              "        vertical-align: top;\n",
              "    }\n",
              "\n",
              "    .dataframe thead th {\n",
              "        text-align: right;\n",
              "    }\n",
              "</style>\n",
              "<table border=\"1\" class=\"dataframe\">\n",
              "  <thead>\n",
              "    <tr style=\"text-align: right;\">\n",
              "      <th></th>\n",
              "      <th>NB_precision</th>\n",
              "      <th>NB_recall</th>\n",
              "      <th>NB_f1-score</th>\n",
              "      <th>NB_support</th>\n",
              "    </tr>\n",
              "  </thead>\n",
              "  <tbody>\n",
              "    <tr>\n",
              "      <th>environemnt_dead_animal</th>\n",
              "      <td>0.00</td>\n",
              "      <td>0.00</td>\n",
              "      <td>0.00</td>\n",
              "      <td>54</td>\n",
              "    </tr>\n",
              "    <tr>\n",
              "      <th>environment_abandoned_site</th>\n",
              "      <td>1.00</td>\n",
              "      <td>0.17</td>\n",
              "      <td>0.29</td>\n",
              "      <td>833</td>\n",
              "    </tr>\n",
              "    <tr>\n",
              "      <th>environment_abandoned_vehicle</th>\n",
              "      <td>0.77</td>\n",
              "      <td>0.71</td>\n",
              "      <td>0.74</td>\n",
              "      <td>5043</td>\n",
              "    </tr>\n",
              "    <tr>\n",
              "      <th>environment_air_pollution</th>\n",
              "      <td>0.68</td>\n",
              "      <td>0.91</td>\n",
              "      <td>0.78</td>\n",
              "      <td>3551</td>\n",
              "    </tr>\n",
              "    <tr>\n",
              "      <th>environment_asbestos</th>\n",
              "      <td>1.00</td>\n",
              "      <td>0.04</td>\n",
              "      <td>0.07</td>\n",
              "      <td>542</td>\n",
              "    </tr>\n",
              "    <tr>\n",
              "      <th>environment_dead_animal</th>\n",
              "      <td>0.93</td>\n",
              "      <td>0.59</td>\n",
              "      <td>0.73</td>\n",
              "      <td>1972</td>\n",
              "    </tr>\n",
              "    <tr>\n",
              "      <th>environment_dumping</th>\n",
              "      <td>0.59</td>\n",
              "      <td>0.53</td>\n",
              "      <td>0.56</td>\n",
              "      <td>7219</td>\n",
              "    </tr>\n",
              "    <tr>\n",
              "      <th>environment_garbage_collection</th>\n",
              "      <td>0.75</td>\n",
              "      <td>0.98</td>\n",
              "      <td>0.85</td>\n",
              "      <td>47408</td>\n",
              "    </tr>\n",
              "    <tr>\n",
              "      <th>environment_general</th>\n",
              "      <td>0.95</td>\n",
              "      <td>0.06</td>\n",
              "      <td>0.11</td>\n",
              "      <td>1511</td>\n",
              "    </tr>\n",
              "    <tr>\n",
              "      <th>environment_hazardous_material</th>\n",
              "      <td>0.92</td>\n",
              "      <td>0.20</td>\n",
              "      <td>0.32</td>\n",
              "      <td>1151</td>\n",
              "    </tr>\n",
              "    <tr>\n",
              "      <th>environment_litter</th>\n",
              "      <td>0.98</td>\n",
              "      <td>0.15</td>\n",
              "      <td>0.26</td>\n",
              "      <td>2982</td>\n",
              "    </tr>\n",
              "    <tr>\n",
              "      <th>environment_overgrowth</th>\n",
              "      <td>0.56</td>\n",
              "      <td>0.91</td>\n",
              "      <td>0.69</td>\n",
              "      <td>15871</td>\n",
              "    </tr>\n",
              "    <tr>\n",
              "      <th>environment_recycling</th>\n",
              "      <td>0.97</td>\n",
              "      <td>0.60</td>\n",
              "      <td>0.74</td>\n",
              "      <td>11772</td>\n",
              "    </tr>\n",
              "    <tr>\n",
              "      <th>fire_equipment_broken</th>\n",
              "      <td>0.00</td>\n",
              "      <td>0.00</td>\n",
              "      <td>0.00</td>\n",
              "      <td>130</td>\n",
              "    </tr>\n",
              "    <tr>\n",
              "      <th>fire_general</th>\n",
              "      <td>0.97</td>\n",
              "      <td>0.17</td>\n",
              "      <td>0.29</td>\n",
              "      <td>929</td>\n",
              "    </tr>\n",
              "    <tr>\n",
              "      <th>fire_risks</th>\n",
              "      <td>0.00</td>\n",
              "      <td>0.00</td>\n",
              "      <td>0.00</td>\n",
              "      <td>21</td>\n",
              "    </tr>\n",
              "    <tr>\n",
              "      <th>governance_general</th>\n",
              "      <td>0.29</td>\n",
              "      <td>0.42</td>\n",
              "      <td>0.34</td>\n",
              "      <td>7270</td>\n",
              "    </tr>\n",
              "    <tr>\n",
              "      <th>governance_parks_and_rec</th>\n",
              "      <td>0.00</td>\n",
              "      <td>0.00</td>\n",
              "      <td>0.00</td>\n",
              "      <td>1116</td>\n",
              "    </tr>\n",
              "    <tr>\n",
              "      <th>governance_signage</th>\n",
              "      <td>0.94</td>\n",
              "      <td>0.14</td>\n",
              "      <td>0.25</td>\n",
              "      <td>1892</td>\n",
              "    </tr>\n",
              "    <tr>\n",
              "      <th>housing_general</th>\n",
              "      <td>0.63</td>\n",
              "      <td>0.69</td>\n",
              "      <td>0.66</td>\n",
              "      <td>7137</td>\n",
              "    </tr>\n",
              "    <tr>\n",
              "      <th>housing_health_code</th>\n",
              "      <td>0.85</td>\n",
              "      <td>0.02</td>\n",
              "      <td>0.04</td>\n",
              "      <td>1434</td>\n",
              "    </tr>\n",
              "    <tr>\n",
              "      <th>housing_mold</th>\n",
              "      <td>0.97</td>\n",
              "      <td>0.23</td>\n",
              "      <td>0.37</td>\n",
              "      <td>1009</td>\n",
              "    </tr>\n",
              "    <tr>\n",
              "      <th>housing_pests</th>\n",
              "      <td>0.00</td>\n",
              "      <td>0.00</td>\n",
              "      <td>0.00</td>\n",
              "      <td>32</td>\n",
              "    </tr>\n",
              "    <tr>\n",
              "      <th>housing_safety</th>\n",
              "      <td>0.97</td>\n",
              "      <td>0.04</td>\n",
              "      <td>0.08</td>\n",
              "      <td>755</td>\n",
              "    </tr>\n",
              "    <tr>\n",
              "      <th>infrastructure_general</th>\n",
              "      <td>0.59</td>\n",
              "      <td>0.53</td>\n",
              "      <td>0.56</td>\n",
              "      <td>4747</td>\n",
              "    </tr>\n",
              "    <tr>\n",
              "      <th>infrastructure_power</th>\n",
              "      <td>1.00</td>\n",
              "      <td>0.54</td>\n",
              "      <td>0.70</td>\n",
              "      <td>173</td>\n",
              "    </tr>\n",
              "    <tr>\n",
              "      <th>infrastructure_water</th>\n",
              "      <td>0.91</td>\n",
              "      <td>0.10</td>\n",
              "      <td>0.18</td>\n",
              "      <td>1710</td>\n",
              "    </tr>\n",
              "    <tr>\n",
              "      <th>infrastructure_water_repair</th>\n",
              "      <td>1.00</td>\n",
              "      <td>0.04</td>\n",
              "      <td>0.08</td>\n",
              "      <td>478</td>\n",
              "    </tr>\n",
              "    <tr>\n",
              "      <th>planning_construction</th>\n",
              "      <td>0.00</td>\n",
              "      <td>0.00</td>\n",
              "      <td>0.00</td>\n",
              "      <td>84</td>\n",
              "    </tr>\n",
              "    <tr>\n",
              "      <th>planning_general</th>\n",
              "      <td>0.96</td>\n",
              "      <td>0.46</td>\n",
              "      <td>0.62</td>\n",
              "      <td>4517</td>\n",
              "    </tr>\n",
              "    <tr>\n",
              "      <th>planning_unsafe_environment</th>\n",
              "      <td>0.97</td>\n",
              "      <td>0.84</td>\n",
              "      <td>0.90</td>\n",
              "      <td>2914</td>\n",
              "    </tr>\n",
              "    <tr>\n",
              "      <th>publichealth_animal</th>\n",
              "      <td>0.00</td>\n",
              "      <td>0.00</td>\n",
              "      <td>0.00</td>\n",
              "      <td>167</td>\n",
              "    </tr>\n",
              "    <tr>\n",
              "      <th>publichealth_animal_feces</th>\n",
              "      <td>0.00</td>\n",
              "      <td>0.00</td>\n",
              "      <td>0.00</td>\n",
              "      <td>160</td>\n",
              "    </tr>\n",
              "    <tr>\n",
              "      <th>publichealth_general</th>\n",
              "      <td>0.92</td>\n",
              "      <td>0.86</td>\n",
              "      <td>0.89</td>\n",
              "      <td>3466</td>\n",
              "    </tr>\n",
              "    <tr>\n",
              "      <th>publichealth_pests</th>\n",
              "      <td>0.86</td>\n",
              "      <td>0.52</td>\n",
              "      <td>0.65</td>\n",
              "      <td>1094</td>\n",
              "    </tr>\n",
              "    <tr>\n",
              "      <th>publichealth_restaurant_hygiene</th>\n",
              "      <td>0.75</td>\n",
              "      <td>0.28</td>\n",
              "      <td>0.41</td>\n",
              "      <td>328</td>\n",
              "    </tr>\n",
              "    <tr>\n",
              "      <th>publicorder_general</th>\n",
              "      <td>1.00</td>\n",
              "      <td>0.06</td>\n",
              "      <td>0.12</td>\n",
              "      <td>1712</td>\n",
              "    </tr>\n",
              "    <tr>\n",
              "      <th>publicorder_noise_complaint</th>\n",
              "      <td>0.97</td>\n",
              "      <td>0.70</td>\n",
              "      <td>0.81</td>\n",
              "      <td>1729</td>\n",
              "    </tr>\n",
              "    <tr>\n",
              "      <th>street_cleaning</th>\n",
              "      <td>0.94</td>\n",
              "      <td>0.19</td>\n",
              "      <td>0.32</td>\n",
              "      <td>1066</td>\n",
              "    </tr>\n",
              "    <tr>\n",
              "      <th>street_drainage</th>\n",
              "      <td>0.98</td>\n",
              "      <td>0.03</td>\n",
              "      <td>0.06</td>\n",
              "      <td>1298</td>\n",
              "    </tr>\n",
              "    <tr>\n",
              "      <th>street_general</th>\n",
              "      <td>1.00</td>\n",
              "      <td>0.00</td>\n",
              "      <td>0.00</td>\n",
              "      <td>1637</td>\n",
              "    </tr>\n",
              "    <tr>\n",
              "      <th>street_lighting</th>\n",
              "      <td>0.95</td>\n",
              "      <td>0.83</td>\n",
              "      <td>0.89</td>\n",
              "      <td>7749</td>\n",
              "    </tr>\n",
              "    <tr>\n",
              "      <th>street_parking</th>\n",
              "      <td>0.00</td>\n",
              "      <td>0.00</td>\n",
              "      <td>0.00</td>\n",
              "      <td>380</td>\n",
              "    </tr>\n",
              "    <tr>\n",
              "      <th>street_repair</th>\n",
              "      <td>0.58</td>\n",
              "      <td>0.95</td>\n",
              "      <td>0.73</td>\n",
              "      <td>16853</td>\n",
              "    </tr>\n",
              "    <tr>\n",
              "      <th>street_roadkill</th>\n",
              "      <td>0.00</td>\n",
              "      <td>0.00</td>\n",
              "      <td>0.00</td>\n",
              "      <td>85</td>\n",
              "    </tr>\n",
              "    <tr>\n",
              "      <th>street_sewar</th>\n",
              "      <td>1.00</td>\n",
              "      <td>0.00</td>\n",
              "      <td>0.00</td>\n",
              "      <td>941</td>\n",
              "    </tr>\n",
              "    <tr>\n",
              "      <th>street_sidewalk</th>\n",
              "      <td>0.85</td>\n",
              "      <td>0.19</td>\n",
              "      <td>0.31</td>\n",
              "      <td>3621</td>\n",
              "    </tr>\n",
              "    <tr>\n",
              "      <th>street_slippery</th>\n",
              "      <td>0.99</td>\n",
              "      <td>0.37</td>\n",
              "      <td>0.54</td>\n",
              "      <td>1380</td>\n",
              "    </tr>\n",
              "    <tr>\n",
              "      <th>street_urgent_repair</th>\n",
              "      <td>0.87</td>\n",
              "      <td>0.66</td>\n",
              "      <td>0.75</td>\n",
              "      <td>4894</td>\n",
              "    </tr>\n",
              "    <tr>\n",
              "      <th>vandalism_general</th>\n",
              "      <td>0.00</td>\n",
              "      <td>0.00</td>\n",
              "      <td>0.00</td>\n",
              "      <td>91</td>\n",
              "    </tr>\n",
              "    <tr>\n",
              "      <th>vandalism_graffiti</th>\n",
              "      <td>0.95</td>\n",
              "      <td>0.78</td>\n",
              "      <td>0.86</td>\n",
              "      <td>7311</td>\n",
              "    </tr>\n",
              "    <tr>\n",
              "      <th>avg/total</th>\n",
              "      <td>0.75</td>\n",
              "      <td>0.70</td>\n",
              "      <td>0.66</td>\n",
              "      <td>192219</td>\n",
              "    </tr>\n",
              "  </tbody>\n",
              "</table>\n",
              "</div>"
            ],
            "text/plain": [
              "                                 NB_precision  NB_recall  NB_f1-score  \\\n",
              "environemnt_dead_animal                  0.00       0.00         0.00   \n",
              "environment_abandoned_site               1.00       0.17         0.29   \n",
              "environment_abandoned_vehicle            0.77       0.71         0.74   \n",
              "environment_air_pollution                0.68       0.91         0.78   \n",
              "environment_asbestos                     1.00       0.04         0.07   \n",
              "environment_dead_animal                  0.93       0.59         0.73   \n",
              "environment_dumping                      0.59       0.53         0.56   \n",
              "environment_garbage_collection           0.75       0.98         0.85   \n",
              "environment_general                      0.95       0.06         0.11   \n",
              "environment_hazardous_material           0.92       0.20         0.32   \n",
              "environment_litter                       0.98       0.15         0.26   \n",
              "environment_overgrowth                   0.56       0.91         0.69   \n",
              "environment_recycling                    0.97       0.60         0.74   \n",
              "fire_equipment_broken                    0.00       0.00         0.00   \n",
              "fire_general                             0.97       0.17         0.29   \n",
              "fire_risks                               0.00       0.00         0.00   \n",
              "governance_general                       0.29       0.42         0.34   \n",
              "governance_parks_and_rec                 0.00       0.00         0.00   \n",
              "governance_signage                       0.94       0.14         0.25   \n",
              "housing_general                          0.63       0.69         0.66   \n",
              "housing_health_code                      0.85       0.02         0.04   \n",
              "housing_mold                             0.97       0.23         0.37   \n",
              "housing_pests                            0.00       0.00         0.00   \n",
              "housing_safety                           0.97       0.04         0.08   \n",
              "infrastructure_general                   0.59       0.53         0.56   \n",
              "infrastructure_power                     1.00       0.54         0.70   \n",
              "infrastructure_water                     0.91       0.10         0.18   \n",
              "infrastructure_water_repair              1.00       0.04         0.08   \n",
              "planning_construction                    0.00       0.00         0.00   \n",
              "planning_general                         0.96       0.46         0.62   \n",
              "planning_unsafe_environment              0.97       0.84         0.90   \n",
              "publichealth_animal                      0.00       0.00         0.00   \n",
              "publichealth_animal_feces                0.00       0.00         0.00   \n",
              "publichealth_general                     0.92       0.86         0.89   \n",
              "publichealth_pests                       0.86       0.52         0.65   \n",
              "publichealth_restaurant_hygiene          0.75       0.28         0.41   \n",
              "publicorder_general                      1.00       0.06         0.12   \n",
              "publicorder_noise_complaint              0.97       0.70         0.81   \n",
              "street_cleaning                          0.94       0.19         0.32   \n",
              "street_drainage                          0.98       0.03         0.06   \n",
              "street_general                           1.00       0.00         0.00   \n",
              "street_lighting                          0.95       0.83         0.89   \n",
              "street_parking                           0.00       0.00         0.00   \n",
              "street_repair                            0.58       0.95         0.73   \n",
              "street_roadkill                          0.00       0.00         0.00   \n",
              "street_sewar                             1.00       0.00         0.00   \n",
              "street_sidewalk                          0.85       0.19         0.31   \n",
              "street_slippery                          0.99       0.37         0.54   \n",
              "street_urgent_repair                     0.87       0.66         0.75   \n",
              "vandalism_general                        0.00       0.00         0.00   \n",
              "vandalism_graffiti                       0.95       0.78         0.86   \n",
              "avg/total                                0.75       0.70         0.66   \n",
              "\n",
              "                                 NB_support  \n",
              "environemnt_dead_animal                  54  \n",
              "environment_abandoned_site              833  \n",
              "environment_abandoned_vehicle          5043  \n",
              "environment_air_pollution              3551  \n",
              "environment_asbestos                    542  \n",
              "environment_dead_animal                1972  \n",
              "environment_dumping                    7219  \n",
              "environment_garbage_collection        47408  \n",
              "environment_general                    1511  \n",
              "environment_hazardous_material         1151  \n",
              "environment_litter                     2982  \n",
              "environment_overgrowth                15871  \n",
              "environment_recycling                 11772  \n",
              "fire_equipment_broken                   130  \n",
              "fire_general                            929  \n",
              "fire_risks                               21  \n",
              "governance_general                     7270  \n",
              "governance_parks_and_rec               1116  \n",
              "governance_signage                     1892  \n",
              "housing_general                        7137  \n",
              "housing_health_code                    1434  \n",
              "housing_mold                           1009  \n",
              "housing_pests                            32  \n",
              "housing_safety                          755  \n",
              "infrastructure_general                 4747  \n",
              "infrastructure_power                    173  \n",
              "infrastructure_water                   1710  \n",
              "infrastructure_water_repair             478  \n",
              "planning_construction                    84  \n",
              "planning_general                       4517  \n",
              "planning_unsafe_environment            2914  \n",
              "publichealth_animal                     167  \n",
              "publichealth_animal_feces               160  \n",
              "publichealth_general                   3466  \n",
              "publichealth_pests                     1094  \n",
              "publichealth_restaurant_hygiene         328  \n",
              "publicorder_general                    1712  \n",
              "publicorder_noise_complaint            1729  \n",
              "street_cleaning                        1066  \n",
              "street_drainage                        1298  \n",
              "street_general                         1637  \n",
              "street_lighting                        7749  \n",
              "street_parking                          380  \n",
              "street_repair                         16853  \n",
              "street_roadkill                          85  \n",
              "street_sewar                            941  \n",
              "street_sidewalk                        3621  \n",
              "street_slippery                        1380  \n",
              "street_urgent_repair                   4894  \n",
              "vandalism_general                        91  \n",
              "vandalism_graffiti                     7311  \n",
              "avg/total                            192219  "
            ]
          },
          "metadata": {
            "tags": []
          },
          "execution_count": 84
        }
      ]
    },
    {
      "metadata": {
        "id": "2WeA2YVbUhIH",
        "colab_type": "code",
        "outputId": "09d60e2d-3197-4e49-e4a2-6551a2155564",
        "colab": {
          "base_uri": "https://localhost:8080/",
          "height": 1715
        }
      },
      "cell_type": "code",
      "source": [
        "pd.concat([report_to_df(classification_report(y_test_sub, y_predict_NB_sub),'NB')['NB_f1-score'],\\\n",
        "          report_to_df(classification_report(y_test_sub, y_predict_svc_sub),'SVM')[['SVM_f1-score','SVM_support']]], axis=1)"
      ],
      "execution_count": 0,
      "outputs": [
        {
          "output_type": "stream",
          "text": [
            "/usr/local/lib/python3.6/dist-packages/sklearn/metrics/classification.py:1135: UndefinedMetricWarning: Precision and F-score are ill-defined and being set to 0.0 in labels with no predicted samples.\n",
            "  'precision', 'predicted', average, warn_for)\n"
          ],
          "name": "stderr"
        },
        {
          "output_type": "execute_result",
          "data": {
            "text/html": [
              "<div>\n",
              "<style scoped>\n",
              "    .dataframe tbody tr th:only-of-type {\n",
              "        vertical-align: middle;\n",
              "    }\n",
              "\n",
              "    .dataframe tbody tr th {\n",
              "        vertical-align: top;\n",
              "    }\n",
              "\n",
              "    .dataframe thead th {\n",
              "        text-align: right;\n",
              "    }\n",
              "</style>\n",
              "<table border=\"1\" class=\"dataframe\">\n",
              "  <thead>\n",
              "    <tr style=\"text-align: right;\">\n",
              "      <th></th>\n",
              "      <th>NB_f1-score</th>\n",
              "      <th>SVM_f1-score</th>\n",
              "      <th>SVM_support</th>\n",
              "    </tr>\n",
              "  </thead>\n",
              "  <tbody>\n",
              "    <tr>\n",
              "      <th>environemnt_dead_animal</th>\n",
              "      <td>0.00</td>\n",
              "      <td>0.00</td>\n",
              "      <td>54</td>\n",
              "    </tr>\n",
              "    <tr>\n",
              "      <th>environment_abandoned_site</th>\n",
              "      <td>0.29</td>\n",
              "      <td>0.60</td>\n",
              "      <td>833</td>\n",
              "    </tr>\n",
              "    <tr>\n",
              "      <th>environment_abandoned_vehicle</th>\n",
              "      <td>0.74</td>\n",
              "      <td>0.80</td>\n",
              "      <td>5043</td>\n",
              "    </tr>\n",
              "    <tr>\n",
              "      <th>environment_air_pollution</th>\n",
              "      <td>0.78</td>\n",
              "      <td>0.87</td>\n",
              "      <td>3551</td>\n",
              "    </tr>\n",
              "    <tr>\n",
              "      <th>environment_asbestos</th>\n",
              "      <td>0.07</td>\n",
              "      <td>0.93</td>\n",
              "      <td>542</td>\n",
              "    </tr>\n",
              "    <tr>\n",
              "      <th>environment_dead_animal</th>\n",
              "      <td>0.73</td>\n",
              "      <td>0.89</td>\n",
              "      <td>1972</td>\n",
              "    </tr>\n",
              "    <tr>\n",
              "      <th>environment_dumping</th>\n",
              "      <td>0.56</td>\n",
              "      <td>0.65</td>\n",
              "      <td>7219</td>\n",
              "    </tr>\n",
              "    <tr>\n",
              "      <th>environment_garbage_collection</th>\n",
              "      <td>0.85</td>\n",
              "      <td>0.92</td>\n",
              "      <td>47408</td>\n",
              "    </tr>\n",
              "    <tr>\n",
              "      <th>environment_general</th>\n",
              "      <td>0.11</td>\n",
              "      <td>0.50</td>\n",
              "      <td>1511</td>\n",
              "    </tr>\n",
              "    <tr>\n",
              "      <th>environment_hazardous_material</th>\n",
              "      <td>0.32</td>\n",
              "      <td>0.76</td>\n",
              "      <td>1151</td>\n",
              "    </tr>\n",
              "    <tr>\n",
              "      <th>environment_litter</th>\n",
              "      <td>0.26</td>\n",
              "      <td>0.58</td>\n",
              "      <td>2982</td>\n",
              "    </tr>\n",
              "    <tr>\n",
              "      <th>environment_overgrowth</th>\n",
              "      <td>0.69</td>\n",
              "      <td>0.82</td>\n",
              "      <td>15871</td>\n",
              "    </tr>\n",
              "    <tr>\n",
              "      <th>environment_recycling</th>\n",
              "      <td>0.74</td>\n",
              "      <td>0.91</td>\n",
              "      <td>11772</td>\n",
              "    </tr>\n",
              "    <tr>\n",
              "      <th>fire_equipment_broken</th>\n",
              "      <td>0.00</td>\n",
              "      <td>0.54</td>\n",
              "      <td>130</td>\n",
              "    </tr>\n",
              "    <tr>\n",
              "      <th>fire_general</th>\n",
              "      <td>0.29</td>\n",
              "      <td>0.74</td>\n",
              "      <td>929</td>\n",
              "    </tr>\n",
              "    <tr>\n",
              "      <th>fire_risks</th>\n",
              "      <td>0.00</td>\n",
              "      <td>0.16</td>\n",
              "      <td>21</td>\n",
              "    </tr>\n",
              "    <tr>\n",
              "      <th>governance_general</th>\n",
              "      <td>0.34</td>\n",
              "      <td>0.36</td>\n",
              "      <td>7270</td>\n",
              "    </tr>\n",
              "    <tr>\n",
              "      <th>governance_parks_and_rec</th>\n",
              "      <td>0.00</td>\n",
              "      <td>0.45</td>\n",
              "      <td>1116</td>\n",
              "    </tr>\n",
              "    <tr>\n",
              "      <th>governance_signage</th>\n",
              "      <td>0.25</td>\n",
              "      <td>0.62</td>\n",
              "      <td>1892</td>\n",
              "    </tr>\n",
              "    <tr>\n",
              "      <th>housing_general</th>\n",
              "      <td>0.66</td>\n",
              "      <td>0.75</td>\n",
              "      <td>7137</td>\n",
              "    </tr>\n",
              "    <tr>\n",
              "      <th>housing_health_code</th>\n",
              "      <td>0.04</td>\n",
              "      <td>0.55</td>\n",
              "      <td>1434</td>\n",
              "    </tr>\n",
              "    <tr>\n",
              "      <th>housing_mold</th>\n",
              "      <td>0.37</td>\n",
              "      <td>0.84</td>\n",
              "      <td>1009</td>\n",
              "    </tr>\n",
              "    <tr>\n",
              "      <th>housing_pests</th>\n",
              "      <td>0.00</td>\n",
              "      <td>0.28</td>\n",
              "      <td>32</td>\n",
              "    </tr>\n",
              "    <tr>\n",
              "      <th>housing_safety</th>\n",
              "      <td>0.08</td>\n",
              "      <td>0.57</td>\n",
              "      <td>755</td>\n",
              "    </tr>\n",
              "    <tr>\n",
              "      <th>infrastructure_general</th>\n",
              "      <td>0.56</td>\n",
              "      <td>0.74</td>\n",
              "      <td>4747</td>\n",
              "    </tr>\n",
              "    <tr>\n",
              "      <th>infrastructure_power</th>\n",
              "      <td>0.70</td>\n",
              "      <td>0.83</td>\n",
              "      <td>173</td>\n",
              "    </tr>\n",
              "    <tr>\n",
              "      <th>infrastructure_water</th>\n",
              "      <td>0.18</td>\n",
              "      <td>0.55</td>\n",
              "      <td>1710</td>\n",
              "    </tr>\n",
              "    <tr>\n",
              "      <th>infrastructure_water_repair</th>\n",
              "      <td>0.08</td>\n",
              "      <td>0.66</td>\n",
              "      <td>478</td>\n",
              "    </tr>\n",
              "    <tr>\n",
              "      <th>planning_construction</th>\n",
              "      <td>0.00</td>\n",
              "      <td>0.37</td>\n",
              "      <td>84</td>\n",
              "    </tr>\n",
              "    <tr>\n",
              "      <th>planning_general</th>\n",
              "      <td>0.62</td>\n",
              "      <td>0.66</td>\n",
              "      <td>4517</td>\n",
              "    </tr>\n",
              "    <tr>\n",
              "      <th>planning_unsafe_environment</th>\n",
              "      <td>0.90</td>\n",
              "      <td>0.91</td>\n",
              "      <td>2914</td>\n",
              "    </tr>\n",
              "    <tr>\n",
              "      <th>publichealth_animal</th>\n",
              "      <td>0.00</td>\n",
              "      <td>0.40</td>\n",
              "      <td>167</td>\n",
              "    </tr>\n",
              "    <tr>\n",
              "      <th>publichealth_animal_feces</th>\n",
              "      <td>0.00</td>\n",
              "      <td>0.63</td>\n",
              "      <td>160</td>\n",
              "    </tr>\n",
              "    <tr>\n",
              "      <th>publichealth_general</th>\n",
              "      <td>0.89</td>\n",
              "      <td>0.95</td>\n",
              "      <td>3466</td>\n",
              "    </tr>\n",
              "    <tr>\n",
              "      <th>publichealth_pests</th>\n",
              "      <td>0.65</td>\n",
              "      <td>0.82</td>\n",
              "      <td>1094</td>\n",
              "    </tr>\n",
              "    <tr>\n",
              "      <th>publichealth_restaurant_hygiene</th>\n",
              "      <td>0.41</td>\n",
              "      <td>0.94</td>\n",
              "      <td>328</td>\n",
              "    </tr>\n",
              "    <tr>\n",
              "      <th>publicorder_general</th>\n",
              "      <td>0.12</td>\n",
              "      <td>0.49</td>\n",
              "      <td>1712</td>\n",
              "    </tr>\n",
              "    <tr>\n",
              "      <th>publicorder_noise_complaint</th>\n",
              "      <td>0.81</td>\n",
              "      <td>0.92</td>\n",
              "      <td>1729</td>\n",
              "    </tr>\n",
              "    <tr>\n",
              "      <th>street_cleaning</th>\n",
              "      <td>0.32</td>\n",
              "      <td>0.68</td>\n",
              "      <td>1066</td>\n",
              "    </tr>\n",
              "    <tr>\n",
              "      <th>street_drainage</th>\n",
              "      <td>0.06</td>\n",
              "      <td>0.45</td>\n",
              "      <td>1298</td>\n",
              "    </tr>\n",
              "    <tr>\n",
              "      <th>street_general</th>\n",
              "      <td>0.00</td>\n",
              "      <td>0.31</td>\n",
              "      <td>1637</td>\n",
              "    </tr>\n",
              "    <tr>\n",
              "      <th>street_lighting</th>\n",
              "      <td>0.89</td>\n",
              "      <td>0.93</td>\n",
              "      <td>7749</td>\n",
              "    </tr>\n",
              "    <tr>\n",
              "      <th>street_parking</th>\n",
              "      <td>0.00</td>\n",
              "      <td>0.63</td>\n",
              "      <td>380</td>\n",
              "    </tr>\n",
              "    <tr>\n",
              "      <th>street_repair</th>\n",
              "      <td>0.73</td>\n",
              "      <td>0.87</td>\n",
              "      <td>16853</td>\n",
              "    </tr>\n",
              "    <tr>\n",
              "      <th>street_roadkill</th>\n",
              "      <td>0.00</td>\n",
              "      <td>0.48</td>\n",
              "      <td>85</td>\n",
              "    </tr>\n",
              "    <tr>\n",
              "      <th>street_sewar</th>\n",
              "      <td>0.00</td>\n",
              "      <td>0.75</td>\n",
              "      <td>941</td>\n",
              "    </tr>\n",
              "    <tr>\n",
              "      <th>street_sidewalk</th>\n",
              "      <td>0.31</td>\n",
              "      <td>0.62</td>\n",
              "      <td>3621</td>\n",
              "    </tr>\n",
              "    <tr>\n",
              "      <th>street_slippery</th>\n",
              "      <td>0.54</td>\n",
              "      <td>0.86</td>\n",
              "      <td>1380</td>\n",
              "    </tr>\n",
              "    <tr>\n",
              "      <th>street_urgent_repair</th>\n",
              "      <td>0.75</td>\n",
              "      <td>0.79</td>\n",
              "      <td>4894</td>\n",
              "    </tr>\n",
              "    <tr>\n",
              "      <th>vandalism_general</th>\n",
              "      <td>0.00</td>\n",
              "      <td>0.53</td>\n",
              "      <td>91</td>\n",
              "    </tr>\n",
              "    <tr>\n",
              "      <th>vandalism_graffiti</th>\n",
              "      <td>0.86</td>\n",
              "      <td>0.90</td>\n",
              "      <td>7311</td>\n",
              "    </tr>\n",
              "    <tr>\n",
              "      <th>avg/total</th>\n",
              "      <td>0.66</td>\n",
              "      <td>0.80</td>\n",
              "      <td>192219</td>\n",
              "    </tr>\n",
              "  </tbody>\n",
              "</table>\n",
              "</div>"
            ],
            "text/plain": [
              "                                 NB_f1-score  SVM_f1-score  SVM_support\n",
              "environemnt_dead_animal                 0.00          0.00           54\n",
              "environment_abandoned_site              0.29          0.60          833\n",
              "environment_abandoned_vehicle           0.74          0.80         5043\n",
              "environment_air_pollution               0.78          0.87         3551\n",
              "environment_asbestos                    0.07          0.93          542\n",
              "environment_dead_animal                 0.73          0.89         1972\n",
              "environment_dumping                     0.56          0.65         7219\n",
              "environment_garbage_collection          0.85          0.92        47408\n",
              "environment_general                     0.11          0.50         1511\n",
              "environment_hazardous_material          0.32          0.76         1151\n",
              "environment_litter                      0.26          0.58         2982\n",
              "environment_overgrowth                  0.69          0.82        15871\n",
              "environment_recycling                   0.74          0.91        11772\n",
              "fire_equipment_broken                   0.00          0.54          130\n",
              "fire_general                            0.29          0.74          929\n",
              "fire_risks                              0.00          0.16           21\n",
              "governance_general                      0.34          0.36         7270\n",
              "governance_parks_and_rec                0.00          0.45         1116\n",
              "governance_signage                      0.25          0.62         1892\n",
              "housing_general                         0.66          0.75         7137\n",
              "housing_health_code                     0.04          0.55         1434\n",
              "housing_mold                            0.37          0.84         1009\n",
              "housing_pests                           0.00          0.28           32\n",
              "housing_safety                          0.08          0.57          755\n",
              "infrastructure_general                  0.56          0.74         4747\n",
              "infrastructure_power                    0.70          0.83          173\n",
              "infrastructure_water                    0.18          0.55         1710\n",
              "infrastructure_water_repair             0.08          0.66          478\n",
              "planning_construction                   0.00          0.37           84\n",
              "planning_general                        0.62          0.66         4517\n",
              "planning_unsafe_environment             0.90          0.91         2914\n",
              "publichealth_animal                     0.00          0.40          167\n",
              "publichealth_animal_feces               0.00          0.63          160\n",
              "publichealth_general                    0.89          0.95         3466\n",
              "publichealth_pests                      0.65          0.82         1094\n",
              "publichealth_restaurant_hygiene         0.41          0.94          328\n",
              "publicorder_general                     0.12          0.49         1712\n",
              "publicorder_noise_complaint             0.81          0.92         1729\n",
              "street_cleaning                         0.32          0.68         1066\n",
              "street_drainage                         0.06          0.45         1298\n",
              "street_general                          0.00          0.31         1637\n",
              "street_lighting                         0.89          0.93         7749\n",
              "street_parking                          0.00          0.63          380\n",
              "street_repair                           0.73          0.87        16853\n",
              "street_roadkill                         0.00          0.48           85\n",
              "street_sewar                            0.00          0.75          941\n",
              "street_sidewalk                         0.31          0.62         3621\n",
              "street_slippery                         0.54          0.86         1380\n",
              "street_urgent_repair                    0.75          0.79         4894\n",
              "vandalism_general                       0.00          0.53           91\n",
              "vandalism_graffiti                      0.86          0.90         7311\n",
              "avg/total                               0.66          0.80       192219"
            ]
          },
          "metadata": {
            "tags": []
          },
          "execution_count": 91
        }
      ]
    }
  ]
}